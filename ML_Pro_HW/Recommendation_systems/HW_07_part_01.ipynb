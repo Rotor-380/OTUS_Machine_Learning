{
 "nbformat": 4,
 "nbformat_minor": 0,
 "metadata": {
  "kernelspec": {
   "display_name": "Python 3",
   "language": "python",
   "name": "python3"
  },
  "language_info": {
   "codemirror_mode": {
    "name": "ipython",
    "version": 3
   },
   "file_extension": ".py",
   "mimetype": "text/x-python",
   "name": "python",
   "nbconvert_exporter": "python",
   "pygments_lexer": "ipython3",
   "version": "3.6.4"
  },
  "colab": {
   "provenance": []
  },
  "widgets": {
   "application/vnd.jupyter.widget-state+json": {
    "cea04bd30b0641558b2bf8b4f72bd35f": {
     "model_module": "@jupyter-widgets/controls",
     "model_name": "HBoxModel",
     "model_module_version": "1.5.0",
     "state": {
      "_dom_classes": [],
      "_model_module": "@jupyter-widgets/controls",
      "_model_module_version": "1.5.0",
      "_model_name": "HBoxModel",
      "_view_count": null,
      "_view_module": "@jupyter-widgets/controls",
      "_view_module_version": "1.5.0",
      "_view_name": "HBoxView",
      "box_style": "",
      "children": [
       "IPY_MODEL_e4b7d885e0144df388c43ac494b4c338",
       "IPY_MODEL_6710ff0901004ea1881046389a96526b",
       "IPY_MODEL_2efd09ff57a64c7b9e02b1106b697f3b"
      ],
      "layout": "IPY_MODEL_8c27211044dc44d39477928ff6563b1e"
     }
    },
    "e4b7d885e0144df388c43ac494b4c338": {
     "model_module": "@jupyter-widgets/controls",
     "model_name": "HTMLModel",
     "model_module_version": "1.5.0",
     "state": {
      "_dom_classes": [],
      "_model_module": "@jupyter-widgets/controls",
      "_model_module_version": "1.5.0",
      "_model_name": "HTMLModel",
      "_view_count": null,
      "_view_module": "@jupyter-widgets/controls",
      "_view_module_version": "1.5.0",
      "_view_name": "HTMLView",
      "description": "",
      "description_tooltip": null,
      "layout": "IPY_MODEL_28487ef4b8eb4cef8c61c393a1fa4314",
      "placeholder": "​",
      "style": "IPY_MODEL_d676ae0a629147ec83f70266d31ed92a",
      "value": "100%"
     }
    },
    "6710ff0901004ea1881046389a96526b": {
     "model_module": "@jupyter-widgets/controls",
     "model_name": "FloatProgressModel",
     "model_module_version": "1.5.0",
     "state": {
      "_dom_classes": [],
      "_model_module": "@jupyter-widgets/controls",
      "_model_module_version": "1.5.0",
      "_model_name": "FloatProgressModel",
      "_view_count": null,
      "_view_module": "@jupyter-widgets/controls",
      "_view_module_version": "1.5.0",
      "_view_name": "ProgressView",
      "bar_style": "success",
      "description": "",
      "description_tooltip": null,
      "layout": "IPY_MODEL_0301a7a99d0a4312a3a183963d55e18a",
      "max": 610,
      "min": 0,
      "orientation": "horizontal",
      "style": "IPY_MODEL_19ffff07142847fc84898b715a4f9de1",
      "value": 610
     }
    },
    "2efd09ff57a64c7b9e02b1106b697f3b": {
     "model_module": "@jupyter-widgets/controls",
     "model_name": "HTMLModel",
     "model_module_version": "1.5.0",
     "state": {
      "_dom_classes": [],
      "_model_module": "@jupyter-widgets/controls",
      "_model_module_version": "1.5.0",
      "_model_name": "HTMLModel",
      "_view_count": null,
      "_view_module": "@jupyter-widgets/controls",
      "_view_module_version": "1.5.0",
      "_view_name": "HTMLView",
      "description": "",
      "description_tooltip": null,
      "layout": "IPY_MODEL_1a71bd1144f04c8cbf0f9a346adb805b",
      "placeholder": "​",
      "style": "IPY_MODEL_df42c2be65d04316b69d799e496a6c2a",
      "value": " 610/610 [00:01&lt;00:00, 600.53it/s]"
     }
    },
    "8c27211044dc44d39477928ff6563b1e": {
     "model_module": "@jupyter-widgets/base",
     "model_name": "LayoutModel",
     "model_module_version": "1.2.0",
     "state": {
      "_model_module": "@jupyter-widgets/base",
      "_model_module_version": "1.2.0",
      "_model_name": "LayoutModel",
      "_view_count": null,
      "_view_module": "@jupyter-widgets/base",
      "_view_module_version": "1.2.0",
      "_view_name": "LayoutView",
      "align_content": null,
      "align_items": null,
      "align_self": null,
      "border": null,
      "bottom": null,
      "display": null,
      "flex": null,
      "flex_flow": null,
      "grid_area": null,
      "grid_auto_columns": null,
      "grid_auto_flow": null,
      "grid_auto_rows": null,
      "grid_column": null,
      "grid_gap": null,
      "grid_row": null,
      "grid_template_areas": null,
      "grid_template_columns": null,
      "grid_template_rows": null,
      "height": null,
      "justify_content": null,
      "justify_items": null,
      "left": null,
      "margin": null,
      "max_height": null,
      "max_width": null,
      "min_height": null,
      "min_width": null,
      "object_fit": null,
      "object_position": null,
      "order": null,
      "overflow": null,
      "overflow_x": null,
      "overflow_y": null,
      "padding": null,
      "right": null,
      "top": null,
      "visibility": null,
      "width": null
     }
    },
    "28487ef4b8eb4cef8c61c393a1fa4314": {
     "model_module": "@jupyter-widgets/base",
     "model_name": "LayoutModel",
     "model_module_version": "1.2.0",
     "state": {
      "_model_module": "@jupyter-widgets/base",
      "_model_module_version": "1.2.0",
      "_model_name": "LayoutModel",
      "_view_count": null,
      "_view_module": "@jupyter-widgets/base",
      "_view_module_version": "1.2.0",
      "_view_name": "LayoutView",
      "align_content": null,
      "align_items": null,
      "align_self": null,
      "border": null,
      "bottom": null,
      "display": null,
      "flex": null,
      "flex_flow": null,
      "grid_area": null,
      "grid_auto_columns": null,
      "grid_auto_flow": null,
      "grid_auto_rows": null,
      "grid_column": null,
      "grid_gap": null,
      "grid_row": null,
      "grid_template_areas": null,
      "grid_template_columns": null,
      "grid_template_rows": null,
      "height": null,
      "justify_content": null,
      "justify_items": null,
      "left": null,
      "margin": null,
      "max_height": null,
      "max_width": null,
      "min_height": null,
      "min_width": null,
      "object_fit": null,
      "object_position": null,
      "order": null,
      "overflow": null,
      "overflow_x": null,
      "overflow_y": null,
      "padding": null,
      "right": null,
      "top": null,
      "visibility": null,
      "width": null
     }
    },
    "d676ae0a629147ec83f70266d31ed92a": {
     "model_module": "@jupyter-widgets/controls",
     "model_name": "DescriptionStyleModel",
     "model_module_version": "1.5.0",
     "state": {
      "_model_module": "@jupyter-widgets/controls",
      "_model_module_version": "1.5.0",
      "_model_name": "DescriptionStyleModel",
      "_view_count": null,
      "_view_module": "@jupyter-widgets/base",
      "_view_module_version": "1.2.0",
      "_view_name": "StyleView",
      "description_width": ""
     }
    },
    "0301a7a99d0a4312a3a183963d55e18a": {
     "model_module": "@jupyter-widgets/base",
     "model_name": "LayoutModel",
     "model_module_version": "1.2.0",
     "state": {
      "_model_module": "@jupyter-widgets/base",
      "_model_module_version": "1.2.0",
      "_model_name": "LayoutModel",
      "_view_count": null,
      "_view_module": "@jupyter-widgets/base",
      "_view_module_version": "1.2.0",
      "_view_name": "LayoutView",
      "align_content": null,
      "align_items": null,
      "align_self": null,
      "border": null,
      "bottom": null,
      "display": null,
      "flex": null,
      "flex_flow": null,
      "grid_area": null,
      "grid_auto_columns": null,
      "grid_auto_flow": null,
      "grid_auto_rows": null,
      "grid_column": null,
      "grid_gap": null,
      "grid_row": null,
      "grid_template_areas": null,
      "grid_template_columns": null,
      "grid_template_rows": null,
      "height": null,
      "justify_content": null,
      "justify_items": null,
      "left": null,
      "margin": null,
      "max_height": null,
      "max_width": null,
      "min_height": null,
      "min_width": null,
      "object_fit": null,
      "object_position": null,
      "order": null,
      "overflow": null,
      "overflow_x": null,
      "overflow_y": null,
      "padding": null,
      "right": null,
      "top": null,
      "visibility": null,
      "width": null
     }
    },
    "19ffff07142847fc84898b715a4f9de1": {
     "model_module": "@jupyter-widgets/controls",
     "model_name": "ProgressStyleModel",
     "model_module_version": "1.5.0",
     "state": {
      "_model_module": "@jupyter-widgets/controls",
      "_model_module_version": "1.5.0",
      "_model_name": "ProgressStyleModel",
      "_view_count": null,
      "_view_module": "@jupyter-widgets/base",
      "_view_module_version": "1.2.0",
      "_view_name": "StyleView",
      "bar_color": null,
      "description_width": ""
     }
    },
    "1a71bd1144f04c8cbf0f9a346adb805b": {
     "model_module": "@jupyter-widgets/base",
     "model_name": "LayoutModel",
     "model_module_version": "1.2.0",
     "state": {
      "_model_module": "@jupyter-widgets/base",
      "_model_module_version": "1.2.0",
      "_model_name": "LayoutModel",
      "_view_count": null,
      "_view_module": "@jupyter-widgets/base",
      "_view_module_version": "1.2.0",
      "_view_name": "LayoutView",
      "align_content": null,
      "align_items": null,
      "align_self": null,
      "border": null,
      "bottom": null,
      "display": null,
      "flex": null,
      "flex_flow": null,
      "grid_area": null,
      "grid_auto_columns": null,
      "grid_auto_flow": null,
      "grid_auto_rows": null,
      "grid_column": null,
      "grid_gap": null,
      "grid_row": null,
      "grid_template_areas": null,
      "grid_template_columns": null,
      "grid_template_rows": null,
      "height": null,
      "justify_content": null,
      "justify_items": null,
      "left": null,
      "margin": null,
      "max_height": null,
      "max_width": null,
      "min_height": null,
      "min_width": null,
      "object_fit": null,
      "object_position": null,
      "order": null,
      "overflow": null,
      "overflow_x": null,
      "overflow_y": null,
      "padding": null,
      "right": null,
      "top": null,
      "visibility": null,
      "width": null
     }
    },
    "df42c2be65d04316b69d799e496a6c2a": {
     "model_module": "@jupyter-widgets/controls",
     "model_name": "DescriptionStyleModel",
     "model_module_version": "1.5.0",
     "state": {
      "_model_module": "@jupyter-widgets/controls",
      "_model_module_version": "1.5.0",
      "_model_name": "DescriptionStyleModel",
      "_view_count": null,
      "_view_module": "@jupyter-widgets/base",
      "_view_module_version": "1.2.0",
      "_view_name": "StyleView",
      "description_width": ""
     }
    }
   }
  }
 },
 "cells": [
  {
   "cell_type": "markdown",
   "metadata": {
    "id": "wKc60MLoFGl_",
    "pycharm": {
     "name": "#%% md\n"
    }
   },
   "source": [
    "# Рекомендательные системы\n",
    "\n",
    "## Explicit feedback"
   ]
  },
  {
   "cell_type": "code",
   "execution_count": null,
   "outputs": [],
   "source": [
    "https://nijianmo.github.io/amazon/index.html#complete-data\n",
    "https://cseweb.ucsd.edu/~jmcauley/datasets/amazon_v2/"
   ],
   "metadata": {
    "collapsed": false,
    "pycharm": {
     "name": "#%%\n"
    }
   }
  },
  {
   "cell_type": "code",
   "execution_count": null,
   "outputs": [],
   "source": [
    "\"\"\" время в лекции часть 1 04:30 \"\"\""
   ],
   "metadata": {
    "collapsed": false,
    "pycharm": {
     "name": "#%%\n"
    }
   }
  },
  {
   "cell_type": "code",
   "metadata": {
    "colab": {
     "base_uri": "https://localhost:8080/"
    },
    "id": "YLal9YzjFGmB",
    "outputId": "7416c36e-6ebf-4c90-e214-8cc33a5f3bfe",
    "pycharm": {
     "name": "#%%\n"
    }
   },
   "source": [
    "import warnings\n",
    "warnings.simplefilter('ignore')\n",
    "\n",
    "import pandas as pd\n",
    "import numpy as np\n",
    "from tqdm import tqdm_notebook\n",
    "from sklearn.metrics import mean_squared_error\n",
    "from sklearn.metrics.pairwise import cosine_similarity\n",
    "from sklearn.base import BaseEstimator\n",
    "import matplotlib.pyplot as plt\n",
    "%pylab inline"
   ],
   "execution_count": 223,
   "outputs": [
    {
     "name": "stdout",
     "output_type": "stream",
     "text": [
      "Populating the interactive namespace from numpy and matplotlib\n"
     ]
    }
   ]
  },
  {
   "cell_type": "markdown",
   "source": [
    "# Data loading"
   ],
   "metadata": {
    "collapsed": false,
    "pycharm": {
     "name": "#%% md\n"
    }
   }
  },
  {
   "cell_type": "markdown",
   "source": [
    "надо загрузить три разных датасета и свести в один с подробной информацией."
   ],
   "metadata": {
    "collapsed": false,
    "pycharm": {
     "name": "#%% md\n"
    }
   }
  },
  {
   "cell_type": "code",
   "execution_count": 46,
   "outputs": [],
   "source": [
    "Luxury_Beauty = pd.read_csv('Luxury_Beauty.csv')"
   ],
   "metadata": {
    "collapsed": false,
    "pycharm": {
     "name": "#%%\n"
    }
   }
  },
  {
   "cell_type": "code",
   "execution_count": 47,
   "outputs": [],
   "source": [
    "new_columns = ['item','user','rating','timestamp']"
   ],
   "metadata": {
    "collapsed": false,
    "pycharm": {
     "name": "#%%\n"
    }
   }
  },
  {
   "cell_type": "code",
   "execution_count": 48,
   "outputs": [],
   "source": [
    "Luxury_Beauty.columns = new_columns"
   ],
   "metadata": {
    "collapsed": false,
    "pycharm": {
     "name": "#%%\n"
    }
   }
  },
  {
   "cell_type": "code",
   "execution_count": 49,
   "outputs": [
    {
     "data": {
      "text/plain": "              item            user  rating   timestamp\n0       B00004U9V2  A3HO2SQDCZIE9S     5.0  1262822400\n1       B00004U9V2  A2EM03F99X3RJZ     5.0  1524009600\n2       B00004U9V2   A3Z74TDRGD0HU     5.0  1524009600\n3       B00004U9V2  A2UXFNW9RTL4VM     5.0  1523923200\n4       B00004U9V2   AXX5G4LFF12R6     5.0  1523664000\n...            ...             ...     ...         ...\n574622  B01HIQEOLO   AHYJ78MVF4UQO     5.0  1489968000\n574623  B01HIQEOLO  A1L2RT7KBNK02K     5.0  1477440000\n574624  B01HIQEOLO  A36MLXQX9WPPW9     5.0  1475193600\n574625  B01HJ2UY0W  A23DRCOMC2RIXF     1.0  1480896000\n574626  B01HJ2UY1G   AJEDVHTLS9P3V     5.0  1484352000\n\n[574627 rows x 4 columns]",
      "text/html": "<div>\n<style scoped>\n    .dataframe tbody tr th:only-of-type {\n        vertical-align: middle;\n    }\n\n    .dataframe tbody tr th {\n        vertical-align: top;\n    }\n\n    .dataframe thead th {\n        text-align: right;\n    }\n</style>\n<table border=\"1\" class=\"dataframe\">\n  <thead>\n    <tr style=\"text-align: right;\">\n      <th></th>\n      <th>item</th>\n      <th>user</th>\n      <th>rating</th>\n      <th>timestamp</th>\n    </tr>\n  </thead>\n  <tbody>\n    <tr>\n      <th>0</th>\n      <td>B00004U9V2</td>\n      <td>A3HO2SQDCZIE9S</td>\n      <td>5.0</td>\n      <td>1262822400</td>\n    </tr>\n    <tr>\n      <th>1</th>\n      <td>B00004U9V2</td>\n      <td>A2EM03F99X3RJZ</td>\n      <td>5.0</td>\n      <td>1524009600</td>\n    </tr>\n    <tr>\n      <th>2</th>\n      <td>B00004U9V2</td>\n      <td>A3Z74TDRGD0HU</td>\n      <td>5.0</td>\n      <td>1524009600</td>\n    </tr>\n    <tr>\n      <th>3</th>\n      <td>B00004U9V2</td>\n      <td>A2UXFNW9RTL4VM</td>\n      <td>5.0</td>\n      <td>1523923200</td>\n    </tr>\n    <tr>\n      <th>4</th>\n      <td>B00004U9V2</td>\n      <td>AXX5G4LFF12R6</td>\n      <td>5.0</td>\n      <td>1523664000</td>\n    </tr>\n    <tr>\n      <th>...</th>\n      <td>...</td>\n      <td>...</td>\n      <td>...</td>\n      <td>...</td>\n    </tr>\n    <tr>\n      <th>574622</th>\n      <td>B01HIQEOLO</td>\n      <td>AHYJ78MVF4UQO</td>\n      <td>5.0</td>\n      <td>1489968000</td>\n    </tr>\n    <tr>\n      <th>574623</th>\n      <td>B01HIQEOLO</td>\n      <td>A1L2RT7KBNK02K</td>\n      <td>5.0</td>\n      <td>1477440000</td>\n    </tr>\n    <tr>\n      <th>574624</th>\n      <td>B01HIQEOLO</td>\n      <td>A36MLXQX9WPPW9</td>\n      <td>5.0</td>\n      <td>1475193600</td>\n    </tr>\n    <tr>\n      <th>574625</th>\n      <td>B01HJ2UY0W</td>\n      <td>A23DRCOMC2RIXF</td>\n      <td>1.0</td>\n      <td>1480896000</td>\n    </tr>\n    <tr>\n      <th>574626</th>\n      <td>B01HJ2UY1G</td>\n      <td>AJEDVHTLS9P3V</td>\n      <td>5.0</td>\n      <td>1484352000</td>\n    </tr>\n  </tbody>\n</table>\n<p>574627 rows × 4 columns</p>\n</div>"
     },
     "execution_count": 49,
     "metadata": {},
     "output_type": "execute_result"
    }
   ],
   "source": [
    "Luxury_Beauty"
   ],
   "metadata": {
    "collapsed": false,
    "pycharm": {
     "name": "#%%\n"
    }
   }
  },
  {
   "cell_type": "code",
   "metadata": {
    "colab": {
     "base_uri": "https://localhost:8080/"
    },
    "id": "MRLIuGutFGmE",
    "outputId": "4270bb24-1d4f-4445-efeb-0d611eee411c",
    "pycharm": {
     "name": "#%%\n"
    }
   },
   "source": [
    "Luxury_Beauty['date_time'] = pd.to_datetime(Luxury_Beauty['timestamp'], unit='s').dt.date"
   ],
   "execution_count": 51,
   "outputs": []
  },
  {
   "cell_type": "code",
   "execution_count": 52,
   "outputs": [
    {
     "data": {
      "text/plain": "              item            user  rating   timestamp   date_time\n0       B00004U9V2  A3HO2SQDCZIE9S     5.0  1262822400  2010-01-07\n1       B00004U9V2  A2EM03F99X3RJZ     5.0  1524009600  2018-04-18\n2       B00004U9V2   A3Z74TDRGD0HU     5.0  1524009600  2018-04-18\n3       B00004U9V2  A2UXFNW9RTL4VM     5.0  1523923200  2018-04-17\n4       B00004U9V2   AXX5G4LFF12R6     5.0  1523664000  2018-04-14\n...            ...             ...     ...         ...         ...\n574622  B01HIQEOLO   AHYJ78MVF4UQO     5.0  1489968000  2017-03-20\n574623  B01HIQEOLO  A1L2RT7KBNK02K     5.0  1477440000  2016-10-26\n574624  B01HIQEOLO  A36MLXQX9WPPW9     5.0  1475193600  2016-09-30\n574625  B01HJ2UY0W  A23DRCOMC2RIXF     1.0  1480896000  2016-12-05\n574626  B01HJ2UY1G   AJEDVHTLS9P3V     5.0  1484352000  2017-01-14\n\n[574627 rows x 5 columns]",
      "text/html": "<div>\n<style scoped>\n    .dataframe tbody tr th:only-of-type {\n        vertical-align: middle;\n    }\n\n    .dataframe tbody tr th {\n        vertical-align: top;\n    }\n\n    .dataframe thead th {\n        text-align: right;\n    }\n</style>\n<table border=\"1\" class=\"dataframe\">\n  <thead>\n    <tr style=\"text-align: right;\">\n      <th></th>\n      <th>item</th>\n      <th>user</th>\n      <th>rating</th>\n      <th>timestamp</th>\n      <th>date_time</th>\n    </tr>\n  </thead>\n  <tbody>\n    <tr>\n      <th>0</th>\n      <td>B00004U9V2</td>\n      <td>A3HO2SQDCZIE9S</td>\n      <td>5.0</td>\n      <td>1262822400</td>\n      <td>2010-01-07</td>\n    </tr>\n    <tr>\n      <th>1</th>\n      <td>B00004U9V2</td>\n      <td>A2EM03F99X3RJZ</td>\n      <td>5.0</td>\n      <td>1524009600</td>\n      <td>2018-04-18</td>\n    </tr>\n    <tr>\n      <th>2</th>\n      <td>B00004U9V2</td>\n      <td>A3Z74TDRGD0HU</td>\n      <td>5.0</td>\n      <td>1524009600</td>\n      <td>2018-04-18</td>\n    </tr>\n    <tr>\n      <th>3</th>\n      <td>B00004U9V2</td>\n      <td>A2UXFNW9RTL4VM</td>\n      <td>5.0</td>\n      <td>1523923200</td>\n      <td>2018-04-17</td>\n    </tr>\n    <tr>\n      <th>4</th>\n      <td>B00004U9V2</td>\n      <td>AXX5G4LFF12R6</td>\n      <td>5.0</td>\n      <td>1523664000</td>\n      <td>2018-04-14</td>\n    </tr>\n    <tr>\n      <th>...</th>\n      <td>...</td>\n      <td>...</td>\n      <td>...</td>\n      <td>...</td>\n      <td>...</td>\n    </tr>\n    <tr>\n      <th>574622</th>\n      <td>B01HIQEOLO</td>\n      <td>AHYJ78MVF4UQO</td>\n      <td>5.0</td>\n      <td>1489968000</td>\n      <td>2017-03-20</td>\n    </tr>\n    <tr>\n      <th>574623</th>\n      <td>B01HIQEOLO</td>\n      <td>A1L2RT7KBNK02K</td>\n      <td>5.0</td>\n      <td>1477440000</td>\n      <td>2016-10-26</td>\n    </tr>\n    <tr>\n      <th>574624</th>\n      <td>B01HIQEOLO</td>\n      <td>A36MLXQX9WPPW9</td>\n      <td>5.0</td>\n      <td>1475193600</td>\n      <td>2016-09-30</td>\n    </tr>\n    <tr>\n      <th>574625</th>\n      <td>B01HJ2UY0W</td>\n      <td>A23DRCOMC2RIXF</td>\n      <td>1.0</td>\n      <td>1480896000</td>\n      <td>2016-12-05</td>\n    </tr>\n    <tr>\n      <th>574626</th>\n      <td>B01HJ2UY1G</td>\n      <td>AJEDVHTLS9P3V</td>\n      <td>5.0</td>\n      <td>1484352000</td>\n      <td>2017-01-14</td>\n    </tr>\n  </tbody>\n</table>\n<p>574627 rows × 5 columns</p>\n</div>"
     },
     "execution_count": 52,
     "metadata": {},
     "output_type": "execute_result"
    }
   ],
   "source": [
    "Luxury_Beauty"
   ],
   "metadata": {
    "collapsed": false,
    "pycharm": {
     "name": "#%%\n"
    }
   }
  },
  {
   "cell_type": "code",
   "execution_count": 61,
   "outputs": [],
   "source": [
    "Luxury_Beauty['date_time'] = pd.to_datetime(Luxury_Beauty['date_time'])"
   ],
   "metadata": {
    "collapsed": false,
    "pycharm": {
     "name": "#%%\n"
    }
   }
  },
  {
   "cell_type": "code",
   "execution_count": 70,
   "outputs": [
    {
     "data": {
      "text/plain": "array([[<AxesSubplot: title={'center': 'date_time'}>, <AxesSubplot: >]],\n      dtype=object)"
     },
     "execution_count": 70,
     "metadata": {},
     "output_type": "execute_result"
    },
    {
     "data": {
      "text/plain": "<Figure size 3600x800 with 2 Axes>",
      "image/png": "[encoded data removed]"
     },
     "metadata": {},
     "output_type": "display_data"
    }
   ],
   "source": [
    "Luxury_Beauty[['date_time']].hist(bins=96, figsize=(36,8), layout=(1, 2))"
   ],
   "metadata": {
    "collapsed": false,
    "pycharm": {
     "name": "#%%\n"
    }
   }
  },
  {
   "cell_type": "code",
   "execution_count": 84,
   "outputs": [
    {
     "data": {
      "text/plain": "array([[<AxesSubplot: title={'center': 'date_time'}>, <AxesSubplot: >]],\n      dtype=object)"
     },
     "execution_count": 84,
     "metadata": {},
     "output_type": "execute_result"
    },
    {
     "data": {
      "text/plain": "<Figure size 3600x800 with 2 Axes>",
      "image/png": "[encoded data removed]"
     },
     "metadata": {},
     "output_type": "display_data"
    }
   ],
   "source": [
    "Luxury_Beauty[['date_time']].query('date_time >= datetime.datetime(2014, 6, 1) & date_time <= datetime.datetime(2018, 6, 30)').hist(bins=96, figsize=(36,8), layout=(1, 2))"
   ],
   "metadata": {
    "collapsed": false,
    "pycharm": {
     "name": "#%%\n"
    }
   }
  },
  {
   "cell_type": "code",
   "execution_count": 400,
   "outputs": [],
   "source": [
    "Luxury_Beauty_pruned = Luxury_Beauty.query('date_time >= datetime.datetime(2006, 6, 1) & date_time <= datetime.datetime(2018, 6, 30)')"
   ],
   "metadata": {
    "collapsed": false,
    "pycharm": {
     "name": "#%%\n"
    }
   }
  },
  {
   "cell_type": "code",
   "execution_count": 401,
   "outputs": [
    {
     "data": {
      "text/plain": "              item            user  rating   timestamp  date_time\n0       B00004U9V2  A3HO2SQDCZIE9S     5.0  1262822400 2010-01-07\n1       B00004U9V2  A2EM03F99X3RJZ     5.0  1524009600 2018-04-18\n2       B00004U9V2   A3Z74TDRGD0HU     5.0  1524009600 2018-04-18\n3       B00004U9V2  A2UXFNW9RTL4VM     5.0  1523923200 2018-04-17\n4       B00004U9V2   AXX5G4LFF12R6     5.0  1523664000 2018-04-14\n...            ...             ...     ...         ...        ...\n574622  B01HIQEOLO   AHYJ78MVF4UQO     5.0  1489968000 2017-03-20\n574623  B01HIQEOLO  A1L2RT7KBNK02K     5.0  1477440000 2016-10-26\n574624  B01HIQEOLO  A36MLXQX9WPPW9     5.0  1475193600 2016-09-30\n574625  B01HJ2UY0W  A23DRCOMC2RIXF     1.0  1480896000 2016-12-05\n574626  B01HJ2UY1G   AJEDVHTLS9P3V     5.0  1484352000 2017-01-14\n\n[568203 rows x 5 columns]",
      "text/html": "<div>\n<style scoped>\n    .dataframe tbody tr th:only-of-type {\n        vertical-align: middle;\n    }\n\n    .dataframe tbody tr th {\n        vertical-align: top;\n    }\n\n    .dataframe thead th {\n        text-align: right;\n    }\n</style>\n<table border=\"1\" class=\"dataframe\">\n  <thead>\n    <tr style=\"text-align: right;\">\n      <th></th>\n      <th>item</th>\n      <th>user</th>\n      <th>rating</th>\n      <th>timestamp</th>\n      <th>date_time</th>\n    </tr>\n  </thead>\n  <tbody>\n    <tr>\n      <th>0</th>\n      <td>B00004U9V2</td>\n      <td>A3HO2SQDCZIE9S</td>\n      <td>5.0</td>\n      <td>1262822400</td>\n      <td>2010-01-07</td>\n    </tr>\n    <tr>\n      <th>1</th>\n      <td>B00004U9V2</td>\n      <td>A2EM03F99X3RJZ</td>\n      <td>5.0</td>\n      <td>1524009600</td>\n      <td>2018-04-18</td>\n    </tr>\n    <tr>\n      <th>2</th>\n      <td>B00004U9V2</td>\n      <td>A3Z74TDRGD0HU</td>\n      <td>5.0</td>\n      <td>1524009600</td>\n      <td>2018-04-18</td>\n    </tr>\n    <tr>\n      <th>3</th>\n      <td>B00004U9V2</td>\n      <td>A2UXFNW9RTL4VM</td>\n      <td>5.0</td>\n      <td>1523923200</td>\n      <td>2018-04-17</td>\n    </tr>\n    <tr>\n      <th>4</th>\n      <td>B00004U9V2</td>\n      <td>AXX5G4LFF12R6</td>\n      <td>5.0</td>\n      <td>1523664000</td>\n      <td>2018-04-14</td>\n    </tr>\n    <tr>\n      <th>...</th>\n      <td>...</td>\n      <td>...</td>\n      <td>...</td>\n      <td>...</td>\n      <td>...</td>\n    </tr>\n    <tr>\n      <th>574622</th>\n      <td>B01HIQEOLO</td>\n      <td>AHYJ78MVF4UQO</td>\n      <td>5.0</td>\n      <td>1489968000</td>\n      <td>2017-03-20</td>\n    </tr>\n    <tr>\n      <th>574623</th>\n      <td>B01HIQEOLO</td>\n      <td>A1L2RT7KBNK02K</td>\n      <td>5.0</td>\n      <td>1477440000</td>\n      <td>2016-10-26</td>\n    </tr>\n    <tr>\n      <th>574624</th>\n      <td>B01HIQEOLO</td>\n      <td>A36MLXQX9WPPW9</td>\n      <td>5.0</td>\n      <td>1475193600</td>\n      <td>2016-09-30</td>\n    </tr>\n    <tr>\n      <th>574625</th>\n      <td>B01HJ2UY0W</td>\n      <td>A23DRCOMC2RIXF</td>\n      <td>1.0</td>\n      <td>1480896000</td>\n      <td>2016-12-05</td>\n    </tr>\n    <tr>\n      <th>574626</th>\n      <td>B01HJ2UY1G</td>\n      <td>AJEDVHTLS9P3V</td>\n      <td>5.0</td>\n      <td>1484352000</td>\n      <td>2017-01-14</td>\n    </tr>\n  </tbody>\n</table>\n<p>568203 rows × 5 columns</p>\n</div>"
     },
     "execution_count": 401,
     "metadata": {},
     "output_type": "execute_result"
    }
   ],
   "source": [
    "Luxury_Beauty_pruned"
   ],
   "metadata": {
    "collapsed": false,
    "pycharm": {
     "name": "#%%\n"
    }
   }
  },
  {
   "cell_type": "code",
   "execution_count": 110,
   "outputs": [
    {
     "data": {
      "text/plain": "Index(['item', 'user', 'rating', 'timestamp', 'date_time'], dtype='object')"
     },
     "execution_count": 110,
     "metadata": {},
     "output_type": "execute_result"
    }
   ],
   "source": [
    "Luxury_Beauty_pruned.columns"
   ],
   "metadata": {
    "collapsed": false,
    "pycharm": {
     "name": "#%%\n"
    }
   }
  },
  {
   "cell_type": "code",
   "execution_count": 53,
   "outputs": [],
   "source": [
    "description_data = pd.read_json('Luxury_Beauty_5.json.gz', lines=True)"
   ],
   "metadata": {
    "collapsed": false,
    "pycharm": {
     "name": "#%%\n"
    }
   }
  },
  {
   "cell_type": "code",
   "execution_count": 54,
   "outputs": [
    {
     "data": {
      "text/plain": "       overall  verified   reviewTime      reviewerID        asin  \\\n0            5      True   01 5, 2018  A2HOI48JK8838M  B00004U9V2   \n1            5      True   04 5, 2017  A1YIPEY7HX73S7  B00004U9V2   \n2            5      True  03 27, 2017  A2QCGHIJ2TCLVP  B00004U9V2   \n3            5      True  03 20, 2017  A2R4UNHFJBA6PY  B00004U9V2   \n4            5      True  02 28, 2017  A2QCGHIJ2TCLVP  B00004U9V2   \n...        ...       ...          ...             ...         ...   \n34273        4     False   09 3, 2017  A2CF66KIQ3RKX3  B01GOZ61O8   \n34274        4     False   09 3, 2017  A1LKOIZXPQ9VG0  B01GOZ61O8   \n34275        1      True  08 25, 2017   AV2RWORXTFRJU  B01H353HUY   \n34276        5     False   07 8, 2017  A22S7D0LP8GRDH  B01H353HUY   \n34277        5      True   07 9, 2018   AAF5D1LTFGB7L  B01HGSJPMW   \n\n                       style           reviewerName  \\\n0      {'Size:': ' 0.9 oz.'}                     DB   \n1      {'Size:': ' 3.5 oz.'}                  Ajaey   \n2        {'Size:': ' 250 g'}               D. Jones   \n3      {'Size:': ' 3.5 oz.'}        Amazon Customer   \n4      {'Size:': ' 0.9 oz.'}               D. Jones   \n...                      ...                    ...   \n34273                    NaN           Vivian Deliz   \n34274                    NaN               Elisa 20   \n34275                    NaN            Gapeachmama   \n34276                    NaN  Jacob and Kiki Hantla   \n34277                    NaN          Libby Johnson   \n\n                                              reviewText  \\\n0      This handcream has a beautiful fragrance. It d...   \n1      wonderful hand lotion, for seriously dry skin,...   \n2      Best hand cream around.  Silky, thick, soaks i...   \n3                                               Thanks!!   \n4      Great hand lotion.  Soaks right in and leaves ...   \n...                                                  ...   \n34273  I like to use moisturizers and sunscreens that...   \n34274  I wouldn't be able to afford this if not asked...   \n34275                                        Did nothing   \n34276  I love the Oribe bright blonde radiance spray....   \n34277                 I love all of the Elemis products.   \n\n                                                 summary  unixReviewTime  \\\n0                                    Beautiful Fragrance      1515110400   \n1                                  wonderful hand lotion      1491350400   \n2                                 Best hand cream around      1490572800   \n3                                             Five Stars      1489968000   \n4                                     Great hand lotion!      1488240000   \n...                                                  ...             ...   \n34273         Works great as a moisturizer and sunscreen      1504396800   \n34274  Nice skin care product and sunscreen if you do...      1504396800   \n34275                                           One Star      1503619200   \n34276                                     No more brass!      1499472000   \n34277                                         Five Stars      1531094400   \n\n       vote image  \n0       NaN   NaN  \n1       NaN   NaN  \n2       NaN   NaN  \n3       NaN   NaN  \n4       NaN   NaN  \n...     ...   ...  \n34273   NaN   NaN  \n34274   NaN   NaN  \n34275   NaN   NaN  \n34276   NaN   NaN  \n34277   NaN   NaN  \n\n[34278 rows x 12 columns]",
      "text/html": "<div>\n<style scoped>\n    .dataframe tbody tr th:only-of-type {\n        vertical-align: middle;\n    }\n\n    .dataframe tbody tr th {\n        vertical-align: top;\n    }\n\n    .dataframe thead th {\n        text-align: right;\n    }\n</style>\n<table border=\"1\" class=\"dataframe\">\n  <thead>\n    <tr style=\"text-align: right;\">\n      <th></th>\n      <th>overall</th>\n      <th>verified</th>\n      <th>reviewTime</th>\n      <th>reviewerID</th>\n      <th>asin</th>\n      <th>style</th>\n      <th>reviewerName</th>\n      <th>reviewText</th>\n      <th>summary</th>\n      <th>unixReviewTime</th>\n      <th>vote</th>\n      <th>image</th>\n    </tr>\n  </thead>\n  <tbody>\n    <tr>\n      <th>0</th>\n      <td>5</td>\n      <td>True</td>\n      <td>01 5, 2018</td>\n      <td>A2HOI48JK8838M</td>\n      <td>B00004U9V2</td>\n      <td>{'Size:': ' 0.9 oz.'}</td>\n      <td>DB</td>\n      <td>This handcream has a beautiful fragrance. It d...</td>\n      <td>Beautiful Fragrance</td>\n      <td>1515110400</td>\n      <td>NaN</td>\n      <td>NaN</td>\n    </tr>\n    <tr>\n      <th>1</th>\n      <td>5</td>\n      <td>True</td>\n      <td>04 5, 2017</td>\n      <td>A1YIPEY7HX73S7</td>\n      <td>B00004U9V2</td>\n      <td>{'Size:': ' 3.5 oz.'}</td>\n      <td>Ajaey</td>\n      <td>wonderful hand lotion, for seriously dry skin,...</td>\n      <td>wonderful hand lotion</td>\n      <td>1491350400</td>\n      <td>NaN</td>\n      <td>NaN</td>\n    </tr>\n    <tr>\n      <th>2</th>\n      <td>5</td>\n      <td>True</td>\n      <td>03 27, 2017</td>\n      <td>A2QCGHIJ2TCLVP</td>\n      <td>B00004U9V2</td>\n      <td>{'Size:': ' 250 g'}</td>\n      <td>D. Jones</td>\n      <td>Best hand cream around.  Silky, thick, soaks i...</td>\n      <td>Best hand cream around</td>\n      <td>1490572800</td>\n      <td>NaN</td>\n      <td>NaN</td>\n    </tr>\n    <tr>\n      <th>3</th>\n      <td>5</td>\n      <td>True</td>\n      <td>03 20, 2017</td>\n      <td>A2R4UNHFJBA6PY</td>\n      <td>B00004U9V2</td>\n      <td>{'Size:': ' 3.5 oz.'}</td>\n      <td>Amazon Customer</td>\n      <td>Thanks!!</td>\n      <td>Five Stars</td>\n      <td>1489968000</td>\n      <td>NaN</td>\n      <td>NaN</td>\n    </tr>\n    <tr>\n      <th>4</th>\n      <td>5</td>\n      <td>True</td>\n      <td>02 28, 2017</td>\n      <td>A2QCGHIJ2TCLVP</td>\n      <td>B00004U9V2</td>\n      <td>{'Size:': ' 0.9 oz.'}</td>\n      <td>D. Jones</td>\n      <td>Great hand lotion.  Soaks right in and leaves ...</td>\n      <td>Great hand lotion!</td>\n      <td>1488240000</td>\n      <td>NaN</td>\n      <td>NaN</td>\n    </tr>\n    <tr>\n      <th>...</th>\n      <td>...</td>\n      <td>...</td>\n      <td>...</td>\n      <td>...</td>\n      <td>...</td>\n      <td>...</td>\n      <td>...</td>\n      <td>...</td>\n      <td>...</td>\n      <td>...</td>\n      <td>...</td>\n      <td>...</td>\n    </tr>\n    <tr>\n      <th>34273</th>\n      <td>4</td>\n      <td>False</td>\n      <td>09 3, 2017</td>\n      <td>A2CF66KIQ3RKX3</td>\n      <td>B01GOZ61O8</td>\n      <td>NaN</td>\n      <td>Vivian Deliz</td>\n      <td>I like to use moisturizers and sunscreens that...</td>\n      <td>Works great as a moisturizer and sunscreen</td>\n      <td>1504396800</td>\n      <td>NaN</td>\n      <td>NaN</td>\n    </tr>\n    <tr>\n      <th>34274</th>\n      <td>4</td>\n      <td>False</td>\n      <td>09 3, 2017</td>\n      <td>A1LKOIZXPQ9VG0</td>\n      <td>B01GOZ61O8</td>\n      <td>NaN</td>\n      <td>Elisa 20</td>\n      <td>I wouldn't be able to afford this if not asked...</td>\n      <td>Nice skin care product and sunscreen if you do...</td>\n      <td>1504396800</td>\n      <td>NaN</td>\n      <td>NaN</td>\n    </tr>\n    <tr>\n      <th>34275</th>\n      <td>1</td>\n      <td>True</td>\n      <td>08 25, 2017</td>\n      <td>AV2RWORXTFRJU</td>\n      <td>B01H353HUY</td>\n      <td>NaN</td>\n      <td>Gapeachmama</td>\n      <td>Did nothing</td>\n      <td>One Star</td>\n      <td>1503619200</td>\n      <td>NaN</td>\n      <td>NaN</td>\n    </tr>\n    <tr>\n      <th>34276</th>\n      <td>5</td>\n      <td>False</td>\n      <td>07 8, 2017</td>\n      <td>A22S7D0LP8GRDH</td>\n      <td>B01H353HUY</td>\n      <td>NaN</td>\n      <td>Jacob and Kiki Hantla</td>\n      <td>I love the Oribe bright blonde radiance spray....</td>\n      <td>No more brass!</td>\n      <td>1499472000</td>\n      <td>NaN</td>\n      <td>NaN</td>\n    </tr>\n    <tr>\n      <th>34277</th>\n      <td>5</td>\n      <td>True</td>\n      <td>07 9, 2018</td>\n      <td>AAF5D1LTFGB7L</td>\n      <td>B01HGSJPMW</td>\n      <td>NaN</td>\n      <td>Libby Johnson</td>\n      <td>I love all of the Elemis products.</td>\n      <td>Five Stars</td>\n      <td>1531094400</td>\n      <td>NaN</td>\n      <td>NaN</td>\n    </tr>\n  </tbody>\n</table>\n<p>34278 rows × 12 columns</p>\n</div>"
     },
     "execution_count": 54,
     "metadata": {},
     "output_type": "execute_result"
    }
   ],
   "source": [
    "description_data"
   ],
   "metadata": {
    "collapsed": false,
    "pycharm": {
     "name": "#%%\n"
    }
   }
  },
  {
   "cell_type": "code",
   "execution_count": 93,
   "outputs": [],
   "source": [
    "description_data = description_data.rename(columns={'reviewerID': 'user', 'asin': 'item'})"
   ],
   "metadata": {
    "collapsed": false,
    "pycharm": {
     "name": "#%%\n"
    }
   }
  },
  {
   "cell_type": "code",
   "execution_count": 402,
   "outputs": [],
   "source": [
    "merged_df = Luxury_Beauty_pruned.merge(description_data[['user', 'item', 'reviewText','summary']], on=['user', 'item'], how='left')"
   ],
   "metadata": {
    "collapsed": false,
    "pycharm": {
     "name": "#%%\n"
    }
   }
  },
  {
   "cell_type": "code",
   "execution_count": 403,
   "outputs": [],
   "source": [
    "merged_df = merged_df.drop_duplicates()"
   ],
   "metadata": {
    "collapsed": false,
    "pycharm": {
     "name": "#%%\n"
    }
   }
  },
  {
   "cell_type": "code",
   "execution_count": 404,
   "outputs": [
    {
     "data": {
      "text/plain": "              item            user  rating   timestamp  date_time reviewText  \\\n0       B00004U9V2  A3HO2SQDCZIE9S     5.0  1262822400 2010-01-07        NaN   \n1       B00004U9V2  A2EM03F99X3RJZ     5.0  1524009600 2018-04-18        NaN   \n2       B00004U9V2   A3Z74TDRGD0HU     5.0  1524009600 2018-04-18        NaN   \n3       B00004U9V2  A2UXFNW9RTL4VM     5.0  1523923200 2018-04-17        NaN   \n4       B00004U9V2   AXX5G4LFF12R6     5.0  1523664000 2018-04-14        NaN   \n...            ...             ...     ...         ...        ...        ...   \n733336  B01HIQEOLO   AHYJ78MVF4UQO     5.0  1489968000 2017-03-20        NaN   \n733337  B01HIQEOLO  A1L2RT7KBNK02K     5.0  1477440000 2016-10-26        NaN   \n733338  B01HIQEOLO  A36MLXQX9WPPW9     5.0  1475193600 2016-09-30        NaN   \n733339  B01HJ2UY0W  A23DRCOMC2RIXF     1.0  1480896000 2016-12-05        NaN   \n733340  B01HJ2UY1G   AJEDVHTLS9P3V     5.0  1484352000 2017-01-14        NaN   \n\n       summary  \n0          NaN  \n1          NaN  \n2          NaN  \n3          NaN  \n4          NaN  \n...        ...  \n733336     NaN  \n733337     NaN  \n733338     NaN  \n733339     NaN  \n733340     NaN  \n\n[535978 rows x 7 columns]",
      "text/html": "<div>\n<style scoped>\n    .dataframe tbody tr th:only-of-type {\n        vertical-align: middle;\n    }\n\n    .dataframe tbody tr th {\n        vertical-align: top;\n    }\n\n    .dataframe thead th {\n        text-align: right;\n    }\n</style>\n<table border=\"1\" class=\"dataframe\">\n  <thead>\n    <tr style=\"text-align: right;\">\n      <th></th>\n      <th>item</th>\n      <th>user</th>\n      <th>rating</th>\n      <th>timestamp</th>\n      <th>date_time</th>\n      <th>reviewText</th>\n      <th>summary</th>\n    </tr>\n  </thead>\n  <tbody>\n    <tr>\n      <th>0</th>\n      <td>B00004U9V2</td>\n      <td>A3HO2SQDCZIE9S</td>\n      <td>5.0</td>\n      <td>1262822400</td>\n      <td>2010-01-07</td>\n      <td>NaN</td>\n      <td>NaN</td>\n    </tr>\n    <tr>\n      <th>1</th>\n      <td>B00004U9V2</td>\n      <td>A2EM03F99X3RJZ</td>\n      <td>5.0</td>\n      <td>1524009600</td>\n      <td>2018-04-18</td>\n      <td>NaN</td>\n      <td>NaN</td>\n    </tr>\n    <tr>\n      <th>2</th>\n      <td>B00004U9V2</td>\n      <td>A3Z74TDRGD0HU</td>\n      <td>5.0</td>\n      <td>1524009600</td>\n      <td>2018-04-18</td>\n      <td>NaN</td>\n      <td>NaN</td>\n    </tr>\n    <tr>\n      <th>3</th>\n      <td>B00004U9V2</td>\n      <td>A2UXFNW9RTL4VM</td>\n      <td>5.0</td>\n      <td>1523923200</td>\n      <td>2018-04-17</td>\n      <td>NaN</td>\n      <td>NaN</td>\n    </tr>\n    <tr>\n      <th>4</th>\n      <td>B00004U9V2</td>\n      <td>AXX5G4LFF12R6</td>\n      <td>5.0</td>\n      <td>1523664000</td>\n      <td>2018-04-14</td>\n      <td>NaN</td>\n      <td>NaN</td>\n    </tr>\n    <tr>\n      <th>...</th>\n      <td>...</td>\n      <td>...</td>\n      <td>...</td>\n      <td>...</td>\n      <td>...</td>\n      <td>...</td>\n      <td>...</td>\n    </tr>\n    <tr>\n      <th>733336</th>\n      <td>B01HIQEOLO</td>\n      <td>AHYJ78MVF4UQO</td>\n      <td>5.0</td>\n      <td>1489968000</td>\n      <td>2017-03-20</td>\n      <td>NaN</td>\n      <td>NaN</td>\n    </tr>\n    <tr>\n      <th>733337</th>\n      <td>B01HIQEOLO</td>\n      <td>A1L2RT7KBNK02K</td>\n      <td>5.0</td>\n      <td>1477440000</td>\n      <td>2016-10-26</td>\n      <td>NaN</td>\n      <td>NaN</td>\n    </tr>\n    <tr>\n      <th>733338</th>\n      <td>B01HIQEOLO</td>\n      <td>A36MLXQX9WPPW9</td>\n      <td>5.0</td>\n      <td>1475193600</td>\n      <td>2016-09-30</td>\n      <td>NaN</td>\n      <td>NaN</td>\n    </tr>\n    <tr>\n      <th>733339</th>\n      <td>B01HJ2UY0W</td>\n      <td>A23DRCOMC2RIXF</td>\n      <td>1.0</td>\n      <td>1480896000</td>\n      <td>2016-12-05</td>\n      <td>NaN</td>\n      <td>NaN</td>\n    </tr>\n    <tr>\n      <th>733340</th>\n      <td>B01HJ2UY1G</td>\n      <td>AJEDVHTLS9P3V</td>\n      <td>5.0</td>\n      <td>1484352000</td>\n      <td>2017-01-14</td>\n      <td>NaN</td>\n      <td>NaN</td>\n    </tr>\n  </tbody>\n</table>\n<p>535978 rows × 7 columns</p>\n</div>"
     },
     "execution_count": 404,
     "metadata": {},
     "output_type": "execute_result"
    }
   ],
   "source": [
    "merged_df"
   ],
   "metadata": {
    "collapsed": false,
    "pycharm": {
     "name": "#%%\n"
    }
   }
  },
  {
   "cell_type": "code",
   "execution_count": 151,
   "outputs": [],
   "source": [],
   "metadata": {
    "collapsed": false,
    "pycharm": {
     "name": "#%%\n"
    }
   }
  },
  {
   "cell_type": "code",
   "execution_count": 545,
   "outputs": [],
   "source": [
    "Luxury_Beauty_meta_data = pd.read_csv('Luxury_Beauty_meta_data.csv')"
   ],
   "metadata": {
    "collapsed": false,
    "pycharm": {
     "name": "#%%\n"
    }
   }
  },
  {
   "cell_type": "code",
   "execution_count": 145,
   "outputs": [],
   "source": [
    "Luxury_Beauty_meta_data = Luxury_Beauty_meta_data.rename(columns={ 'asin': 'item'})"
   ],
   "metadata": {
    "collapsed": false,
    "pycharm": {
     "name": "#%%\n"
    }
   }
  },
  {
   "cell_type": "code",
   "execution_count": 546,
   "outputs": [
    {
     "data": {
      "text/plain": "Index(['category', 'tech1', 'description', 'fit', 'title', 'also_buy', 'tech2',\n       'brand', 'feature', 'rank', 'also_view', 'details', 'main_cat',\n       'similar_item', 'date', 'price', 'asin', 'imageURL', 'imageURLHighRes'],\n      dtype='object')"
     },
     "execution_count": 546,
     "metadata": {},
     "output_type": "execute_result"
    }
   ],
   "source": [
    "Luxury_Beauty_meta_data.columns"
   ],
   "metadata": {
    "collapsed": false,
    "pycharm": {
     "name": "#%%\n"
    }
   }
  },
  {
   "cell_type": "code",
   "execution_count": 405,
   "outputs": [],
   "source": [
    "full_merged_df = merged_df.merge(Luxury_Beauty_meta_data[['item', 'title', 'description', 'price']], on=['item'], how='left')"
   ],
   "metadata": {
    "collapsed": false,
    "pycharm": {
     "name": "#%%\n"
    }
   }
  },
  {
   "cell_type": "code",
   "execution_count": 406,
   "outputs": [],
   "source": [
    "full_merged_df = full_merged_df.drop_duplicates()"
   ],
   "metadata": {
    "collapsed": false,
    "pycharm": {
     "name": "#%%\n"
    }
   }
  },
  {
   "cell_type": "code",
   "execution_count": 407,
   "outputs": [
    {
     "data": {
      "text/plain": "              item            user  rating   timestamp  date_time reviewText  \\\n0       B00004U9V2  A3HO2SQDCZIE9S     5.0  1262822400 2010-01-07        NaN   \n2       B00004U9V2  A2EM03F99X3RJZ     5.0  1524009600 2018-04-18        NaN   \n4       B00004U9V2   A3Z74TDRGD0HU     5.0  1524009600 2018-04-18        NaN   \n6       B00004U9V2  A2UXFNW9RTL4VM     5.0  1523923200 2018-04-17        NaN   \n8       B00004U9V2   AXX5G4LFF12R6     5.0  1523664000 2018-04-14        NaN   \n...            ...             ...     ...         ...        ...        ...   \n562029  B01HIQEOLO   AHYJ78MVF4UQO     5.0  1489968000 2017-03-20        NaN   \n562030  B01HIQEOLO  A1L2RT7KBNK02K     5.0  1477440000 2016-10-26        NaN   \n562031  B01HIQEOLO  A36MLXQX9WPPW9     5.0  1475193600 2016-09-30        NaN   \n562032  B01HJ2UY0W  A23DRCOMC2RIXF     1.0  1480896000 2016-12-05        NaN   \n562033  B01HJ2UY1G   AJEDVHTLS9P3V     5.0  1484352000 2017-01-14        NaN   \n\n       summary                                              title  \\\n0          NaN  Crabtree &amp; Evelyn - Gardener's Ultra-Moist...   \n2          NaN  Crabtree &amp; Evelyn - Gardener's Ultra-Moist...   \n4          NaN  Crabtree &amp; Evelyn - Gardener's Ultra-Moist...   \n6          NaN  Crabtree &amp; Evelyn - Gardener's Ultra-Moist...   \n8          NaN  Crabtree &amp; Evelyn - Gardener's Ultra-Moist...   \n...        ...                                                ...   \n562029     NaN                       CND Shellac, Leather Satchel   \n562030     NaN                       CND Shellac, Leather Satchel   \n562031     NaN                       CND Shellac, Leather Satchel   \n562032     NaN  Juicy Couture I Love Juicy Couture, 1.7 fl. Oz...   \n562033     NaN  Juicy Couture I Love Juicy Couture, 3.4 fl. Oz...   \n\n                                              description   price  \n0       ['After a long day of handling thorny situatio...  $30.00  \n2       ['After a long day of handling thorny situatio...  $30.00  \n4       ['After a long day of handling thorny situatio...  $30.00  \n6       ['After a long day of handling thorny situatio...  $30.00  \n8       ['After a long day of handling thorny situatio...  $30.00  \n...                                                   ...     ...  \n562029  ['CND Shellac was designed to be used as a sys...  $15.95  \n562030  ['CND Shellac was designed to be used as a sys...  $15.95  \n562031  ['CND Shellac was designed to be used as a sys...  $15.95  \n562032  ['The I AM JUICY COUTURE girl is once again ta...  $76.00  \n562033  ['I Love Juicy Couture Eau De Parfum Spray 3.4...  $96.00  \n\n[535978 rows x 10 columns]",
      "text/html": "<div>\n<style scoped>\n    .dataframe tbody tr th:only-of-type {\n        vertical-align: middle;\n    }\n\n    .dataframe tbody tr th {\n        vertical-align: top;\n    }\n\n    .dataframe thead th {\n        text-align: right;\n    }\n</style>\n<table border=\"1\" class=\"dataframe\">\n  <thead>\n    <tr style=\"text-align: right;\">\n      <th></th>\n      <th>item</th>\n      <th>user</th>\n      <th>rating</th>\n      <th>timestamp</th>\n      <th>date_time</th>\n      <th>reviewText</th>\n      <th>summary</th>\n      <th>title</th>\n      <th>description</th>\n      <th>price</th>\n    </tr>\n  </thead>\n  <tbody>\n    <tr>\n      <th>0</th>\n      <td>B00004U9V2</td>\n      <td>A3HO2SQDCZIE9S</td>\n      <td>5.0</td>\n      <td>1262822400</td>\n      <td>2010-01-07</td>\n      <td>NaN</td>\n      <td>NaN</td>\n      <td>Crabtree &amp;amp; Evelyn - Gardener's Ultra-Moist...</td>\n      <td>['After a long day of handling thorny situatio...</td>\n      <td>$30.00</td>\n    </tr>\n    <tr>\n      <th>2</th>\n      <td>B00004U9V2</td>\n      <td>A2EM03F99X3RJZ</td>\n      <td>5.0</td>\n      <td>1524009600</td>\n      <td>2018-04-18</td>\n      <td>NaN</td>\n      <td>NaN</td>\n      <td>Crabtree &amp;amp; Evelyn - Gardener's Ultra-Moist...</td>\n      <td>['After a long day of handling thorny situatio...</td>\n      <td>$30.00</td>\n    </tr>\n    <tr>\n      <th>4</th>\n      <td>B00004U9V2</td>\n      <td>A3Z74TDRGD0HU</td>\n      <td>5.0</td>\n      <td>1524009600</td>\n      <td>2018-04-18</td>\n      <td>NaN</td>\n      <td>NaN</td>\n      <td>Crabtree &amp;amp; Evelyn - Gardener's Ultra-Moist...</td>\n      <td>['After a long day of handling thorny situatio...</td>\n      <td>$30.00</td>\n    </tr>\n    <tr>\n      <th>6</th>\n      <td>B00004U9V2</td>\n      <td>A2UXFNW9RTL4VM</td>\n      <td>5.0</td>\n      <td>1523923200</td>\n      <td>2018-04-17</td>\n      <td>NaN</td>\n      <td>NaN</td>\n      <td>Crabtree &amp;amp; Evelyn - Gardener's Ultra-Moist...</td>\n      <td>['After a long day of handling thorny situatio...</td>\n      <td>$30.00</td>\n    </tr>\n    <tr>\n      <th>8</th>\n      <td>B00004U9V2</td>\n      <td>AXX5G4LFF12R6</td>\n      <td>5.0</td>\n      <td>1523664000</td>\n      <td>2018-04-14</td>\n      <td>NaN</td>\n      <td>NaN</td>\n      <td>Crabtree &amp;amp; Evelyn - Gardener's Ultra-Moist...</td>\n      <td>['After a long day of handling thorny situatio...</td>\n      <td>$30.00</td>\n    </tr>\n    <tr>\n      <th>...</th>\n      <td>...</td>\n      <td>...</td>\n      <td>...</td>\n      <td>...</td>\n      <td>...</td>\n      <td>...</td>\n      <td>...</td>\n      <td>...</td>\n      <td>...</td>\n      <td>...</td>\n    </tr>\n    <tr>\n      <th>562029</th>\n      <td>B01HIQEOLO</td>\n      <td>AHYJ78MVF4UQO</td>\n      <td>5.0</td>\n      <td>1489968000</td>\n      <td>2017-03-20</td>\n      <td>NaN</td>\n      <td>NaN</td>\n      <td>CND Shellac, Leather Satchel</td>\n      <td>['CND Shellac was designed to be used as a sys...</td>\n      <td>$15.95</td>\n    </tr>\n    <tr>\n      <th>562030</th>\n      <td>B01HIQEOLO</td>\n      <td>A1L2RT7KBNK02K</td>\n      <td>5.0</td>\n      <td>1477440000</td>\n      <td>2016-10-26</td>\n      <td>NaN</td>\n      <td>NaN</td>\n      <td>CND Shellac, Leather Satchel</td>\n      <td>['CND Shellac was designed to be used as a sys...</td>\n      <td>$15.95</td>\n    </tr>\n    <tr>\n      <th>562031</th>\n      <td>B01HIQEOLO</td>\n      <td>A36MLXQX9WPPW9</td>\n      <td>5.0</td>\n      <td>1475193600</td>\n      <td>2016-09-30</td>\n      <td>NaN</td>\n      <td>NaN</td>\n      <td>CND Shellac, Leather Satchel</td>\n      <td>['CND Shellac was designed to be used as a sys...</td>\n      <td>$15.95</td>\n    </tr>\n    <tr>\n      <th>562032</th>\n      <td>B01HJ2UY0W</td>\n      <td>A23DRCOMC2RIXF</td>\n      <td>1.0</td>\n      <td>1480896000</td>\n      <td>2016-12-05</td>\n      <td>NaN</td>\n      <td>NaN</td>\n      <td>Juicy Couture I Love Juicy Couture, 1.7 fl. Oz...</td>\n      <td>['The I AM JUICY COUTURE girl is once again ta...</td>\n      <td>$76.00</td>\n    </tr>\n    <tr>\n      <th>562033</th>\n      <td>B01HJ2UY1G</td>\n      <td>AJEDVHTLS9P3V</td>\n      <td>5.0</td>\n      <td>1484352000</td>\n      <td>2017-01-14</td>\n      <td>NaN</td>\n      <td>NaN</td>\n      <td>Juicy Couture I Love Juicy Couture, 3.4 fl. Oz...</td>\n      <td>['I Love Juicy Couture Eau De Parfum Spray 3.4...</td>\n      <td>$96.00</td>\n    </tr>\n  </tbody>\n</table>\n<p>535978 rows × 10 columns</p>\n</div>"
     },
     "execution_count": 407,
     "metadata": {},
     "output_type": "execute_result"
    }
   ],
   "source": [
    "full_merged_df"
   ],
   "metadata": {
    "collapsed": false,
    "pycharm": {
     "name": "#%%\n"
    }
   }
  },
  {
   "cell_type": "code",
   "execution_count": 221,
   "outputs": [],
   "source": [
    "# full_merged_df.to_csv('full_merged_df.csv', index=False) # save dataset"
   ],
   "metadata": {
    "collapsed": false,
    "pycharm": {
     "name": "#%%\n"
    }
   }
  },
  {
   "cell_type": "code",
   "execution_count": 541,
   "outputs": [
    {
     "data": {
      "text/plain": "              item            user  rating   timestamp  date_time reviewText  \\\n0       B00004U9V2  A3HO2SQDCZIE9S     5.0  1262822400 2010-01-07        NaN   \n2       B00004U9V2  A2EM03F99X3RJZ     5.0  1524009600 2018-04-18        NaN   \n4       B00004U9V2   A3Z74TDRGD0HU     5.0  1524009600 2018-04-18        NaN   \n6       B00004U9V2  A2UXFNW9RTL4VM     5.0  1523923200 2018-04-17        NaN   \n8       B00004U9V2   AXX5G4LFF12R6     5.0  1523664000 2018-04-14        NaN   \n...            ...             ...     ...         ...        ...        ...   \n562029  B01HIQEOLO   AHYJ78MVF4UQO     5.0  1489968000 2017-03-20        NaN   \n562030  B01HIQEOLO  A1L2RT7KBNK02K     5.0  1477440000 2016-10-26        NaN   \n562031  B01HIQEOLO  A36MLXQX9WPPW9     5.0  1475193600 2016-09-30        NaN   \n562032  B01HJ2UY0W  A23DRCOMC2RIXF     1.0  1480896000 2016-12-05        NaN   \n562033  B01HJ2UY1G   AJEDVHTLS9P3V     5.0  1484352000 2017-01-14        NaN   \n\n       summary                                              title  \\\n0          NaN  Crabtree &amp; Evelyn - Gardener's Ultra-Moist...   \n2          NaN  Crabtree &amp; Evelyn - Gardener's Ultra-Moist...   \n4          NaN  Crabtree &amp; Evelyn - Gardener's Ultra-Moist...   \n6          NaN  Crabtree &amp; Evelyn - Gardener's Ultra-Moist...   \n8          NaN  Crabtree &amp; Evelyn - Gardener's Ultra-Moist...   \n...        ...                                                ...   \n562029     NaN                       CND Shellac, Leather Satchel   \n562030     NaN                       CND Shellac, Leather Satchel   \n562031     NaN                       CND Shellac, Leather Satchel   \n562032     NaN  Juicy Couture I Love Juicy Couture, 1.7 fl. Oz...   \n562033     NaN  Juicy Couture I Love Juicy Couture, 3.4 fl. Oz...   \n\n                                              description   price  \n0       ['After a long day of handling thorny situatio...  $30.00  \n2       ['After a long day of handling thorny situatio...  $30.00  \n4       ['After a long day of handling thorny situatio...  $30.00  \n6       ['After a long day of handling thorny situatio...  $30.00  \n8       ['After a long day of handling thorny situatio...  $30.00  \n...                                                   ...     ...  \n562029  ['CND Shellac was designed to be used as a sys...  $15.95  \n562030  ['CND Shellac was designed to be used as a sys...  $15.95  \n562031  ['CND Shellac was designed to be used as a sys...  $15.95  \n562032  ['The I AM JUICY COUTURE girl is once again ta...  $76.00  \n562033  ['I Love Juicy Couture Eau De Parfum Spray 3.4...  $96.00  \n\n[535978 rows x 10 columns]",
      "text/html": "<div>\n<style scoped>\n    .dataframe tbody tr th:only-of-type {\n        vertical-align: middle;\n    }\n\n    .dataframe tbody tr th {\n        vertical-align: top;\n    }\n\n    .dataframe thead th {\n        text-align: right;\n    }\n</style>\n<table border=\"1\" class=\"dataframe\">\n  <thead>\n    <tr style=\"text-align: right;\">\n      <th></th>\n      <th>item</th>\n      <th>user</th>\n      <th>rating</th>\n      <th>timestamp</th>\n      <th>date_time</th>\n      <th>reviewText</th>\n      <th>summary</th>\n      <th>title</th>\n      <th>description</th>\n      <th>price</th>\n    </tr>\n  </thead>\n  <tbody>\n    <tr>\n      <th>0</th>\n      <td>B00004U9V2</td>\n      <td>A3HO2SQDCZIE9S</td>\n      <td>5.0</td>\n      <td>1262822400</td>\n      <td>2010-01-07</td>\n      <td>NaN</td>\n      <td>NaN</td>\n      <td>Crabtree &amp;amp; Evelyn - Gardener's Ultra-Moist...</td>\n      <td>['After a long day of handling thorny situatio...</td>\n      <td>$30.00</td>\n    </tr>\n    <tr>\n      <th>2</th>\n      <td>B00004U9V2</td>\n      <td>A2EM03F99X3RJZ</td>\n      <td>5.0</td>\n      <td>1524009600</td>\n      <td>2018-04-18</td>\n      <td>NaN</td>\n      <td>NaN</td>\n      <td>Crabtree &amp;amp; Evelyn - Gardener's Ultra-Moist...</td>\n      <td>['After a long day of handling thorny situatio...</td>\n      <td>$30.00</td>\n    </tr>\n    <tr>\n      <th>4</th>\n      <td>B00004U9V2</td>\n      <td>A3Z74TDRGD0HU</td>\n      <td>5.0</td>\n      <td>1524009600</td>\n      <td>2018-04-18</td>\n      <td>NaN</td>\n      <td>NaN</td>\n      <td>Crabtree &amp;amp; Evelyn - Gardener's Ultra-Moist...</td>\n      <td>['After a long day of handling thorny situatio...</td>\n      <td>$30.00</td>\n    </tr>\n    <tr>\n      <th>6</th>\n      <td>B00004U9V2</td>\n      <td>A2UXFNW9RTL4VM</td>\n      <td>5.0</td>\n      <td>1523923200</td>\n      <td>2018-04-17</td>\n      <td>NaN</td>\n      <td>NaN</td>\n      <td>Crabtree &amp;amp; Evelyn - Gardener's Ultra-Moist...</td>\n      <td>['After a long day of handling thorny situatio...</td>\n      <td>$30.00</td>\n    </tr>\n    <tr>\n      <th>8</th>\n      <td>B00004U9V2</td>\n      <td>AXX5G4LFF12R6</td>\n      <td>5.0</td>\n      <td>1523664000</td>\n      <td>2018-04-14</td>\n      <td>NaN</td>\n      <td>NaN</td>\n      <td>Crabtree &amp;amp; Evelyn - Gardener's Ultra-Moist...</td>\n      <td>['After a long day of handling thorny situatio...</td>\n      <td>$30.00</td>\n    </tr>\n    <tr>\n      <th>...</th>\n      <td>...</td>\n      <td>...</td>\n      <td>...</td>\n      <td>...</td>\n      <td>...</td>\n      <td>...</td>\n      <td>...</td>\n      <td>...</td>\n      <td>...</td>\n      <td>...</td>\n    </tr>\n    <tr>\n      <th>562029</th>\n      <td>B01HIQEOLO</td>\n      <td>AHYJ78MVF4UQO</td>\n      <td>5.0</td>\n      <td>1489968000</td>\n      <td>2017-03-20</td>\n      <td>NaN</td>\n      <td>NaN</td>\n      <td>CND Shellac, Leather Satchel</td>\n      <td>['CND Shellac was designed to be used as a sys...</td>\n      <td>$15.95</td>\n    </tr>\n    <tr>\n      <th>562030</th>\n      <td>B01HIQEOLO</td>\n      <td>A1L2RT7KBNK02K</td>\n      <td>5.0</td>\n      <td>1477440000</td>\n      <td>2016-10-26</td>\n      <td>NaN</td>\n      <td>NaN</td>\n      <td>CND Shellac, Leather Satchel</td>\n      <td>['CND Shellac was designed to be used as a sys...</td>\n      <td>$15.95</td>\n    </tr>\n    <tr>\n      <th>562031</th>\n      <td>B01HIQEOLO</td>\n      <td>A36MLXQX9WPPW9</td>\n      <td>5.0</td>\n      <td>1475193600</td>\n      <td>2016-09-30</td>\n      <td>NaN</td>\n      <td>NaN</td>\n      <td>CND Shellac, Leather Satchel</td>\n      <td>['CND Shellac was designed to be used as a sys...</td>\n      <td>$15.95</td>\n    </tr>\n    <tr>\n      <th>562032</th>\n      <td>B01HJ2UY0W</td>\n      <td>A23DRCOMC2RIXF</td>\n      <td>1.0</td>\n      <td>1480896000</td>\n      <td>2016-12-05</td>\n      <td>NaN</td>\n      <td>NaN</td>\n      <td>Juicy Couture I Love Juicy Couture, 1.7 fl. Oz...</td>\n      <td>['The I AM JUICY COUTURE girl is once again ta...</td>\n      <td>$76.00</td>\n    </tr>\n    <tr>\n      <th>562033</th>\n      <td>B01HJ2UY1G</td>\n      <td>AJEDVHTLS9P3V</td>\n      <td>5.0</td>\n      <td>1484352000</td>\n      <td>2017-01-14</td>\n      <td>NaN</td>\n      <td>NaN</td>\n      <td>Juicy Couture I Love Juicy Couture, 3.4 fl. Oz...</td>\n      <td>['I Love Juicy Couture Eau De Parfum Spray 3.4...</td>\n      <td>$96.00</td>\n    </tr>\n  </tbody>\n</table>\n<p>535978 rows × 10 columns</p>\n</div>"
     },
     "execution_count": 541,
     "metadata": {},
     "output_type": "execute_result"
    }
   ],
   "source": [
    "full_merged_df"
   ],
   "metadata": {
    "collapsed": false,
    "pycharm": {
     "name": "#%%\n"
    }
   }
  },
  {
   "cell_type": "code",
   "execution_count": null,
   "outputs": [],
   "source": [],
   "metadata": {
    "collapsed": false,
    "pycharm": {
     "name": "#%%\n"
    }
   }
  },
  {
   "cell_type": "markdown",
   "source": [
    "# EDA"
   ],
   "metadata": {
    "collapsed": false,
    "pycharm": {
     "name": "#%% md\n"
    }
   }
  },
  {
   "cell_type": "code",
   "execution_count": 268,
   "outputs": [
    {
     "name": "stdout",
     "output_type": "stream",
     "text": [
      "<class 'pandas.core.frame.DataFrame'>\n",
      "Int64Index: 534257 entries, 0 to 560100\n",
      "Data columns (total 10 columns):\n",
      " #   Column       Non-Null Count   Dtype         \n",
      "---  ------       --------------   -----         \n",
      " 0   item         534257 non-null  object        \n",
      " 1   user         534257 non-null  object        \n",
      " 2   rating       534257 non-null  float64       \n",
      " 3   timestamp    534257 non-null  int64         \n",
      " 4   date_time    534257 non-null  datetime64[ns]\n",
      " 5   reviewText   33248 non-null   object        \n",
      " 6   summary      33239 non-null   object        \n",
      " 7   title        534072 non-null  object        \n",
      " 8   description  534072 non-null  object        \n",
      " 9   price        430627 non-null  object        \n",
      "dtypes: datetime64[ns](1), float64(1), int64(1), object(7)\n",
      "memory usage: 44.8+ MB\n"
     ]
    }
   ],
   "source": [
    "full_merged_df.info()"
   ],
   "metadata": {
    "collapsed": false,
    "pycharm": {
     "name": "#%%\n"
    }
   }
  },
  {
   "cell_type": "code",
   "execution_count": 269,
   "outputs": [
    {
     "data": {
      "text/plain": "item\nB00004U9V2    587\nB0000531EN      3\nB0000532JH      8\nB00005A77F     18\nB00005NDTD     80\n             ... \nB01HIQEOLO     11\nB01HIQHQU0     12\nB01HIQIEYC     24\nB01HJ2UY0W      1\nB01HJ2UY1G      1\nName: user, Length: 12095, dtype: int64"
     },
     "execution_count": 269,
     "metadata": {},
     "output_type": "execute_result"
    }
   ],
   "source": [
    "# Вывод списка товаров и количество покупок\n",
    "full_merged_df.groupby('item')['user'].count()"
   ],
   "metadata": {
    "collapsed": false,
    "pycharm": {
     "name": "#%%\n"
    }
   }
  },
  {
   "cell_type": "code",
   "execution_count": 214,
   "outputs": [
    {
     "data": {
      "text/plain": "<AxesSubplot: >"
     },
     "execution_count": 214,
     "metadata": {},
     "output_type": "execute_result"
    },
    {
     "data": {
      "text/plain": "<Figure size 640x480 with 1 Axes>",
      "image/png": "[encoded data removed]"
     },
     "metadata": {},
     "output_type": "display_data"
    }
   ],
   "source": [
    "full_merged_df['item'].hist()"
   ],
   "metadata": {
    "collapsed": false,
    "pycharm": {
     "name": "#%%\n"
    }
   }
  },
  {
   "cell_type": "code",
   "execution_count": 540,
   "outputs": [
    {
     "data": {
      "text/plain": "<BarContainer object of 12102 artists>"
     },
     "execution_count": 540,
     "metadata": {},
     "output_type": "execute_result"
    },
    {
     "data": {
      "text/plain": "<Figure size 640x480 with 1 Axes>",
      "image/png": "[encoded data removed]"
     },
     "metadata": {},
     "output_type": "display_data"
    }
   ],
   "source": [
    "plt.bar(full_merged_df['item'].value_counts().index.tolist(), full_merged_df['item'].value_counts())"
   ],
   "metadata": {
    "collapsed": false,
    "pycharm": {
     "name": "#%%\n"
    }
   }
  },
  {
   "cell_type": "code",
   "execution_count": 228,
   "outputs": [
    {
     "data": {
      "text/plain": "user\nA0002708WFPIPQT73GK8    1\nA0026756LXIAIU5P6JUI    1\nA0036810AKGSUKHOLV23    1\nA004163085WKABQBPDOX    1\nA00603384WJS45MGZ9ZV    1\n                       ..\nAZZYUA6JI1MO0           2\nAZZYW4YOE1B6E           3\nAZZZ27Q95ZU80           1\nAZZZ3LGTCGUZF           1\nAZZZYAYJQSDOJ           1\nName: item, Length: 338963, dtype: int64"
     },
     "execution_count": 228,
     "metadata": {},
     "output_type": "execute_result"
    }
   ],
   "source": [
    "# Вывод списка покупателей и количество покупок\n",
    "full_merged_df.groupby('user')['item'].count()"
   ],
   "metadata": {
    "collapsed": false,
    "pycharm": {
     "name": "#%%\n"
    }
   }
  },
  {
   "cell_type": "code",
   "execution_count": 216,
   "outputs": [
    {
     "data": {
      "text/plain": "<AxesSubplot: >"
     },
     "execution_count": 216,
     "metadata": {},
     "output_type": "execute_result"
    },
    {
     "data": {
      "text/plain": "<Figure size 3600x800 with 1 Axes>",
      "image/png": "[encoded data removed]"
     },
     "metadata": {},
     "output_type": "display_data"
    }
   ],
   "source": [
    "full_merged_df['user'].hist( figsize=(36,8)) # особо ничего не показал"
   ],
   "metadata": {
    "collapsed": false,
    "pycharm": {
     "name": "#%%\n"
    }
   }
  },
  {
   "cell_type": "code",
   "execution_count": 217,
   "outputs": [
    {
     "data": {
      "text/plain": "5.0    291397\n4.0     51873\n1.0     39559\n3.0     31761\n2.0     22389\nName: rating, dtype: int64"
     },
     "execution_count": 217,
     "metadata": {},
     "output_type": "execute_result"
    }
   ],
   "source": [
    "# посмотрим какие оценки ставили пользователи в каком количестве\n",
    "full_merged_df.rating.value_counts()"
   ],
   "metadata": {
    "collapsed": false,
    "pycharm": {
     "name": "#%%\n"
    }
   }
  },
  {
   "cell_type": "code",
   "execution_count": 270,
   "outputs": [
    {
     "data": {
      "text/plain": "<BarContainer object of 5 artists>"
     },
     "execution_count": 270,
     "metadata": {},
     "output_type": "execute_result"
    },
    {
     "data": {
      "text/plain": "<Figure size 640x480 with 1 Axes>",
      "image/png": "[encoded data removed]"
     },
     "metadata": {},
     "output_type": "display_data"
    }
   ],
   "source": [
    "plt.bar(full_merged_df['rating'].value_counts().index.tolist(), full_merged_df['rating'].value_counts())"
   ],
   "metadata": {
    "collapsed": false,
    "pycharm": {
     "name": "#%%\n"
    }
   }
  },
  {
   "cell_type": "code",
   "execution_count": 271,
   "outputs": [],
   "source": [
    "user_purchase_counts = full_merged_df.groupby('user')['item'].count()"
   ],
   "metadata": {
    "collapsed": false,
    "pycharm": {
     "name": "#%%\n"
    }
   }
  },
  {
   "cell_type": "code",
   "execution_count": 272,
   "outputs": [
    {
     "data": {
      "text/plain": "user\nA0002708WFPIPQT73GK8    1\nA0010876CNE3ILIM9HV0    1\nA0026756LXIAIU5P6JUI    1\nA0036810AKGSUKHOLV23    1\nA004163085WKABQBPDOX    1\n                       ..\nAZZYUA6JI1MO0           2\nAZZYW4YOE1B6E           3\nAZZZ27Q95ZU80           1\nAZZZ3LGTCGUZF           1\nAZZZYAYJQSDOJ           1\nName: item, Length: 409698, dtype: int64"
     },
     "execution_count": 272,
     "metadata": {},
     "output_type": "execute_result"
    }
   ],
   "source": [
    "user_purchase_counts"
   ],
   "metadata": {
    "collapsed": false,
    "pycharm": {
     "name": "#%%\n"
    }
   }
  },
  {
   "cell_type": "code",
   "execution_count": 498,
   "outputs": [],
   "source": [
    "users_with_more_than_10_purchases = user_purchase_counts[user_purchase_counts >= 5].index"
   ],
   "metadata": {
    "collapsed": false,
    "pycharm": {
     "name": "#%%\n"
    }
   }
  },
  {
   "cell_type": "code",
   "execution_count": 499,
   "outputs": [
    {
     "data": {
      "text/plain": "Index(['A0067293ETUPO6WG7DKU', 'A0488385844WNV2OWO9X', 'A0505999GY3IIQK03WD1',\n       'A0955928C2RRWOWZN7UC', 'A0976794S8VOYNT78YEM', 'A1004703RC79J9',\n       'A100WO06OQR8BQ', 'A100ZQDV7L8PVV', 'A102300ZYSDHRR', 'A102866V814SOJ',\n       ...\n       'AZQKNX6F8S84Q', 'AZS23E3IKSF9D', 'AZSYHIK3A3KWE', 'AZUM88P0Q6626',\n       'AZWXG6KBXXC2N', 'AZY31SPDXGJQ', 'AZYAFW3CRARM6', 'AZYJE40XW6MFG',\n       'AZZ5ASC403N74', 'AZZGGWZV5VR74'],\n      dtype='object', name='user', length=4952)"
     },
     "execution_count": 499,
     "metadata": {},
     "output_type": "execute_result"
    }
   ],
   "source": [
    "users_with_more_than_10_purchases"
   ],
   "metadata": {
    "collapsed": false,
    "pycharm": {
     "name": "#%%\n"
    }
   }
  },
  {
   "cell_type": "code",
   "execution_count": 500,
   "outputs": [],
   "source": [
    "df_filtered = full_merged_df[full_merged_df['user'].isin(users_with_more_than_10_purchases)]"
   ],
   "metadata": {
    "collapsed": false,
    "pycharm": {
     "name": "#%%\n"
    }
   }
  },
  {
   "cell_type": "code",
   "execution_count": 501,
   "outputs": [],
   "source": [
    "df_filtered = df_filtered.drop_duplicates(['item', 'user'])"
   ],
   "metadata": {
    "collapsed": false,
    "pycharm": {
     "name": "#%%\n"
    }
   }
  },
  {
   "cell_type": "code",
   "execution_count": 502,
   "outputs": [
    {
     "data": {
      "text/plain": "              item            user  rating   timestamp  date_time  \\\n134     B00004U9V2  A2HOI48JK8838M     5.0  1515110400 2018-01-05   \n252     B00004U9V2    AZY31SPDXGJQ     5.0  1496534400 2017-06-04   \n302     B00004U9V2  A1YIPEY7HX73S7     5.0  1491350400 2017-04-05   \n314     B00004U9V2  A2QCGHIJ2TCLVP     5.0  1490572800 2017-03-27   \n334     B00004U9V2  A2R4UNHFJBA6PY     5.0  1489968000 2017-03-20   \n...            ...             ...     ...         ...        ...   \n561998  B01HIIO7Q4   AY8WT4WMDDUX0     3.0  1485907200 2017-02-01   \n562005  B01HIQHQU0  A3SMY3BN9PMDK6     5.0  1491004800 2017-04-01   \n562015  B01HIQIEYC   AKP89K0R96VWB     5.0  1500249600 2017-07-17   \n562017  B01HIQCSBC  A3IRO9Y2W7DGXU     5.0  1492387200 2017-04-17   \n562024  B01HIQEOLO   AGC1Z5C1NQ64A     5.0  1512000000 2017-11-30   \n\n                                               reviewText  \\\n134     This handcream has a beautiful fragrance. It d...   \n252                                                   NaN   \n302     wonderful hand lotion, for seriously dry skin,...   \n314     Best hand cream around.  Silky, thick, soaks i...   \n334                                              Thanks!!   \n...                                                   ...   \n561998                                                NaN   \n562005                                                NaN   \n562015                                                NaN   \n562017                                                NaN   \n562024                                                NaN   \n\n                       summary  \\\n134        Beautiful Fragrance   \n252                        NaN   \n302      wonderful hand lotion   \n314     Best hand cream around   \n334                 Five Stars   \n...                        ...   \n561998                     NaN   \n562005                     NaN   \n562015                     NaN   \n562017                     NaN   \n562024                     NaN   \n\n                                                    title  \\\n134     Crabtree &amp; Evelyn - Gardener's Ultra-Moist...   \n252     Crabtree &amp; Evelyn - Gardener's Ultra-Moist...   \n302     Crabtree &amp; Evelyn - Gardener's Ultra-Moist...   \n314     Crabtree &amp; Evelyn - Gardener's Ultra-Moist...   \n334     Crabtree &amp; Evelyn - Gardener's Ultra-Moist...   \n...                                                   ...   \n561998  Klorane Conditioner with Pomegranate - Color-T...   \n562005               CND Shellac power polish denim patch   \n562015            CND Shellac Power Polish, Patina Buckle   \n562017                            CND Shellac, Brick Knit   \n562024                       CND Shellac, Leather Satchel   \n\n                                              description   price  \n134     ['After a long day of handling thorny situatio...  $30.00  \n252     ['After a long day of handling thorny situatio...  $30.00  \n302     ['After a long day of handling thorny situatio...  $30.00  \n314     ['After a long day of handling thorny situatio...  $30.00  \n334     ['After a long day of handling thorny situatio...  $30.00  \n...                                                   ...     ...  \n561998  ['With a color-enhancing complex, this conditi...  $20.00  \n562005  ['CND Shellac was designed to be used as a sys...  $15.95  \n562015  ['', 'CND Craft Culture Collection: Patina Buc...  $15.95  \n562017  ['CND Shellac was designed to be used as a sys...     NaN  \n562024  ['CND Shellac was designed to be used as a sys...  $15.95  \n\n[38206 rows x 10 columns]",
      "text/html": "<div>\n<style scoped>\n    .dataframe tbody tr th:only-of-type {\n        vertical-align: middle;\n    }\n\n    .dataframe tbody tr th {\n        vertical-align: top;\n    }\n\n    .dataframe thead th {\n        text-align: right;\n    }\n</style>\n<table border=\"1\" class=\"dataframe\">\n  <thead>\n    <tr style=\"text-align: right;\">\n      <th></th>\n      <th>item</th>\n      <th>user</th>\n      <th>rating</th>\n      <th>timestamp</th>\n      <th>date_time</th>\n      <th>reviewText</th>\n      <th>summary</th>\n      <th>title</th>\n      <th>description</th>\n      <th>price</th>\n    </tr>\n  </thead>\n  <tbody>\n    <tr>\n      <th>134</th>\n      <td>B00004U9V2</td>\n      <td>A2HOI48JK8838M</td>\n      <td>5.0</td>\n      <td>1515110400</td>\n      <td>2018-01-05</td>\n      <td>This handcream has a beautiful fragrance. It d...</td>\n      <td>Beautiful Fragrance</td>\n      <td>Crabtree &amp;amp; Evelyn - Gardener's Ultra-Moist...</td>\n      <td>['After a long day of handling thorny situatio...</td>\n      <td>$30.00</td>\n    </tr>\n    <tr>\n      <th>252</th>\n      <td>B00004U9V2</td>\n      <td>AZY31SPDXGJQ</td>\n      <td>5.0</td>\n      <td>1496534400</td>\n      <td>2017-06-04</td>\n      <td>NaN</td>\n      <td>NaN</td>\n      <td>Crabtree &amp;amp; Evelyn - Gardener's Ultra-Moist...</td>\n      <td>['After a long day of handling thorny situatio...</td>\n      <td>$30.00</td>\n    </tr>\n    <tr>\n      <th>302</th>\n      <td>B00004U9V2</td>\n      <td>A1YIPEY7HX73S7</td>\n      <td>5.0</td>\n      <td>1491350400</td>\n      <td>2017-04-05</td>\n      <td>wonderful hand lotion, for seriously dry skin,...</td>\n      <td>wonderful hand lotion</td>\n      <td>Crabtree &amp;amp; Evelyn - Gardener's Ultra-Moist...</td>\n      <td>['After a long day of handling thorny situatio...</td>\n      <td>$30.00</td>\n    </tr>\n    <tr>\n      <th>314</th>\n      <td>B00004U9V2</td>\n      <td>A2QCGHIJ2TCLVP</td>\n      <td>5.0</td>\n      <td>1490572800</td>\n      <td>2017-03-27</td>\n      <td>Best hand cream around.  Silky, thick, soaks i...</td>\n      <td>Best hand cream around</td>\n      <td>Crabtree &amp;amp; Evelyn - Gardener's Ultra-Moist...</td>\n      <td>['After a long day of handling thorny situatio...</td>\n      <td>$30.00</td>\n    </tr>\n    <tr>\n      <th>334</th>\n      <td>B00004U9V2</td>\n      <td>A2R4UNHFJBA6PY</td>\n      <td>5.0</td>\n      <td>1489968000</td>\n      <td>2017-03-20</td>\n      <td>Thanks!!</td>\n      <td>Five Stars</td>\n      <td>Crabtree &amp;amp; Evelyn - Gardener's Ultra-Moist...</td>\n      <td>['After a long day of handling thorny situatio...</td>\n      <td>$30.00</td>\n    </tr>\n    <tr>\n      <th>...</th>\n      <td>...</td>\n      <td>...</td>\n      <td>...</td>\n      <td>...</td>\n      <td>...</td>\n      <td>...</td>\n      <td>...</td>\n      <td>...</td>\n      <td>...</td>\n      <td>...</td>\n    </tr>\n    <tr>\n      <th>561998</th>\n      <td>B01HIIO7Q4</td>\n      <td>AY8WT4WMDDUX0</td>\n      <td>3.0</td>\n      <td>1485907200</td>\n      <td>2017-02-01</td>\n      <td>NaN</td>\n      <td>NaN</td>\n      <td>Klorane Conditioner with Pomegranate - Color-T...</td>\n      <td>['With a color-enhancing complex, this conditi...</td>\n      <td>$20.00</td>\n    </tr>\n    <tr>\n      <th>562005</th>\n      <td>B01HIQHQU0</td>\n      <td>A3SMY3BN9PMDK6</td>\n      <td>5.0</td>\n      <td>1491004800</td>\n      <td>2017-04-01</td>\n      <td>NaN</td>\n      <td>NaN</td>\n      <td>CND Shellac power polish denim patch</td>\n      <td>['CND Shellac was designed to be used as a sys...</td>\n      <td>$15.95</td>\n    </tr>\n    <tr>\n      <th>562015</th>\n      <td>B01HIQIEYC</td>\n      <td>AKP89K0R96VWB</td>\n      <td>5.0</td>\n      <td>1500249600</td>\n      <td>2017-07-17</td>\n      <td>NaN</td>\n      <td>NaN</td>\n      <td>CND Shellac Power Polish, Patina Buckle</td>\n      <td>['', 'CND Craft Culture Collection: Patina Buc...</td>\n      <td>$15.95</td>\n    </tr>\n    <tr>\n      <th>562017</th>\n      <td>B01HIQCSBC</td>\n      <td>A3IRO9Y2W7DGXU</td>\n      <td>5.0</td>\n      <td>1492387200</td>\n      <td>2017-04-17</td>\n      <td>NaN</td>\n      <td>NaN</td>\n      <td>CND Shellac, Brick Knit</td>\n      <td>['CND Shellac was designed to be used as a sys...</td>\n      <td>NaN</td>\n    </tr>\n    <tr>\n      <th>562024</th>\n      <td>B01HIQEOLO</td>\n      <td>AGC1Z5C1NQ64A</td>\n      <td>5.0</td>\n      <td>1512000000</td>\n      <td>2017-11-30</td>\n      <td>NaN</td>\n      <td>NaN</td>\n      <td>CND Shellac, Leather Satchel</td>\n      <td>['CND Shellac was designed to be used as a sys...</td>\n      <td>$15.95</td>\n    </tr>\n  </tbody>\n</table>\n<p>38206 rows × 10 columns</p>\n</div>"
     },
     "execution_count": 502,
     "metadata": {},
     "output_type": "execute_result"
    }
   ],
   "source": [
    "df_filtered"
   ],
   "metadata": {
    "collapsed": false,
    "pycharm": {
     "name": "#%%\n"
    }
   }
  },
  {
   "cell_type": "code",
   "execution_count": 542,
   "outputs": [],
   "source": [
    "df_filtered.to_csv('df_filtered.csv', index=False) # save dataset"
   ],
   "metadata": {
    "collapsed": false,
    "pycharm": {
     "name": "#%%\n"
    }
   }
  },
  {
   "cell_type": "code",
   "metadata": {
    "id": "CMwzU4-_FGmF",
    "pycharm": {
     "name": "#%%\n"
    }
   },
   "source": [
    "rmse = lambda y_true, y_pred: np.sqrt(mean_squared_error(y_true, y_pred))\n",
    "\n",
    "def train_test_split(X, ratio=0.2, user_col='userId', item_col='movieId',\n",
    "                     rating_col='rating', time_col='timestamp'):\n",
    "    '''\n",
    "    :param X: данные\n",
    "    :param ratio: доля данных, которые мы откладываем в тест\n",
    "    :param user_col: название колонок, содержащие информацию о юзерах\\айтемах и т.д.\n",
    "    :param item_col:\n",
    "    :param rating_col:\n",
    "    :param time_col:\n",
    "    :return:\n",
    "    '''\n",
    "    # сортируем оценки по времени\n",
    "    X.sort_values(by=[time_col], inplace=True)\n",
    "    # список всех юзеров\n",
    "    userIds = X[user_col].unique()\n",
    "\n",
    "    X_train_data = []\n",
    "    X_test_data = []\n",
    "    y_train = []\n",
    "    y_test = []\n",
    "\n",
    "    for userId in tqdm_notebook(userIds):\n",
    "        curUser = X[X[user_col] == userId]\n",
    "        # определяем позицию, по которой делим выборку и размещаем данные по массивам\n",
    "        idx = int(curUser.shape[0] * (1 - ratio)) # смотрим, сколько для каждого юзера нужно отложить фильмов в тест\n",
    "        X_train_data.append(curUser[[user_col, item_col]].iloc[:idx, :].values)\n",
    "        X_test_data.append(curUser[[user_col, item_col]].iloc[idx:, :].values)\n",
    "        y_train.append(curUser[rating_col].values[:idx])\n",
    "        y_test.append(curUser[rating_col].values[idx:])\n",
    "    # cтекуем данные по каждому пользователю в общие массивы\n",
    "    X_train = pd.DataFrame(np.vstack(X_train_data), columns=[user_col, item_col])\n",
    "    X_test = pd.DataFrame(np.vstack(X_test_data), columns=[user_col, item_col])\n",
    "    y_train = np.hstack(y_train)\n",
    "    y_test = np.hstack(y_test)\n",
    "    return X_train, X_test, y_train, y_test"
   ],
   "execution_count": 491,
   "outputs": []
  },
  {
   "cell_type": "code",
   "metadata": {
    "colab": {
     "base_uri": "https://localhost:8080/",
     "height": 49,
     "referenced_widgets": [
      "cea04bd30b0641558b2bf8b4f72bd35f",
      "e4b7d885e0144df388c43ac494b4c338",
      "6710ff0901004ea1881046389a96526b",
      "2efd09ff57a64c7b9e02b1106b697f3b",
      "8c27211044dc44d39477928ff6563b1e",
      "28487ef4b8eb4cef8c61c393a1fa4314",
      "d676ae0a629147ec83f70266d31ed92a",
      "0301a7a99d0a4312a3a183963d55e18a",
      "19ffff07142847fc84898b715a4f9de1",
      "1a71bd1144f04c8cbf0f9a346adb805b",
      "df42c2be65d04316b69d799e496a6c2a"
     ]
    },
    "id": "fG7aTvsuFGmF",
    "outputId": "5edbe26f-707d-47e6-c4c5-41026be8458f",
    "pycharm": {
     "name": "#%%\n"
    }
   },
   "source": [
    "X_train, X_test, y_train, y_test = train_test_split(df_filtered, user_col='user', item_col='item') #merged_df[merged_df['summary'].notna()]"
   ],
   "execution_count": 503,
   "outputs": [
    {
     "data": {
      "text/plain": "  0%|          | 0/4952 [00:00<?, ?it/s]",
      "application/vnd.jupyter.widget-view+json": {
       "version_major": 2,
       "version_minor": 0,
       "model_id": "42ff224c0fb14728a08b00267e3535a1"
      }
     },
     "metadata": {},
     "output_type": "display_data"
    }
   ]
  },
  {
   "cell_type": "code",
   "metadata": {
    "colab": {
     "base_uri": "https://localhost:8080/"
    },
    "id": "jg1Vf3sEFGmG",
    "outputId": "beb1da8f-4683-4665-f360-39c4e0ebf63b",
    "pycharm": {
     "name": "#%%\n"
    }
   },
   "source": [
    "X_train.shape, len(y_train), X_test.shape, len(y_test)"
   ],
   "execution_count": 493,
   "outputs": [
    {
     "data": {
      "text/plain": "((19354, 2), 19354, (6088, 2), 6088)"
     },
     "execution_count": 493,
     "metadata": {},
     "output_type": "execute_result"
    }
   ]
  },
  {
   "cell_type": "code",
   "execution_count": 202,
   "outputs": [],
   "source": [],
   "metadata": {
    "collapsed": false,
    "pycharm": {
     "name": "#%%\n"
    }
   }
  },
  {
   "cell_type": "markdown",
   "metadata": {
    "id": "4OvP_c1lFGmG",
    "pycharm": {
     "name": "#%% md\n"
    }
   },
   "source": [
    "# Collaborative filtering"
   ]
  },
  {
   "cell_type": "code",
   "execution_count": null,
   "outputs": [],
   "source": [],
   "metadata": {
    "collapsed": false,
    "pycharm": {
     "name": "#%%\n"
    }
   }
  },
  {
   "cell_type": "markdown",
   "metadata": {
    "id": "v0v7LWoIFGmI",
    "pycharm": {
     "name": "#%% md\n"
    }
   },
   "source": [
    "# Item-based model\n",
    "**Item-based model** очень похожа на предыдущую модель по структуре, но теперь мы ищем похожие товары, а не пользователей."
   ]
  },
  {
   "cell_type": "code",
   "metadata": {
    "id": "fLA5fq5CFGmJ",
    "pycharm": {
     "name": "#%%\n"
    }
   },
   "source": [
    "class ItemBased(BaseEstimator):\n",
    "    def fit(self, X, y, user_col='user', item_col='item'):\n",
    "        X = X.copy()\n",
    "        # сохраним текущих пользователей и имеющиеся предметы\n",
    "        self.users = X[user_col].unique()\n",
    "        self.items = X[item_col].unique()\n",
    "        \n",
    "        X['y'] = y\n",
    "        # рассчитаем среднее значение рейтинга для пользователя и предмета\n",
    "        self.mean_y_user = X.groupby(user_col)['y'].mean()\n",
    "        self.mean_y_item = X.groupby(item_col)['y'].mean()\n",
    "        \n",
    "        # вычитаем среднюю оценку предмета\n",
    "        X['y'] -= X[item_col].apply(lambda x: self.mean_y_item[x])\n",
    "        \n",
    "        # создаём векторы для каждого фильма с оценками пользователя\n",
    "        # если пользователь не поставил оценку, то ставим 0\n",
    "        self.item_ratings = pd.pivot_table(X, values='y', index=item_col,\n",
    "                                           columns=user_col, fill_value=0)\n",
    "        \n",
    "        # считаем попарную схожесть между фильмами\n",
    "        self.item_sim = cosine_similarity(self.item_ratings)\n",
    "        \n",
    "        # также сделаем словарь {значение item_col: index в item_ratings}\n",
    "        self.item_pos = dict()\n",
    "        for item in self.items:\n",
    "            self.item_pos[item] = np.argwhere(self.item_ratings.index.values == item)[0][0]\n",
    "        return self\n",
    "    \n",
    "    def predict_rating(self, pr_user, pr_item):\n",
    "        # если в обучающей выборке нет такого предмета\n",
    "        # или пользователя, то вернём 0\n",
    "        if not pr_item in self.items or not pr_user in self.users:\n",
    "            return 0\n",
    "        \n",
    "        # считаем числитель и знаменатель дроби из формулы предсказания\n",
    "        numerator = self.item_sim[self.item_pos[pr_item]].dot(\n",
    "                        self.item_ratings.loc[:, pr_user])   \n",
    "        # вычитаем 1, так как схожесть предмета с самим собой равна 1,\n",
    "        # но модель не должна это учитывать\n",
    "        denominator = np.abs(self.item_sim[self.item_pos[pr_item]]).sum() - 1\n",
    "        \n",
    "        return self.mean_y_item[pr_item] + numerator / denominator\n",
    "    \n",
    "    def predict(self, X, user_col='user', item_col='item'):\n",
    "        y = X[[user_col, item_col]].apply(lambda row: self.predict_rating(row[0], row[1]), axis=1)\n",
    "        return y"
   ],
   "execution_count": 285,
   "outputs": []
  },
  {
   "cell_type": "code",
   "metadata": {
    "scrolled": true,
    "colab": {
     "base_uri": "https://localhost:8080/"
    },
    "id": "kN4liLmZFGmJ",
    "outputId": "35a3ff2b-feeb-4b64-eb14-1cf54f7b9c29",
    "pycharm": {
     "name": "#%%\n"
    }
   },
   "source": [
    "%%time\n",
    "print('start fitting...')\n",
    "ib = ItemBased().fit(X_train, y_train)"
   ],
   "execution_count": 516,
   "outputs": [
    {
     "name": "stdout",
     "output_type": "stream",
     "text": [
      "start fitting...\n",
      "Wall time: 3.19 s\n"
     ]
    }
   ]
  },
  {
   "cell_type": "code",
   "execution_count": 517,
   "outputs": [
    {
     "name": "stdout",
     "output_type": "stream",
     "text": [
      "start predicting...\n",
      "rmse = 1.7497295853047443\n"
     ]
    }
   ],
   "source": [
    "\n",
    "print('start predicting...')\n",
    "print('rmse = {}'.format(rmse(y_test, ib.predict(X_test))))"
   ],
   "metadata": {
    "collapsed": false,
    "pycharm": {
     "name": "#%%\n"
    }
   }
  },
  {
   "cell_type": "markdown",
   "source": [
    "тут либо меньше фильтровать датасет и получить очень разряженную матрицу с большими ошибками, либо применять отсев по количеству покупок на одного пользователя >= 5 и выше, но тогда не работает UserBased подход (или NaN вылезают, или ошибка кабсурдно высокая получается)"
   ],
   "metadata": {
    "collapsed": false,
    "pycharm": {
     "name": "#%% md\n"
    }
   }
  }
 ]
}