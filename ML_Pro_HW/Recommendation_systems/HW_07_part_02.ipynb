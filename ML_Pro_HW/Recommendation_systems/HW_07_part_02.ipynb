{
 "nbformat": 4,
 "nbformat_minor": 0,
 "metadata": {
  "colab": {
   "provenance": []
  },
  "kernelspec": {
   "name": "python3",
   "display_name": "Python 3"
  },
  "language_info": {
   "name": "python"
  }
 },
 "cells": [
  {
   "cell_type": "code",
   "source": [
    "!pip install surprise"
   ],
   "metadata": {
    "colab": {
     "base_uri": "https://localhost:8080/"
    },
    "id": "BOzmOciR5Hop",
    "outputId": "fff30f53-4d24-4e6e-f686-6ed54878dde7",
    "pycharm": {
     "name": "#%%\n"
    }
   },
   "execution_count": 2,
   "outputs": [
    {
     "output_type": "stream",
     "name": "stdout",
     "text": [
      "Looking in indexes: https://pypi.org/simple, https://us-python.pkg.dev/colab-wheels/public/simple/\n",
      "Collecting surprise\n",
      "  Downloading surprise-0.1-py2.py3-none-any.whl (1.8 kB)\n",
      "Collecting scikit-surprise\n",
      "  Downloading scikit-surprise-1.1.3.tar.gz (771 kB)\n",
      "\u001B[2K     \u001B[90m━━━━━━━━━━━━━━━━━━━━━━━━━━━━━━━━━━━━━━\u001B[0m \u001B[32m772.0/772.0 KB\u001B[0m \u001B[31m12.0 MB/s\u001B[0m eta \u001B[36m0:00:00\u001B[0m\n",
      "\u001B[?25h  Preparing metadata (setup.py) ... \u001B[?25l\u001B[?25hdone\n",
      "Requirement already satisfied: joblib>=1.0.0 in /usr/local/lib/python3.8/dist-packages (from scikit-surprise->surprise) (1.2.0)\n",
      "Requirement already satisfied: numpy>=1.17.3 in /usr/local/lib/python3.8/dist-packages (from scikit-surprise->surprise) (1.22.4)\n",
      "Requirement already satisfied: scipy>=1.3.2 in /usr/local/lib/python3.8/dist-packages (from scikit-surprise->surprise) (1.7.3)\n",
      "Building wheels for collected packages: scikit-surprise\n",
      "  Building wheel for scikit-surprise (setup.py) ... \u001B[?25l\u001B[?25hdone\n",
      "  Created wheel for scikit-surprise: filename=scikit_surprise-1.1.3-cp38-cp38-linux_x86_64.whl size=3366551 sha256=c48cc9096e6b310a4eadd591cd4a92cb7d89b0d619ae627b45e4ae0db4287f93\n",
      "  Stored in directory: /root/.cache/pip/wheels/af/db/86/2c18183a80ba05da35bf0fb7417aac5cddbd93bcb1b92fd3ea\n",
      "Successfully built scikit-surprise\n",
      "Installing collected packages: scikit-surprise, surprise\n",
      "Successfully installed scikit-surprise-1.1.3 surprise-0.1\n"
     ]
    }
   ]
  },
  {
   "cell_type": "code",
   "source": [
    "import pandas as pd\n",
    "from surprise import Dataset\n",
    "from surprise import Reader\n",
    "from surprise import SVD\n",
    "from surprise.model_selection import train_test_split\n",
    "from surprise import accuracy\n",
    "from surprise.model_selection import GridSearchCV\n",
    "from surprise import KNNBasic\n",
    "from collections import defaultdict\n",
    "from scipy.sparse import csr_matrix\n",
    "from sklearn.preprocessing import LabelEncoder\n",
    "import scipy.sparse as sp\n"
   ],
   "metadata": {
    "id": "BzaTBIrb5EZV",
    "pycharm": {
     "name": "#%%\n"
    }
   },
   "execution_count": 1,
   "outputs": []
  },
  {
   "cell_type": "code",
   "source": [
    "col_names = ['user_id', 'item_id', 'rating', 'title']"
   ],
   "metadata": {
    "id": "nSitVZZd5Hr7",
    "pycharm": {
     "name": "#%%\n"
    }
   },
   "execution_count": 3,
   "outputs": []
  },
  {
   "cell_type": "code",
   "source": [
    "Luxury_Beauty_dataset = pd.read_csv('Luxury_Beauty_dataset.csv')"
   ],
   "metadata": {
    "id": "NYdBGu8D6Ni8",
    "pycharm": {
     "name": "#%%\n"
    }
   },
   "execution_count": 2,
   "outputs": []
  },
  {
   "cell_type": "code",
   "source": [
    "Luxury_Beauty_dataset.head()"
   ],
   "metadata": {
    "id": "8KQhBJi76W1J",
    "colab": {
     "base_uri": "https://localhost:8080/",
     "height": 206
    },
    "outputId": "2136407c-09b4-43d4-f190-0275d473a4c8",
    "pycharm": {
     "name": "#%%\n"
    }
   },
   "execution_count": 3,
   "outputs": [
    {
     "output_type": "execute_result",
     "data": {
      "text/plain": [
       "          user_id     item_id  rating  \\\n",
       "0  A3HO2SQDCZIE9S  B00004U9V2     5.0   \n",
       "1  A3HO2SQDCZIE9S  B00004U9V2     5.0   \n",
       "2  A2EM03F99X3RJZ  B00004U9V2     5.0   \n",
       "3  A2EM03F99X3RJZ  B00004U9V2     5.0   \n",
       "4   A3Z74TDRGD0HU  B00004U9V2     5.0   \n",
       "\n",
       "                                               title  \n",
       "0  Crabtree &amp; Evelyn - Gardener's Ultra-Moist...  \n",
       "1  Crabtree &amp; Evelyn - Gardener's Ultra-Moist...  \n",
       "2  Crabtree &amp; Evelyn - Gardener's Ultra-Moist...  \n",
       "3  Crabtree &amp; Evelyn - Gardener's Ultra-Moist...  \n",
       "4  Crabtree &amp; Evelyn - Gardener's Ultra-Moist...  "
      ],
      "text/html": [
       "\n",
       "  <div id=\"df-15b82f9d-85bc-4ee2-926e-9b7c76a2e4e9\">\n",
       "    <div class=\"colab-df-container\">\n",
       "      <div>\n",
       "<style scoped>\n",
       "    .dataframe tbody tr th:only-of-type {\n",
       "        vertical-align: middle;\n",
       "    }\n",
       "\n",
       "    .dataframe tbody tr th {\n",
       "        vertical-align: top;\n",
       "    }\n",
       "\n",
       "    .dataframe thead th {\n",
       "        text-align: right;\n",
       "    }\n",
       "</style>\n",
       "<table border=\"1\" class=\"dataframe\">\n",
       "  <thead>\n",
       "    <tr style=\"text-align: right;\">\n",
       "      <th></th>\n",
       "      <th>user_id</th>\n",
       "      <th>item_id</th>\n",
       "      <th>rating</th>\n",
       "      <th>title</th>\n",
       "    </tr>\n",
       "  </thead>\n",
       "  <tbody>\n",
       "    <tr>\n",
       "      <th>0</th>\n",
       "      <td>A3HO2SQDCZIE9S</td>\n",
       "      <td>B00004U9V2</td>\n",
       "      <td>5.0</td>\n",
       "      <td>Crabtree &amp;amp; Evelyn - Gardener's Ultra-Moist...</td>\n",
       "    </tr>\n",
       "    <tr>\n",
       "      <th>1</th>\n",
       "      <td>A3HO2SQDCZIE9S</td>\n",
       "      <td>B00004U9V2</td>\n",
       "      <td>5.0</td>\n",
       "      <td>Crabtree &amp;amp; Evelyn - Gardener's Ultra-Moist...</td>\n",
       "    </tr>\n",
       "    <tr>\n",
       "      <th>2</th>\n",
       "      <td>A2EM03F99X3RJZ</td>\n",
       "      <td>B00004U9V2</td>\n",
       "      <td>5.0</td>\n",
       "      <td>Crabtree &amp;amp; Evelyn - Gardener's Ultra-Moist...</td>\n",
       "    </tr>\n",
       "    <tr>\n",
       "      <th>3</th>\n",
       "      <td>A2EM03F99X3RJZ</td>\n",
       "      <td>B00004U9V2</td>\n",
       "      <td>5.0</td>\n",
       "      <td>Crabtree &amp;amp; Evelyn - Gardener's Ultra-Moist...</td>\n",
       "    </tr>\n",
       "    <tr>\n",
       "      <th>4</th>\n",
       "      <td>A3Z74TDRGD0HU</td>\n",
       "      <td>B00004U9V2</td>\n",
       "      <td>5.0</td>\n",
       "      <td>Crabtree &amp;amp; Evelyn - Gardener's Ultra-Moist...</td>\n",
       "    </tr>\n",
       "  </tbody>\n",
       "</table>\n",
       "</div>\n",
       "      <button class=\"colab-df-convert\" onclick=\"convertToInteractive('df-15b82f9d-85bc-4ee2-926e-9b7c76a2e4e9')\"\n",
       "              title=\"Convert this dataframe to an interactive table.\"\n",
       "              style=\"display:none;\">\n",
       "        \n",
       "  <svg xmlns=\"http://www.w3.org/2000/svg\" height=\"24px\"viewBox=\"0 0 24 24\"\n",
       "       width=\"24px\">\n",
       "    <path d=\"M0 0h24v24H0V0z\" fill=\"none\"/>\n",
       "    <path d=\"M18.56 5.44l.94 2.06.94-2.06 2.06-.94-2.06-.94-.94-2.06-.94 2.06-2.06.94zm-11 1L8.5 8.5l.94-2.06 2.06-.94-2.06-.94L8.5 2.5l-.94 2.06-2.06.94zm10 10l.94 2.06.94-2.06 2.06-.94-2.06-.94-.94-2.06-.94 2.06-2.06.94z\"/><path d=\"M17.41 7.96l-1.37-1.37c-.4-.4-.92-.59-1.43-.59-.52 0-1.04.2-1.43.59L10.3 9.45l-7.72 7.72c-.78.78-.78 2.05 0 2.83L4 21.41c.39.39.9.59 1.41.59.51 0 1.02-.2 1.41-.59l7.78-7.78 2.81-2.81c.8-.78.8-2.07 0-2.86zM5.41 20L4 18.59l7.72-7.72 1.47 1.35L5.41 20z\"/>\n",
       "  </svg>\n",
       "      </button>\n",
       "      \n",
       "  <style>\n",
       "    .colab-df-container {\n",
       "      display:flex;\n",
       "      flex-wrap:wrap;\n",
       "      gap: 12px;\n",
       "    }\n",
       "\n",
       "    .colab-df-convert {\n",
       "      background-color: #E8F0FE;\n",
       "      border: none;\n",
       "      border-radius: 50%;\n",
       "      cursor: pointer;\n",
       "      display: none;\n",
       "      fill: #1967D2;\n",
       "      height: 32px;\n",
       "      padding: 0 0 0 0;\n",
       "      width: 32px;\n",
       "    }\n",
       "\n",
       "    .colab-df-convert:hover {\n",
       "      background-color: #E2EBFA;\n",
       "      box-shadow: 0px 1px 2px rgba(60, 64, 67, 0.3), 0px 1px 3px 1px rgba(60, 64, 67, 0.15);\n",
       "      fill: #174EA6;\n",
       "    }\n",
       "\n",
       "    [theme=dark] .colab-df-convert {\n",
       "      background-color: #3B4455;\n",
       "      fill: #D2E3FC;\n",
       "    }\n",
       "\n",
       "    [theme=dark] .colab-df-convert:hover {\n",
       "      background-color: #434B5C;\n",
       "      box-shadow: 0px 1px 3px 1px rgba(0, 0, 0, 0.15);\n",
       "      filter: drop-shadow(0px 1px 2px rgba(0, 0, 0, 0.3));\n",
       "      fill: #FFFFFF;\n",
       "    }\n",
       "  </style>\n",
       "\n",
       "      <script>\n",
       "        const buttonEl =\n",
       "          document.querySelector('#df-15b82f9d-85bc-4ee2-926e-9b7c76a2e4e9 button.colab-df-convert');\n",
       "        buttonEl.style.display =\n",
       "          google.colab.kernel.accessAllowed ? 'block' : 'none';\n",
       "\n",
       "        async function convertToInteractive(key) {\n",
       "          const element = document.querySelector('#df-15b82f9d-85bc-4ee2-926e-9b7c76a2e4e9');\n",
       "          const dataTable =\n",
       "            await google.colab.kernel.invokeFunction('convertToInteractive',\n",
       "                                                     [key], {});\n",
       "          if (!dataTable) return;\n",
       "\n",
       "          const docLinkHtml = 'Like what you see? Visit the ' +\n",
       "            '<a target=\"_blank\" href=https://colab.research.google.com/notebooks/data_table.ipynb>data table notebook</a>'\n",
       "            + ' to learn more about interactive tables.';\n",
       "          element.innerHTML = '';\n",
       "          dataTable['output_type'] = 'display_data';\n",
       "          await google.colab.output.renderOutput(dataTable, element);\n",
       "          const docLink = document.createElement('div');\n",
       "          docLink.innerHTML = docLinkHtml;\n",
       "          element.appendChild(docLink);\n",
       "        }\n",
       "      </script>\n",
       "    </div>\n",
       "  </div>\n",
       "  "
      ]
     },
     "metadata": {},
     "execution_count": 3
    }
   ]
  },
  {
   "cell_type": "code",
   "source": [
    "Luxury_Beauty_dataset.shape"
   ],
   "metadata": {
    "colab": {
     "base_uri": "https://localhost:8080/"
    },
    "id": "9BeS6stzdXAD",
    "outputId": "6a451e74-b71f-492d-cba2-7b64ca2b9cb9",
    "pycharm": {
     "name": "#%%\n"
    }
   },
   "execution_count": 4,
   "outputs": [
    {
     "output_type": "execute_result",
     "data": {
      "text/plain": [
       "(401164, 4)"
      ]
     },
     "metadata": {},
     "execution_count": 4
    }
   ]
  },
  {
   "cell_type": "code",
   "source": [
    "user_purchase_counts = Luxury_Beauty_dataset.groupby('user_id')['item_id'].count()"
   ],
   "metadata": {
    "id": "sFccQr4VePBu",
    "pycharm": {
     "name": "#%%\n"
    }
   },
   "execution_count": 5,
   "outputs": []
  },
  {
   "cell_type": "code",
   "source": [
    "users_with_more_than_10_purchases = user_purchase_counts[user_purchase_counts >= 5].index"
   ],
   "metadata": {
    "id": "aglbdVvVePEm",
    "pycharm": {
     "name": "#%%\n"
    }
   },
   "execution_count": 6,
   "outputs": []
  },
  {
   "cell_type": "code",
   "source": [
    "df_filtered = Luxury_Beauty_dataset[Luxury_Beauty_dataset['user_id'].isin(users_with_more_than_10_purchases)]"
   ],
   "metadata": {
    "id": "XKAm5ZMvePHX",
    "pycharm": {
     "name": "#%%\n"
    }
   },
   "execution_count": 7,
   "outputs": []
  },
  {
   "cell_type": "code",
   "source": [
    "df_filtered = df_filtered.drop_duplicates(['item_id', 'user_id'])"
   ],
   "metadata": {
    "id": "GZ76-8k3ePKX",
    "pycharm": {
     "name": "#%%\n"
    }
   },
   "execution_count": 8,
   "outputs": []
  },
  {
   "cell_type": "code",
   "source": [
    "df_filtered.shape"
   ],
   "metadata": {
    "colab": {
     "base_uri": "https://localhost:8080/"
    },
    "id": "tZEt-MJCee9k",
    "outputId": "3304fffb-307c-4704-c117-98fe24b76bbf",
    "pycharm": {
     "name": "#%%\n"
    }
   },
   "execution_count": 9,
   "outputs": [
    {
     "output_type": "execute_result",
     "data": {
      "text/plain": [
       "(21819, 4)"
      ]
     },
     "metadata": {},
     "execution_count": 9
    }
   ]
  },
  {
   "cell_type": "code",
   "source": [
    "df_filtered"
   ],
   "metadata": {
    "colab": {
     "base_uri": "https://localhost:8080/",
     "height": 424
    },
    "id": "5QteABmMefA5",
    "outputId": "154c2a5b-f6c7-4a80-e756-e720e7bf8a0e",
    "pycharm": {
     "name": "#%%\n"
    }
   },
   "execution_count": 10,
   "outputs": [
    {
     "output_type": "execute_result",
     "data": {
      "text/plain": [
       "               user_id     item_id  rating  \\\n",
       "138     A2HOI48JK8838M  B00004U9V2     5.0   \n",
       "320     A2QCGHIJ2TCLVP  B00004U9V2     5.0   \n",
       "358     A1606LA683WZZU  B00004U9V2     5.0   \n",
       "402     A1YY53NQXFKMRN  B00004U9V2     4.0   \n",
       "470     A3R0NQ9E53JHYQ  B00004U9V2     5.0   \n",
       "...                ...         ...     ...   \n",
       "401069  A37NYXQ098PPIQ  B00DW6MV2Y     5.0   \n",
       "401073   ANR73TPVBCQ9K  B00DW6MV2Y     5.0   \n",
       "401099   AOT6PL9L9GQP3  B00DW6MV2Y     5.0   \n",
       "401110  A29XI8QYHVHM7B  B00DW6MV2Y     3.0   \n",
       "401148   AKVJY23S6JFH2  B00DW909OS     4.0   \n",
       "\n",
       "                                                    title  \n",
       "138     Crabtree &amp; Evelyn - Gardener's Ultra-Moist...  \n",
       "320     Crabtree &amp; Evelyn - Gardener's Ultra-Moist...  \n",
       "358     Crabtree &amp; Evelyn - Gardener's Ultra-Moist...  \n",
       "402     Crabtree &amp; Evelyn - Gardener's Ultra-Moist...  \n",
       "470     Crabtree &amp; Evelyn - Gardener's Ultra-Moist...  \n",
       "...                                                   ...  \n",
       "401069                          Eyeko Black Magic Mascara  \n",
       "401073                          Eyeko Black Magic Mascara  \n",
       "401099                          Eyeko Black Magic Mascara  \n",
       "401110                          Eyeko Black Magic Mascara  \n",
       "401148                           SK-II Pitera Essence Set  \n",
       "\n",
       "[21819 rows x 4 columns]"
      ],
      "text/html": [
       "\n",
       "  <div id=\"df-3cc27926-a5d5-484c-8ffa-f77f51dd5e0a\">\n",
       "    <div class=\"colab-df-container\">\n",
       "      <div>\n",
       "<style scoped>\n",
       "    .dataframe tbody tr th:only-of-type {\n",
       "        vertical-align: middle;\n",
       "    }\n",
       "\n",
       "    .dataframe tbody tr th {\n",
       "        vertical-align: top;\n",
       "    }\n",
       "\n",
       "    .dataframe thead th {\n",
       "        text-align: right;\n",
       "    }\n",
       "</style>\n",
       "<table border=\"1\" class=\"dataframe\">\n",
       "  <thead>\n",
       "    <tr style=\"text-align: right;\">\n",
       "      <th></th>\n",
       "      <th>user_id</th>\n",
       "      <th>item_id</th>\n",
       "      <th>rating</th>\n",
       "      <th>title</th>\n",
       "    </tr>\n",
       "  </thead>\n",
       "  <tbody>\n",
       "    <tr>\n",
       "      <th>138</th>\n",
       "      <td>A2HOI48JK8838M</td>\n",
       "      <td>B00004U9V2</td>\n",
       "      <td>5.0</td>\n",
       "      <td>Crabtree &amp;amp; Evelyn - Gardener's Ultra-Moist...</td>\n",
       "    </tr>\n",
       "    <tr>\n",
       "      <th>320</th>\n",
       "      <td>A2QCGHIJ2TCLVP</td>\n",
       "      <td>B00004U9V2</td>\n",
       "      <td>5.0</td>\n",
       "      <td>Crabtree &amp;amp; Evelyn - Gardener's Ultra-Moist...</td>\n",
       "    </tr>\n",
       "    <tr>\n",
       "      <th>358</th>\n",
       "      <td>A1606LA683WZZU</td>\n",
       "      <td>B00004U9V2</td>\n",
       "      <td>5.0</td>\n",
       "      <td>Crabtree &amp;amp; Evelyn - Gardener's Ultra-Moist...</td>\n",
       "    </tr>\n",
       "    <tr>\n",
       "      <th>402</th>\n",
       "      <td>A1YY53NQXFKMRN</td>\n",
       "      <td>B00004U9V2</td>\n",
       "      <td>4.0</td>\n",
       "      <td>Crabtree &amp;amp; Evelyn - Gardener's Ultra-Moist...</td>\n",
       "    </tr>\n",
       "    <tr>\n",
       "      <th>470</th>\n",
       "      <td>A3R0NQ9E53JHYQ</td>\n",
       "      <td>B00004U9V2</td>\n",
       "      <td>5.0</td>\n",
       "      <td>Crabtree &amp;amp; Evelyn - Gardener's Ultra-Moist...</td>\n",
       "    </tr>\n",
       "    <tr>\n",
       "      <th>...</th>\n",
       "      <td>...</td>\n",
       "      <td>...</td>\n",
       "      <td>...</td>\n",
       "      <td>...</td>\n",
       "    </tr>\n",
       "    <tr>\n",
       "      <th>401069</th>\n",
       "      <td>A37NYXQ098PPIQ</td>\n",
       "      <td>B00DW6MV2Y</td>\n",
       "      <td>5.0</td>\n",
       "      <td>Eyeko Black Magic Mascara</td>\n",
       "    </tr>\n",
       "    <tr>\n",
       "      <th>401073</th>\n",
       "      <td>ANR73TPVBCQ9K</td>\n",
       "      <td>B00DW6MV2Y</td>\n",
       "      <td>5.0</td>\n",
       "      <td>Eyeko Black Magic Mascara</td>\n",
       "    </tr>\n",
       "    <tr>\n",
       "      <th>401099</th>\n",
       "      <td>AOT6PL9L9GQP3</td>\n",
       "      <td>B00DW6MV2Y</td>\n",
       "      <td>5.0</td>\n",
       "      <td>Eyeko Black Magic Mascara</td>\n",
       "    </tr>\n",
       "    <tr>\n",
       "      <th>401110</th>\n",
       "      <td>A29XI8QYHVHM7B</td>\n",
       "      <td>B00DW6MV2Y</td>\n",
       "      <td>3.0</td>\n",
       "      <td>Eyeko Black Magic Mascara</td>\n",
       "    </tr>\n",
       "    <tr>\n",
       "      <th>401148</th>\n",
       "      <td>AKVJY23S6JFH2</td>\n",
       "      <td>B00DW909OS</td>\n",
       "      <td>4.0</td>\n",
       "      <td>SK-II Pitera Essence Set</td>\n",
       "    </tr>\n",
       "  </tbody>\n",
       "</table>\n",
       "<p>21819 rows × 4 columns</p>\n",
       "</div>\n",
       "      <button class=\"colab-df-convert\" onclick=\"convertToInteractive('df-3cc27926-a5d5-484c-8ffa-f77f51dd5e0a')\"\n",
       "              title=\"Convert this dataframe to an interactive table.\"\n",
       "              style=\"display:none;\">\n",
       "        \n",
       "  <svg xmlns=\"http://www.w3.org/2000/svg\" height=\"24px\"viewBox=\"0 0 24 24\"\n",
       "       width=\"24px\">\n",
       "    <path d=\"M0 0h24v24H0V0z\" fill=\"none\"/>\n",
       "    <path d=\"M18.56 5.44l.94 2.06.94-2.06 2.06-.94-2.06-.94-.94-2.06-.94 2.06-2.06.94zm-11 1L8.5 8.5l.94-2.06 2.06-.94-2.06-.94L8.5 2.5l-.94 2.06-2.06.94zm10 10l.94 2.06.94-2.06 2.06-.94-2.06-.94-.94-2.06-.94 2.06-2.06.94z\"/><path d=\"M17.41 7.96l-1.37-1.37c-.4-.4-.92-.59-1.43-.59-.52 0-1.04.2-1.43.59L10.3 9.45l-7.72 7.72c-.78.78-.78 2.05 0 2.83L4 21.41c.39.39.9.59 1.41.59.51 0 1.02-.2 1.41-.59l7.78-7.78 2.81-2.81c.8-.78.8-2.07 0-2.86zM5.41 20L4 18.59l7.72-7.72 1.47 1.35L5.41 20z\"/>\n",
       "  </svg>\n",
       "      </button>\n",
       "      \n",
       "  <style>\n",
       "    .colab-df-container {\n",
       "      display:flex;\n",
       "      flex-wrap:wrap;\n",
       "      gap: 12px;\n",
       "    }\n",
       "\n",
       "    .colab-df-convert {\n",
       "      background-color: #E8F0FE;\n",
       "      border: none;\n",
       "      border-radius: 50%;\n",
       "      cursor: pointer;\n",
       "      display: none;\n",
       "      fill: #1967D2;\n",
       "      height: 32px;\n",
       "      padding: 0 0 0 0;\n",
       "      width: 32px;\n",
       "    }\n",
       "\n",
       "    .colab-df-convert:hover {\n",
       "      background-color: #E2EBFA;\n",
       "      box-shadow: 0px 1px 2px rgba(60, 64, 67, 0.3), 0px 1px 3px 1px rgba(60, 64, 67, 0.15);\n",
       "      fill: #174EA6;\n",
       "    }\n",
       "\n",
       "    [theme=dark] .colab-df-convert {\n",
       "      background-color: #3B4455;\n",
       "      fill: #D2E3FC;\n",
       "    }\n",
       "\n",
       "    [theme=dark] .colab-df-convert:hover {\n",
       "      background-color: #434B5C;\n",
       "      box-shadow: 0px 1px 3px 1px rgba(0, 0, 0, 0.15);\n",
       "      filter: drop-shadow(0px 1px 2px rgba(0, 0, 0, 0.3));\n",
       "      fill: #FFFFFF;\n",
       "    }\n",
       "  </style>\n",
       "\n",
       "      <script>\n",
       "        const buttonEl =\n",
       "          document.querySelector('#df-3cc27926-a5d5-484c-8ffa-f77f51dd5e0a button.colab-df-convert');\n",
       "        buttonEl.style.display =\n",
       "          google.colab.kernel.accessAllowed ? 'block' : 'none';\n",
       "\n",
       "        async function convertToInteractive(key) {\n",
       "          const element = document.querySelector('#df-3cc27926-a5d5-484c-8ffa-f77f51dd5e0a');\n",
       "          const dataTable =\n",
       "            await google.colab.kernel.invokeFunction('convertToInteractive',\n",
       "                                                     [key], {});\n",
       "          if (!dataTable) return;\n",
       "\n",
       "          const docLinkHtml = 'Like what you see? Visit the ' +\n",
       "            '<a target=\"_blank\" href=https://colab.research.google.com/notebooks/data_table.ipynb>data table notebook</a>'\n",
       "            + ' to learn more about interactive tables.';\n",
       "          element.innerHTML = '';\n",
       "          dataTable['output_type'] = 'display_data';\n",
       "          await google.colab.output.renderOutput(dataTable, element);\n",
       "          const docLink = document.createElement('div');\n",
       "          docLink.innerHTML = docLinkHtml;\n",
       "          element.appendChild(docLink);\n",
       "        }\n",
       "      </script>\n",
       "    </div>\n",
       "  </div>\n",
       "  "
      ]
     },
     "metadata": {},
     "execution_count": 10
    }
   ]
  },
  {
   "cell_type": "code",
   "source": [
    "# Построение рекомендательной модели с помощью алгоритма SVD из библиотеки Surprise"
   ],
   "metadata": {
    "id": "LX25fOF7efDU",
    "pycharm": {
     "name": "#%%\n"
    }
   },
   "execution_count": null,
   "outputs": []
  },
  {
   "cell_type": "code",
   "source": [
    "# Загрузка данных из Pandas DataFrame\n",
    "data = Luxury_Beauty_dataset.copy()\n",
    "\n",
    "# Определение формата файла\n",
    "reader = Reader(rating_scale=(1, 5))\n",
    "\n",
    "# Создание Surprise Dataset из Pandas DataFrame\n",
    "surprise_data = Dataset.load_from_df(data[['user_id', 'item_id', 'rating']], reader)\n",
    "\n",
    "# Разбиение на тренировочный и тестовый наборы\n",
    "trainset, testset = train_test_split(surprise_data, test_size=.25)\n",
    "\n",
    "# Обучение модели\n",
    "model = SVD(n_factors=150, n_epochs=15, lr_all=0.01, reg_all=0.2)\n",
    "model.fit(trainset)\n",
    "\n",
    "# Получение рекомендаций для всех пользователей\n",
    "predictions = model.test(testset)\n",
    "\n",
    "# Вывод рекомендаций для конкретного пользователя\n",
    "user_id = 11\n",
    "recommendations = []\n",
    "for iid in data['item_id'].unique():\n",
    "    if not data[(data['user_id'] == user_id) & (data['item_id'] == iid)].empty:\n",
    "        continue\n",
    "    est = model.predict(user_id, iid).est\n",
    "    recommendations.append((iid, est))\n",
    "\n",
    "# Сортировка рекомендаций по оценкам\n",
    "recommendations = sorted(recommendations, key=lambda x: x[1], reverse=True)\n",
    "\n",
    "# Получение названий объектов из их идентификаторов\n",
    "item_name = dict(zip(data['item_id'], data['title']))\n",
    "\n",
    "# Расчет метрик RMSE и MAE\n",
    "rmse = accuracy.rmse(predictions, verbose=False)\n",
    "mae = accuracy.mae(predictions, verbose=False)\n",
    "print(rmse)\n",
    "print(mae)\n",
    "\n",
    "# Вывод рекомендаций\n",
    "user_purchases = data[data['user_id'] == data.iloc[user_id]['user_id']]['title'].tolist()\n",
    "print(f\"Список покупок пользователя {user_id}:\")\n",
    "print('\\n'.join(user_purchases), '\\n')\n",
    "\n",
    "print(f\"Top 10 рекомендаций для пользователя {user_id}: \")\n",
    "for i, (iid, est) in enumerate(recommendations[:10]):\n",
    "    print(f\"{i+1}. {item_name[iid]} (оценка: {round(est, 3)})\")\n",
    "\n",
    "\n",
    "'''\n",
    "на отфильтрованном датасете по количеству покупок df_filtered (7428, 4)\n",
    "1.0293248163460877\n",
    "0.7704199813381933\n",
    "\n",
    "на полном датасете такие результаты:\n",
    "1.4644756587736585\n",
    "0.7360680419977864\n",
    "Список покупок пользователя 11:\n",
    "Crabtree &amp; Evelyn - Gardener's Ultra-Moisturising Hand Therapy Pump - 250g/8.8 OZ\n",
    "Crabtree &amp; Evelyn - Gardener's Ultra-Moisturising Hand Therapy Pump - 250g/8.8 OZ \n",
    "\n",
    "Top 10 рекомендаций для пользователя 11: \n",
    "1. Crabtree &amp; Evelyn - Gardener's Ultra-Moisturising Hand Therapy Pump - 250g/8.8 OZ (оценка: 5)\n",
    "2. Crabtree &amp; Evelyn Hand Soap, Gardeners, 10.1 fl. oz. (оценка: 5)\n",
    "3. Soy Milk Hand Crme (оценка: 5)\n",
    "4. Supersmile Powdered Mouthrinse (оценка: 5)\n",
    "5. Supersmile Professional Teeth Whitening Toothpaste  Recommended By Cosmetic Dentists, CLINICALLY... (оценка: 5)\n",
    "6. Archipelago Morning Mint Body Lotion ,18 Fl Oz (оценка: 5)\n",
    "7. Calvin Klein ck one Eau de Toilette, 3.4 fl. oz. (оценка: 5)\n",
    "8. Helen of Troy 1193 Professional Flat Iron (оценка: 5)\n",
    "9. DERMAdoctor Calm, Cool &amp; Corrected anti-redness tranquility cream - 1.7 Oz (оценка: 5)\n",
    "10. DERMAdoctor Total Nonscents Ultra-Gentle Brightening Antiperspirant, 3 fl. oz. (оценка: 5)\n",
    "'''"
   ],
   "metadata": {
    "colab": {
     "base_uri": "https://localhost:8080/",
     "height": 410
    },
    "id": "dz8oq6cp5Ejq",
    "outputId": "e2f8c755-0fa9-422c-e641-e7af0e9cd729",
    "pycharm": {
     "name": "#%%\n"
    }
   },
   "execution_count": 34,
   "outputs": [
    {
     "output_type": "stream",
     "name": "stdout",
     "text": [
      "1.4644756587736585\n",
      "0.7360680419977864\n",
      "Список покупок пользователя 11:\n",
      "Crabtree &amp; Evelyn - Gardener's Ultra-Moisturising Hand Therapy Pump - 250g/8.8 OZ\n",
      "Crabtree &amp; Evelyn - Gardener's Ultra-Moisturising Hand Therapy Pump - 250g/8.8 OZ \n",
      "\n",
      "Top 10 рекомендаций для пользователя 11: \n",
      "1. Crabtree &amp; Evelyn - Gardener's Ultra-Moisturising Hand Therapy Pump - 250g/8.8 OZ (оценка: 5)\n",
      "2. Crabtree &amp; Evelyn Hand Soap, Gardeners, 10.1 fl. oz. (оценка: 5)\n",
      "3. Soy Milk Hand Crme (оценка: 5)\n",
      "4. Supersmile Powdered Mouthrinse (оценка: 5)\n",
      "5. Supersmile Professional Teeth Whitening Toothpaste  Recommended By Cosmetic Dentists, CLINICALLY... (оценка: 5)\n",
      "6. Archipelago Morning Mint Body Lotion ,18 Fl Oz (оценка: 5)\n",
      "7. Calvin Klein ck one Eau de Toilette, 3.4 fl. oz. (оценка: 5)\n",
      "8. Helen of Troy 1193 Professional Flat Iron (оценка: 5)\n",
      "9. DERMAdoctor Calm, Cool &amp; Corrected anti-redness tranquility cream - 1.7 Oz (оценка: 5)\n",
      "10. DERMAdoctor Total Nonscents Ultra-Gentle Brightening Antiperspirant, 3 fl. oz. (оценка: 5)\n"
     ]
    },
    {
     "output_type": "execute_result",
     "data": {
      "text/plain": [
       "\"\\ndf_filtered (7428, 4)\\n1.0293248163460877\\n0.7704199813381933\\n\\nна полном датасете такие результаты:\\n1.4524081275998697\\n0.723495410712211\\nСписок покупок пользователя 1: []\\nTop 10 рекомендаций для пользователя 1: \\n1. Crabtree &amp; Evelyn - Gardener's Ultra-Moisturising Hand Therapy Pump - 250g/8.8 OZ (оценка: 5)\\n2. Crabtree &amp; Evelyn Hand Soap, Gardeners, 10.1 fl. oz. (оценка: 5)\\n3. Soy Milk Hand Crme (оценка: 5)\\n4. Supersmile Powdered Mouthrinse (оценка: 5)\\n5. Supersmile Professional Teeth Whitening Toothpaste  Recommended By Cosmetic Dentists, CLINICALLY... (оценка: 5)\\n6. Archipelago Morning Mint Body Lotion ,18 Fl Oz (оценка: 5)\\n7. Calvin Klein ck one Eau de Toilette, 3.4 fl. oz. (оценка: 5)\\n8. Helen of Troy 1193 Professional Flat Iron (оценка: 5)\\n9. DERMAdoctor Calm, Cool &amp; Corrected anti-redness tranquility cream - 1.7 Oz (оценка: 5)\\n10. DERMAdoctor Total Nonscents Ultra-Gentle Brightening Antiperspirant, 3 fl. oz. (оценка: 5)\\n\""
      ],
      "application/vnd.google.colaboratory.intrinsic+json": {
       "type": "string"
      }
     },
     "metadata": {},
     "execution_count": 34
    }
   ]
  },
  {
   "cell_type": "code",
   "source": [
    "surprise_data"
   ],
   "metadata": {
    "colab": {
     "base_uri": "https://localhost:8080/"
    },
    "id": "c8aezpts241n",
    "outputId": "344c54cd-3d7f-445e-ae3f-86ffb83241f6",
    "pycharm": {
     "name": "#%%\n"
    }
   },
   "execution_count": 12,
   "outputs": [
    {
     "output_type": "execute_result",
     "data": {
      "text/plain": [
       "<surprise.dataset.DatasetAutoFolds at 0x7fa334fd1be0>"
      ]
     },
     "metadata": {},
     "execution_count": 12
    }
   ]
  },
  {
   "cell_type": "code",
   "source": [
    "# Построение рекомендательной модели с помощью алгоритма KNN из библиотеки Surprise"
   ],
   "metadata": {
    "id": "Y3ESelez2tI9",
    "pycharm": {
     "name": "#%%\n"
    }
   },
   "execution_count": 10,
   "outputs": []
  },
  {
   "cell_type": "code",
   "source": [
    "# К сожалению, обучать алгоритм KNN на полном датасете не получится, т.к. колаб крашится, поэтому буду обучать на отфильтрованном датасете\n",
    "data = df_filtered.copy()\n",
    "reader = Reader(rating_scale=(1, 5))\n",
    "surprise_data = Dataset.load_from_df(data[['user_id', 'item_id', 'rating']], reader)\n",
    "\n",
    "# Разбиение на train/test\n",
    "# trainset = surprise_data.build_full_trainset()\n",
    "\n",
    "trainset, testset = train_test_split(surprise_data, test_size=.25)\n",
    "sim_options = {'name': 'cosine',\n",
    "               'user_based': True,\n",
    "               'k':10,\n",
    "               'min_k':8\n",
    "              }\n",
    "\n",
    "# Инициализация алгоритма\n",
    "algo = KNNBasic(sim_options=sim_options)\n",
    "\n",
    "# Обучение модели\n",
    "algo.fit(trainset)\n",
    "\n",
    "# Получение рекомендаций для пользователя с ID 11\n",
    "user_id = 3\n",
    "user_items = data[data['user_id'] == user_id]['item_id'].unique()\n",
    "predictions = []\n",
    "for item_id in data['item_id'].unique():\n",
    "    if item_id not in user_items:\n",
    "        predictions.append((item_id, algo.predict(user_id, item_id).est))\n",
    "recommendations = sorted(predictions, key=lambda x: x[1], reverse=True)[:10]\n",
    "\n",
    "# Получение названий объектов из их идентификаторов\n",
    "item_name = defaultdict(str)\n",
    "for item_id in data['item_id'].unique():\n",
    "    item_name[item_id] = data[data['item_id'] == item_id]['title'].iloc[0]\n",
    "\n",
    "predictions = algo.test(testset)\n",
    "# Расчет метрик RMSE и MAE\n",
    "rmse = accuracy.rmse(predictions, verbose=False)\n",
    "mae = accuracy.mae(predictions, verbose=False)\n",
    "print(rmse)\n",
    "print(mae,'\\n') \n",
    "\n",
    "# Вывод рекомендаций\n",
    "user_purchases = data[data['user_id'] == data.iloc[user_id]['user_id']]['title'].tolist()\n",
    "print(f\"Список покупок пользователя {user_id}:\")\n",
    "print('\\n'.join(user_purchases), '\\n')\n",
    "\n",
    "print(f\"Top 10 рекомендаций для пользователя {user_id}: \")\n",
    "for item_id, est_rating in recommendations:\n",
    "    print(f\"{item_name[item_id]} (оценка: {est_rating})\")"
   ],
   "metadata": {
    "colab": {
     "base_uri": "https://localhost:8080/"
    },
    "id": "4GQF3WNPN0SL",
    "outputId": "25595565-6e45-4784-dafa-7193dbe4ffd2",
    "pycharm": {
     "name": "#%%\n"
    }
   },
   "execution_count": 33,
   "outputs": [
    {
     "output_type": "stream",
     "name": "stdout",
     "text": [
      "Computing the cosine similarity matrix...\n",
      "Done computing similarity matrix.\n",
      "1.176972858323677\n",
      "0.8760053047940674 \n",
      "\n",
      "Список покупок пользователя 3:\n",
      "Crabtree &amp; Evelyn - Gardener's Ultra-Moisturising Hand Therapy Pump - 250g/8.8 OZ\n",
      "Revision Skincare Nectifirm, 1.7 oz\n",
      "NEOCUTIS Lumi&egrave;re Bio-restorative Eye Cream, 0.5 Fl Oz\n",
      "AHAVA Dead Sea Dermud Intensive Moisturizers\n",
      "AHAVA Dead Sea Mineral Body Lotions \n",
      "\n",
      "Top 10 рекомендаций для пользователя 3: \n",
      "Crabtree &amp; Evelyn - Gardener's Ultra-Moisturising Hand Therapy Pump - 250g/8.8 OZ (оценка: 4.3240039110241995)\n",
      "Soy Milk Hand Crme (оценка: 4.3240039110241995)\n",
      "Supersmile Powdered Mouthrinse (оценка: 4.3240039110241995)\n",
      "Supersmile Professional Teeth Whitening Toothpaste  Recommended By Cosmetic Dentists, CLINICALLY... (оценка: 4.3240039110241995)\n",
      "Archipelago Morning Mint Body Lotion ,18 Fl Oz (оценка: 4.3240039110241995)\n",
      "Calvin Klein ck one Eau de Toilette, 3.4 fl. oz. (оценка: 4.3240039110241995)\n",
      "Helen of Troy 1193 Professional Flat Iron (оценка: 4.3240039110241995)\n",
      "DERMAdoctor Calm, Cool &amp; Corrected anti-redness tranquility cream - 1.7 Oz (оценка: 4.3240039110241995)\n",
      "DERMAdoctor Total Nonscents Ultra-Gentle Brightening Antiperspirant, 3 fl. oz. (оценка: 4.3240039110241995)\n",
      "DERMAdoctor KP Duty AHA Moisturizing Therapy for Dry Skin, 4 oz. (оценка: 4.3240039110241995)\n"
     ]
    }
   ]
  },
  {
   "cell_type": "code",
   "source": [],
   "metadata": {
    "id": "p5o1hwdZjDD7",
    "pycharm": {
     "name": "#%%\n"
    }
   },
   "execution_count": 27,
   "outputs": []
  },
  {
   "cell_type": "code",
   "source": [
    "# попробуем поработать с библиотекой lightfm"
   ],
   "metadata": {
    "id": "sI7pN0a7kQ94",
    "pycharm": {
     "name": "#%%\n"
    }
   },
   "execution_count": 38,
   "outputs": []
  },
  {
   "cell_type": "code",
   "source": [
    "!pip install lightfm"
   ],
   "metadata": {
    "colab": {
     "base_uri": "https://localhost:8080/"
    },
    "id": "owAcWiYhHS2W",
    "outputId": "152a952e-0a75-4a70-d65b-4eb00ff519aa",
    "pycharm": {
     "name": "#%%\n"
    }
   },
   "execution_count": 35,
   "outputs": [
    {
     "output_type": "stream",
     "name": "stdout",
     "text": [
      "Looking in indexes: https://pypi.org/simple, https://us-python.pkg.dev/colab-wheels/public/simple/\n",
      "Collecting lightfm\n",
      "  Downloading lightfm-1.16.tar.gz (310 kB)\n",
      "\u001B[2K     \u001B[90m━━━━━━━━━━━━━━━━━━━━━━━━━━━━━━━━━━━━━━━\u001B[0m \u001B[32m310.1/310.1 KB\u001B[0m \u001B[31m6.7 MB/s\u001B[0m eta \u001B[36m0:00:00\u001B[0m\n",
      "\u001B[?25h  Preparing metadata (setup.py) ... \u001B[?25l\u001B[?25hdone\n",
      "Requirement already satisfied: numpy in /usr/local/lib/python3.8/dist-packages (from lightfm) (1.22.4)\n",
      "Requirement already satisfied: scipy>=0.17.0 in /usr/local/lib/python3.8/dist-packages (from lightfm) (1.7.3)\n",
      "Requirement already satisfied: requests in /usr/local/lib/python3.8/dist-packages (from lightfm) (2.25.1)\n",
      "Requirement already satisfied: scikit-learn in /usr/local/lib/python3.8/dist-packages (from lightfm) (1.0.2)\n",
      "Requirement already satisfied: idna<3,>=2.5 in /usr/local/lib/python3.8/dist-packages (from requests->lightfm) (2.10)\n",
      "Requirement already satisfied: urllib3<1.27,>=1.21.1 in /usr/local/lib/python3.8/dist-packages (from requests->lightfm) (1.24.3)\n",
      "Requirement already satisfied: chardet<5,>=3.0.2 in /usr/local/lib/python3.8/dist-packages (from requests->lightfm) (4.0.0)\n",
      "Requirement already satisfied: certifi>=2017.4.17 in /usr/local/lib/python3.8/dist-packages (from requests->lightfm) (2022.12.7)\n",
      "Requirement already satisfied: threadpoolctl>=2.0.0 in /usr/local/lib/python3.8/dist-packages (from scikit-learn->lightfm) (3.1.0)\n",
      "Requirement already satisfied: joblib>=0.11 in /usr/local/lib/python3.8/dist-packages (from scikit-learn->lightfm) (1.2.0)\n",
      "Building wheels for collected packages: lightfm\n",
      "  Building wheel for lightfm (setup.py) ... \u001B[?25l\u001B[?25hdone\n",
      "  Created wheel for lightfm: filename=lightfm-1.16-cp38-cp38-linux_x86_64.whl size=917985 sha256=9d5506cea9efb54842a58b0f78de560af1dae38f6d1f83bb5f539115047dcd3c\n",
      "  Stored in directory: /root/.cache/pip/wheels/ec/bb/51/9c487d021c1373b691d13cadca0b65b6852627b1f3f43550fa\n",
      "Successfully built lightfm\n",
      "Installing collected packages: lightfm\n",
      "Successfully installed lightfm-1.16\n"
     ]
    }
   ]
  },
  {
   "cell_type": "code",
   "source": [
    "from lightfm import LightFM\n",
    "from lightfm.data import Dataset as Dataset_LightFM\n",
    "from lightfm.evaluation import precision_at_k\n",
    "from sklearn.feature_extraction.text import TfidfVectorizer\n",
    "from scipy.sparse import coo_matrix, csr_matrix\n",
    "from lightfm.datasets import fetch_movielens\n",
    "from lightfm.evaluation import auc_score\n",
    "import matplotlib.pyplot as plt\n",
    "import matplotlib\n",
    "import numpy as np"
   ],
   "metadata": {
    "id": "pqhlZGWuHS5b",
    "pycharm": {
     "name": "#%%\n"
    }
   },
   "execution_count": 47,
   "outputs": []
  },
  {
   "cell_type": "code",
   "source": [
    "# Загрузка данных из датасета\n",
    "data = df_filtered.copy()\n",
    "\n",
    "item_id_to_index = {}\n",
    "index_to_item_id = {}\n",
    "for index, item_id in enumerate(data['item_id'].unique()):\n",
    "    item_id_to_index[item_id] = index\n",
    "    index_to_item_id[index] = item_id\n",
    "\n",
    "user_id_to_index = {}\n",
    "index_to_user_id = {}\n",
    "for index, user_id in enumerate(data['user_id'].unique()):\n",
    "    user_id_to_index[user_id] = index\n",
    "    index_to_user_id[index] = user_id\n",
    "\n",
    "data['item_id'] = data['item_id'].apply(lambda x: item_id_to_index[x])\n",
    "data['user_id'] = data['user_id'].apply(lambda x: user_id_to_index[x])\n",
    "\n",
    "# Создание экземпляра класса Dataset\n",
    "dataset = Dataset_LightFM()\n",
    "\n",
    "# Преобразование user_id и item_id в числовой формат\n",
    "dataset.fit(data['user_id'], data['item_id'])\n",
    "\n",
    "# Разделение данных на обучающую и тестовую выборки\n",
    "train_interactions, test_interactions = coo_matrix((data['rating'],\n",
    "                                                    (data['user_id'], data['item_id']))), \\\n",
    "                                        coo_matrix((data['rating'],\n",
    "                                                    (data['user_id'], data['item_id'])))\n",
    "\n",
    "# Преобразование обучающей и тестовой выборок для работы с моделью LightFM\n",
    "train = csr_matrix(train_interactions).tocoo()\n",
    "test = csr_matrix(test_interactions).tocoo()\n",
    "\n",
    "# Создание экземпляра модели и обучение на обучающей выборке\n",
    "# model = LightFM(loss='warp')\n",
    "model = LightFM(no_components=30,\n",
    "                        loss='warp-kos',\n",
    "                        learning_schedule='adagrad',\n",
    "                        user_alpha=1e-3, item_alpha=1e-3)\n",
    "model.fit(train, epochs=70)\n",
    "\n",
    "# Оценка качества модели на тестовой выборке\n",
    "precision = precision_at_k(model, test, k=5).mean()\n",
    "print(f'Precision@5: {precision:.2f}')\n",
    "\n",
    "# Генерация рекомендаций для новых пользователей\n",
    "items_dict = dict(zip(data['item_id'], data['title']))\n",
    "existing_item_ids = train.nonzero()[1]\n",
    "\n",
    "user_ids = [1, 12, 23]\n",
    "for user_id in user_ids:\n",
    "    scores = model.predict(user_id, existing_item_ids)\n",
    "    top_items = sorted(zip(existing_item_ids, scores), key=lambda x: -x[1])[:3]\n",
    "    print(f'Recommendations for user {user_id}:')\n",
    "    for item_id, score in top_items:\n",
    "        print(f'- {items_dict[item_id]} (score: {score:.2f})')\n"
   ],
   "metadata": {
    "colab": {
     "base_uri": "https://localhost:8080/"
    },
    "id": "-q-5H1t9Xw8U",
    "outputId": "aa739f25-20cf-4643-f8d9-67405967c3d3",
    "pycharm": {
     "name": "#%%\n"
    }
   },
   "execution_count": 45,
   "outputs": [
    {
     "output_type": "stream",
     "name": "stdout",
     "text": [
      "Precision@5: 0.70\n",
      "Recommendations for user 1:\n",
      "- Crabtree &amp; Evelyn - Gardener's Ultra-Moisturising Hand Therapy Pump - 250g/8.8 OZ (score: 1.13)\n",
      "- Crabtree &amp; Evelyn - Gardener's Ultra-Moisturising Hand Therapy Pump - 250g/8.8 OZ (score: 1.13)\n",
      "- Crabtree &amp; Evelyn - Gardener's Ultra-Moisturising Hand Therapy Pump - 250g/8.8 OZ (score: 1.13)\n",
      "Recommendations for user 12:\n",
      "- Dermablend Cover Creme Full Coverage Foundation with SPF 30, 1 Oz (score: 0.88)\n",
      "- Dermablend Cover Creme Full Coverage Foundation with SPF 30, 1 Oz (score: 0.88)\n",
      "- Dermablend Cover Creme Full Coverage Foundation with SPF 30, 1 Oz (score: 0.88)\n",
      "Recommendations for user 23:\n",
      "- Supersmile Professional Teeth Whitening Toothpaste  Recommended By Cosmetic Dentists, CLINICALLY... (score: 0.93)\n",
      "- Supersmile Professional Teeth Whitening Toothpaste  Recommended By Cosmetic Dentists, CLINICALLY... (score: 0.93)\n",
      "- Supersmile Professional Teeth Whitening Toothpaste  Recommended By Cosmetic Dentists, CLINICALLY... (score: 0.93)\n"
     ]
    }
   ]
  },
  {
   "cell_type": "code",
   "execution_count": null,
   "outputs": [],
   "source": [
    "# прогоним тюнинг, как показано в примере из библиотеки"
   ],
   "metadata": {
    "collapsed": false,
    "pycharm": {
     "name": "#%%\n"
    }
   }
  },
  {
   "cell_type": "code",
   "source": [
    "alpha = 1e-3\n",
    "epochs = 70\n",
    "\n",
    "adagrad_model = LightFM(no_components=30,\n",
    "                        loss='warp',\n",
    "                        learning_schedule='adagrad',\n",
    "                        user_alpha=alpha,\n",
    "                        item_alpha=alpha)\n",
    "adadelta_model = LightFM(no_components=30,\n",
    "                        loss='warp',\n",
    "                        learning_schedule='adadelta',\n",
    "                        user_alpha=alpha,\n",
    "                        item_alpha=alpha)\n",
    "\n",
    "adagrad_auc = []\n",
    "\n",
    "for epoch in range(epochs):\n",
    "    adagrad_model.fit_partial(train, epochs=1)\n",
    "    adagrad_auc.append(auc_score(adagrad_model, test).mean())\n",
    "\n",
    "\n",
    "adadelta_auc = []\n",
    "\n",
    "for epoch in range(epochs):\n",
    "    adadelta_model.fit_partial(train, epochs=1)\n",
    "    adadelta_auc.append(auc_score(adadelta_model, test).mean())"
   ],
   "metadata": {
    "id": "y_H4CGuDfrPa",
    "pycharm": {
     "name": "#%%\n"
    }
   },
   "execution_count": 19,
   "outputs": []
  },
  {
   "cell_type": "code",
   "source": [],
   "metadata": {
    "id": "tFWZQzN_4T5L",
    "pycharm": {
     "name": "#%%\n"
    }
   },
   "execution_count": 20,
   "outputs": []
  },
  {
   "cell_type": "code",
   "source": [
    "x = np.arange(len(adagrad_auc))\n",
    "plt.plot(x, np.array(adagrad_auc))\n",
    "plt.plot(x, np.array(adadelta_auc))\n",
    "plt.legend(['adagrad', 'adadelta'], loc='lower right')\n",
    "plt.show()"
   ],
   "metadata": {
    "colab": {
     "base_uri": "https://localhost:8080/",
     "height": 265
    },
    "id": "T3EmaxCc2jEG",
    "outputId": "8585112f-b8e1-4fb2-d61b-9ef421524459",
    "pycharm": {
     "name": "#%%\n"
    }
   },
   "execution_count": 21,
   "outputs": [
    {
     "output_type": "display_data",
     "data": {
      "text/plain": [
       "<Figure size 432x288 with 1 Axes>"
      ],
      "image/png": "[encoded data removed]"
     },
     "metadata": {
      "needs_background": "light"
     }
    }
   ]
  },
  {
   "cell_type": "code",
   "source": [],
   "metadata": {
    "id": "jCROjLXJ25cB",
    "pycharm": {
     "name": "#%%\n"
    }
   },
   "execution_count": 21,
   "outputs": []
  },
  {
   "cell_type": "code",
   "source": [
    "alpha = 1e-3\n",
    "epochs = 70\n",
    "\n",
    "adagrad_model = LightFM(no_components=30,\n",
    "                        loss='warp-kos',\n",
    "                        learning_schedule='adagrad',\n",
    "                        user_alpha=alpha, item_alpha=alpha)\n",
    "adadelta_model = LightFM(no_components=30,\n",
    "                        loss='warp-kos',\n",
    "                        learning_schedule='adadelta',\n",
    "                        user_alpha=alpha, item_alpha=alpha)\n",
    "\n",
    "adagrad_auc = []\n",
    "\n",
    "for epoch in range(epochs):\n",
    "    adagrad_model.fit_partial(train, epochs=1)\n",
    "    adagrad_auc.append(auc_score(adagrad_model, test).mean())\n",
    "\n",
    "\n",
    "adadelta_auc = []\n",
    "\n",
    "for epoch in range(epochs):\n",
    "    adadelta_model.fit_partial(train, epochs=1)\n",
    "    adadelta_auc.append(auc_score(adadelta_model, test).mean())"
   ],
   "metadata": {
    "id": "PjZLl1na25e4",
    "pycharm": {
     "name": "#%%\n"
    }
   },
   "execution_count": 22,
   "outputs": []
  },
  {
   "cell_type": "code",
   "source": [
    "x = np.arange(len(adagrad_auc))\n",
    "plt.plot(x, np.array(adagrad_auc))\n",
    "plt.plot(x, np.array(adadelta_auc))\n",
    "plt.legend(['adagrad', 'adadelta'], loc='lower right')\n",
    "plt.show()"
   ],
   "metadata": {
    "colab": {
     "base_uri": "https://localhost:8080/",
     "height": 265
    },
    "id": "WoaFa3oh25hj",
    "outputId": "38c8c544-f91c-4ee7-8495-6126bf4fea00",
    "pycharm": {
     "name": "#%%\n"
    }
   },
   "execution_count": 23,
   "outputs": [
    {
     "output_type": "display_data",
     "data": {
      "text/plain": [
       "<Figure size 432x288 with 1 Axes>"
      ],
      "image/png": "[encoded data removed]"
     },
     "metadata": {
      "needs_background": "light"
     }
    }
   ]
  },
  {
   "cell_type": "code",
   "source": [],
   "metadata": {
    "id": "8o7Q0emL25kU",
    "pycharm": {
     "name": "#%%\n"
    }
   },
   "execution_count": null,
   "outputs": []
  },
  {
   "cell_type": "code",
   "source": [],
   "metadata": {
    "id": "B98yqAnkX2wM",
    "pycharm": {
     "name": "#%%\n"
    }
   },
   "execution_count": null,
   "outputs": []
  },
  {
   "cell_type": "code",
   "source": [],
   "metadata": {
    "id": "9DD8emuZX2zN",
    "pycharm": {
     "name": "#%%\n"
    }
   },
   "execution_count": null,
   "outputs": []
  },
  {
   "cell_type": "code",
   "source": [],
   "metadata": {
    "id": "s26umcjHX22Q",
    "pycharm": {
     "name": "#%%\n"
    }
   },
   "execution_count": null,
   "outputs": []
  }
 ]
}