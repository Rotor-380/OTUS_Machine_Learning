{
 "metadata": {
  "kernelspec": {
   "language": "python",
   "display_name": "Python 3",
   "name": "python3"
  },
  "language_info": {
   "name": "python",
   "version": "3.7.12",
   "mimetype": "text/x-python",
   "codemirror_mode": {
    "name": "ipython",
    "version": 3
   },
   "pygments_lexer": "ipython3",
   "nbconvert_exporter": "python",
   "file_extension": ".py"
  }
 },
 "nbformat_minor": 4,
 "nbformat": 4,
 "cells": [
  {
   "cell_type": "code",
   "source": [
    "import pandas as pd\n",
    "import numpy as np\n",
    "import time\n",
    "from scipy.sparse import coo_matrix\n",
    "from lightfm import LightFM \n",
    "from lightfm.data import Dataset as LFM_Dataset\n",
    "from sklearn.preprocessing import LabelEncoder\n",
    "from lightfm.evaluation import precision_at_k\n",
    "from sklearn.metrics.pairwise import cosine_similarity\n",
    "from surprise import Dataset, Reader\n",
    "from surprise import KNNWithMeans\n",
    "from surprise.model_selection import train_test_split\n",
    "from scipy.stats import rankdata\n",
    "from surprise import SVD\n"
   ],
   "metadata": {
    "execution": {
     "iopub.status.busy": "2023-03-30T15:15:33.576373Z",
     "iopub.execute_input": "2023-03-30T15:15:33.576813Z",
     "iopub.status.idle": "2023-03-30T15:15:34.209205Z",
     "shell.execute_reply.started": "2023-03-30T15:15:33.576777Z",
     "shell.execute_reply": "2023-03-30T15:15:34.207786Z"
    },
    "trusted": true,
    "pycharm": {
     "name": "#%%\n"
    }
   },
   "execution_count": 2,
   "outputs": []
  },
  {
   "cell_type": "code",
   "source": [
    "# Загрузка датасета\n",
    "daily_sales_df = pd.read_csv(\"/kaggle/input/daily-sales-352-df/daily_sales_352_df.csv\")"
   ],
   "metadata": {
    "execution": {
     "iopub.status.busy": "2023-03-30T15:15:34.211855Z",
     "iopub.execute_input": "2023-03-30T15:15:34.212332Z",
     "iopub.status.idle": "2023-03-30T15:15:51.756117Z",
     "shell.execute_reply.started": "2023-03-30T15:15:34.212293Z",
     "shell.execute_reply": "2023-03-30T15:15:51.754757Z"
    },
    "trusted": true,
    "pycharm": {
     "name": "#%%\n"
    }
   },
   "execution_count": 3,
   "outputs": []
  },
  {
   "cell_type": "code",
   "source": [
    "daily_sales_df "
   ],
   "metadata": {
    "execution": {
     "iopub.status.busy": "2023-03-30T18:00:23.719425Z",
     "iopub.execute_input": "2023-03-30T18:00:23.719861Z",
     "iopub.status.idle": "2023-03-30T18:00:23.746400Z",
     "shell.execute_reply.started": "2023-03-30T18:00:23.719826Z",
     "shell.execute_reply": "2023-03-30T18:00:23.745149Z"
    },
    "trusted": true,
    "pycharm": {
     "name": "#%%\n"
    }
   },
   "execution_count": 51,
   "outputs": [
    {
     "execution_count": 51,
     "output_type": "execute_result",
     "data": {
      "text/plain": "              item            user  rating   timestamp  \\\n0       B0000CFH7B  A3SJ6OST09HD86     1.0  1309737600   \n1       B0000CFH7B  A3SJ6OST09HD86     1.0  1309737600   \n2       B0000CFH7B  A3I7WIYAQMJNTF     1.0  1305936000   \n3       B0000CFH7B  A3I7WIYAQMJNTF     1.0  1305936000   \n4       B0000CFH7B  A3C5231O0WQX10     5.0  1296000000   \n...            ...             ...     ...         ...   \n818605  B01GH3JVZI  A2UPCGGZ0FU3XZ     5.0  1534982400   \n818606  B01GH3JVZI  A1MJ18Y373RTFE     1.0  1534636800   \n818607  B01GH3JVZI  A2KZ6WK0HWB2TD     5.0  1534464000   \n818608  B01GH3JVZI  A3UBTA2DJ27IWF     2.0  1534464000   \n818609  B01GH3JVZI  A1SVNKWGBR8VIC     1.0  1534204800   \n\n                                              description  \\\n0       ['Wilton-color mist food color spray. This eas...   \n1       ['Wilton-color mist food color spray. This eas...   \n2       ['Wilton-color mist food color spray. This eas...   \n3       ['Wilton-color mist food color spray. This eas...   \n4       ['Wilton-color mist food color spray. This eas...   \n...                                                   ...   \n818605  ['The ViSalus Vi-Shape nutritional shake mix i...   \n818606  ['The ViSalus Vi-Shape nutritional shake mix i...   \n818607  ['The ViSalus Vi-Shape nutritional shake mix i...   \n818608  ['The ViSalus Vi-Shape nutritional shake mix i...   \n818609  ['The ViSalus Vi-Shape nutritional shake mix i...   \n\n                                                    title        date  \n0           Wilton 710-5506 Color Mist Spray 1.5oz, Black  2011-07-04  \n1           Wilton 710-5506 Color Mist Spray 1.5oz, Black  2011-07-04  \n2           Wilton 710-5506 Color Mist Spray 1.5oz, Black  2011-05-21  \n3           Wilton 710-5506 Color Mist Spray 1.5oz, Black  2011-05-21  \n4           Wilton 710-5506 Color Mist Spray 1.5oz, Black  2011-01-26  \n...                                                   ...         ...  \n818605  ViSalus Nutritional Meal Replacement Shake Mix...  2018-08-23  \n818606  ViSalus Nutritional Meal Replacement Shake Mix...  2018-08-19  \n818607  ViSalus Nutritional Meal Replacement Shake Mix...  2018-08-17  \n818608  ViSalus Nutritional Meal Replacement Shake Mix...  2018-08-17  \n818609  ViSalus Nutritional Meal Replacement Shake Mix...  2018-08-14  \n\n[818610 rows x 7 columns]",
      "text/html": "<div>\n<style scoped>\n    .dataframe tbody tr th:only-of-type {\n        vertical-align: middle;\n    }\n\n    .dataframe tbody tr th {\n        vertical-align: top;\n    }\n\n    .dataframe thead th {\n        text-align: right;\n    }\n</style>\n<table border=\"1\" class=\"dataframe\">\n  <thead>\n    <tr style=\"text-align: right;\">\n      <th></th>\n      <th>item</th>\n      <th>user</th>\n      <th>rating</th>\n      <th>timestamp</th>\n      <th>description</th>\n      <th>title</th>\n      <th>date</th>\n    </tr>\n  </thead>\n  <tbody>\n    <tr>\n      <th>0</th>\n      <td>B0000CFH7B</td>\n      <td>A3SJ6OST09HD86</td>\n      <td>1.0</td>\n      <td>1309737600</td>\n      <td>['Wilton-color mist food color spray. This eas...</td>\n      <td>Wilton 710-5506 Color Mist Spray 1.5oz, Black</td>\n      <td>2011-07-04</td>\n    </tr>\n    <tr>\n      <th>1</th>\n      <td>B0000CFH7B</td>\n      <td>A3SJ6OST09HD86</td>\n      <td>1.0</td>\n      <td>1309737600</td>\n      <td>['Wilton-color mist food color spray. This eas...</td>\n      <td>Wilton 710-5506 Color Mist Spray 1.5oz, Black</td>\n      <td>2011-07-04</td>\n    </tr>\n    <tr>\n      <th>2</th>\n      <td>B0000CFH7B</td>\n      <td>A3I7WIYAQMJNTF</td>\n      <td>1.0</td>\n      <td>1305936000</td>\n      <td>['Wilton-color mist food color spray. This eas...</td>\n      <td>Wilton 710-5506 Color Mist Spray 1.5oz, Black</td>\n      <td>2011-05-21</td>\n    </tr>\n    <tr>\n      <th>3</th>\n      <td>B0000CFH7B</td>\n      <td>A3I7WIYAQMJNTF</td>\n      <td>1.0</td>\n      <td>1305936000</td>\n      <td>['Wilton-color mist food color spray. This eas...</td>\n      <td>Wilton 710-5506 Color Mist Spray 1.5oz, Black</td>\n      <td>2011-05-21</td>\n    </tr>\n    <tr>\n      <th>4</th>\n      <td>B0000CFH7B</td>\n      <td>A3C5231O0WQX10</td>\n      <td>5.0</td>\n      <td>1296000000</td>\n      <td>['Wilton-color mist food color spray. This eas...</td>\n      <td>Wilton 710-5506 Color Mist Spray 1.5oz, Black</td>\n      <td>2011-01-26</td>\n    </tr>\n    <tr>\n      <th>...</th>\n      <td>...</td>\n      <td>...</td>\n      <td>...</td>\n      <td>...</td>\n      <td>...</td>\n      <td>...</td>\n      <td>...</td>\n    </tr>\n    <tr>\n      <th>818605</th>\n      <td>B01GH3JVZI</td>\n      <td>A2UPCGGZ0FU3XZ</td>\n      <td>5.0</td>\n      <td>1534982400</td>\n      <td>['The ViSalus Vi-Shape nutritional shake mix i...</td>\n      <td>ViSalus Nutritional Meal Replacement Shake Mix...</td>\n      <td>2018-08-23</td>\n    </tr>\n    <tr>\n      <th>818606</th>\n      <td>B01GH3JVZI</td>\n      <td>A1MJ18Y373RTFE</td>\n      <td>1.0</td>\n      <td>1534636800</td>\n      <td>['The ViSalus Vi-Shape nutritional shake mix i...</td>\n      <td>ViSalus Nutritional Meal Replacement Shake Mix...</td>\n      <td>2018-08-19</td>\n    </tr>\n    <tr>\n      <th>818607</th>\n      <td>B01GH3JVZI</td>\n      <td>A2KZ6WK0HWB2TD</td>\n      <td>5.0</td>\n      <td>1534464000</td>\n      <td>['The ViSalus Vi-Shape nutritional shake mix i...</td>\n      <td>ViSalus Nutritional Meal Replacement Shake Mix...</td>\n      <td>2018-08-17</td>\n    </tr>\n    <tr>\n      <th>818608</th>\n      <td>B01GH3JVZI</td>\n      <td>A3UBTA2DJ27IWF</td>\n      <td>2.0</td>\n      <td>1534464000</td>\n      <td>['The ViSalus Vi-Shape nutritional shake mix i...</td>\n      <td>ViSalus Nutritional Meal Replacement Shake Mix...</td>\n      <td>2018-08-17</td>\n    </tr>\n    <tr>\n      <th>818609</th>\n      <td>B01GH3JVZI</td>\n      <td>A1SVNKWGBR8VIC</td>\n      <td>1.0</td>\n      <td>1534204800</td>\n      <td>['The ViSalus Vi-Shape nutritional shake mix i...</td>\n      <td>ViSalus Nutritional Meal Replacement Shake Mix...</td>\n      <td>2018-08-14</td>\n    </tr>\n  </tbody>\n</table>\n<p>818610 rows × 7 columns</p>\n</div>"
     },
     "metadata": {}
    }
   ]
  },
  {
   "cell_type": "code",
   "source": [
    "# Загрузка данных о множителях\n",
    "multiplier_2002_full_df = pd.read_csv(\"/kaggle/input/multiplier-2002-full-df/multiplier_2002_full_df.csv\")"
   ],
   "metadata": {
    "execution": {
     "iopub.status.busy": "2023-03-30T15:15:51.807824Z",
     "iopub.execute_input": "2023-03-30T15:15:51.808385Z",
     "iopub.status.idle": "2023-03-30T15:15:51.827117Z",
     "shell.execute_reply.started": "2023-03-30T15:15:51.808331Z",
     "shell.execute_reply": "2023-03-30T15:15:51.825410Z"
    },
    "trusted": true,
    "pycharm": {
     "name": "#%%\n"
    }
   },
   "execution_count": 5,
   "outputs": []
  },
  {
   "cell_type": "code",
   "source": [
    "multiplier_2002_full_df"
   ],
   "metadata": {
    "execution": {
     "iopub.status.busy": "2023-03-30T15:15:51.828919Z",
     "iopub.execute_input": "2023-03-30T15:15:51.830138Z",
     "iopub.status.idle": "2023-03-30T15:15:51.847291Z",
     "shell.execute_reply.started": "2023-03-30T15:15:51.830087Z",
     "shell.execute_reply": "2023-03-30T15:15:51.846063Z"
    },
    "trusted": true,
    "pycharm": {
     "name": "#%%\n"
    }
   },
   "execution_count": 6,
   "outputs": [
    {
     "execution_count": 6,
     "output_type": "execute_result",
     "data": {
      "text/plain": "      product_id  multiplier\n0     B0001LO3FG    0.975918\n1     B00BUKL666    0.731228\n2     B00542YXFW    0.538453\n3     B008QMX2SG    0.632924\n4     B00D3M2QP4    0.571657\n...          ...         ...\n1997  B01G4I8VGQ    0.207146\n1998  B01F563CX0    0.472329\n1999  B014THN4OI    0.095767\n2000  B01ATWI17W    0.109778\n2001  B001KZ1AE4    0.152000\n\n[2002 rows x 2 columns]",
      "text/html": "<div>\n<style scoped>\n    .dataframe tbody tr th:only-of-type {\n        vertical-align: middle;\n    }\n\n    .dataframe tbody tr th {\n        vertical-align: top;\n    }\n\n    .dataframe thead th {\n        text-align: right;\n    }\n</style>\n<table border=\"1\" class=\"dataframe\">\n  <thead>\n    <tr style=\"text-align: right;\">\n      <th></th>\n      <th>product_id</th>\n      <th>multiplier</th>\n    </tr>\n  </thead>\n  <tbody>\n    <tr>\n      <th>0</th>\n      <td>B0001LO3FG</td>\n      <td>0.975918</td>\n    </tr>\n    <tr>\n      <th>1</th>\n      <td>B00BUKL666</td>\n      <td>0.731228</td>\n    </tr>\n    <tr>\n      <th>2</th>\n      <td>B00542YXFW</td>\n      <td>0.538453</td>\n    </tr>\n    <tr>\n      <th>3</th>\n      <td>B008QMX2SG</td>\n      <td>0.632924</td>\n    </tr>\n    <tr>\n      <th>4</th>\n      <td>B00D3M2QP4</td>\n      <td>0.571657</td>\n    </tr>\n    <tr>\n      <th>...</th>\n      <td>...</td>\n      <td>...</td>\n    </tr>\n    <tr>\n      <th>1997</th>\n      <td>B01G4I8VGQ</td>\n      <td>0.207146</td>\n    </tr>\n    <tr>\n      <th>1998</th>\n      <td>B01F563CX0</td>\n      <td>0.472329</td>\n    </tr>\n    <tr>\n      <th>1999</th>\n      <td>B014THN4OI</td>\n      <td>0.095767</td>\n    </tr>\n    <tr>\n      <th>2000</th>\n      <td>B01ATWI17W</td>\n      <td>0.109778</td>\n    </tr>\n    <tr>\n      <th>2001</th>\n      <td>B001KZ1AE4</td>\n      <td>0.152000</td>\n    </tr>\n  </tbody>\n</table>\n<p>2002 rows × 2 columns</p>\n</div>"
     },
     "metadata": {}
    }
   ]
  },
  {
   "cell_type": "markdown",
   "source": [
    "# --- Item-based LightFM ---"
   ],
   "metadata": {
    "execution": {
     "iopub.status.busy": "2023-03-30T11:27:51.966552Z",
     "iopub.execute_input": "2023-03-30T11:27:51.966900Z",
     "iopub.status.idle": "2023-03-30T11:27:51.971877Z",
     "shell.execute_reply.started": "2023-03-30T11:27:51.966871Z",
     "shell.execute_reply": "2023-03-30T11:27:51.970714Z"
    },
    "pycharm": {
     "name": "#%% md\n"
    }
   }
  },
  {
   "cell_type": "code",
   "source": [
    "# Создание набора данных LightFM\n",
    "dataset = LFM_Dataset()\n",
    "# Приспособление набора данных с уникальными пользователями и элементами\n",
    "dataset.fit(users=daily_sales_df['user'].unique(), items=daily_sales_df['item'].unique())"
   ],
   "metadata": {
    "execution": {
     "iopub.status.busy": "2023-03-30T15:15:51.849019Z",
     "iopub.execute_input": "2023-03-30T15:15:51.849579Z",
     "iopub.status.idle": "2023-03-30T15:15:52.870975Z",
     "shell.execute_reply.started": "2023-03-30T15:15:51.849531Z",
     "shell.execute_reply": "2023-03-30T15:15:52.869797Z"
    },
    "trusted": true,
    "pycharm": {
     "name": "#%%\n"
    }
   },
   "execution_count": 7,
   "outputs": []
  },
  {
   "cell_type": "code",
   "source": [
    "# Создание матрицы взаимодействий на основе данных о продажах\n",
    "interactions, weights = dataset.build_interactions(zip(daily_sales_df['user'], daily_sales_df['item']))"
   ],
   "metadata": {
    "execution": {
     "iopub.status.busy": "2023-03-30T15:15:52.872321Z",
     "iopub.execute_input": "2023-03-30T15:15:52.872627Z",
     "iopub.status.idle": "2023-03-30T15:15:55.631468Z",
     "shell.execute_reply.started": "2023-03-30T15:15:52.872598Z",
     "shell.execute_reply": "2023-03-30T15:15:55.629682Z"
    },
    "trusted": true,
    "pycharm": {
     "name": "#%%\n"
    }
   },
   "execution_count": 8,
   "outputs": []
  },
  {
   "cell_type": "code",
   "source": [
    "# Создание и настройка модели LightFM с заданными параметрами\n",
    "model = LightFM(loss='warp', no_components=30, learning_rate=0.1)\n",
    "epochs = 10\n",
    "num_threads = 16\n",
    "\n",
    "# Вручную контролируем процесс обучения и выводим прогресс\n",
    "for epoch in range(epochs):\n",
    "    start_time = time.time()\n",
    "    model.fit_partial(interactions, num_threads=num_threads)\n",
    "    epoch_duration = time.time() - start_time\n",
    "\n",
    "    train_precision = precision_at_k(model, interactions, k=5).mean()\n",
    "\n",
    "    print(f\"Epoch {epoch + 1}/{epochs} | Train precision: {train_precision:.4f} | Epoch duration: {epoch_duration:.2f}s\")"
   ],
   "metadata": {
    "execution": {
     "iopub.status.busy": "2023-03-30T15:15:55.633835Z",
     "iopub.execute_input": "2023-03-30T15:15:55.634374Z",
     "iopub.status.idle": "2023-03-30T15:17:26.081922Z",
     "shell.execute_reply.started": "2023-03-30T15:15:55.634322Z",
     "shell.execute_reply": "2023-03-30T15:17:26.080541Z"
    },
    "trusted": true,
    "pycharm": {
     "name": "#%%\n"
    }
   },
   "execution_count": 9,
   "outputs": [
    {
     "name": "stdout",
     "text": "Epoch 1/10 | Train precision: 0.1267 | Epoch duration: 1.23s\nEpoch 2/10 | Train precision: 0.2386 | Epoch duration: 0.79s\nEpoch 3/10 | Train precision: 0.2461 | Epoch duration: 0.58s\nEpoch 4/10 | Train precision: 0.2498 | Epoch duration: 0.57s\nEpoch 5/10 | Train precision: 0.2521 | Epoch duration: 0.58s\nEpoch 6/10 | Train precision: 0.2538 | Epoch duration: 0.58s\nEpoch 7/10 | Train precision: 0.2550 | Epoch duration: 0.62s\nEpoch 8/10 | Train precision: 0.2559 | Epoch duration: 0.56s\nEpoch 9/10 | Train precision: 0.2566 | Epoch duration: 0.56s\nEpoch 10/10 | Train precision: 0.2572 | Epoch duration: 0.56s\n",
     "output_type": "stream"
    }
   ]
  },
  {
   "cell_type": "code",
   "source": [
    "# Функция для получения k наиболее похожих элементов с использованием модели LightFM\n",
    "def get_similar_items(model, item_id, k):\n",
    "    item_idx = dataset.mapping()[2][item_id]    # Получение индекса элемента в матрице\n",
    "    similarities = cosine_similarity(model.item_embeddings)[item_idx]    # Вычисление косинусного сходства между элементами\n",
    "\n",
    "    # Найдите k наиболее похожих товаров\n",
    "    most_similar_items = np.argsort(-similarities)[:k+1]\n",
    "\n",
    "    # Получение обратного отображения для индексов элементов\n",
    "    item_id_reverse_mapping = {v: k for k, v in dataset.mapping()[2].items()}\n",
    "\n",
    "    # Получение идентификаторов k наиболее похожих элементов, исключая исходный элемент\n",
    "    most_similar_item_ids = [item_id_reverse_mapping[item_idx] for item_idx in most_similar_items if item_id_reverse_mapping[item_idx] != item_id]\n",
    "\n",
    "    return most_similar_item_ids[:k]"
   ],
   "metadata": {
    "execution": {
     "iopub.status.busy": "2023-03-30T15:17:26.087829Z",
     "iopub.execute_input": "2023-03-30T15:17:26.088281Z",
     "iopub.status.idle": "2023-03-30T15:17:26.100580Z",
     "shell.execute_reply.started": "2023-03-30T15:17:26.088241Z",
     "shell.execute_reply": "2023-03-30T15:17:26.098970Z"
    },
    "trusted": true,
    "pycharm": {
     "name": "#%%\n"
    }
   },
   "execution_count": 10,
   "outputs": []
  },
  {
   "cell_type": "markdown",
   "source": [
    "#  Item-based Surprise "
   ],
   "metadata": {
    "execution": {
     "iopub.status.busy": "2023-03-29T19:08:33.325045Z",
     "iopub.execute_input": "2023-03-29T19:08:33.325643Z",
     "iopub.status.idle": "2023-03-29T19:08:40.947301Z",
     "shell.execute_reply.started": "2023-03-29T19:08:33.325580Z",
     "shell.execute_reply": "2023-03-29T19:08:40.946346Z"
    },
    "pycharm": {
     "name": "#%% md\n"
    }
   }
  },
  {
   "cell_type": "code",
   "source": [
    "# Обработка данных для использования с библиотекой Surprise\n",
    "# Рассчитываем количество покупок для каждого пользователя и товара\n",
    "user_product_count = daily_sales_df.groupby(['user', 'item']).size().reset_index(name='purchase_count')\n",
    "\n",
    "# Нормализация количества покупок для получения рейтинга (например, от 1 до 5)\n",
    "user_product_count['rating'] = daily_sales_df['rating']\n",
    "\n",
    "# Создание нового датафрейма, содержащего только нужные столбцы\n",
    "ratings_df = user_product_count[['user', 'item', 'rating']]\n",
    "\n",
    "# Загрузка данных в surprise\n",
    "reader = Reader(rating_scale=(1, 5))\n",
    "data = Dataset.load_from_df(ratings_df, reader)\n",
    "\n",
    "# Разделение датасета на обучающую и тестовую выборки\n",
    "trainset, testset = train_test_split(data, test_size=0.2)\n",
    "\n",
    "# Создание и обучение модели \n",
    "sim_options = {\n",
    "    'name': 'cosine',  # Выбор метрики сходства\n",
    "    'user_based': False  # Item-based модель\n",
    "}\n",
    "algo = KNNWithMeans(sim_options=sim_options)\n",
    "# algo = SVD(n_factors=650, n_epochs=450, lr_all=0.011, reg_all=0.02) # ушла в бесконечный цикл\n",
    "algo.fit(trainset)\n",
    "\n",
    "# Предсказания для тестовой выборки\n",
    "predictions = algo.test(testset)"
   ],
   "metadata": {
    "execution": {
     "iopub.status.busy": "2023-03-30T15:17:26.102230Z",
     "iopub.execute_input": "2023-03-30T15:17:26.102641Z",
     "iopub.status.idle": "2023-03-30T15:17:35.838071Z",
     "shell.execute_reply.started": "2023-03-30T15:17:26.102602Z",
     "shell.execute_reply": "2023-03-30T15:17:35.836406Z"
    },
    "trusted": true,
    "pycharm": {
     "name": "#%%\n"
    }
   },
   "execution_count": 11,
   "outputs": [
    {
     "name": "stdout",
     "text": "Computing the cosine similarity matrix...\nDone computing similarity matrix.\n",
     "output_type": "stream"
    }
   ]
  },
  {
   "cell_type": "code",
   "source": [
    "# Функция для получения рекомендаций товаров для пользователя с использованием модели Surprise\n",
    "def get_recommendations(user_id, daily_sales_df, algo, n_recommendations=5):\n",
    "    # Получаем список уникальных товаров\n",
    "    unique_products = daily_sales_df['item'].unique()\n",
    "\n",
    "    # Получаем список товаров, которые пользователь уже купил\n",
    "    purchased_products = daily_sales_df.loc[daily_sales_df['user'] == user_id, 'item'].unique()\n",
    "\n",
    "    # Список товаров, которые пользователь еще не купил\n",
    "    not_purchased_products = set(unique_products) - set(purchased_products)\n",
    "\n",
    "    # Предсказываем рейтинги для всех товаров, которые пользователь еще не купил\n",
    "    predicted_ratings = [(product_id, algo.predict(user_id, product_id).est) for product_id in not_purchased_products]\n",
    "\n",
    "    # Сортируем товары по убыванию предсказанных рейтингов и выбираем первые N товаров\n",
    "    recommendations = sorted(predicted_ratings, key=lambda x: x[1], reverse=True)[:n_recommendations]\n",
    "\n",
    "    # Возвращаем список рекомендованных товаров\n",
    "    return [product_id for product_id, _ in recommendations]"
   ],
   "metadata": {
    "execution": {
     "iopub.status.busy": "2023-03-30T15:17:35.839717Z",
     "iopub.execute_input": "2023-03-30T15:17:35.840136Z",
     "iopub.status.idle": "2023-03-30T15:17:35.853098Z",
     "shell.execute_reply.started": "2023-03-30T15:17:35.840098Z",
     "shell.execute_reply": "2023-03-30T15:17:35.851678Z"
    },
    "trusted": true,
    "pycharm": {
     "name": "#%%\n"
    }
   },
   "execution_count": 12,
   "outputs": []
  },
  {
   "cell_type": "code",
   "source": [
    "# Функция для получения рекомендаций товаров для пользователя с использованием модели LightFM\n",
    "def get_recommendations_lightfm(model, user_id, k=10):\n",
    "    user_idx = dataset.mapping()[0][user_id]\n",
    "    scores = model.predict(user_idx, np.arange(interactions.shape[1]))\n",
    "    top_items = np.argsort(-scores)[:k]\n",
    "\n",
    "    # Получите обратное отображение для индексов товаров\n",
    "    item_id_reverse_mapping = {v: k for k, v in dataset.mapping()[2].items()}\n",
    "\n",
    "    recommended_item_ids = [item_id_reverse_mapping[item_idx] for item_idx in top_items]\n",
    "\n",
    "    return recommended_item_ids\n",
    "\n",
    "# Функция для получения рекомендаций товаров с использованием ансамбля моделей LightFM и Surprise\n",
    "def ensemble_recommendations(user_id, daily_sales_df, lightfm_model, surprise_algo, k=5):\n",
    "    lightfm_recs = get_recommendations_lightfm(lightfm_model, user_id, k)\n",
    "    surprise_recs = get_recommendations(user_id, daily_sales_df, surprise_algo, k)\n",
    "\n",
    "    # Объединение рекомендаций от обеих моделей\n",
    "    combined_recs = lightfm_recs + surprise_recs #['B00XA8XWGS', 'B000F4DKAI', 'B0001LO3FG', 'B00XABKAWY', 'B0014EOU4S']\n",
    "    \n",
    "    lin = []\n",
    "    for i in combined_recs:\n",
    "        lin.append(daily_sales_df.loc[daily_sales_df['item'] == i]['title'].iloc[-1])\n",
    "        \n",
    "    # Получение списка товаров, купленных пользователем\n",
    "    user_purchase = daily_sales_df.loc[daily_sales_df['user'] == user_id]['title'].unique().tolist()\n",
    "    \n",
    "    # Удаление из списка рекомендаций товаров, которые пользователь уже купил\n",
    "    result = list(filter(lambda x: x not in user_purchase, lin))\n",
    "    \n",
    "    # Возвращаем топ-N рекомендаций\n",
    "    return result[:k]"
   ],
   "metadata": {
    "execution": {
     "iopub.status.busy": "2023-03-30T15:17:35.854810Z",
     "iopub.execute_input": "2023-03-30T15:17:35.855240Z",
     "iopub.status.idle": "2023-03-30T15:17:35.871715Z",
     "shell.execute_reply.started": "2023-03-30T15:17:35.855200Z",
     "shell.execute_reply": "2023-03-30T15:17:35.870223Z"
    },
    "trusted": true,
    "pycharm": {
     "name": "#%%\n"
    }
   },
   "execution_count": 13,
   "outputs": []
  },
  {
   "cell_type": "markdown",
   "source": [
    "### Рекомендачии товаров на основе подобия пользоваетля"
   ],
   "metadata": {
    "pycharm": {
     "name": "#%% md\n"
    }
   }
  },
  {
   "cell_type": "code",
   "source": [
    "# Пример использования функции ансамбля\n",
    "user_id = \"A2PF64RBR1G1SZ\"  \n",
    "k = 5  # Количество рекомендованных товаров"
   ],
   "metadata": {
    "execution": {
     "iopub.status.busy": "2023-03-30T15:17:35.873342Z",
     "iopub.execute_input": "2023-03-30T15:17:35.873843Z",
     "iopub.status.idle": "2023-03-30T15:17:35.890750Z",
     "shell.execute_reply.started": "2023-03-30T15:17:35.873791Z",
     "shell.execute_reply": "2023-03-30T15:17:35.889357Z"
    },
    "trusted": true,
    "pycharm": {
     "name": "#%%\n"
    }
   },
   "execution_count": 14,
   "outputs": []
  },
  {
   "cell_type": "code",
   "source": [
    "user_recommendations = ensemble_recommendations(user_id, daily_sales_df, model, algo, k=5)\n",
    "\n",
    "print(f\"Ансамбль рекомендаций для пользователя купившего следующие товары:\\n\") \n",
    "print('\\n'.join(daily_sales_df.loc[daily_sales_df['user'] == user_id]['title'].unique().tolist()))"
   ],
   "metadata": {
    "execution": {
     "iopub.status.busy": "2023-03-30T17:37:34.988470Z",
     "iopub.execute_input": "2023-03-30T17:37:34.988929Z",
     "iopub.status.idle": "2023-03-30T17:37:35.831586Z",
     "shell.execute_reply.started": "2023-03-30T17:37:34.988890Z",
     "shell.execute_reply": "2023-03-30T17:37:35.830660Z"
    },
    "trusted": true,
    "pycharm": {
     "name": "#%%\n"
    }
   },
   "execution_count": 45,
   "outputs": [
    {
     "name": "stdout",
     "text": "Ансамбль рекомендаций для пользователя купившего следующие товары:\n\nTwinings of London Pure Camomile Herbal Tea Bags, 20 Count\nYogi Tea - Peach DeTox - Healthy Warming Blend - 6 Pack, 96 Tea Bags Total\nTwinings of London English Afternoon Black Tea Bags, 20 Count (Pack of 6)\nJack Link's Beef Jerky, Sweet &amp; Hot, 1.8-Ounce Packages (Pack of 8)\nDavidson's Tea Irish Breakfast Tea, 100-Count Tea Bags\nBragg Organic Unfiltered Apple Cider Vinegar, Raw, 16 Ounce - 1 Pack\nV8 Original 100% Vegetable Juice, 5.5 oz. Can (8 packs of 6, Total of 48)\nGlycerin Vegetable - 1 Quart (43 oz.) - Non GMO - Sustainable Palm Based - USP - KOSHER - PURE - Pharmaceutical Grade\n96-Count Beantown Roasters Variety Pack Sampler of 12 Assorted Roasted Coffees, single-cup coffee pack sampler for Keurig K-Cup Brewers\nTwinings of London Christmas Black Tea Bags, 20 Count\nPlanters Mixed Nuts, Lightly Salted Deluxe Mixed Nuts, 15.25 Ounce\nStacy's Parmesan Garlic &amp; Herb Flavored Pita Chips, 7.33 Ounce (Pack of 12)\n",
     "output_type": "stream"
    }
   ]
  },
  {
   "cell_type": "code",
   "source": [
    "user_recommendations"
   ],
   "metadata": {
    "execution": {
     "iopub.status.busy": "2023-03-30T17:38:44.988435Z",
     "iopub.execute_input": "2023-03-30T17:38:44.988904Z",
     "iopub.status.idle": "2023-03-30T17:38:44.996871Z",
     "shell.execute_reply.started": "2023-03-30T17:38:44.988865Z",
     "shell.execute_reply": "2023-03-30T17:38:44.995496Z"
    },
    "trusted": true,
    "pycharm": {
     "name": "#%%\n"
    }
   },
   "execution_count": 46,
   "outputs": [
    {
     "execution_count": 46,
     "output_type": "execute_result",
     "data": {
      "text/plain": "['Perrier Lime Flavored Carbonated Mineral Water, 16.9 fl oz. Plastic Bottles (24 Count)',\n 'ANCIENT ORGANICS 100% Organic Ghee from Grass-fed Cows, 32oz',\n 'Garden of Life Meal Replacement - Raw Organic Fit Powder, Original - High Protein for Weight Loss (28g) plus Fiber &amp; Probiotics, Organic &amp; Non-GMO Vegan Nutritional Shake, Packets (10 Count Tray)',\n 'Little Stinker The Original Bag of Unicorn Farts Cotton Candy Funny Novelty Gift for Unique Birthday Gag Gift for Friends, Mom, Dad, Girl, Boy Grandson Stocking Stuffer While Elephant Christmas',\n 'Organic Wise Ceylon Cinnamon Ground Powder, 1 lb-From a USDA Certified Organic Farm and Packed In The USA']"
     },
     "metadata": {}
    }
   ]
  },
  {
   "cell_type": "code",
   "source": [],
   "metadata": {
    "pycharm": {
     "name": "#%%\n"
    }
   },
   "execution_count": null,
   "outputs": []
  },
  {
   "cell_type": "markdown",
   "source": [
    "# Рекомендачии товаров на основе подобия товара"
   ],
   "metadata": {
    "pycharm": {
     "name": "#%% md\n"
    }
   }
  },
  {
   "cell_type": "code",
   "source": [
    "# Функция для получения похожих товаров с использованием модели Surprise\n",
    "def get_similar_items_surprise(item_id, daily_sales_df, algo, k=5):\n",
    "    # Получение уникальных пользователей и пользователей, которые купили данный товар\n",
    "    unique_users = daily_sales_df['user'].unique()\n",
    "    users_bought_item = daily_sales_df.loc[daily_sales_df['item'] == item_id, 'user'].unique()\n",
    "    \n",
    "    # Вычисление пользователей, которые не купили данный товар\n",
    "    users_not_buy_item = set(unique_users) - set(users_bought_item)\n",
    "\n",
    "    # Предсказание оценок для пользователей, которые не купили данный товар\n",
    "    predicted_ratings = [(user_id, algo.predict(user_id, item_id).est) for user_id in users_not_buy_item]\n",
    "    top_users = sorted(predicted_ratings, key=lambda x: x[1], reverse=True)[:k]\n",
    "    \n",
    "    recommended_items = []\n",
    "    for user_id, _ in top_users:\n",
    "        user_recommendations = get_recommendations(user_id, daily_sales_df, algo, k)\n",
    "        recommended_items.extend(user_recommendations)\n",
    "\n",
    "    return list(set(recommended_items))\n"
   ],
   "metadata": {
    "execution": {
     "iopub.status.busy": "2023-03-30T15:17:36.777631Z",
     "iopub.execute_input": "2023-03-30T15:17:36.778019Z",
     "iopub.status.idle": "2023-03-30T15:17:36.788462Z",
     "shell.execute_reply.started": "2023-03-30T15:17:36.777976Z",
     "shell.execute_reply": "2023-03-30T15:17:36.787059Z"
    },
    "trusted": true,
    "pycharm": {
     "name": "#%%\n"
    }
   },
   "execution_count": 18,
   "outputs": []
  },
  {
   "cell_type": "code",
   "source": [
    "# Функция для получения похожих товаров с использованием ансамбля моделей LightFM и Surprise\n",
    "def ensemble_item_recommendations(item_id, daily_sales_df, lightfm_model, surprise_algo, k=5):\n",
    "    lightfm_recs = get_similar_items(lightfm_model, item_id, k)\n",
    "    surprise_recs = get_similar_items_surprise(item_id, daily_sales_df, surprise_algo, k)\n",
    "    \n",
    "    # Объединение рекомендаций от обеих моделей\n",
    "    combined_recs = list(set(lightfm_recs + surprise_recs)) #['B00BUKL666', 'B01G0S3Y44', 'B00KSN9TME', 'B00DDT116M', 'B00R7PWK7W']\n",
    "    \n",
    "    lin = []\n",
    "    for i in combined_recs:\n",
    "        lin.append(daily_sales_df.loc[daily_sales_df['item'] == i]['title'].iloc[-1])\n",
    "        \n",
    "    \n",
    "    result = list(filter(lambda x: x not in item_id, lin))\n",
    "    \n",
    "    return result[:k]"
   ],
   "metadata": {
    "execution": {
     "iopub.status.busy": "2023-03-30T15:17:36.789894Z",
     "iopub.execute_input": "2023-03-30T15:17:36.790472Z",
     "iopub.status.idle": "2023-03-30T15:17:36.806319Z",
     "shell.execute_reply.started": "2023-03-30T15:17:36.790428Z",
     "shell.execute_reply": "2023-03-30T15:17:36.805044Z"
    },
    "trusted": true,
    "pycharm": {
     "name": "#%%\n"
    }
   },
   "execution_count": 19,
   "outputs": []
  },
  {
   "cell_type": "code",
   "source": [
    "product_id = \"B00MQ6F3AS\"\n",
    "product_recommendations = ensemble_item_recommendations(product_id, daily_sales_df, model, algo, k=5)"
   ],
   "metadata": {
    "execution": {
     "iopub.status.busy": "2023-03-30T15:17:36.807997Z",
     "iopub.execute_input": "2023-03-30T15:17:36.808440Z",
     "iopub.status.idle": "2023-03-30T15:17:44.874675Z",
     "shell.execute_reply.started": "2023-03-30T15:17:36.808407Z",
     "shell.execute_reply": "2023-03-30T15:17:44.873573Z"
    },
    "trusted": true,
    "pycharm": {
     "name": "#%%\n"
    }
   },
   "execution_count": 20,
   "outputs": []
  },
  {
   "cell_type": "code",
   "source": [
    "print(f\"\\nРекомендации для товара, ensemble_item_recommendatio:\\n {daily_sales_df.loc[daily_sales_df['item'] == product_id]['title'].iloc[-1]}:\\n\")\n",
    "for i in product_recommendations:\n",
    "    print(i)"
   ],
   "metadata": {
    "execution": {
     "iopub.status.busy": "2023-03-30T17:40:16.179697Z",
     "iopub.execute_input": "2023-03-30T17:40:16.180138Z",
     "iopub.status.idle": "2023-03-30T17:40:16.244266Z",
     "shell.execute_reply.started": "2023-03-30T17:40:16.180101Z",
     "shell.execute_reply": "2023-03-30T17:40:16.243351Z"
    },
    "trusted": true,
    "pycharm": {
     "name": "#%%\n"
    }
   },
   "execution_count": 47,
   "outputs": [
    {
     "name": "stdout",
     "text": "\nРекомендации для товара, ensemble_item_recommendatio:\n Victor Allen's Coffee K Cups, Morning Blend Single Light Roast Coffee, 42 Count, Keurig 2.0 Brewer Compatible:\n\nPremier Protein 30g Protein Shakes, Chocolate, 11 Fluid Ounces, 4 Per Pack\nVictor Allen's Coffee K Cups, Decaf Donut Shop Blend Single Serve Medium Roast Coffee, 80 Count, Keurig 2.0 Brewer Compatible\nHoliday Nuts Gift Basket - Gourmet Food Gifts Prime Delivery - Christmas, Mothers &amp; Fathers Day Fruit Nut Gift Box, Assortment Tray - Birthday, Sympathy, Get Well, Woman &amp; Families- Hula Delights\nNewman's Own Organics Royal Tea, Organic Green Tea, 100 Tea Bags,7.1 ounce (Pack of 5)\nInternational Delight, French Vanilla, Single-Serve Coffee Creamers, 24 Count (Pack of 6), Shelf Stable Non-Dairy Flavored Coffee Creamer, Great for Home Use, Offices, Parties or Group Events\n",
     "output_type": "stream"
    }
   ]
  },
  {
   "cell_type": "code",
   "source": [],
   "metadata": {
    "pycharm": {
     "name": "#%%\n"
    }
   },
   "execution_count": null,
   "outputs": []
  },
  {
   "cell_type": "markdown",
   "source": [
    "# Агрегирование рейтингов:"
   ],
   "metadata": {
    "pycharm": {
     "name": "#%% md\n"
    }
   }
  },
  {
   "cell_type": "code",
   "source": [
    "#функция агрегирует рейтинги, предсказанные с помощью моделей LightFM и Surprise, и возвращает топ-N рекомендаций для заданного пользователя.\n",
    "def ensemble_recommendations_by_rating(user_id, daily_sales_df, lightfm_model, surprise_algo, k=5):\n",
    "    unique_products = daily_sales_df['item'].unique()\n",
    "    \n",
    "    # Получение рейтингов всех товаров для заданного пользователя с использованием моделей LightFM и Surprise\n",
    "    lightfm_ratings = {product_id: lightfm_model.predict(np.array([dataset.mapping()[0][user_id]]), np.array([dataset.mapping()[2][product_id]]))[0] for product_id in unique_products}\n",
    "    surprise_ratings = {product_id: surprise_algo.predict(user_id, product_id).est for product_id in unique_products}\n",
    "    \n",
    "    # Объединение рейтингов обеих моделей, усредняя их значения\n",
    "    combined_ratings = {product_id: (lightfm_ratings[product_id] + surprise_ratings[product_id]) / 2 for product_id in unique_products}\n",
    "\n",
    "    # Сортировка объединенных рейтингов в порядке убывания\n",
    "    sorted_recommendations = sorted(combined_ratings.items(), key=lambda x: x[1], reverse=True)#[:k]\n",
    "    \n",
    "    lin = []\n",
    "    for i in [product_id for product_id, _ in sorted_recommendations]: \n",
    "        lin.append(daily_sales_df.loc[daily_sales_df['item'] == i]['title'].iloc[-1])\n",
    "        \n",
    "    user_purchase = daily_sales_df.loc[daily_sales_df['user'] == user_id]['title'].unique().tolist()\n",
    "    \n",
    "    result = list(filter(lambda x: x not in user_purchase, lin))\n",
    "    \n",
    "    return result[:k]\n",
    " \n",
    "#функция агрегирует рейтинги, предсказанные с помощью моделей LightFM и Surprise, но возвращает топ-N рекомендаций с учетом вероятности продажи товара. \n",
    "#Вероятность продажи используется для корректировки рейтинга каждого товара перед выбором топ-N.\n",
    "def ensemble_recommendations_by_rating_adjusted(user_id, daily_sales_df, lightfm_model, surprise_algo, sales_probabilities, k=5):\n",
    "    unique_products = daily_sales_df['item'].unique()\n",
    "    \n",
    "    # Получение рейтингов всех товаров для заданного пользователя с использованием моделей LightFM и Surprise\n",
    "    user_idx = dataset.mapping()[0].get(user_id, -1)\n",
    "    user_ids = np.full(len(unique_products), user_idx, dtype=np.int32)\n",
    "    item_indices = [dataset.mapping()[2][product_id] for product_id in unique_products]\n",
    "\n",
    "    lightfm_ratings = {product_id: rating for product_id, rating in zip(unique_products, lightfm_model.predict(user_ids, item_indices))}\n",
    "    surprise_ratings = {product_id: surprise_algo.predict(user_id, product_id).est for product_id in unique_products}\n",
    "\n",
    "    # Учитывание вероятности продажи товара для корректировки объединенных рейтингов\n",
    "    adjusted_ratings = {}\n",
    "    for product_id in unique_products:\n",
    "        probability = sales_probabilities.loc[sales_probabilities['product_id'] == product_id, 'multiplier'].values[0]\n",
    "        adjusted_ratings[product_id] = (lightfm_ratings[product_id] + surprise_ratings[product_id]) * probability\n",
    "\n",
    "    # Сортировка скорректированных рейтингов в порядке убывания\n",
    "    top_n_recommendations = sorted(adjusted_ratings, key=adjusted_ratings.get, reverse=True)#[:k]\n",
    "\n",
    "    lin = []\n",
    "    for i in top_n_recommendations: \n",
    "        lin.append(daily_sales_df.loc[daily_sales_df['item'] == i]['title'].iloc[-1])\n",
    "        \n",
    "    user_purchase = daily_sales_df.loc[daily_sales_df['user'] == user_id]['title'].unique().tolist()\n",
    "    \n",
    "    result = list(filter(lambda x: x not in user_purchase, lin))\n",
    "    \n",
    "    return result[:k]"
   ],
   "metadata": {
    "execution": {
     "iopub.status.busy": "2023-03-30T15:17:44.940893Z",
     "iopub.execute_input": "2023-03-30T15:17:44.941476Z",
     "iopub.status.idle": "2023-03-30T15:17:44.958693Z",
     "shell.execute_reply.started": "2023-03-30T15:17:44.941438Z",
     "shell.execute_reply": "2023-03-30T15:17:44.957096Z"
    },
    "trusted": true,
    "pycharm": {
     "name": "#%%\n"
    }
   },
   "execution_count": 22,
   "outputs": []
  },
  {
   "cell_type": "code",
   "source": [
    "# Используя агрегирование рейтингов\n",
    "user_id = \"A2PF64RBR1G1SZ\"\n",
    "recommendations_by_rating = ensemble_recommendations_by_rating(user_id, daily_sales_df, model, algo, k=5)"
   ],
   "metadata": {
    "execution": {
     "iopub.status.busy": "2023-03-30T15:17:44.963253Z",
     "iopub.execute_input": "2023-03-30T15:17:44.963674Z",
     "iopub.status.idle": "2023-03-30T15:18:05.697087Z",
     "shell.execute_reply.started": "2023-03-30T15:17:44.963640Z",
     "shell.execute_reply": "2023-03-30T15:18:05.695860Z"
    },
    "trusted": true,
    "pycharm": {
     "name": "#%%\n"
    }
   },
   "execution_count": 23,
   "outputs": []
  },
  {
   "cell_type": "code",
   "source": [
    "print(f\"Рекомендации для пользователя купившего следующие товары, составленные ансамблем по методу 'Агрегирование рейтингов':\\n\") \n",
    "print('\\n'.join(daily_sales_df.loc[daily_sales_df['user'] == user_id]['title'].unique().tolist()))"
   ],
   "metadata": {
    "execution": {
     "iopub.status.busy": "2023-03-30T15:18:05.698601Z",
     "iopub.execute_input": "2023-03-30T15:18:05.698965Z",
     "iopub.status.idle": "2023-03-30T15:18:05.769110Z",
     "shell.execute_reply.started": "2023-03-30T15:18:05.698921Z",
     "shell.execute_reply": "2023-03-30T15:18:05.767763Z"
    },
    "trusted": true,
    "pycharm": {
     "name": "#%%\n"
    }
   },
   "execution_count": 24,
   "outputs": [
    {
     "name": "stdout",
     "text": "Рекомендации для пользователя купившего следующие товары, составленные ансамблем по методу 'Агрегирование рейтингов':\n\nTwinings of London Pure Camomile Herbal Tea Bags, 20 Count\nYogi Tea - Peach DeTox - Healthy Warming Blend - 6 Pack, 96 Tea Bags Total\nTwinings of London English Afternoon Black Tea Bags, 20 Count (Pack of 6)\nJack Link's Beef Jerky, Sweet &amp; Hot, 1.8-Ounce Packages (Pack of 8)\nDavidson's Tea Irish Breakfast Tea, 100-Count Tea Bags\nBragg Organic Unfiltered Apple Cider Vinegar, Raw, 16 Ounce - 1 Pack\nV8 Original 100% Vegetable Juice, 5.5 oz. Can (8 packs of 6, Total of 48)\nGlycerin Vegetable - 1 Quart (43 oz.) - Non GMO - Sustainable Palm Based - USP - KOSHER - PURE - Pharmaceutical Grade\n96-Count Beantown Roasters Variety Pack Sampler of 12 Assorted Roasted Coffees, single-cup coffee pack sampler for Keurig K-Cup Brewers\nTwinings of London Christmas Black Tea Bags, 20 Count\nPlanters Mixed Nuts, Lightly Salted Deluxe Mixed Nuts, 15.25 Ounce\nStacy's Parmesan Garlic &amp; Herb Flavored Pita Chips, 7.33 Ounce (Pack of 12)\n",
     "output_type": "stream"
    }
   ]
  },
  {
   "cell_type": "code",
   "source": [
    "for i in recommendations_by_rating: print(i)"
   ],
   "metadata": {
    "execution": {
     "iopub.status.busy": "2023-03-30T17:41:12.452932Z",
     "iopub.execute_input": "2023-03-30T17:41:12.453506Z",
     "iopub.status.idle": "2023-03-30T17:41:12.460202Z",
     "shell.execute_reply.started": "2023-03-30T17:41:12.453453Z",
     "shell.execute_reply": "2023-03-30T17:41:12.459013Z"
    },
    "trusted": true,
    "pycharm": {
     "name": "#%%\n"
    }
   },
   "execution_count": 48,
   "outputs": [
    {
     "name": "stdout",
     "text": "Perrier Lime Flavored Carbonated Mineral Water, 16.9 fl oz. Plastic Bottles (24 Count)\nHodgson Mill Honey Whole Wheat Bread Mix 16-Ounce Boxes (Pack of 6), Bread Mix for Bread Machines or Oven Baked Bread, Yeast Included\nFrito-Lay Chips Classic Mix Multipack, 20 Count\nMartinson Single Serve Coffee Capsules, Breakfast Blend, 24 Count\nBai Bubbles, Sparkling Water, Jamaica Blood Orange, Antioxidant Infused Drinks, 11.5  Fl Oz Cans, Pack of 12\n",
     "output_type": "stream"
    }
   ]
  },
  {
   "cell_type": "code",
   "source": [
    "# Используя дополненное агрегирование рейтингов\n",
    "user_id = \"A2PF64RBR1G1SZ\"\n",
    "recommendations_by_rating_adv = ensemble_recommendations_by_rating_adjusted(user_id, daily_sales_df, model, algo, multiplier_2002_full_df, k=5)"
   ],
   "metadata": {
    "execution": {
     "iopub.status.busy": "2023-03-30T15:18:05.784062Z",
     "iopub.execute_input": "2023-03-30T15:18:05.784526Z",
     "iopub.status.idle": "2023-03-30T15:18:26.352225Z",
     "shell.execute_reply.started": "2023-03-30T15:18:05.784479Z",
     "shell.execute_reply": "2023-03-30T15:18:26.350808Z"
    },
    "trusted": true,
    "pycharm": {
     "name": "#%%\n"
    }
   },
   "execution_count": 26,
   "outputs": []
  },
  {
   "cell_type": "code",
   "source": [
    "recommendations_by_rating_adv"
   ],
   "metadata": {
    "execution": {
     "iopub.status.busy": "2023-03-30T16:43:27.442524Z",
     "iopub.execute_input": "2023-03-30T16:43:27.442986Z",
     "iopub.status.idle": "2023-03-30T16:43:27.452570Z",
     "shell.execute_reply.started": "2023-03-30T16:43:27.442923Z",
     "shell.execute_reply": "2023-03-30T16:43:27.451046Z"
    },
    "trusted": true,
    "pycharm": {
     "name": "#%%\n"
    }
   },
   "execution_count": 39,
   "outputs": [
    {
     "execution_count": 39,
     "output_type": "execute_result",
     "data": {
      "text/plain": "['Perrier Lime Flavored Carbonated Mineral Water, 16.9 fl oz. Plastic Bottles (24 Count)',\n 'Soylent Meal Replacement Drink, Original, 14 oz Bottles, 12 Pack (Packaging May Vary)',\n \"Victor Allen's Coffee K Cups, Morning Blend Single Light Roast Coffee, 42 Count, Keurig 2.0 Brewer Compatible\",\n 'PBfit &mdash; All-Natural Peanut Butter Powder, Produced by BetterBody Foods, 8 Ounce',\n 'IZZE Sparkling Juice, Blackberry, 8.4 oz Cans, 24 Count']"
     },
     "metadata": {}
    }
   ]
  },
  {
   "cell_type": "code",
   "source": [],
   "metadata": {
    "pycharm": {
     "name": "#%%\n"
    }
   },
   "execution_count": null,
   "outputs": []
  },
  {
   "cell_type": "markdown",
   "source": [
    "# Ранжирование рекомендаций:"
   ],
   "metadata": {
    "pycharm": {
     "name": "#%% md\n"
    }
   }
  },
  {
   "cell_type": "code",
   "source": [
    "#функция агрегирует рекомендации моделей LightFM и Surprise на основе ранга и возвращает топ-N рекомендаций для заданного пользователя.\n",
    "def ensemble_recommendations_by_rank(user_id, daily_sales_df, lightfm_model, surprise_algo, k=5):\n",
    "    unique_products = daily_sales_df['item'].unique()\n",
    "    user_idx = dataset.mapping()[0][user_id]\n",
    "    \n",
    "    # Получение рейтингов всех товаров для заданного пользователя с использованием моделей LightFM и Surprise\n",
    "    lightfm_ratings = {}\n",
    "    for product_id in unique_products:\n",
    "        product_idx = dataset.mapping()[2][product_id]\n",
    "        lightfm_ratings[product_id] = lightfm_model.predict(user_idx, np.array([product_idx]))[0]\n",
    "    \n",
    "    surprise_ratings = {product_id: surprise_algo.predict(user_id, product_id).est for product_id in unique_products}\n",
    "    \n",
    "    # Ранжирование рекомендаций от каждой модели\n",
    "    lightfm_ranked = sorted(lightfm_ratings.items(), key=lambda x: x[1], reverse=True)[:k]\n",
    "    surprise_ranked = sorted(surprise_ratings.items(), key=lambda x: x[1], reverse=True)[:k]\n",
    "    \n",
    "    # Объединение рекомендаций на основе ранга\n",
    "    recommendations = []\n",
    "    for i in range(k):\n",
    "        recommendations.append(lightfm_ranked[i][0])\n",
    "        recommendations.append(surprise_ranked[i][0])\n",
    "\n",
    "    lin = []\n",
    "    for i in recommendations: \n",
    "        lin.append(daily_sales_df.loc[daily_sales_df['item'] == i]['title'].iloc[-1])\n",
    "        \n",
    "    user_purchase = daily_sales_df.loc[daily_sales_df['user'] == user_id]['title'].unique().tolist()\n",
    "    \n",
    "    result = list(filter(lambda x: x not in user_purchase, lin))\n",
    "    \n",
    "    return result[:k]"
   ],
   "metadata": {
    "execution": {
     "iopub.status.busy": "2023-03-30T15:18:26.363899Z",
     "iopub.execute_input": "2023-03-30T15:18:26.364409Z",
     "iopub.status.idle": "2023-03-30T15:18:26.378547Z",
     "shell.execute_reply.started": "2023-03-30T15:18:26.364362Z",
     "shell.execute_reply": "2023-03-30T15:18:26.377597Z"
    },
    "trusted": true,
    "pycharm": {
     "name": "#%%\n"
    }
   },
   "execution_count": 28,
   "outputs": []
  },
  {
   "cell_type": "code",
   "source": [
    "# Используя ранжирование рекомендаций\n",
    "user_id = \"A2PF64RBR1G1SZ\"\n",
    "ensemble_recommendations_rank = ensemble_recommendations_by_rank(user_id, daily_sales_df, model, algo, k=5)"
   ],
   "metadata": {
    "execution": {
     "iopub.status.busy": "2023-03-30T15:18:26.379898Z",
     "iopub.execute_input": "2023-03-30T15:18:26.380884Z",
     "iopub.status.idle": "2023-03-30T15:18:27.186021Z",
     "shell.execute_reply.started": "2023-03-30T15:18:26.380834Z",
     "shell.execute_reply": "2023-03-30T15:18:27.184737Z"
    },
    "trusted": true,
    "pycharm": {
     "name": "#%%\n"
    }
   },
   "execution_count": 29,
   "outputs": []
  },
  {
   "cell_type": "code",
   "source": [
    "print(f\"Рекомендации для пользователя купившего следующие товары, составленные ансамблем по методу 'Ранжирование рекомендаций':\\n\") \n",
    "print('\\n'.join(daily_sales_df.loc[daily_sales_df['user'] == user_id]['title'].unique().tolist()))"
   ],
   "metadata": {
    "execution": {
     "iopub.status.busy": "2023-03-30T15:18:27.187436Z",
     "iopub.execute_input": "2023-03-30T15:18:27.187799Z",
     "iopub.status.idle": "2023-03-30T15:18:27.257097Z",
     "shell.execute_reply.started": "2023-03-30T15:18:27.187766Z",
     "shell.execute_reply": "2023-03-30T15:18:27.255570Z"
    },
    "trusted": true,
    "pycharm": {
     "name": "#%%\n"
    }
   },
   "execution_count": 30,
   "outputs": [
    {
     "name": "stdout",
     "text": "Рекомендации для пользователя купившего следующие товары, составленные ансамблем по методу 'Ранжирование рекомендаций':\n\nTwinings of London Pure Camomile Herbal Tea Bags, 20 Count\nYogi Tea - Peach DeTox - Healthy Warming Blend - 6 Pack, 96 Tea Bags Total\nTwinings of London English Afternoon Black Tea Bags, 20 Count (Pack of 6)\nJack Link's Beef Jerky, Sweet &amp; Hot, 1.8-Ounce Packages (Pack of 8)\nDavidson's Tea Irish Breakfast Tea, 100-Count Tea Bags\nBragg Organic Unfiltered Apple Cider Vinegar, Raw, 16 Ounce - 1 Pack\nV8 Original 100% Vegetable Juice, 5.5 oz. Can (8 packs of 6, Total of 48)\nGlycerin Vegetable - 1 Quart (43 oz.) - Non GMO - Sustainable Palm Based - USP - KOSHER - PURE - Pharmaceutical Grade\n96-Count Beantown Roasters Variety Pack Sampler of 12 Assorted Roasted Coffees, single-cup coffee pack sampler for Keurig K-Cup Brewers\nTwinings of London Christmas Black Tea Bags, 20 Count\nPlanters Mixed Nuts, Lightly Salted Deluxe Mixed Nuts, 15.25 Ounce\nStacy's Parmesan Garlic &amp; Herb Flavored Pita Chips, 7.33 Ounce (Pack of 12)\n",
     "output_type": "stream"
    }
   ]
  },
  {
   "cell_type": "code",
   "source": [
    "for i in ensemble_recommendations_rank:\n",
    "    print(i)"
   ],
   "metadata": {
    "execution": {
     "iopub.status.busy": "2023-03-30T15:18:27.258708Z",
     "iopub.execute_input": "2023-03-30T15:18:27.259191Z",
     "iopub.status.idle": "2023-03-30T15:18:27.268336Z",
     "shell.execute_reply.started": "2023-03-30T15:18:27.259142Z",
     "shell.execute_reply": "2023-03-30T15:18:27.267032Z"
    },
    "trusted": true,
    "pycharm": {
     "name": "#%%\n"
    }
   },
   "execution_count": 31,
   "outputs": [
    {
     "name": "stdout",
     "text": "Perrier Lime Flavored Carbonated Mineral Water, 16.9 fl oz. Plastic Bottles (24 Count)\nWilton 710-5506 Color Mist Spray 1.5oz, Black\nNOW Foods Xylitol Natural Sweetener - 1 lb\nNutiva Organic, Cold-Pressed, Unrefined, Virgin Coconut Oil from Fresh, non-GMO, Sustainably Farmed Coconuts, 54-ounce\nXyloSweet Non-GMO Xylitol Natural Sweetener, Granules, 5lb Resealable\n",
     "output_type": "stream"
    }
   ]
  },
  {
   "cell_type": "code",
   "source": [],
   "metadata": {
    "trusted": true,
    "pycharm": {
     "name": "#%%\n"
    }
   },
   "execution_count": null,
   "outputs": []
  },
  {
   "cell_type": "code",
   "source": [
    "#функция агрегирует рекомендации моделей LightFM и Surprise на основе дополненного ранга с учетом вероятности продажи товара. \n",
    "#Вероятность продажи используется для корректировки рейтинга каждого товара перед выбором топ-N рекомендаций.\n",
    "def ensemble_recommendations_by_rank_adjusted(user_id, daily_sales_df, lightfm_model, surprise_algo, sales_probabilities, k=5):\n",
    "    unique_products = daily_sales_df['item'].unique()\n",
    "    \n",
    "    user_idx = dataset.mapping()[0].get(user_id, -1)\n",
    "    user_ids = np.full(len(unique_products), user_idx, dtype=np.int32)\n",
    "    item_indices = [dataset.mapping()[2][product_id] for product_id in unique_products]\n",
    "\n",
    "    # Получение рейтингов всех товаров для заданного пользователя с использованием моделей LightFM и Surprise\n",
    "    lightfm_ratings = {product_id: rating for product_id, rating in zip(unique_products, lightfm_model.predict(user_ids, item_indices))}\n",
    "    surprise_ratings = {product_id: surprise_algo.predict(user_id, product_id).est for product_id in unique_products}\n",
    "\n",
    "    # Учитывание вероятности продажи товара для корректировки рейтингов    \n",
    "    adjusted_lightfm_ratings = {}\n",
    "    adjusted_surprise_ratings = {}\n",
    "    for product_id in unique_products:\n",
    "        probability = sales_probabilities.loc[sales_probabilities['product_id'] == product_id, 'multiplier'].values[0]\n",
    "        adjusted_lightfm_ratings[product_id] = lightfm_ratings[product_id] * probability\n",
    "        adjusted_surprise_ratings[product_id] = surprise_ratings[product_id] * probability\n",
    "\n",
    "    # Ранжирование скорректированных рейтингов\n",
    "    lightfm_ranked = sorted(adjusted_lightfm_ratings, key=adjusted_lightfm_ratings.get, reverse=True)\n",
    "    surprise_ranked = sorted(adjusted_surprise_ratings, key=adjusted_surprise_ratings.get, reverse=True)\n",
    "\n",
    "    # Объединение рекомендаций на основе дополненного ранга\n",
    "    combined_ranked = rankdata(lightfm_ranked) + rankdata(surprise_ranked)\n",
    "    recommendations = unique_products[np.argsort(-combined_ranked)]#[:k]\n",
    "    \n",
    "    lin = []\n",
    "    for i in recommendations.tolist(): \n",
    "        lin.append(daily_sales_df.loc[daily_sales_df['item'] == i]['title'].iloc[-1])\n",
    "        \n",
    "    user_purchase = daily_sales_df.loc[daily_sales_df['user'] == user_id]['title'].unique().tolist()\n",
    "    \n",
    "    result = list(filter(lambda x: x not in user_purchase, lin))\n",
    "    \n",
    "    return result[:k]"
   ],
   "metadata": {
    "execution": {
     "iopub.status.busy": "2023-03-30T15:18:27.270508Z",
     "iopub.execute_input": "2023-03-30T15:18:27.271214Z",
     "iopub.status.idle": "2023-03-30T15:18:27.287531Z",
     "shell.execute_reply.started": "2023-03-30T15:18:27.271161Z",
     "shell.execute_reply": "2023-03-30T15:18:27.286432Z"
    },
    "trusted": true,
    "pycharm": {
     "name": "#%%\n"
    }
   },
   "execution_count": 32,
   "outputs": []
  },
  {
   "cell_type": "code",
   "source": [
    "# Используя дополненное ранжирование рекомендаций\n",
    "user_id = \"A2PF64RBR1G1SZ\"\n",
    "ensemble_recommendations_rank_adv = ensemble_recommendations_by_rank_adjusted(user_id, daily_sales_df, model, algo, multiplier_2002_full_df, k=5)"
   ],
   "metadata": {
    "execution": {
     "iopub.status.busy": "2023-03-30T15:18:27.289014Z",
     "iopub.execute_input": "2023-03-30T15:18:27.289401Z",
     "iopub.status.idle": "2023-03-30T15:18:47.958513Z",
     "shell.execute_reply.started": "2023-03-30T15:18:27.289368Z",
     "shell.execute_reply": "2023-03-30T15:18:47.957386Z"
    },
    "trusted": true,
    "pycharm": {
     "name": "#%%\n"
    }
   },
   "execution_count": 33,
   "outputs": []
  },
  {
   "cell_type": "code",
   "source": [
    "ensemble_recommendations_rank_adv"
   ],
   "metadata": {
    "execution": {
     "iopub.status.busy": "2023-03-30T15:18:47.959671Z",
     "iopub.execute_input": "2023-03-30T15:18:47.960003Z",
     "iopub.status.idle": "2023-03-30T15:18:47.966689Z",
     "shell.execute_reply.started": "2023-03-30T15:18:47.959971Z",
     "shell.execute_reply": "2023-03-30T15:18:47.965486Z"
    },
    "trusted": true,
    "pycharm": {
     "name": "#%%\n"
    }
   },
   "execution_count": 34,
   "outputs": [
    {
     "execution_count": 34,
     "output_type": "execute_result",
     "data": {
      "text/plain": "['Traditional Medicinals Organic Chamomile Herbal Leaf Tea, 16 Tea Bags (Pack of 6)',\n 'Celestial Seasonings Victorian Earl Grey Tea, 25 Count',\n 'Tim Hortons 100% Arabica Medium Roast Original Blend Ground Coffee, 32.8 Ounce',\n 'Mentos Chewy Mint Candy Roll, Mint, Stocking Stuffer, Gift, Holiday, Christmas, Party, 1.32 Ounce/14 Pieces (Pack of 15) - Packaging May Vary',\n 'Vanilla Bean Grass-Fed Ghee Butter by 4th &amp; Heart, 9 Ounce, Pasture Raised, Non-GMO, Lactose Free, Certified Paleo, Keto-Friendly']"
     },
     "metadata": {}
    }
   ]
  }
 ]
}