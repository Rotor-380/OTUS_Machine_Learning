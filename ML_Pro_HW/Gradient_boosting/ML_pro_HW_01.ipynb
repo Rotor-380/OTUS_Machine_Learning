{
 "cells": [
  {
   "cell_type": "code",
   "execution_count": 81,
   "outputs": [],
   "source": [
    "9# Import libraries\n",
    "\n",
    "import pandas as pd\n",
    "import matplotlib.pyplot as plt\n",
    "import seaborn as sns\n",
    "import numpy as np\n",
    "import phik\n",
    "from pylab import rcParams\n",
    "\n",
    "rcParams['figure.figsize'] = 25, 15\n",
    "\n",
    "# для построения моделей воспользуемся sklearn\n",
    "\n",
    "import sklearn\n",
    "from sklearn.ensemble import BaggingClassifier\n",
    "from sklearn.tree import DecisionTreeClassifier\n",
    "from sklearn.metrics import classification_report\n",
    "from sklearn.model_selection import train_test_split, cross_val_score, GridSearchCV\n",
    "from sklearn.ensemble import RandomForestClassifier\n",
    "from sklearn.metrics import accuracy_score, precision_score, recall_score\n",
    "from sklearn.metrics import f1_score\n",
    "from sklearn.ensemble import GradientBoostingClassifier\n",
    "from sklearn.metrics import roc_auc_score\n",
    "from sklearn.metrics import plot_confusion_matrix\n",
    "\n",
    "%matplotlib inline"
   ],
   "metadata": {
    "collapsed": false,
    "pycharm": {
     "name": "#%%\n"
    }
   }
  },
  {
   "cell_type": "code",
   "execution_count": 2,
   "outputs": [],
   "source": [
    "pd.set_option('display.float_format', lambda x: '%.3f' % x)  #выключаем scintific notation"
   ],
   "metadata": {
    "collapsed": false,
    "pycharm": {
     "name": "#%%\n"
    }
   }
  },
  {
   "cell_type": "code",
   "execution_count": null,
   "outputs": [],
   "source": [],
   "metadata": {
    "collapsed": false,
    "pycharm": {
     "name": "#%%\n"
    }
   }
  },
  {
   "cell_type": "markdown",
   "source": [
    "# ------------------------------------------------------------------------------------------------------------------------------------------------"
   ],
   "metadata": {
    "collapsed": false,
    "pycharm": {
     "name": "#%% md\n"
    }
   }
  },
  {
   "cell_type": "markdown",
   "source": [
    "Часть 1. EDA\n",
    "\n",
    "    Выберите любой интересующий вас датасет по классификации или регрессии (можно взять из рекозитория https://archive.ics.uci.edu/ml/datasets.php,\n",
    "    еще неплохие и востребованные на практике варианты - предсказание оттока пользователей https://www.kaggle.com/blastchar/telco-customer-churn\n",
    "    или предсказание Customer Livetime Value (CLV или LTV) - https://www.kaggle.com/pankajjsh06/ibm-watson-marketing-customer-value-data\n",
    "    По выбранному датасету проведите EDA, познакомьтесь с признаками, посмотрите зависимости и т.д."
   ],
   "metadata": {
    "collapsed": false,
    "pycharm": {
     "name": "#%% md\n"
    }
   }
  },
  {
   "cell_type": "markdown",
   "source": [
    "Часть 2. Preprocessing & Feature Engineering\n",
    "\n",
    "    Хотя цель этого задания - посмотреть на работу алгоритмов, тем не менее пропускать препроцессинг нельзя :)\n",
    "    Так что переведите категориальные переменные в уникальные лейблы при помощи LabelEncoder,\n",
    "    попробуйте добавить новые переменные и выкинуть лишние и, наконец, разбейте данные на train-test."
   ],
   "metadata": {
    "collapsed": false,
    "pycharm": {
     "name": "#%% md\n"
    }
   }
  },
  {
   "cell_type": "markdown",
   "source": [
    "Часть 3. Who's the mightiest of them all?\n",
    "\n",
    "    Постройте 4 варианта градиентного бустинга, используя значения гиперпараметров “из коробки”: реализация из sklearn, XGBoost, CatBoost, LightGBM\n",
    "    Проверьте качество на отложенной выборке, кто пока лидирует?\n",
    "    Теперь проведите настройку гиперпараметров моделей на кросс-валидации, можно настраивать только самые основные гиперпараметры - число итераций бустинга, max_features, subsample и т.д.\n",
    "    Снова проверьте качество уже настроенных моделей. Кто в итоге победил?"
   ],
   "metadata": {
    "collapsed": false,
    "pycharm": {
     "name": "#%% md\n"
    }
   }
  },
  {
   "cell_type": "markdown",
   "source": [
    "# ------------------------------------------------------------------------------------------------------------------------------------------------"
   ],
   "metadata": {
    "collapsed": false,
    "pycharm": {
     "name": "#%% md\n"
    }
   }
  },
  {
   "cell_type": "markdown",
   "source": [
    "# Dataset loading"
   ],
   "metadata": {
    "collapsed": false,
    "pycharm": {
     "name": "#%% md\n"
    }
   }
  },
  {
   "cell_type": "code",
   "execution_count": 3,
   "outputs": [],
   "source": [
    "DF_EG = pd.read_csv('Data_for_UCI_named.csv')\n",
    "# Electrical Grid Stability Simulated Data Data Set\n",
    "# https://archive.ics.uci.edu/ml/datasets/Electrical+Grid+Stability+Simulated+Data+#"
   ],
   "metadata": {
    "collapsed": false,
    "pycharm": {
     "name": "#%%\n"
    }
   }
  },
  {
   "cell_type": "code",
   "execution_count": 4,
   "outputs": [
    {
     "data": {
      "text/plain": "      tau1  tau2  tau3  tau4    p1     p2     p3     p4    g1    g2    g3  \\\n0    2.959 3.080 8.381 9.781 3.763 -0.783 -1.257 -1.723 0.650 0.860 0.887   \n1    9.304 4.903 3.048 1.369 5.068 -1.940 -1.873 -1.255 0.413 0.862 0.562   \n2    8.972 8.848 3.046 1.215 3.405 -1.207 -1.277 -0.920 0.163 0.767 0.839   \n3    0.716 7.670 4.487 2.341 3.964 -1.027 -1.939 -0.997 0.446 0.977 0.929   \n4    3.134 7.609 4.944 9.858 3.526 -1.126 -1.846 -0.554 0.797 0.455 0.657   \n...    ...   ...   ...   ...   ...    ...    ...    ...   ...   ...   ...   \n9995 2.930 9.488 2.377 6.188 3.343 -0.658 -1.449 -1.236 0.602 0.780 0.814   \n9996 3.392 1.275 2.955 6.895 4.350 -1.664 -0.952 -1.733 0.502 0.567 0.286   \n9997 2.364 2.842 8.776 1.009 4.300 -1.381 -0.944 -1.975 0.488 0.987 0.149   \n9998 9.632 3.994 2.757 7.821 2.515 -0.966 -0.650 -0.899 0.365 0.588 0.889   \n9999 6.531 6.782 4.350 8.673 3.493 -1.390 -1.532 -0.570 0.073 0.505 0.379   \n\n        g4   stab     stabf  \n0    0.958  0.055  unstable  \n1    0.782 -0.006    stable  \n2    0.110  0.003  unstable  \n3    0.363  0.029  unstable  \n4    0.821  0.050  unstable  \n...    ...    ...       ...  \n9995 0.608  0.024  unstable  \n9996 0.366 -0.026    stable  \n9997 0.146 -0.032    stable  \n9998 0.818  0.038  unstable  \n9999 0.943  0.045  unstable  \n\n[10000 rows x 14 columns]",
      "text/html": "<div>\n<style scoped>\n    .dataframe tbody tr th:only-of-type {\n        vertical-align: middle;\n    }\n\n    .dataframe tbody tr th {\n        vertical-align: top;\n    }\n\n    .dataframe thead th {\n        text-align: right;\n    }\n</style>\n<table border=\"1\" class=\"dataframe\">\n  <thead>\n    <tr style=\"text-align: right;\">\n      <th></th>\n      <th>tau1</th>\n      <th>tau2</th>\n      <th>tau3</th>\n      <th>tau4</th>\n      <th>p1</th>\n      <th>p2</th>\n      <th>p3</th>\n      <th>p4</th>\n      <th>g1</th>\n      <th>g2</th>\n      <th>g3</th>\n      <th>g4</th>\n      <th>stab</th>\n      <th>stabf</th>\n    </tr>\n  </thead>\n  <tbody>\n    <tr>\n      <th>0</th>\n      <td>2.959</td>\n      <td>3.080</td>\n      <td>8.381</td>\n      <td>9.781</td>\n      <td>3.763</td>\n      <td>-0.783</td>\n      <td>-1.257</td>\n      <td>-1.723</td>\n      <td>0.650</td>\n      <td>0.860</td>\n      <td>0.887</td>\n      <td>0.958</td>\n      <td>0.055</td>\n      <td>unstable</td>\n    </tr>\n    <tr>\n      <th>1</th>\n      <td>9.304</td>\n      <td>4.903</td>\n      <td>3.048</td>\n      <td>1.369</td>\n      <td>5.068</td>\n      <td>-1.940</td>\n      <td>-1.873</td>\n      <td>-1.255</td>\n      <td>0.413</td>\n      <td>0.862</td>\n      <td>0.562</td>\n      <td>0.782</td>\n      <td>-0.006</td>\n      <td>stable</td>\n    </tr>\n    <tr>\n      <th>2</th>\n      <td>8.972</td>\n      <td>8.848</td>\n      <td>3.046</td>\n      <td>1.215</td>\n      <td>3.405</td>\n      <td>-1.207</td>\n      <td>-1.277</td>\n      <td>-0.920</td>\n      <td>0.163</td>\n      <td>0.767</td>\n      <td>0.839</td>\n      <td>0.110</td>\n      <td>0.003</td>\n      <td>unstable</td>\n    </tr>\n    <tr>\n      <th>3</th>\n      <td>0.716</td>\n      <td>7.670</td>\n      <td>4.487</td>\n      <td>2.341</td>\n      <td>3.964</td>\n      <td>-1.027</td>\n      <td>-1.939</td>\n      <td>-0.997</td>\n      <td>0.446</td>\n      <td>0.977</td>\n      <td>0.929</td>\n      <td>0.363</td>\n      <td>0.029</td>\n      <td>unstable</td>\n    </tr>\n    <tr>\n      <th>4</th>\n      <td>3.134</td>\n      <td>7.609</td>\n      <td>4.944</td>\n      <td>9.858</td>\n      <td>3.526</td>\n      <td>-1.126</td>\n      <td>-1.846</td>\n      <td>-0.554</td>\n      <td>0.797</td>\n      <td>0.455</td>\n      <td>0.657</td>\n      <td>0.821</td>\n      <td>0.050</td>\n      <td>unstable</td>\n    </tr>\n    <tr>\n      <th>...</th>\n      <td>...</td>\n      <td>...</td>\n      <td>...</td>\n      <td>...</td>\n      <td>...</td>\n      <td>...</td>\n      <td>...</td>\n      <td>...</td>\n      <td>...</td>\n      <td>...</td>\n      <td>...</td>\n      <td>...</td>\n      <td>...</td>\n      <td>...</td>\n    </tr>\n    <tr>\n      <th>9995</th>\n      <td>2.930</td>\n      <td>9.488</td>\n      <td>2.377</td>\n      <td>6.188</td>\n      <td>3.343</td>\n      <td>-0.658</td>\n      <td>-1.449</td>\n      <td>-1.236</td>\n      <td>0.602</td>\n      <td>0.780</td>\n      <td>0.814</td>\n      <td>0.608</td>\n      <td>0.024</td>\n      <td>unstable</td>\n    </tr>\n    <tr>\n      <th>9996</th>\n      <td>3.392</td>\n      <td>1.275</td>\n      <td>2.955</td>\n      <td>6.895</td>\n      <td>4.350</td>\n      <td>-1.664</td>\n      <td>-0.952</td>\n      <td>-1.733</td>\n      <td>0.502</td>\n      <td>0.567</td>\n      <td>0.286</td>\n      <td>0.366</td>\n      <td>-0.026</td>\n      <td>stable</td>\n    </tr>\n    <tr>\n      <th>9997</th>\n      <td>2.364</td>\n      <td>2.842</td>\n      <td>8.776</td>\n      <td>1.009</td>\n      <td>4.300</td>\n      <td>-1.381</td>\n      <td>-0.944</td>\n      <td>-1.975</td>\n      <td>0.488</td>\n      <td>0.987</td>\n      <td>0.149</td>\n      <td>0.146</td>\n      <td>-0.032</td>\n      <td>stable</td>\n    </tr>\n    <tr>\n      <th>9998</th>\n      <td>9.632</td>\n      <td>3.994</td>\n      <td>2.757</td>\n      <td>7.821</td>\n      <td>2.515</td>\n      <td>-0.966</td>\n      <td>-0.650</td>\n      <td>-0.899</td>\n      <td>0.365</td>\n      <td>0.588</td>\n      <td>0.889</td>\n      <td>0.818</td>\n      <td>0.038</td>\n      <td>unstable</td>\n    </tr>\n    <tr>\n      <th>9999</th>\n      <td>6.531</td>\n      <td>6.782</td>\n      <td>4.350</td>\n      <td>8.673</td>\n      <td>3.493</td>\n      <td>-1.390</td>\n      <td>-1.532</td>\n      <td>-0.570</td>\n      <td>0.073</td>\n      <td>0.505</td>\n      <td>0.379</td>\n      <td>0.943</td>\n      <td>0.045</td>\n      <td>unstable</td>\n    </tr>\n  </tbody>\n</table>\n<p>10000 rows × 14 columns</p>\n</div>"
     },
     "execution_count": 4,
     "metadata": {},
     "output_type": "execute_result"
    }
   ],
   "source": [
    "DF_EG"
   ],
   "metadata": {
    "collapsed": false,
    "pycharm": {
     "name": "#%%\n"
    }
   }
  },
  {
   "cell_type": "markdown",
   "source": [
    "# Часть 1. EDA"
   ],
   "metadata": {
    "collapsed": false,
    "pycharm": {
     "name": "#%% md\n"
    }
   }
  },
  {
   "cell_type": "code",
   "execution_count": 5,
   "outputs": [
    {
     "name": "stdout",
     "output_type": "stream",
     "text": [
      "<class 'pandas.core.frame.DataFrame'>\n",
      "RangeIndex: 10000 entries, 0 to 9999\n",
      "Data columns (total 14 columns):\n",
      " #   Column  Non-Null Count  Dtype  \n",
      "---  ------  --------------  -----  \n",
      " 0   tau1    10000 non-null  float64\n",
      " 1   tau2    10000 non-null  float64\n",
      " 2   tau3    10000 non-null  float64\n",
      " 3   tau4    10000 non-null  float64\n",
      " 4   p1      10000 non-null  float64\n",
      " 5   p2      10000 non-null  float64\n",
      " 6   p3      10000 non-null  float64\n",
      " 7   p4      10000 non-null  float64\n",
      " 8   g1      10000 non-null  float64\n",
      " 9   g2      10000 non-null  float64\n",
      " 10  g3      10000 non-null  float64\n",
      " 11  g4      10000 non-null  float64\n",
      " 12  stab    10000 non-null  float64\n",
      " 13  stabf   10000 non-null  object \n",
      "dtypes: float64(13), object(1)\n",
      "memory usage: 1.1+ MB\n"
     ]
    }
   ],
   "source": [
    "DF_EG.info() # только один object"
   ],
   "metadata": {
    "collapsed": false,
    "pycharm": {
     "name": "#%%\n"
    }
   }
  },
  {
   "cell_type": "code",
   "execution_count": 6,
   "outputs": [
    {
     "data": {
      "text/plain": "tau1     0\ntau2     0\ntau3     0\ntau4     0\np1       0\np2       0\np3       0\np4       0\ng1       0\ng2       0\ng3       0\ng4       0\nstab     0\nstabf    0\ndtype: int64"
     },
     "execution_count": 6,
     "metadata": {},
     "output_type": "execute_result"
    }
   ],
   "source": [
    "DF_EG.isna().sum() # пропуски отсутствуют"
   ],
   "metadata": {
    "collapsed": false,
    "pycharm": {
     "name": "#%%\n"
    }
   }
  },
  {
   "cell_type": "code",
   "execution_count": 7,
   "outputs": [
    {
     "data": {
      "text/plain": "array(['unstable', 'stable'], dtype=object)"
     },
     "execution_count": 7,
     "metadata": {},
     "output_type": "execute_result"
    }
   ],
   "source": [
    "DF_EG['stabf'].unique()"
   ],
   "metadata": {
    "collapsed": false,
    "pycharm": {
     "name": "#%%\n"
    }
   }
  },
  {
   "cell_type": "code",
   "execution_count": 8,
   "outputs": [
    {
     "data": {
      "text/plain": "unstable    6380\nstable      3620\nName: stabf, dtype: int64"
     },
     "execution_count": 8,
     "metadata": {},
     "output_type": "execute_result"
    }
   ],
   "source": [
    "DF_EG['stabf'].value_counts()"
   ],
   "metadata": {
    "collapsed": false,
    "pycharm": {
     "name": "#%%\n"
    }
   }
  },
  {
   "cell_type": "code",
   "execution_count": 8,
   "outputs": [],
   "source": [],
   "metadata": {
    "collapsed": false,
    "pycharm": {
     "name": "#%%\n"
    }
   }
  },
  {
   "cell_type": "markdown",
   "source": [
    "# Часть 2. Preprocessing & Feature Engineering"
   ],
   "metadata": {
    "collapsed": false,
    "pycharm": {
     "name": "#%% md\n"
    }
   }
  },
  {
   "cell_type": "code",
   "execution_count": 9,
   "outputs": [],
   "source": [
    "DF_EG['stabf_01'] = DF_EG['stabf'].apply(lambda i: 1 if i == 'stable' else 0) #переводим категориальные переменные в уникальные лейблы"
   ],
   "metadata": {
    "collapsed": false,
    "pycharm": {
     "name": "#%%\n"
    }
   }
  },
  {
   "cell_type": "code",
   "execution_count": 10,
   "outputs": [],
   "source": [
    "AD_DF_EG = DF_EG.drop('stabf', axis=1)"
   ],
   "metadata": {
    "collapsed": false,
    "pycharm": {
     "name": "#%%\n"
    }
   }
  },
  {
   "cell_type": "code",
   "execution_count": 11,
   "outputs": [
    {
     "data": {
      "text/plain": "      tau1  tau2  tau3  tau4    p1     p2     p3     p4    g1    g2    g3  \\\n0    2.959 3.080 8.381 9.781 3.763 -0.783 -1.257 -1.723 0.650 0.860 0.887   \n1    9.304 4.903 3.048 1.369 5.068 -1.940 -1.873 -1.255 0.413 0.862 0.562   \n2    8.972 8.848 3.046 1.215 3.405 -1.207 -1.277 -0.920 0.163 0.767 0.839   \n3    0.716 7.670 4.487 2.341 3.964 -1.027 -1.939 -0.997 0.446 0.977 0.929   \n4    3.134 7.609 4.944 9.858 3.526 -1.126 -1.846 -0.554 0.797 0.455 0.657   \n...    ...   ...   ...   ...   ...    ...    ...    ...   ...   ...   ...   \n9995 2.930 9.488 2.377 6.188 3.343 -0.658 -1.449 -1.236 0.602 0.780 0.814   \n9996 3.392 1.275 2.955 6.895 4.350 -1.664 -0.952 -1.733 0.502 0.567 0.286   \n9997 2.364 2.842 8.776 1.009 4.300 -1.381 -0.944 -1.975 0.488 0.987 0.149   \n9998 9.632 3.994 2.757 7.821 2.515 -0.966 -0.650 -0.899 0.365 0.588 0.889   \n9999 6.531 6.782 4.350 8.673 3.493 -1.390 -1.532 -0.570 0.073 0.505 0.379   \n\n        g4   stab  stabf_01  \n0    0.958  0.055         0  \n1    0.782 -0.006         1  \n2    0.110  0.003         0  \n3    0.363  0.029         0  \n4    0.821  0.050         0  \n...    ...    ...       ...  \n9995 0.608  0.024         0  \n9996 0.366 -0.026         1  \n9997 0.146 -0.032         1  \n9998 0.818  0.038         0  \n9999 0.943  0.045         0  \n\n[10000 rows x 14 columns]",
      "text/html": "<div>\n<style scoped>\n    .dataframe tbody tr th:only-of-type {\n        vertical-align: middle;\n    }\n\n    .dataframe tbody tr th {\n        vertical-align: top;\n    }\n\n    .dataframe thead th {\n        text-align: right;\n    }\n</style>\n<table border=\"1\" class=\"dataframe\">\n  <thead>\n    <tr style=\"text-align: right;\">\n      <th></th>\n      <th>tau1</th>\n      <th>tau2</th>\n      <th>tau3</th>\n      <th>tau4</th>\n      <th>p1</th>\n      <th>p2</th>\n      <th>p3</th>\n      <th>p4</th>\n      <th>g1</th>\n      <th>g2</th>\n      <th>g3</th>\n      <th>g4</th>\n      <th>stab</th>\n      <th>stabf_01</th>\n    </tr>\n  </thead>\n  <tbody>\n    <tr>\n      <th>0</th>\n      <td>2.959</td>\n      <td>3.080</td>\n      <td>8.381</td>\n      <td>9.781</td>\n      <td>3.763</td>\n      <td>-0.783</td>\n      <td>-1.257</td>\n      <td>-1.723</td>\n      <td>0.650</td>\n      <td>0.860</td>\n      <td>0.887</td>\n      <td>0.958</td>\n      <td>0.055</td>\n      <td>0</td>\n    </tr>\n    <tr>\n      <th>1</th>\n      <td>9.304</td>\n      <td>4.903</td>\n      <td>3.048</td>\n      <td>1.369</td>\n      <td>5.068</td>\n      <td>-1.940</td>\n      <td>-1.873</td>\n      <td>-1.255</td>\n      <td>0.413</td>\n      <td>0.862</td>\n      <td>0.562</td>\n      <td>0.782</td>\n      <td>-0.006</td>\n      <td>1</td>\n    </tr>\n    <tr>\n      <th>2</th>\n      <td>8.972</td>\n      <td>8.848</td>\n      <td>3.046</td>\n      <td>1.215</td>\n      <td>3.405</td>\n      <td>-1.207</td>\n      <td>-1.277</td>\n      <td>-0.920</td>\n      <td>0.163</td>\n      <td>0.767</td>\n      <td>0.839</td>\n      <td>0.110</td>\n      <td>0.003</td>\n      <td>0</td>\n    </tr>\n    <tr>\n      <th>3</th>\n      <td>0.716</td>\n      <td>7.670</td>\n      <td>4.487</td>\n      <td>2.341</td>\n      <td>3.964</td>\n      <td>-1.027</td>\n      <td>-1.939</td>\n      <td>-0.997</td>\n      <td>0.446</td>\n      <td>0.977</td>\n      <td>0.929</td>\n      <td>0.363</td>\n      <td>0.029</td>\n      <td>0</td>\n    </tr>\n    <tr>\n      <th>4</th>\n      <td>3.134</td>\n      <td>7.609</td>\n      <td>4.944</td>\n      <td>9.858</td>\n      <td>3.526</td>\n      <td>-1.126</td>\n      <td>-1.846</td>\n      <td>-0.554</td>\n      <td>0.797</td>\n      <td>0.455</td>\n      <td>0.657</td>\n      <td>0.821</td>\n      <td>0.050</td>\n      <td>0</td>\n    </tr>\n    <tr>\n      <th>...</th>\n      <td>...</td>\n      <td>...</td>\n      <td>...</td>\n      <td>...</td>\n      <td>...</td>\n      <td>...</td>\n      <td>...</td>\n      <td>...</td>\n      <td>...</td>\n      <td>...</td>\n      <td>...</td>\n      <td>...</td>\n      <td>...</td>\n      <td>...</td>\n    </tr>\n    <tr>\n      <th>9995</th>\n      <td>2.930</td>\n      <td>9.488</td>\n      <td>2.377</td>\n      <td>6.188</td>\n      <td>3.343</td>\n      <td>-0.658</td>\n      <td>-1.449</td>\n      <td>-1.236</td>\n      <td>0.602</td>\n      <td>0.780</td>\n      <td>0.814</td>\n      <td>0.608</td>\n      <td>0.024</td>\n      <td>0</td>\n    </tr>\n    <tr>\n      <th>9996</th>\n      <td>3.392</td>\n      <td>1.275</td>\n      <td>2.955</td>\n      <td>6.895</td>\n      <td>4.350</td>\n      <td>-1.664</td>\n      <td>-0.952</td>\n      <td>-1.733</td>\n      <td>0.502</td>\n      <td>0.567</td>\n      <td>0.286</td>\n      <td>0.366</td>\n      <td>-0.026</td>\n      <td>1</td>\n    </tr>\n    <tr>\n      <th>9997</th>\n      <td>2.364</td>\n      <td>2.842</td>\n      <td>8.776</td>\n      <td>1.009</td>\n      <td>4.300</td>\n      <td>-1.381</td>\n      <td>-0.944</td>\n      <td>-1.975</td>\n      <td>0.488</td>\n      <td>0.987</td>\n      <td>0.149</td>\n      <td>0.146</td>\n      <td>-0.032</td>\n      <td>1</td>\n    </tr>\n    <tr>\n      <th>9998</th>\n      <td>9.632</td>\n      <td>3.994</td>\n      <td>2.757</td>\n      <td>7.821</td>\n      <td>2.515</td>\n      <td>-0.966</td>\n      <td>-0.650</td>\n      <td>-0.899</td>\n      <td>0.365</td>\n      <td>0.588</td>\n      <td>0.889</td>\n      <td>0.818</td>\n      <td>0.038</td>\n      <td>0</td>\n    </tr>\n    <tr>\n      <th>9999</th>\n      <td>6.531</td>\n      <td>6.782</td>\n      <td>4.350</td>\n      <td>8.673</td>\n      <td>3.493</td>\n      <td>-1.390</td>\n      <td>-1.532</td>\n      <td>-0.570</td>\n      <td>0.073</td>\n      <td>0.505</td>\n      <td>0.379</td>\n      <td>0.943</td>\n      <td>0.045</td>\n      <td>0</td>\n    </tr>\n  </tbody>\n</table>\n<p>10000 rows × 14 columns</p>\n</div>"
     },
     "execution_count": 11,
     "metadata": {},
     "output_type": "execute_result"
    }
   ],
   "source": [
    "AD_DF_EG"
   ],
   "metadata": {
    "collapsed": false,
    "pycharm": {
     "name": "#%%\n"
    }
   }
  },
  {
   "cell_type": "code",
   "execution_count": 12,
   "outputs": [],
   "source": [
    "corrmat = AD_DF_EG.corr() #строим матрицу кореляций"
   ],
   "metadata": {
    "collapsed": false,
    "pycharm": {
     "name": "#%%\n"
    }
   }
  },
  {
   "cell_type": "code",
   "execution_count": 13,
   "outputs": [
    {
     "data": {
      "text/plain": "stab   -0.827\ntau2   -0.246\ntau4   -0.239\ntau3   -0.237\ntau1   -0.235\ng3     -0.232\ng2     -0.217\ng4     -0.205\ng1     -0.198\nName: stabf_01, dtype: float64"
     },
     "execution_count": 13,
     "metadata": {},
     "output_type": "execute_result"
    }
   ],
   "source": [
    "corrmat['stabf_01'].sort_values(ascending=True)[:9] # девять самых значимых признаков"
   ],
   "metadata": {
    "collapsed": false,
    "pycharm": {
     "name": "#%%\n"
    }
   }
  },
  {
   "cell_type": "code",
   "execution_count": 14,
   "outputs": [],
   "source": [
    "AD_DF_EG_09 = AD_DF_EG.drop(['p1', 'p2', 'p3', 'p4', 'stab'], axis=1) # дропаем признаки вклад которых меньше всего"
   ],
   "metadata": {
    "collapsed": false,
    "pycharm": {
     "name": "#%%\n"
    }
   }
  },
  {
   "cell_type": "code",
   "execution_count": 15,
   "outputs": [
    {
     "data": {
      "text/plain": "      tau1  tau2  tau3  tau4    g1    g2    g3    g4  stabf_01\n0    2.959 3.080 8.381 9.781 0.650 0.860 0.887 0.958         0\n1    9.304 4.903 3.048 1.369 0.413 0.862 0.562 0.782         1\n2    8.972 8.848 3.046 1.215 0.163 0.767 0.839 0.110         0\n3    0.716 7.670 4.487 2.341 0.446 0.977 0.929 0.363         0\n4    3.134 7.609 4.944 9.858 0.797 0.455 0.657 0.821         0\n...    ...   ...   ...   ...   ...   ...   ...   ...       ...\n9995 2.930 9.488 2.377 6.188 0.602 0.780 0.814 0.608         0\n9996 3.392 1.275 2.955 6.895 0.502 0.567 0.286 0.366         1\n9997 2.364 2.842 8.776 1.009 0.488 0.987 0.149 0.146         1\n9998 9.632 3.994 2.757 7.821 0.365 0.588 0.889 0.818         0\n9999 6.531 6.782 4.350 8.673 0.073 0.505 0.379 0.943         0\n\n[10000 rows x 9 columns]",
      "text/html": "<div>\n<style scoped>\n    .dataframe tbody tr th:only-of-type {\n        vertical-align: middle;\n    }\n\n    .dataframe tbody tr th {\n        vertical-align: top;\n    }\n\n    .dataframe thead th {\n        text-align: right;\n    }\n</style>\n<table border=\"1\" class=\"dataframe\">\n  <thead>\n    <tr style=\"text-align: right;\">\n      <th></th>\n      <th>tau1</th>\n      <th>tau2</th>\n      <th>tau3</th>\n      <th>tau4</th>\n      <th>g1</th>\n      <th>g2</th>\n      <th>g3</th>\n      <th>g4</th>\n      <th>stabf_01</th>\n    </tr>\n  </thead>\n  <tbody>\n    <tr>\n      <th>0</th>\n      <td>2.959</td>\n      <td>3.080</td>\n      <td>8.381</td>\n      <td>9.781</td>\n      <td>0.650</td>\n      <td>0.860</td>\n      <td>0.887</td>\n      <td>0.958</td>\n      <td>0</td>\n    </tr>\n    <tr>\n      <th>1</th>\n      <td>9.304</td>\n      <td>4.903</td>\n      <td>3.048</td>\n      <td>1.369</td>\n      <td>0.413</td>\n      <td>0.862</td>\n      <td>0.562</td>\n      <td>0.782</td>\n      <td>1</td>\n    </tr>\n    <tr>\n      <th>2</th>\n      <td>8.972</td>\n      <td>8.848</td>\n      <td>3.046</td>\n      <td>1.215</td>\n      <td>0.163</td>\n      <td>0.767</td>\n      <td>0.839</td>\n      <td>0.110</td>\n      <td>0</td>\n    </tr>\n    <tr>\n      <th>3</th>\n      <td>0.716</td>\n      <td>7.670</td>\n      <td>4.487</td>\n      <td>2.341</td>\n      <td>0.446</td>\n      <td>0.977</td>\n      <td>0.929</td>\n      <td>0.363</td>\n      <td>0</td>\n    </tr>\n    <tr>\n      <th>4</th>\n      <td>3.134</td>\n      <td>7.609</td>\n      <td>4.944</td>\n      <td>9.858</td>\n      <td>0.797</td>\n      <td>0.455</td>\n      <td>0.657</td>\n      <td>0.821</td>\n      <td>0</td>\n    </tr>\n    <tr>\n      <th>...</th>\n      <td>...</td>\n      <td>...</td>\n      <td>...</td>\n      <td>...</td>\n      <td>...</td>\n      <td>...</td>\n      <td>...</td>\n      <td>...</td>\n      <td>...</td>\n    </tr>\n    <tr>\n      <th>9995</th>\n      <td>2.930</td>\n      <td>9.488</td>\n      <td>2.377</td>\n      <td>6.188</td>\n      <td>0.602</td>\n      <td>0.780</td>\n      <td>0.814</td>\n      <td>0.608</td>\n      <td>0</td>\n    </tr>\n    <tr>\n      <th>9996</th>\n      <td>3.392</td>\n      <td>1.275</td>\n      <td>2.955</td>\n      <td>6.895</td>\n      <td>0.502</td>\n      <td>0.567</td>\n      <td>0.286</td>\n      <td>0.366</td>\n      <td>1</td>\n    </tr>\n    <tr>\n      <th>9997</th>\n      <td>2.364</td>\n      <td>2.842</td>\n      <td>8.776</td>\n      <td>1.009</td>\n      <td>0.488</td>\n      <td>0.987</td>\n      <td>0.149</td>\n      <td>0.146</td>\n      <td>1</td>\n    </tr>\n    <tr>\n      <th>9998</th>\n      <td>9.632</td>\n      <td>3.994</td>\n      <td>2.757</td>\n      <td>7.821</td>\n      <td>0.365</td>\n      <td>0.588</td>\n      <td>0.889</td>\n      <td>0.818</td>\n      <td>0</td>\n    </tr>\n    <tr>\n      <th>9999</th>\n      <td>6.531</td>\n      <td>6.782</td>\n      <td>4.350</td>\n      <td>8.673</td>\n      <td>0.073</td>\n      <td>0.505</td>\n      <td>0.379</td>\n      <td>0.943</td>\n      <td>0</td>\n    </tr>\n  </tbody>\n</table>\n<p>10000 rows × 9 columns</p>\n</div>"
     },
     "execution_count": 15,
     "metadata": {},
     "output_type": "execute_result"
    }
   ],
   "source": [
    "AD_DF_EG_09"
   ],
   "metadata": {
    "collapsed": false,
    "pycharm": {
     "name": "#%%\n"
    }
   }
  },
  {
   "cell_type": "code",
   "execution_count": 164,
   "outputs": [],
   "source": [
    "# AD_DF_EG_09.to_csv('AD_DF_EG_09.csv', index=False)"
   ],
   "metadata": {
    "collapsed": false,
    "pycharm": {
     "name": "#%%\n"
    }
   }
  },
  {
   "cell_type": "code",
   "execution_count": null,
   "outputs": [],
   "source": [],
   "metadata": {
    "collapsed": false,
    "pycharm": {
     "name": "#%%\n"
    }
   }
  },
  {
   "cell_type": "code",
   "execution_count": 1,
   "outputs": [
    {
     "ename": "NameError",
     "evalue": "name 'AD_DF_EG_09' is not defined",
     "output_type": "error",
     "traceback": [
      "\u001B[1;31m---------------------------------------------------------------------------\u001B[0m",
      "\u001B[1;31mNameError\u001B[0m                                 Traceback (most recent call last)",
      "\u001B[1;32m~\\AppData\\Local\\Temp/ipykernel_21700/2042972651.py\u001B[0m in \u001B[0;36m<module>\u001B[1;34m\u001B[0m\n\u001B[1;32m----> 1\u001B[1;33m \u001B[0mAD_DF_EG_09\u001B[0m\u001B[1;33m[\u001B[0m\u001B[1;34m'stabf_01'\u001B[0m\u001B[1;33m]\u001B[0m\u001B[1;33m.\u001B[0m\u001B[0mvalue_counts\u001B[0m\u001B[1;33m(\u001B[0m\u001B[1;33m)\u001B[0m\u001B[1;33m\u001B[0m\u001B[1;33m\u001B[0m\u001B[0m\n\u001B[0m",
      "\u001B[1;31mNameError\u001B[0m: name 'AD_DF_EG_09' is not defined"
     ]
    }
   ],
   "source": [
    "AD_DF_EG_09['stabf_01'].value_counts()"
   ],
   "metadata": {
    "collapsed": false,
    "pycharm": {
     "name": "#%%\n"
    }
   }
  },
  {
   "cell_type": "code",
   "execution_count": 17,
   "outputs": [],
   "source": [
    "# Приготовим набор для тренировки и тестирования\n",
    "X = AD_DF_EG_09.drop('stabf_01', axis=1)\n",
    "Y = AD_DF_EG_09['stabf_01']\n",
    "X_train, X_test, Y_train, Y_test = train_test_split(X, Y, train_size=0.55, test_size=0.45, random_state=42, stratify=Y)"
   ],
   "metadata": {
    "collapsed": false,
    "pycharm": {
     "name": "#%%\n"
    }
   }
  },
  {
   "cell_type": "code",
   "execution_count": 18,
   "outputs": [
    {
     "data": {
      "text/plain": "((5500, 8), (4500, 8))"
     },
     "execution_count": 18,
     "metadata": {},
     "output_type": "execute_result"
    }
   ],
   "source": [
    "X_train.shape, X_test.shape"
   ],
   "metadata": {
    "collapsed": false,
    "pycharm": {
     "name": "#%%\n"
    }
   }
  },
  {
   "cell_type": "code",
   "execution_count": 19,
   "outputs": [
    {
     "name": "stdout",
     "output_type": "stream",
     "text": [
      "0.362\n",
      "0.362\n"
     ]
    }
   ],
   "source": [
    "print(sum(Y_train)/len(Y_train))\n",
    "print(sum(Y_test)/len(Y_test))"
   ],
   "metadata": {
    "collapsed": false,
    "pycharm": {
     "name": "#%%\n"
    }
   }
  },
  {
   "cell_type": "markdown",
   "source": [
    "# Часть 3. Who's the mightiest of them all?"
   ],
   "metadata": {
    "collapsed": false,
    "pycharm": {
     "name": "#%% md\n"
    }
   }
  },
  {
   "cell_type": "markdown",
   "source": [
    "    sklearn, XGBoost, LightGBM, CatBoost"
   ],
   "metadata": {
    "collapsed": false,
    "pycharm": {
     "name": "#%% md\n"
    }
   }
  },
  {
   "cell_type": "markdown",
   "source": [
    "#  Scikit-Learn"
   ],
   "metadata": {
    "collapsed": false,
    "pycharm": {
     "name": "#%% md\n"
    }
   }
  },
  {
   "cell_type": "code",
   "execution_count": null,
   "outputs": [],
   "source": [],
   "metadata": {
    "collapsed": false,
    "pycharm": {
     "name": "#%%\n"
    }
   }
  },
  {
   "cell_type": "code",
   "execution_count": 98,
   "outputs": [],
   "source": [
    "from sklearn.model_selection import GridSearchCV\n",
    "from sklearn.metrics import confusion_matrix"
   ],
   "metadata": {
    "collapsed": false,
    "pycharm": {
     "name": "#%%\n"
    }
   }
  },
  {
   "cell_type": "markdown",
   "source": [
    "# sklearn No tuning"
   ],
   "metadata": {
    "collapsed": false,
    "pycharm": {
     "name": "#%% md\n"
    }
   }
  },
  {
   "cell_type": "code",
   "execution_count": 97,
   "outputs": [
    {
     "name": "stdout",
     "output_type": "stream",
     "text": [
      "Learning rate:  0.1\n",
      "Accuracy score (training): 0.899\n",
      "Accuracy score (validation): 0.873\n",
      "\n"
     ]
    }
   ],
   "source": [
    "# No tuning\n",
    "sk_no_tn_gb_clf = GradientBoostingClassifier(n_estimators=100, learning_rate=0.1, max_features=2, max_depth=2, random_state=42)\n",
    "sk_no_tn_gb_clf.fit(X_train, Y_train)\n",
    "\n",
    "print(\"Learning rate: \", 0.1)\n",
    "print(\"Accuracy score (training): {0:.3f}\".format(sk_no_tn_gb_clf.score(X_train, Y_train)))\n",
    "print(\"Accuracy score (validation): {0:.3f}\".format(sk_no_tn_gb_clf.score(X_test, Y_test)))"
   ],
   "metadata": {
    "collapsed": false,
    "pycharm": {
     "name": "#%%\n"
    }
   }
  },
  {
   "cell_type": "code",
   "execution_count": 155,
   "outputs": [
    {
     "name": "stdout",
     "output_type": "stream",
     "text": [
      "Classification Report\n",
      "              precision    recall  f1-score   support\n",
      "\n",
      "           0       0.87      0.94      0.90      2871\n",
      "           1       0.88      0.75      0.81      1629\n",
      "\n",
      "    accuracy                           0.87      4500\n",
      "   macro avg       0.88      0.85      0.86      4500\n",
      "weighted avg       0.87      0.87      0.87      4500\n",
      "\n"
     ]
    }
   ],
   "source": [
    "predictions = sk_no_tn_gb_clf.predict(X_test)\n",
    "\n",
    "print(\"Classification Report\")\n",
    "print(classification_report(Y_test, predictions))"
   ],
   "metadata": {
    "collapsed": false,
    "pycharm": {
     "name": "#%%\n"
    }
   }
  },
  {
   "cell_type": "code",
   "execution_count": 143,
   "outputs": [
    {
     "name": "stdout",
     "output_type": "stream",
     "text": [
      "sk_no_tn_gb_clf Confusion Matrix:\n",
      " [[2708  163]\n",
      " [ 409 1220]]\n"
     ]
    }
   ],
   "source": [
    "print(f'sk_no_tn_gb_clf Confusion Matrix:\\n {confusion_matrix(Y_test, predictions)}')"
   ],
   "metadata": {
    "collapsed": false,
    "pycharm": {
     "name": "#%%\n"
    }
   }
  },
  {
   "cell_type": "code",
   "execution_count": 144,
   "outputs": [
    {
     "name": "stdout",
     "output_type": "stream",
     "text": [
      "sk_no_tn_gb_clf roc_auc_score:  0.9564571008020555\n"
     ]
    }
   ],
   "source": [
    "print('sk_no_tn_gb_clf roc_auc_score: ', roc_auc_score(Y_test, sk_no_tn_gb_clf.predict_proba(X_test)[:, 1]))"
   ],
   "metadata": {
    "collapsed": false,
    "pycharm": {
     "name": "#%%\n"
    }
   }
  },
  {
   "cell_type": "code",
   "execution_count": null,
   "outputs": [],
   "source": [],
   "metadata": {
    "collapsed": false,
    "pycharm": {
     "name": "#%%\n"
    }
   }
  },
  {
   "cell_type": "markdown",
   "source": [
    "# sklearn hyperparameter tuning"
   ],
   "metadata": {
    "collapsed": false,
    "pycharm": {
     "name": "#%% md\n"
    }
   }
  },
  {
   "cell_type": "code",
   "execution_count": 75,
   "outputs": [
    {
     "data": {
      "text/plain": "GridSearchCV(cv=5, estimator=GradientBoostingClassifier(),\n             param_grid={'learning_rate': [0.9, 0.91, 0.92, 0.93, 0.94, 0.95,\n                                           0.96, 0.97, 0.98, 0.99, 0.995, 1],\n                         'max_depth': [5], 'max_features': [8],\n                         'n_estimators': [650]})"
     },
     "execution_count": 75,
     "metadata": {},
     "output_type": "execute_result"
    }
   ],
   "source": [
    "tn_gb_clf = GradientBoostingClassifier()\n",
    "\n",
    "# parameters = {\n",
    "#     \"n_estimators\":[50,250,500],\n",
    "#     \"max_depth\":[1,3,5,7,9],\n",
    "#     \"learning_rate\":[0.1, 0.25, 0.35, 0.4, 0.5, 0.6, 0.75, 1]\n",
    "# }\n",
    "# cv = GridSearchCV(tn_gb_clf,parameters,cv=5)\n",
    "# cv.fit(X_train, Y_train.values.ravel())\n",
    "\n",
    "# Best parameters are: {'learning_rate': 1, 'max_depth': 5, 'n_estimators': 500}\n",
    "#----------------------------------------------------------------------------------\n",
    "\n",
    "# for learning_rate in lr_list:\n",
    "#     tn_gb_clf = GradientBoostingClassifier(n_estimators=300, learning_rate=learning_rate, max_features=2, max_depth=6, random_state=42)\n",
    "#     tn_gb_clf.fit(X_train, Y_train)\n",
    "#     tn_predictions = tn_gb_clf.predict(X_test)\n",
    "#\n",
    "#     print(\"Learning rate: \", learning_rate)\n",
    "#     print(\"Accuracy score (training): {0:.3f}\".format(tn_gb_clf.score(X_train, Y_train)))\n",
    "#     print(\"Accuracy score (validation): {0:.3f}\".format(tn_gb_clf.score(X_test, Y_test)))\n",
    "#     print(confusion_matrix(Y_test, tn_predictions))\n",
    "#     print()\n",
    "#----------------------------------------------------------------------------------\n",
    "\n",
    "# parameters = {\n",
    "#     \"n_estimators\":[300, 500, 600, 700],\n",
    "#     \"max_depth\":[5],\n",
    "#     \"learning_rate\":[0.1, 0.35, 0.5, 0.75, 0.8,0.9,1]\n",
    "# }\n",
    "# cv = GridSearchCV(tn_gb_clf,parameters,cv=5)\n",
    "# cv.fit(X_train, Y_train.values.ravel())\n",
    "\n",
    "# Best parameters are: {'learning_rate': 1, 'max_depth': 5, 'n_estimators': 600}\n",
    "#----------------------------------------------------------------------------------\n",
    "\n",
    "# parameters = {\n",
    "#     \"n_estimators\":[600, 650, 700],\n",
    "#     \"max_depth\":[5],\n",
    "#     \"learning_rate\":[1],\n",
    "#     'max_features':[1,2,3,4,5,6,7,8]\n",
    "# }\n",
    "# cv = GridSearchCV(tn_gb_clf,parameters,cv=5)\n",
    "# cv.fit(X_train, Y_train.values.ravel())\n",
    "\n",
    "# Best parameters are: {'learning_rate': 1, 'max_depth': 5, 'n_estimators': 650}\n",
    "#----------------------------------------------------------------------------------\n",
    "# Best parameters are: {'learning_rate': 1, 'max_depth': 5, 'max_features': 8, 'n_estimators': 650}\n",
    "\n",
    "#----------------------------------------------------------------------------------\n",
    "\n",
    "# parameters = {\n",
    "#     \"n_estimators\":[650],\n",
    "#     \"max_depth\":[5],\n",
    "#     \"learning_rate\":[0.9,0.91,0.92,0.93,0.94,0.95,0.96,0.97,0.98,0.99,0.995,1],\n",
    "#     'max_features':[8]\n",
    "# }\n",
    "# cv = GridSearchCV(tn_gb_clf,parameters,cv=5)\n",
    "# cv.fit(X_train, Y_train.values.ravel())\n",
    "\n",
    "#----------------------------------------------------------------------------------\n",
    "# # Best parameters are: {'learning_rate': 1, 'max_depth': 5, 'n_estimators': 500}\n"
   ],
   "metadata": {
    "collapsed": false,
    "pycharm": {
     "name": "#%%\n"
    }
   }
  },
  {
   "cell_type": "code",
   "execution_count": 76,
   "outputs": [],
   "source": [
    "def display(results):\n",
    "    print(f'Best parameters are: {results.best_params_}')\n",
    "    print(\"\\n\")\n",
    "    mean_score = results.cv_results_['mean_test_score']\n",
    "    std_score = results.cv_results_['std_test_score']\n",
    "    params = results.cv_results_['params']\n",
    "    for mean,std,params in zip(mean_score,std_score,params):\n",
    "        print(f'{round(mean,3)} + or -{round(std,3)} for the {params}')\n"
   ],
   "metadata": {
    "collapsed": false,
    "pycharm": {
     "name": "#%%\n"
    }
   }
  },
  {
   "cell_type": "code",
   "execution_count": 77,
   "outputs": [
    {
     "name": "stdout",
     "output_type": "stream",
     "text": [
      "Best parameters are: {'learning_rate': 0.95, 'max_depth': 5, 'max_features': 8, 'n_estimators': 650}\n",
      "\n",
      "\n",
      "0.943 + or -0.006 for the {'learning_rate': 0.9, 'max_depth': 5, 'max_features': 8, 'n_estimators': 650}\n",
      "0.944 + or -0.007 for the {'learning_rate': 0.91, 'max_depth': 5, 'max_features': 8, 'n_estimators': 650}\n",
      "0.942 + or -0.006 for the {'learning_rate': 0.92, 'max_depth': 5, 'max_features': 8, 'n_estimators': 650}\n",
      "0.945 + or -0.005 for the {'learning_rate': 0.93, 'max_depth': 5, 'max_features': 8, 'n_estimators': 650}\n",
      "0.946 + or -0.006 for the {'learning_rate': 0.94, 'max_depth': 5, 'max_features': 8, 'n_estimators': 650}\n",
      "0.946 + or -0.005 for the {'learning_rate': 0.95, 'max_depth': 5, 'max_features': 8, 'n_estimators': 650}\n",
      "0.945 + or -0.008 for the {'learning_rate': 0.96, 'max_depth': 5, 'max_features': 8, 'n_estimators': 650}\n",
      "0.946 + or -0.005 for the {'learning_rate': 0.97, 'max_depth': 5, 'max_features': 8, 'n_estimators': 650}\n",
      "0.943 + or -0.005 for the {'learning_rate': 0.98, 'max_depth': 5, 'max_features': 8, 'n_estimators': 650}\n",
      "0.944 + or -0.006 for the {'learning_rate': 0.99, 'max_depth': 5, 'max_features': 8, 'n_estimators': 650}\n",
      "0.944 + or -0.006 for the {'learning_rate': 0.995, 'max_depth': 5, 'max_features': 8, 'n_estimators': 650}\n",
      "0.946 + or -0.006 for the {'learning_rate': 1, 'max_depth': 5, 'max_features': 8, 'n_estimators': 650}\n"
     ]
    }
   ],
   "source": [
    "display(cv)\n",
    "# Best parameters are: {'learning_rate': 1, 'max_depth': 5, 'n_estimators': 500}"
   ],
   "metadata": {
    "collapsed": false,
    "pycharm": {
     "name": "#%%\n"
    }
   }
  },
  {
   "cell_type": "code",
   "execution_count": 78,
   "outputs": [
    {
     "name": "stdout",
     "output_type": "stream",
     "text": [
      "Accuracy score (training): 1.000\n",
      "Accuracy score (validation): 0.944\n"
     ]
    }
   ],
   "source": [
    "# sklearn best parameters final model launch\n",
    "BP_gb_clf = GradientBoostingClassifier(n_estimators=650, learning_rate=0.95, max_features=8, max_depth=5, random_state=42)\n",
    "BP_gb_clf.fit(X_train, Y_train)\n",
    "\n",
    "print(\"Accuracy score (training): {0:.3f}\".format(BP_gb_clf.score(X_train, Y_train)))\n",
    "print(\"Accuracy score (validation): {0:.3f}\".format(BP_gb_clf.score(X_test, Y_test)))\n"
   ],
   "metadata": {
    "collapsed": false,
    "pycharm": {
     "name": "#%%\n"
    }
   }
  },
  {
   "cell_type": "code",
   "execution_count": 139,
   "outputs": [
    {
     "name": "stdout",
     "output_type": "stream",
     "text": [
      "Classification Report\n",
      "              precision    recall  f1-score   support\n",
      "\n",
      "           0       0.95      0.97      0.96      2871\n",
      "           1       0.94      0.91      0.92      1629\n",
      "\n",
      "    accuracy                           0.94      4500\n",
      "   macro avg       0.94      0.94      0.94      4500\n",
      "weighted avg       0.94      0.94      0.94      4500\n",
      "\n"
     ]
    }
   ],
   "source": [
    "# sklearn best parameters final confusion_matrix + classification_report\n",
    "BP_tn_predictions = BP_gb_clf.predict(X_test)\n",
    "\n",
    "print(\"Classification Report\")\n",
    "print(classification_report(Y_test, BP_tn_predictions))"
   ],
   "metadata": {
    "collapsed": false,
    "pycharm": {
     "name": "#%%\n"
    }
   }
  },
  {
   "cell_type": "code",
   "execution_count": 138,
   "outputs": [
    {
     "name": "stdout",
     "output_type": "stream",
     "text": [
      "BP_gb_clf Confusion Matrix:\n",
      " [[2771  100]\n",
      " [ 151 1478]]\n"
     ]
    }
   ],
   "source": [
    "print(f'BP_gb_clf Confusion Matrix:\\n {confusion_matrix(Y_test, BP_tn_predictions)}')"
   ],
   "metadata": {
    "collapsed": false,
    "pycharm": {
     "name": "#%%\n"
    }
   }
  },
  {
   "cell_type": "code",
   "execution_count": 101,
   "outputs": [
    {
     "name": "stdout",
     "output_type": "stream",
     "text": [
      "sk_BP_gb_clf roc_auc_score:  0.9888617552934565\n"
     ]
    }
   ],
   "source": [
    "print('sk_BP_gb_clf roc_auc_score: ', roc_auc_score(Y_test, BP_gb_clf.predict_proba(X_test)[:, 1]))"
   ],
   "metadata": {
    "collapsed": false,
    "pycharm": {
     "name": "#%%\n"
    }
   }
  },
  {
   "cell_type": "markdown",
   "source": [
    "# Итоги по sklearn"
   ],
   "metadata": {
    "collapsed": false,
    "pycharm": {
     "name": "#%% md\n"
    }
   }
  },
  {
   "cell_type": "code",
   "execution_count": 218,
   "outputs": [
    {
     "name": "stdout",
     "output_type": "stream",
     "text": [
      "sk_no_tn_gb_clf Confusion Matrix:\n",
      " [[2708  163]\n",
      " [ 409 1220]]\n",
      "\n",
      "sk_no_tn_gb_clf roc_auc_score:  0.9564571008020555\n",
      "\n",
      "BP_gb_clf Confusion Matrix:\n",
      " [[2771  100]\n",
      " [ 151 1478]]\n",
      "\n",
      "sk_BP_gb_clf roc_auc_score:  0.9888617552934565\n"
     ]
    }
   ],
   "source": [
    "print(f'sk_no_tn_gb_clf Confusion Matrix:\\n {confusion_matrix(Y_test, predictions)}\\n')\n",
    "print('sk_no_tn_gb_clf roc_auc_score: ', roc_auc_score(Y_test, sk_no_tn_gb_clf.predict_proba(X_test)[:, 1]))\n",
    "\n",
    "print(f'\\nBP_gb_clf Confusion Matrix:\\n {confusion_matrix(Y_test, BP_tn_predictions)}')\n",
    "print('\\nsk_BP_gb_clf roc_auc_score: ', roc_auc_score(Y_test, BP_gb_clf.predict_proba(X_test)[:, 1]))"
   ],
   "metadata": {
    "collapsed": false,
    "pycharm": {
     "name": "#%%\n"
    }
   }
  },
  {
   "cell_type": "code",
   "execution_count": null,
   "outputs": [],
   "source": [],
   "metadata": {
    "collapsed": false,
    "pycharm": {
     "name": "#%%\n"
    }
   }
  },
  {
   "cell_type": "markdown",
   "source": [
    "# XGBoost"
   ],
   "metadata": {
    "collapsed": false,
    "pycharm": {
     "name": "#%% md\n"
    }
   }
  },
  {
   "cell_type": "code",
   "execution_count": 32,
   "outputs": [
    {
     "name": "stdout",
     "output_type": "stream",
     "text": [
      "^C\n"
     ]
    }
   ],
   "source": [
    "# ! conda install  xgboost\n",
    "# ! pip install xgboost"
   ],
   "metadata": {
    "collapsed": false,
    "pycharm": {
     "name": "#%%\n"
    }
   }
  },
  {
   "cell_type": "code",
   "execution_count": 83,
   "outputs": [],
   "source": [
    "import xgboost"
   ],
   "metadata": {
    "collapsed": false,
    "pycharm": {
     "name": "#%%\n"
    }
   }
  },
  {
   "cell_type": "markdown",
   "source": [
    "# xgboost No hyperparameter tuning"
   ],
   "metadata": {
    "collapsed": false,
    "pycharm": {
     "name": "#%% md\n"
    }
   }
  },
  {
   "cell_type": "code",
   "execution_count": 184,
   "outputs": [
    {
     "name": "stdout",
     "output_type": "stream",
     "text": [
      "[0]\tvalidation_0-aucpr:0.79164\n",
      "[1]\tvalidation_0-aucpr:0.86161\n",
      "[2]\tvalidation_0-aucpr:0.89752\n",
      "[3]\tvalidation_0-aucpr:0.91311\n",
      "[4]\tvalidation_0-aucpr:0.92470\n",
      "[5]\tvalidation_0-aucpr:0.93371\n",
      "[6]\tvalidation_0-aucpr:0.93897\n",
      "[7]\tvalidation_0-aucpr:0.94218\n",
      "[8]\tvalidation_0-aucpr:0.94541\n",
      "[9]\tvalidation_0-aucpr:0.94948\n",
      "[10]\tvalidation_0-aucpr:0.95210\n",
      "[11]\tvalidation_0-aucpr:0.95488\n",
      "[12]\tvalidation_0-aucpr:0.95627\n",
      "[13]\tvalidation_0-aucpr:0.95814\n",
      "[14]\tvalidation_0-aucpr:0.95907\n",
      "[15]\tvalidation_0-aucpr:0.96166\n",
      "[16]\tvalidation_0-aucpr:0.96226\n",
      "[17]\tvalidation_0-aucpr:0.96369\n",
      "[18]\tvalidation_0-aucpr:0.96544\n",
      "[19]\tvalidation_0-aucpr:0.96596\n",
      "[20]\tvalidation_0-aucpr:0.96741\n",
      "[21]\tvalidation_0-aucpr:0.96867\n",
      "[22]\tvalidation_0-aucpr:0.96903\n",
      "[23]\tvalidation_0-aucpr:0.96998\n",
      "[24]\tvalidation_0-aucpr:0.97000\n",
      "[25]\tvalidation_0-aucpr:0.97043\n",
      "[26]\tvalidation_0-aucpr:0.97102\n",
      "[27]\tvalidation_0-aucpr:0.97155\n",
      "[28]\tvalidation_0-aucpr:0.97202\n",
      "[29]\tvalidation_0-aucpr:0.97245\n",
      "[30]\tvalidation_0-aucpr:0.97290\n",
      "[31]\tvalidation_0-aucpr:0.97307\n"
     ]
    },
    {
     "name": "stderr",
     "output_type": "stream",
     "text": [
      "C:\\Users\\Rost\\anaconda3\\lib\\site-packages\\xgboost\\sklearn.py:1421: UserWarning: `use_label_encoder` is deprecated in 1.7.0.\n",
      "  warnings.warn(\"`use_label_encoder` is deprecated in 1.7.0.\")\n",
      "C:\\Users\\Rost\\anaconda3\\lib\\site-packages\\xgboost\\sklearn.py:861: UserWarning: `early_stopping_rounds` in `fit` method is deprecated for better compatibility with scikit-learn, use `early_stopping_rounds` in constructor or`set_params` instead.\n",
      "  warnings.warn(\n"
     ]
    },
    {
     "name": "stdout",
     "output_type": "stream",
     "text": [
      "[32]\tvalidation_0-aucpr:0.97329\n",
      "[33]\tvalidation_0-aucpr:0.97411\n",
      "[34]\tvalidation_0-aucpr:0.97417\n",
      "[35]\tvalidation_0-aucpr:0.97445\n",
      "[36]\tvalidation_0-aucpr:0.97461\n",
      "[37]\tvalidation_0-aucpr:0.97473\n",
      "[38]\tvalidation_0-aucpr:0.97483\n",
      "[39]\tvalidation_0-aucpr:0.97475\n",
      "[40]\tvalidation_0-aucpr:0.97494\n",
      "[41]\tvalidation_0-aucpr:0.97535\n",
      "[42]\tvalidation_0-aucpr:0.97552\n",
      "[43]\tvalidation_0-aucpr:0.97562\n",
      "[44]\tvalidation_0-aucpr:0.97641\n",
      "[45]\tvalidation_0-aucpr:0.97669\n",
      "[46]\tvalidation_0-aucpr:0.97700\n",
      "[47]\tvalidation_0-aucpr:0.97686\n",
      "[48]\tvalidation_0-aucpr:0.97720\n",
      "[49]\tvalidation_0-aucpr:0.97712\n",
      "[50]\tvalidation_0-aucpr:0.97726\n",
      "[51]\tvalidation_0-aucpr:0.97734\n",
      "[52]\tvalidation_0-aucpr:0.97746\n",
      "[53]\tvalidation_0-aucpr:0.97751\n",
      "[54]\tvalidation_0-aucpr:0.97753\n",
      "[55]\tvalidation_0-aucpr:0.97758\n",
      "[56]\tvalidation_0-aucpr:0.97764\n",
      "[57]\tvalidation_0-aucpr:0.97778\n",
      "[58]\tvalidation_0-aucpr:0.97803\n",
      "[59]\tvalidation_0-aucpr:0.97806\n",
      "[60]\tvalidation_0-aucpr:0.97834\n",
      "[61]\tvalidation_0-aucpr:0.97831\n",
      "[62]\tvalidation_0-aucpr:0.97855\n",
      "[63]\tvalidation_0-aucpr:0.97849\n",
      "[64]\tvalidation_0-aucpr:0.97859\n",
      "[65]\tvalidation_0-aucpr:0.97874\n",
      "[66]\tvalidation_0-aucpr:0.97902\n",
      "[67]\tvalidation_0-aucpr:0.97918\n",
      "[68]\tvalidation_0-aucpr:0.97927\n",
      "[69]\tvalidation_0-aucpr:0.97935\n",
      "[70]\tvalidation_0-aucpr:0.97939\n",
      "[71]\tvalidation_0-aucpr:0.97940\n",
      "[72]\tvalidation_0-aucpr:0.97956\n",
      "[73]\tvalidation_0-aucpr:0.97949\n",
      "[74]\tvalidation_0-aucpr:0.97949\n",
      "[75]\tvalidation_0-aucpr:0.97964\n",
      "[76]\tvalidation_0-aucpr:0.97954\n",
      "[77]\tvalidation_0-aucpr:0.97961\n",
      "[78]\tvalidation_0-aucpr:0.97962\n",
      "[79]\tvalidation_0-aucpr:0.98009\n",
      "[80]\tvalidation_0-aucpr:0.98019\n",
      "[81]\tvalidation_0-aucpr:0.98026\n",
      "[82]\tvalidation_0-aucpr:0.98035\n",
      "[83]\tvalidation_0-aucpr:0.98019\n",
      "[84]\tvalidation_0-aucpr:0.98023\n",
      "[85]\tvalidation_0-aucpr:0.98034\n",
      "[86]\tvalidation_0-aucpr:0.98070\n",
      "[87]\tvalidation_0-aucpr:0.98076\n",
      "[88]\tvalidation_0-aucpr:0.98090\n",
      "[89]\tvalidation_0-aucpr:0.98084\n",
      "[90]\tvalidation_0-aucpr:0.98093\n",
      "[91]\tvalidation_0-aucpr:0.98098\n",
      "[92]\tvalidation_0-aucpr:0.98095\n",
      "[93]\tvalidation_0-aucpr:0.98097\n",
      "[94]\tvalidation_0-aucpr:0.98094\n",
      "[95]\tvalidation_0-aucpr:0.98104\n",
      "[96]\tvalidation_0-aucpr:0.98113\n",
      "[97]\tvalidation_0-aucpr:0.98112\n",
      "[98]\tvalidation_0-aucpr:0.98111\n",
      "[99]\tvalidation_0-aucpr:0.98122\n"
     ]
    },
    {
     "data": {
      "text/plain": "XGBClassifier(base_score=0.5, booster='gbtree', callbacks=None,\n              colsample_bylevel=1, colsample_bynode=1, colsample_bytree=1,\n              early_stopping_rounds=None, enable_categorical=False,\n              eval_metric='aucpr', feature_types=None, gamma=0, gpu_id=0,\n              grow_policy='depthwise', importance_type=None,\n              interaction_constraints='', learning_rate=0.300000012,\n              max_bin=256, max_cat_threshold=64, max_cat_to_onehot=4,\n              max_delta_step=0, max_depth=6, max_leaves=0, min_child_weight=1,\n              missing=nan, monotone_constraints='()', n_estimators=100,\n              n_jobs=0, num_parallel_tree=1, predictor='auto', random_state=42, ...)"
     },
     "execution_count": 184,
     "metadata": {},
     "output_type": "execute_result"
    }
   ],
   "source": [
    "\n",
    "xgboost_no_tn_model = xgboost.XGBClassifier(tree_method='gpu_hist',\n",
    "                                      objective='binary:logistic',\n",
    "                                      eval_metric=\"aucpr\",\n",
    "                                      seed=42,\n",
    "                                      use_label_encoder=False)\n",
    "\n",
    "xgboost_no_tn_model.fit(\n",
    "                        X_train,\n",
    "                        Y_train,\n",
    "                        verbose=True,\n",
    "                        early_stopping_rounds=10,\n",
    "                        eval_set=[(X_test, Y_test)])"
   ],
   "metadata": {
    "collapsed": false,
    "pycharm": {
     "name": "#%%\n"
    }
   }
  },
  {
   "cell_type": "code",
   "execution_count": 185,
   "outputs": [
    {
     "data": {
      "text/plain": "<sklearn.metrics._plot.confusion_matrix.ConfusionMatrixDisplay at 0x19b8a3cda00>"
     },
     "execution_count": 185,
     "metadata": {},
     "output_type": "execute_result"
    },
    {
     "data": {
      "text/plain": "<Figure size 576x576 with 2 Axes>",
      "image/png": "[encoded data removed]"
     },
     "metadata": {
      "needs_background": "light"
     },
     "output_type": "display_data"
    }
   ],
   "source": [
    "fig, ax = plt.subplots( figsize=(8,8))\n",
    "plt.rcParams.update({'font.size': 18})\n",
    "plot_confusion_matrix(xgboost_no_tn_model,\n",
    "                      X_test,\n",
    "                      Y_test,\n",
    "                      cmap='Greys',\n",
    "                      values_format='d',\n",
    "                      display_labels=[\"unstable\", \"stable\"],\n",
    "                      ax=ax)\n"
   ],
   "metadata": {
    "collapsed": false,
    "pycharm": {
     "name": "#%%\n"
    }
   }
  },
  {
   "cell_type": "code",
   "execution_count": 186,
   "outputs": [
    {
     "name": "stdout",
     "output_type": "stream",
     "text": [
      "              precision    recall  f1-score   support\n",
      "\n",
      "           0       0.95      0.97      0.96      2871\n",
      "           1       0.94      0.91      0.92      1629\n",
      "\n",
      "    accuracy                           0.94      4500\n",
      "   macro avg       0.94      0.94      0.94      4500\n",
      "weighted avg       0.94      0.94      0.94      4500\n",
      "\n"
     ]
    }
   ],
   "source": [
    "y_pred_no_tn = xgboost_no_tn_model.predict(X_test)\n",
    "\n",
    "print(classification_report(Y_test, y_pred_no_tn))"
   ],
   "metadata": {
    "collapsed": false,
    "pycharm": {
     "name": "#%%\n"
    }
   }
  },
  {
   "cell_type": "code",
   "execution_count": 187,
   "outputs": [
    {
     "name": "stdout",
     "output_type": "stream",
     "text": [
      "xgboost_no_tn_model roc_auc_score:  0.9888602585624241\n"
     ]
    }
   ],
   "source": [
    "print('xgboost_no_tn_model roc_auc_score: ', roc_auc_score(Y_test, xgboost_no_tn_model.predict_proba(X_test)[:, 1]))"
   ],
   "metadata": {
    "collapsed": false,
    "pycharm": {
     "name": "#%%\n"
    }
   }
  },
  {
   "cell_type": "markdown",
   "source": [
    "# xgboost hyperparameter tuning"
   ],
   "metadata": {
    "collapsed": false,
    "pycharm": {
     "name": "#%% md\n"
    }
   }
  },
  {
   "cell_type": "code",
   "execution_count": 204,
   "outputs": [
    {
     "name": "stderr",
     "output_type": "stream",
     "text": [
      "C:\\Users\\Rost\\anaconda3\\lib\\site-packages\\xgboost\\sklearn.py:1421: UserWarning: `use_label_encoder` is deprecated in 1.7.0.\n",
      "  warnings.warn(\"`use_label_encoder` is deprecated in 1.7.0.\")\n",
      "C:\\Users\\Rost\\anaconda3\\lib\\site-packages\\xgboost\\sklearn.py:1421: UserWarning: `use_label_encoder` is deprecated in 1.7.0.\n",
      "  warnings.warn(\"`use_label_encoder` is deprecated in 1.7.0.\")\n",
      "C:\\Users\\Rost\\anaconda3\\lib\\site-packages\\xgboost\\sklearn.py:1421: UserWarning: `use_label_encoder` is deprecated in 1.7.0.\n",
      "  warnings.warn(\"`use_label_encoder` is deprecated in 1.7.0.\")\n"
     ]
    },
    {
     "name": "stdout",
     "output_type": "stream",
     "text": [
      "Fitting 3 folds for each of 9 candidates, totalling 27 fits\n",
      "gamma - 0.1\n",
      "learning_rate - 0.9\n",
      "max_depth - 4\n",
      "min_child_weight - 0.95\n",
      "n_estimators - 150\n",
      "reg_lambda - 9\n",
      "scale_pos_weight - 5\n"
     ]
    }
   ],
   "source": [
    "# Parameter 1\n",
    "# param_grid = {\n",
    "#             'max_depth': [3, 4, 5, 7],\n",
    "#             'learning_rate': [0.8, 0.9, 0.93, 0.95, 0.99, 1],\n",
    "#             'gamma': [1],\n",
    "#             'reg_lambda': [10.0],\n",
    "#             'scale_pos_weight': [3]\n",
    "# }\n",
    "# Output:\n",
    "# gamma - 1\n",
    "# learning_rate - 0.9\n",
    "# max_depth - 4\n",
    "# reg_lambda - 10.0\n",
    "# scale_pos_weight - 3\n",
    "# ----------------------------------------------------------------------------------\n",
    "\n",
    "# Parameter 2\n",
    "param_grid = {\n",
    "    'n_estimators': [150],\n",
    "    'max_depth': [4],\n",
    "    'learning_rate': [0.9],\n",
    "    'gamma': [0.1, 0.25, 0.3, 0.5, 0.7, 0.9, 1,  2, 10],\n",
    "    'reg_lambda': [9],\n",
    "    'scale_pos_weight': [5],\n",
    "    'min_child_weight': [0.95]\n",
    "}\n",
    "## Output:\n",
    "# gamma - 0.25\n",
    "# learning_rate - 0.9\n",
    "# max_depth - 4\n",
    "# reg_lambda - 5.0\n",
    "# scale_pos_weight - 3\n",
    "# ----------------------------------------------------------------------------------\n",
    "\n",
    "# Parameter 3\n",
    "# param_grid = {\n",
    "#      'n_estimators': [20, 50, 100, 150, 200, 250, 300],\n",
    "#     'max_depth': [4,3, 5,7,9,10],\n",
    "#     'learning_rate': [0.9],\n",
    "#     'gamma': [0,0.1, 0.25, 0.3, 0.5, 0.7, 0.9, 1,  2, 10],\n",
    "#     'reg_lambda': [0, 1.0, 3, 5.0, 7, 9],\n",
    "#      'scale_pos_weight': [1,3,5,7,9],\n",
    "#      'min_child_weight': [0.01, 0.05, 0.1, 0.5, 0.75, 0.95]\n",
    "# }\n",
    "\n",
    "## Output:\n",
    "'''\n",
    "gamma - 0\n",
    "learning_rate - 0.9\n",
    "max_depth - 4\n",
    "min_child_weight - 0.95\n",
    "n_estimators - 150\n",
    "reg_lambda - 9\n",
    "scale_pos_weight - 5\n",
    "'''\n",
    "\n",
    "# {'gamma': 0.1, 'learning_rate': 0.5, 'max_depth': 4, 'reg_lambda': 10.0, 'scale_pos_weight': 1}\n",
    "# ----------------------------------------------------------------------------------\n",
    "\n",
    "optimal_params = GridSearchCV(\n",
    "    estimator=xgboost.XGBClassifier(tree_method='gpu_hist',\n",
    "                                objective='binary:logistic',\n",
    "                                eval_metric=\"aucpr\",\n",
    "                                seed=42,\n",
    "                                subsample=0.9,\n",
    "                                early_stopping_rounds=10,\n",
    "                                use_label_encoder=False),\n",
    "                                param_grid=param_grid,\n",
    "                                scoring='roc_auc',\n",
    "                                verbose=True,\n",
    "                                n_jobs = 10,\n",
    "                                cv = 3\n",
    "                                )\n",
    "\n",
    "optimal_params.fit(X_train,\n",
    "                   Y_train,\n",
    "                   eval_set=[(X_test, Y_test)],\n",
    "                   verbose=False)\n",
    "\n",
    "for key, value in optimal_params.best_params_.items():\n",
    "    print(key, '-', value)\n",
    "\n"
   ],
   "metadata": {
    "collapsed": false,
    "pycharm": {
     "name": "#%%\n"
    }
   }
  },
  {
   "cell_type": "code",
   "execution_count": 208,
   "outputs": [
    {
     "name": "stdout",
     "output_type": "stream",
     "text": [
      "xgboost_optimal_params_model roc_auc_score:  0.9890315273562877\n"
     ]
    }
   ],
   "source": [
    "print('xgboost_optimal_params_model roc_auc_score: ', roc_auc_score(Y_test, optimal_params.predict_proba(X_test)[:, 1]))"
   ],
   "metadata": {
    "collapsed": false,
    "pycharm": {
     "name": "#%%\n"
    }
   }
  },
  {
   "cell_type": "code",
   "execution_count": 201,
   "outputs": [
    {
     "data": {
      "text/plain": "<sklearn.metrics._plot.confusion_matrix.ConfusionMatrixDisplay at 0x19ba3622490>"
     },
     "execution_count": 201,
     "metadata": {},
     "output_type": "execute_result"
    },
    {
     "data": {
      "text/plain": "<Figure size 576x576 with 2 Axes>",
      "image/png": "[encoded data removed]"
     },
     "metadata": {
      "needs_background": "light"
     },
     "output_type": "display_data"
    }
   ],
   "source": [
    "fig, ax = plt.subplots( figsize=(8,8))\n",
    "plt.rcParams.update({'font.size': 18})\n",
    "plot_confusion_matrix(optimal_params,\n",
    "                      X_test,\n",
    "                      Y_test,\n",
    "                      cmap='Greys',\n",
    "                      values_format='d',\n",
    "                      display_labels=[\"unstable\", \"stable\"],\n",
    "                      ax=ax)"
   ],
   "metadata": {
    "collapsed": false,
    "pycharm": {
     "name": "#%%\n"
    }
   }
  },
  {
   "cell_type": "code",
   "execution_count": 202,
   "outputs": [
    {
     "name": "stdout",
     "output_type": "stream",
     "text": [
      "[0]\tvalidation_0-aucpr:0.66570\n",
      "[1]\tvalidation_0-aucpr:0.82525\n",
      "[2]\tvalidation_0-aucpr:0.86569\n",
      "[3]\tvalidation_0-aucpr:0.89103\n",
      "[4]\tvalidation_0-aucpr:0.90597\n",
      "[5]\tvalidation_0-aucpr:0.91968\n",
      "[6]\tvalidation_0-aucpr:0.92886\n",
      "[7]\tvalidation_0-aucpr:0.93260\n",
      "[8]\tvalidation_0-aucpr:0.93581\n",
      "[9]\tvalidation_0-aucpr:0.93760\n",
      "[10]\tvalidation_0-aucpr:0.94176\n",
      "[11]\tvalidation_0-aucpr:0.94690\n",
      "[12]\tvalidation_0-aucpr:0.95167\n",
      "[13]\tvalidation_0-aucpr:0.95330\n",
      "[14]\tvalidation_0-aucpr:0.95436\n",
      "[15]\tvalidation_0-aucpr:0.95833\n",
      "[16]\tvalidation_0-aucpr:0.95879\n",
      "[17]\tvalidation_0-aucpr:0.95898\n",
      "[18]\tvalidation_0-aucpr:0.96061\n",
      "[19]\tvalidation_0-aucpr:0.96131\n",
      "[20]\tvalidation_0-aucpr:0.96165\n",
      "[21]\tvalidation_0-aucpr:0.96207\n",
      "[22]\tvalidation_0-aucpr:0.96347\n",
      "[23]\tvalidation_0-aucpr:0.96536\n",
      "[24]\tvalidation_0-aucpr:0.96532\n",
      "[25]\tvalidation_0-aucpr:0.96574\n",
      "[26]\tvalidation_0-aucpr:0.96726\n",
      "[27]\tvalidation_0-aucpr:0.96732\n",
      "[28]\tvalidation_0-aucpr:0.96936\n",
      "[29]\tvalidation_0-aucpr:0.97066\n",
      "[30]\tvalidation_0-aucpr:0.97108\n",
      "[31]\tvalidation_0-aucpr:0.97078\n",
      "[32]\tvalidation_0-aucpr:0.97161\n",
      "[33]\tvalidation_0-aucpr:0.97210\n",
      "[34]\tvalidation_0-aucpr:0.97267\n",
      "[35]\tvalidation_0-aucpr:0.97284\n",
      "[36]\tvalidation_0-aucpr:0.97306\n"
     ]
    },
    {
     "name": "stderr",
     "output_type": "stream",
     "text": [
      "C:\\Users\\Rost\\anaconda3\\lib\\site-packages\\xgboost\\sklearn.py:1421: UserWarning: `use_label_encoder` is deprecated in 1.7.0.\n",
      "  warnings.warn(\"`use_label_encoder` is deprecated in 1.7.0.\")\n",
      "C:\\Users\\Rost\\anaconda3\\lib\\site-packages\\xgboost\\sklearn.py:861: UserWarning: `early_stopping_rounds` in `fit` method is deprecated for better compatibility with scikit-learn, use `early_stopping_rounds` in constructor or`set_params` instead.\n",
      "  warnings.warn(\n"
     ]
    },
    {
     "name": "stdout",
     "output_type": "stream",
     "text": [
      "[37]\tvalidation_0-aucpr:0.97344\n",
      "[38]\tvalidation_0-aucpr:0.97335\n",
      "[39]\tvalidation_0-aucpr:0.97410\n",
      "[40]\tvalidation_0-aucpr:0.97386\n",
      "[41]\tvalidation_0-aucpr:0.97425\n",
      "[42]\tvalidation_0-aucpr:0.97436\n",
      "[43]\tvalidation_0-aucpr:0.97456\n",
      "[44]\tvalidation_0-aucpr:0.97528\n",
      "[45]\tvalidation_0-aucpr:0.97569\n",
      "[46]\tvalidation_0-aucpr:0.97572\n",
      "[47]\tvalidation_0-aucpr:0.97610\n",
      "[48]\tvalidation_0-aucpr:0.97617\n",
      "[49]\tvalidation_0-aucpr:0.97607\n",
      "[50]\tvalidation_0-aucpr:0.97636\n",
      "[51]\tvalidation_0-aucpr:0.97632\n",
      "[52]\tvalidation_0-aucpr:0.97659\n",
      "[53]\tvalidation_0-aucpr:0.97687\n",
      "[54]\tvalidation_0-aucpr:0.97699\n",
      "[55]\tvalidation_0-aucpr:0.97713\n",
      "[56]\tvalidation_0-aucpr:0.97751\n",
      "[57]\tvalidation_0-aucpr:0.97759\n",
      "[58]\tvalidation_0-aucpr:0.97790\n",
      "[59]\tvalidation_0-aucpr:0.97786\n",
      "[60]\tvalidation_0-aucpr:0.97818\n",
      "[61]\tvalidation_0-aucpr:0.97837\n",
      "[62]\tvalidation_0-aucpr:0.97849\n",
      "[63]\tvalidation_0-aucpr:0.97840\n",
      "[64]\tvalidation_0-aucpr:0.97844\n",
      "[65]\tvalidation_0-aucpr:0.97826\n",
      "[66]\tvalidation_0-aucpr:0.97837\n",
      "[67]\tvalidation_0-aucpr:0.97825\n",
      "[68]\tvalidation_0-aucpr:0.97812\n",
      "[69]\tvalidation_0-aucpr:0.97829\n",
      "[70]\tvalidation_0-aucpr:0.97820\n",
      "[71]\tvalidation_0-aucpr:0.97827\n"
     ]
    },
    {
     "data": {
      "text/plain": "'\\ngamma - 0\\nlearning_rate - 0.9\\nmax_depth - 4\\nmin_child_weight - 0.95\\nn_estimators - 150\\nreg_lambda - 9\\nscale_pos_weight - 5\\n'"
     },
     "execution_count": 202,
     "metadata": {},
     "output_type": "execute_result"
    }
   ],
   "source": [
    "# model best parameters launch\n",
    "\n",
    "xgboost_optimal_params_model = xgboost.XGBClassifier(tree_method='gpu_hist',\n",
    "                                                    n_estimators=150,\n",
    "                                                    objective='binary:logistic',\n",
    "                                                    eval_metric=\"aucpr\",\n",
    "                                                    gamma=0.3,\n",
    "                                                    learning_rate=0.9,\n",
    "                                                    max_depth=4,\n",
    "                                                    reg_lambda=9,\n",
    "                                                    scale_pos_weight=5,\n",
    "                                                    min_child_weight=0.95,\n",
    "                                                    seed=42,\n",
    "                                                    use_label_encoder=False)\n",
    "\n",
    "xgboost_optimal_params_model.fit(\n",
    "                                X_train,\n",
    "                                Y_train,\n",
    "                                verbose=True,\n",
    "                                early_stopping_rounds=10,\n",
    "                                eval_set=[(X_test, Y_test)])\n",
    "\n",
    "'''\n",
    "tree_method='gpu_hist',\n",
    "objective='binary:logistic',\n",
    "eval_metric=\"aucpr\",\n",
    "gamma=1,\n",
    "learning_rate=0.3,\n",
    "max_depth=5,\n",
    "reg_lambda=10.0,\n",
    "scale_pos_weight=3,\n",
    "'''\n",
    "# xgboost_optimal_params_model roc_auc_score:  0.9871747256010925\n",
    "# -----------------------------------------------------------------------------\n",
    "\n",
    "'''\n",
    "gamma - 0\n",
    "learning_rate - 0.9\n",
    "max_depth - 4\n",
    "min_child_weight - 0.95\n",
    "n_estimators - 150\n",
    "reg_lambda - 9\n",
    "scale_pos_weight - 5\n",
    "'''\n",
    "# xgboost_optimal_params_model roc_auc_score:  0.9883618471285964\n",
    "# -----------------------------------------------------------------------------"
   ],
   "metadata": {
    "collapsed": false,
    "pycharm": {
     "name": "#%%\n"
    }
   }
  },
  {
   "cell_type": "code",
   "execution_count": 203,
   "outputs": [
    {
     "name": "stdout",
     "output_type": "stream",
     "text": [
      "xgboost_optimal_params_model roc_auc_score:  0.9873156321368679\n"
     ]
    }
   ],
   "source": [
    "print('xgboost_optimal_params_model roc_auc_score: ', roc_auc_score(Y_test, xgboost_optimal_params_model.predict_proba(X_test)[:, 1]))"
   ],
   "metadata": {
    "collapsed": false,
    "pycharm": {
     "name": "#%%\n"
    }
   }
  },
  {
   "cell_type": "markdown",
   "source": [
    "# нарисуем красивое дерево"
   ],
   "metadata": {
    "collapsed": false,
    "pycharm": {
     "name": "#%% md\n"
    }
   }
  },
  {
   "cell_type": "code",
   "execution_count": 105,
   "outputs": [],
   "source": [
    "import os\n",
    "os.environ[\"PATH\"] += os.pathsep + 'C:/Users/Rost/Downloads/Graphviz/bin/'"
   ],
   "metadata": {
    "collapsed": false,
    "pycharm": {
     "name": "#%%\n"
    }
   }
  },
  {
   "cell_type": "code",
   "execution_count": 216,
   "outputs": [],
   "source": [
    "xgboost_optimal_params_model = xgboost.XGBClassifier(seed=42,\n",
    "                                                    eval_metric=\"aucpr\",\n",
    "                                                    objective='binary:logistic',\n",
    "                                                    gamma=1,\n",
    "                                                    learning_rate=0.3,\n",
    "                                                    max_depth=5,\n",
    "                                                    reg_lambda=10,\n",
    "                                                    scale_pos_weight=3,\n",
    "                                                    subsample=0.9,\n",
    "                                                    colsample_bytree=0.5,\n",
    "                                                    n_estimators=1,\n",
    "                                                    use_label_encoder=False)\n",
    "\n",
    "xgboost_optimal_params_model.fit(X_train, Y_train)\n",
    "bst = xgboost_optimal_params_model.get_booster()\n",
    "\n",
    "node = {'shape': 'box', 'style': 'filled, rounded', 'fillcolor': '#78cbe'}\n",
    "\n",
    "leaf = {'shape': 'box', 'style': 'filled', 'fillcolor': '#e48038'}"
   ],
   "metadata": {
    "collapsed": false,
    "pycharm": {
     "name": "#%%\n"
    }
   }
  },
  {
   "cell_type": "code",
   "execution_count": 217,
   "outputs": [
    {
     "data": {
      "image/svg+xml": "<?xml version=\"1.0\" encoding=\"UTF-8\" standalone=\"no\"?>\n<!DOCTYPE svg PUBLIC \"-//W3C//DTD SVG 1.1//EN\"\n \"http://www.w3.org/Graphics/SVG/1.1/DTD/svg11.dtd\">\n<!-- Generated by graphviz version 7.0.2 (20221119.0110)\n -->\n<!-- Pages: 1 -->\n<svg width=\"3232pt\" height=\"479pt\"\n viewBox=\"0.00 0.00 3232.00 479.00\" xmlns=\"http://www.w3.org/2000/svg\" xmlns:xlink=\"http://www.w3.org/1999/xlink\">\n<g id=\"graph0\" class=\"graph\" transform=\"scale(1 1) rotate(0) translate(4 475)\">\n<polygon fill=\"white\" stroke=\"none\" points=\"-4,4 -4,-475 3228,-475 3228,4 -4,4\"/>\n<!-- 0 -->\n<g id=\"node1\" class=\"node\">\n<title>0</title>\n<path fill=\"#78cb0e\" stroke=\"black\" d=\"M1102.5,-471C1102.5,-471 1013.5,-471 1013.5,-471 1007.5,-471 1001.5,-465 1001.5,-459 1001.5,-459 1001.5,-447 1001.5,-447 1001.5,-441 1007.5,-435 1013.5,-435 1013.5,-435 1102.5,-435 1102.5,-435 1108.5,-435 1114.5,-441 1114.5,-447 1114.5,-447 1114.5,-459 1114.5,-459 1114.5,-465 1108.5,-471 1102.5,-471\"/>\n<text text-anchor=\"middle\" x=\"1058\" y=\"-449.3\" font-family=\"Times New Roman,serif\" font-size=\"14.00\">tau1&lt;2.90069818</text>\n</g>\n<!-- 1 -->\n<g id=\"node2\" class=\"node\">\n<title>1</title>\n<path fill=\"#78cb0e\" stroke=\"black\" d=\"M782.5,-384C782.5,-384 693.5,-384 693.5,-384 687.5,-384 681.5,-378 681.5,-372 681.5,-372 681.5,-360 681.5,-360 681.5,-354 687.5,-348 693.5,-348 693.5,-348 782.5,-348 782.5,-348 788.5,-348 794.5,-354 794.5,-360 794.5,-360 794.5,-372 794.5,-372 794.5,-378 788.5,-384 782.5,-384\"/>\n<text text-anchor=\"middle\" x=\"738\" y=\"-362.3\" font-family=\"Times New Roman,serif\" font-size=\"14.00\">tau4&lt;3.25954676</text>\n</g>\n<!-- 0&#45;&gt;1 -->\n<g id=\"edge1\" class=\"edge\">\n<title>0&#45;&gt;1</title>\n<path fill=\"none\" stroke=\"#0000ff\" d=\"M1001.16,-436.9C946.49,-422.38 863.82,-400.42 805.75,-385\"/>\n<polygon fill=\"#0000ff\" stroke=\"#0000ff\" points=\"806.88,-381.67 796.31,-382.49 805.08,-388.44 806.88,-381.67\"/>\n<text text-anchor=\"middle\" x=\"952.5\" y=\"-405.8\" font-family=\"Times New Roman,serif\" font-size=\"14.00\">yes, missing</text>\n</g>\n<!-- 2 -->\n<g id=\"node3\" class=\"node\">\n<title>2</title>\n<path fill=\"#78cb0e\" stroke=\"black\" d=\"M1626,-384C1626,-384 1540,-384 1540,-384 1534,-384 1528,-378 1528,-372 1528,-372 1528,-360 1528,-360 1528,-354 1534,-348 1540,-348 1540,-348 1626,-348 1626,-348 1632,-348 1638,-354 1638,-360 1638,-360 1638,-372 1638,-372 1638,-378 1632,-384 1626,-384\"/>\n<text text-anchor=\"middle\" x=\"1583\" y=\"-362.3\" font-family=\"Times New Roman,serif\" font-size=\"14.00\">g1&lt;0.611317754</text>\n</g>\n<!-- 0&#45;&gt;2 -->\n<g id=\"edge2\" class=\"edge\">\n<title>0&#45;&gt;2</title>\n<path fill=\"none\" stroke=\"#ff0000\" d=\"M1114.93,-442.78C1212.8,-426.94 1412.42,-394.62 1516.51,-377.77\"/>\n<polygon fill=\"#ff0000\" stroke=\"#ff0000\" points=\"1517,-381.23 1526.31,-376.18 1515.88,-374.32 1517,-381.23\"/>\n<text text-anchor=\"middle\" x=\"1359.5\" y=\"-405.8\" font-family=\"Times New Roman,serif\" font-size=\"14.00\">no</text>\n</g>\n<!-- 3 -->\n<g id=\"node4\" class=\"node\">\n<title>3</title>\n<polygon fill=\"#e48038\" stroke=\"black\" points=\"665,-297 549,-297 549,-261 665,-261 665,-297\"/>\n<text text-anchor=\"middle\" x=\"607\" y=\"-275.3\" font-family=\"Times New Roman,serif\" font-size=\"14.00\">leaf=0.505974531</text>\n</g>\n<!-- 1&#45;&gt;3 -->\n<g id=\"edge3\" class=\"edge\">\n<title>1&#45;&gt;3</title>\n<path fill=\"none\" stroke=\"#0000ff\" d=\"M696.8,-347.58C686.14,-342.45 674.88,-336.46 665,-330 653.84,-322.7 642.52,-313.45 632.88,-304.89\"/>\n<polygon fill=\"#0000ff\" stroke=\"#0000ff\" points=\"635.42,-302.47 625.67,-298.32 630.71,-307.64 635.42,-302.47\"/>\n<text text-anchor=\"middle\" x=\"699.5\" y=\"-318.8\" font-family=\"Times New Roman,serif\" font-size=\"14.00\">yes, missing</text>\n</g>\n<!-- 4 -->\n<g id=\"node5\" class=\"node\">\n<title>4</title>\n<path fill=\"#78cb0e\" stroke=\"black\" d=\"M781,-297C781,-297 695,-297 695,-297 689,-297 683,-291 683,-285 683,-285 683,-273 683,-273 683,-267 689,-261 695,-261 695,-261 781,-261 781,-261 787,-261 793,-267 793,-273 793,-273 793,-285 793,-285 793,-291 787,-297 781,-297\"/>\n<text text-anchor=\"middle\" x=\"738\" y=\"-275.3\" font-family=\"Times New Roman,serif\" font-size=\"14.00\">g4&lt;0.688043118</text>\n</g>\n<!-- 1&#45;&gt;4 -->\n<g id=\"edge4\" class=\"edge\">\n<title>1&#45;&gt;4</title>\n<path fill=\"none\" stroke=\"#ff0000\" d=\"M738,-347.8C738,-336.58 738,-321.67 738,-308.69\"/>\n<polygon fill=\"#ff0000\" stroke=\"#ff0000\" points=\"741.5,-308.98 738,-298.98 734.5,-308.98 741.5,-308.98\"/>\n<text text-anchor=\"middle\" x=\"745.5\" y=\"-318.8\" font-family=\"Times New Roman,serif\" font-size=\"14.00\">no</text>\n</g>\n<!-- 5 -->\n<g id=\"node20\" class=\"node\">\n<title>5</title>\n<path fill=\"#78cb0e\" stroke=\"black\" d=\"M1627.5,-297C1627.5,-297 1538.5,-297 1538.5,-297 1532.5,-297 1526.5,-291 1526.5,-285 1526.5,-285 1526.5,-273 1526.5,-273 1526.5,-267 1532.5,-261 1538.5,-261 1538.5,-261 1627.5,-261 1627.5,-261 1633.5,-261 1639.5,-267 1639.5,-273 1639.5,-273 1639.5,-285 1639.5,-285 1639.5,-291 1633.5,-297 1627.5,-297\"/>\n<text text-anchor=\"middle\" x=\"1583\" y=\"-275.3\" font-family=\"Times New Roman,serif\" font-size=\"14.00\">tau4&lt;3.77925539</text>\n</g>\n<!-- 2&#45;&gt;5 -->\n<g id=\"edge19\" class=\"edge\">\n<title>2&#45;&gt;5</title>\n<path fill=\"none\" stroke=\"#0000ff\" d=\"M1583,-347.8C1583,-336.58 1583,-321.67 1583,-308.69\"/>\n<polygon fill=\"#0000ff\" stroke=\"#0000ff\" points=\"1586.5,-308.98 1583,-298.98 1579.5,-308.98 1586.5,-308.98\"/>\n<text text-anchor=\"middle\" x=\"1617.5\" y=\"-318.8\" font-family=\"Times New Roman,serif\" font-size=\"14.00\">yes, missing</text>\n</g>\n<!-- 6 -->\n<g id=\"node21\" class=\"node\">\n<title>6</title>\n<path fill=\"#78cb0e\" stroke=\"black\" d=\"M2435.5,-297C2435.5,-297 2346.5,-297 2346.5,-297 2340.5,-297 2334.5,-291 2334.5,-285 2334.5,-285 2334.5,-273 2334.5,-273 2334.5,-267 2340.5,-261 2346.5,-261 2346.5,-261 2435.5,-261 2435.5,-261 2441.5,-261 2447.5,-267 2447.5,-273 2447.5,-273 2447.5,-285 2447.5,-285 2447.5,-291 2441.5,-297 2435.5,-297\"/>\n<text text-anchor=\"middle\" x=\"2391\" y=\"-275.3\" font-family=\"Times New Roman,serif\" font-size=\"14.00\">tau4&lt;3.08944273</text>\n</g>\n<!-- 2&#45;&gt;6 -->\n<g id=\"edge20\" class=\"edge\">\n<title>2&#45;&gt;6</title>\n<path fill=\"none\" stroke=\"#ff0000\" d=\"M1638.22,-359.19C1781.69,-344.1 2165.97,-303.67 2322.86,-287.17\"/>\n<polygon fill=\"#ff0000\" stroke=\"#ff0000\" points=\"2323.12,-290.66 2332.7,-286.13 2322.39,-283.7 2323.12,-290.66\"/>\n<text text-anchor=\"middle\" x=\"2043.5\" y=\"-318.8\" font-family=\"Times New Roman,serif\" font-size=\"14.00\">no</text>\n</g>\n<!-- 7 -->\n<g id=\"node6\" class=\"node\">\n<title>7</title>\n<path fill=\"#78cb0e\" stroke=\"black\" d=\"M377,-210C377,-210 291,-210 291,-210 285,-210 279,-204 279,-198 279,-198 279,-186 279,-186 279,-180 285,-174 291,-174 291,-174 377,-174 377,-174 383,-174 389,-180 389,-186 389,-186 389,-198 389,-198 389,-204 383,-210 377,-210\"/>\n<text text-anchor=\"middle\" x=\"334\" y=\"-188.3\" font-family=\"Times New Roman,serif\" font-size=\"14.00\">g4&lt;0.514109194</text>\n</g>\n<!-- 4&#45;&gt;7 -->\n<g id=\"edge5\" class=\"edge\">\n<title>4&#45;&gt;7</title>\n<path fill=\"none\" stroke=\"#0000ff\" d=\"M682.55,-263.05C679.66,-262.34 676.8,-261.65 674,-261 579.44,-239.01 469.09,-217.74 400.37,-205.01\"/>\n<polygon fill=\"#0000ff\" stroke=\"#0000ff\" points=\"401.25,-201.61 390.78,-203.24 399.97,-208.49 401.25,-201.61\"/>\n<text text-anchor=\"middle\" x=\"625.5\" y=\"-231.8\" font-family=\"Times New Roman,serif\" font-size=\"14.00\">yes, missing</text>\n</g>\n<!-- 8 -->\n<g id=\"node7\" class=\"node\">\n<title>8</title>\n<path fill=\"#78cb0e\" stroke=\"black\" d=\"M782.5,-210C782.5,-210 693.5,-210 693.5,-210 687.5,-210 681.5,-204 681.5,-198 681.5,-198 681.5,-186 681.5,-186 681.5,-180 687.5,-174 693.5,-174 693.5,-174 782.5,-174 782.5,-174 788.5,-174 794.5,-180 794.5,-186 794.5,-186 794.5,-198 794.5,-198 794.5,-204 788.5,-210 782.5,-210\"/>\n<text text-anchor=\"middle\" x=\"738\" y=\"-188.3\" font-family=\"Times New Roman,serif\" font-size=\"14.00\">tau1&lt;1.63147986</text>\n</g>\n<!-- 4&#45;&gt;8 -->\n<g id=\"edge6\" class=\"edge\">\n<title>4&#45;&gt;8</title>\n<path fill=\"none\" stroke=\"#ff0000\" d=\"M738,-260.8C738,-249.58 738,-234.67 738,-221.69\"/>\n<polygon fill=\"#ff0000\" stroke=\"#ff0000\" points=\"741.5,-221.98 738,-211.98 734.5,-221.98 741.5,-221.98\"/>\n<text text-anchor=\"middle\" x=\"745.5\" y=\"-231.8\" font-family=\"Times New Roman,serif\" font-size=\"14.00\">no</text>\n</g>\n<!-- 13 -->\n<g id=\"node8\" class=\"node\">\n<title>13</title>\n<path fill=\"#78cb0e\" stroke=\"black\" d=\"M176.5,-123C176.5,-123 87.5,-123 87.5,-123 81.5,-123 75.5,-117 75.5,-111 75.5,-111 75.5,-99 75.5,-99 75.5,-93 81.5,-87 87.5,-87 87.5,-87 176.5,-87 176.5,-87 182.5,-87 188.5,-93 188.5,-99 188.5,-99 188.5,-111 188.5,-111 188.5,-117 182.5,-123 176.5,-123\"/>\n<text text-anchor=\"middle\" x=\"132\" y=\"-101.3\" font-family=\"Times New Roman,serif\" font-size=\"14.00\">tau4&lt;3.38762188</text>\n</g>\n<!-- 7&#45;&gt;13 -->\n<g id=\"edge7\" class=\"edge\">\n<title>7&#45;&gt;13</title>\n<path fill=\"none\" stroke=\"#0000ff\" d=\"M292.63,-173.59C261.18,-160.36 217.7,-142.06 183.91,-127.84\"/>\n<polygon fill=\"#0000ff\" stroke=\"#0000ff\" points=\"185.28,-124.62 174.7,-123.97 182.56,-131.07 185.28,-124.62\"/>\n<text text-anchor=\"middle\" x=\"280.5\" y=\"-144.8\" font-family=\"Times New Roman,serif\" font-size=\"14.00\">yes, missing</text>\n</g>\n<!-- 14 -->\n<g id=\"node9\" class=\"node\">\n<title>14</title>\n<path fill=\"#78cb0e\" stroke=\"black\" d=\"M378.5,-123C378.5,-123 289.5,-123 289.5,-123 283.5,-123 277.5,-117 277.5,-111 277.5,-111 277.5,-99 277.5,-99 277.5,-93 283.5,-87 289.5,-87 289.5,-87 378.5,-87 378.5,-87 384.5,-87 390.5,-93 390.5,-99 390.5,-99 390.5,-111 390.5,-111 390.5,-117 384.5,-123 378.5,-123\"/>\n<text text-anchor=\"middle\" x=\"334\" y=\"-101.3\" font-family=\"Times New Roman,serif\" font-size=\"14.00\">tau1&lt;1.81304264</text>\n</g>\n<!-- 7&#45;&gt;14 -->\n<g id=\"edge8\" class=\"edge\">\n<title>7&#45;&gt;14</title>\n<path fill=\"none\" stroke=\"#ff0000\" d=\"M334,-173.8C334,-162.58 334,-147.67 334,-134.69\"/>\n<polygon fill=\"#ff0000\" stroke=\"#ff0000\" points=\"337.5,-134.98 334,-124.98 330.5,-134.98 337.5,-134.98\"/>\n<text text-anchor=\"middle\" x=\"341.5\" y=\"-144.8\" font-family=\"Times New Roman,serif\" font-size=\"14.00\">no</text>\n</g>\n<!-- 15 -->\n<g id=\"node14\" class=\"node\">\n<title>15</title>\n<path fill=\"#78cb0e\" stroke=\"black\" d=\"M719.5,-123C719.5,-123 640.5,-123 640.5,-123 634.5,-123 628.5,-117 628.5,-111 628.5,-111 628.5,-99 628.5,-99 628.5,-93 634.5,-87 640.5,-87 640.5,-87 719.5,-87 719.5,-87 725.5,-87 731.5,-93 731.5,-99 731.5,-99 731.5,-111 731.5,-111 731.5,-117 725.5,-123 719.5,-123\"/>\n<text text-anchor=\"middle\" x=\"680\" y=\"-101.3\" font-family=\"Times New Roman,serif\" font-size=\"14.00\">g4&lt;0.91438055</text>\n</g>\n<!-- 8&#45;&gt;15 -->\n<g id=\"edge13\" class=\"edge\">\n<title>8&#45;&gt;15</title>\n<path fill=\"none\" stroke=\"#0000ff\" d=\"M726.26,-173.8C718.22,-162.01 707.39,-146.14 698.23,-132.72\"/>\n<polygon fill=\"#0000ff\" stroke=\"#0000ff\" points=\"701.3,-131 692.77,-124.72 695.52,-134.95 701.3,-131\"/>\n<text text-anchor=\"middle\" x=\"747.5\" y=\"-144.8\" font-family=\"Times New Roman,serif\" font-size=\"14.00\">yes, missing</text>\n</g>\n<!-- 16 -->\n<g id=\"node15\" class=\"node\">\n<title>16</title>\n<path fill=\"#78cb0e\" stroke=\"black\" d=\"M866.5,-123C866.5,-123 777.5,-123 777.5,-123 771.5,-123 765.5,-117 765.5,-111 765.5,-111 765.5,-99 765.5,-99 765.5,-93 771.5,-87 777.5,-87 777.5,-87 866.5,-87 866.5,-87 872.5,-87 878.5,-93 878.5,-99 878.5,-99 878.5,-111 878.5,-111 878.5,-117 872.5,-123 866.5,-123\"/>\n<text text-anchor=\"middle\" x=\"822\" y=\"-101.3\" font-family=\"Times New Roman,serif\" font-size=\"14.00\">tau4&lt;8.78680229</text>\n</g>\n<!-- 8&#45;&gt;16 -->\n<g id=\"edge14\" class=\"edge\">\n<title>8&#45;&gt;16</title>\n<path fill=\"none\" stroke=\"#ff0000\" d=\"M765.12,-173.52C772.28,-168.3 779.75,-162.29 786,-156 792.97,-148.99 799.6,-140.52 805.23,-132.57\"/>\n<polygon fill=\"#ff0000\" stroke=\"#ff0000\" points=\"807.98,-134.74 810.7,-124.5 802.19,-130.81 807.98,-134.74\"/>\n<text text-anchor=\"middle\" x=\"806.5\" y=\"-144.8\" font-family=\"Times New Roman,serif\" font-size=\"14.00\">no</text>\n</g>\n<!-- 25 -->\n<g id=\"node10\" class=\"node\">\n<title>25</title>\n<polygon fill=\"#e48038\" stroke=\"black\" points=\"56,-36 0,-36 0,0 56,0 56,-36\"/>\n<text text-anchor=\"middle\" x=\"28\" y=\"-14.3\" font-family=\"Times New Roman,serif\" font-size=\"14.00\">leaf=&#45;0</text>\n</g>\n<!-- 13&#45;&gt;25 -->\n<g id=\"edge9\" class=\"edge\">\n<title>13&#45;&gt;25</title>\n<path fill=\"none\" stroke=\"#0000ff\" d=\"M85.51,-86.62C76.11,-81.8 66.74,-75.95 59,-69 51.95,-62.67 45.93,-54.36 41.13,-46.33\"/>\n<polygon fill=\"#0000ff\" stroke=\"#0000ff\" points=\"44.33,-44.89 36.44,-37.82 38.2,-48.26 44.33,-44.89\"/>\n<text text-anchor=\"middle\" x=\"93.5\" y=\"-57.8\" font-family=\"Times New Roman,serif\" font-size=\"14.00\">yes, missing</text>\n</g>\n<!-- 26 -->\n<g id=\"node11\" class=\"node\">\n<title>26</title>\n<polygon fill=\"#e48038\" stroke=\"black\" points=\"190,-36 74,-36 74,0 190,0 190,-36\"/>\n<text text-anchor=\"middle\" x=\"132\" y=\"-14.3\" font-family=\"Times New Roman,serif\" font-size=\"14.00\">leaf=0.423306257</text>\n</g>\n<!-- 13&#45;&gt;26 -->\n<g id=\"edge10\" class=\"edge\">\n<title>13&#45;&gt;26</title>\n<path fill=\"none\" stroke=\"#ff0000\" d=\"M132,-86.8C132,-75.58 132,-60.67 132,-47.69\"/>\n<polygon fill=\"#ff0000\" stroke=\"#ff0000\" points=\"135.5,-47.98 132,-37.98 128.5,-47.98 135.5,-47.98\"/>\n<text text-anchor=\"middle\" x=\"139.5\" y=\"-57.8\" font-family=\"Times New Roman,serif\" font-size=\"14.00\">no</text>\n</g>\n<!-- 27 -->\n<g id=\"node12\" class=\"node\">\n<title>27</title>\n<polygon fill=\"#e48038\" stroke=\"black\" points=\"324,-36 208,-36 208,0 324,0 324,-36\"/>\n<text text-anchor=\"middle\" x=\"266\" y=\"-14.3\" font-family=\"Times New Roman,serif\" font-size=\"14.00\">leaf=0.298744768</text>\n</g>\n<!-- 14&#45;&gt;27 -->\n<g id=\"edge11\" class=\"edge\">\n<title>14&#45;&gt;27</title>\n<path fill=\"none\" stroke=\"#0000ff\" d=\"M320.24,-86.8C310.72,-74.9 297.86,-58.83 287.06,-45.32\"/>\n<polygon fill=\"#0000ff\" stroke=\"#0000ff\" points=\"289.9,-43.27 280.92,-37.65 284.43,-47.64 289.9,-43.27\"/>\n<text text-anchor=\"middle\" x=\"339.5\" y=\"-57.8\" font-family=\"Times New Roman,serif\" font-size=\"14.00\">yes, missing</text>\n</g>\n<!-- 28 -->\n<g id=\"node13\" class=\"node\">\n<title>28</title>\n<polygon fill=\"#e48038\" stroke=\"black\" points=\"464,-36 342,-36 342,0 464,0 464,-36\"/>\n<text text-anchor=\"middle\" x=\"403\" y=\"-14.3\" font-family=\"Times New Roman,serif\" font-size=\"14.00\">leaf=0.0731707364</text>\n</g>\n<!-- 14&#45;&gt;28 -->\n<g id=\"edge12\" class=\"edge\">\n<title>14&#45;&gt;28</title>\n<path fill=\"none\" stroke=\"#ff0000\" d=\"M359.45,-86.82C366.01,-81.61 372.71,-75.52 378,-69 383.4,-62.34 388.05,-54.32 391.83,-46.67\"/>\n<polygon fill=\"#ff0000\" stroke=\"#ff0000\" points=\"394.97,-48.22 395.94,-37.67 388.6,-45.31 394.97,-48.22\"/>\n<text text-anchor=\"middle\" x=\"395.5\" y=\"-57.8\" font-family=\"Times New Roman,serif\" font-size=\"14.00\">no</text>\n</g>\n<!-- 29 -->\n<g id=\"node16\" class=\"node\">\n<title>29</title>\n<polygon fill=\"#e48038\" stroke=\"black\" points=\"598,-36 482,-36 482,0 598,0 598,-36\"/>\n<text text-anchor=\"middle\" x=\"540\" y=\"-14.3\" font-family=\"Times New Roman,serif\" font-size=\"14.00\">leaf=0.206557393</text>\n</g>\n<!-- 15&#45;&gt;29 -->\n<g id=\"edge15\" class=\"edge\">\n<title>15&#45;&gt;29</title>\n<path fill=\"none\" stroke=\"#0000ff\" d=\"M640.24,-86.65C629.24,-81.4 617.46,-75.33 607,-69 594.39,-61.37 581.24,-51.92 569.96,-43.3\"/>\n<polygon fill=\"#0000ff\" stroke=\"#0000ff\" points=\"572.22,-40.63 562.18,-37.25 567.92,-46.15 572.22,-40.63\"/>\n<text text-anchor=\"middle\" x=\"641.5\" y=\"-57.8\" font-family=\"Times New Roman,serif\" font-size=\"14.00\">yes, missing</text>\n</g>\n<!-- 30 -->\n<g id=\"node17\" class=\"node\">\n<title>30</title>\n<polygon fill=\"#e48038\" stroke=\"black\" points=\"743.5,-36 616.5,-36 616.5,0 743.5,0 743.5,-36\"/>\n<text text-anchor=\"middle\" x=\"680\" y=\"-14.3\" font-family=\"Times New Roman,serif\" font-size=\"14.00\">leaf=&#45;0.0683544353</text>\n</g>\n<!-- 15&#45;&gt;30 -->\n<g id=\"edge16\" class=\"edge\">\n<title>15&#45;&gt;30</title>\n<path fill=\"none\" stroke=\"#ff0000\" d=\"M680,-86.8C680,-75.58 680,-60.67 680,-47.69\"/>\n<polygon fill=\"#ff0000\" stroke=\"#ff0000\" points=\"683.5,-47.98 680,-37.98 676.5,-47.98 683.5,-47.98\"/>\n<text text-anchor=\"middle\" x=\"687.5\" y=\"-57.8\" font-family=\"Times New Roman,serif\" font-size=\"14.00\">no</text>\n</g>\n<!-- 31 -->\n<g id=\"node18\" class=\"node\">\n<title>31</title>\n<polygon fill=\"#e48038\" stroke=\"black\" points=\"882,-36 762,-36 762,0 882,0 882,-36\"/>\n<text text-anchor=\"middle\" x=\"822\" y=\"-14.3\" font-family=\"Times New Roman,serif\" font-size=\"14.00\">leaf=&#45;0.188950285</text>\n</g>\n<!-- 16&#45;&gt;31 -->\n<g id=\"edge17\" class=\"edge\">\n<title>16&#45;&gt;31</title>\n<path fill=\"none\" stroke=\"#0000ff\" d=\"M822,-86.8C822,-75.58 822,-60.67 822,-47.69\"/>\n<polygon fill=\"#0000ff\" stroke=\"#0000ff\" points=\"825.5,-47.98 822,-37.98 818.5,-47.98 825.5,-47.98\"/>\n<text text-anchor=\"middle\" x=\"856.5\" y=\"-57.8\" font-family=\"Times New Roman,serif\" font-size=\"14.00\">yes, missing</text>\n</g>\n<!-- 32 -->\n<g id=\"node19\" class=\"node\">\n<title>32</title>\n<polygon fill=\"#e48038\" stroke=\"black\" points=\"1016,-36 900,-36 900,0 1016,0 1016,-36\"/>\n<text text-anchor=\"middle\" x=\"958\" y=\"-14.3\" font-family=\"Times New Roman,serif\" font-size=\"14.00\">leaf=0.123076931</text>\n</g>\n<!-- 16&#45;&gt;32 -->\n<g id=\"edge18\" class=\"edge\">\n<title>16&#45;&gt;32</title>\n<path fill=\"none\" stroke=\"#ff0000\" d=\"M862.26,-86.68C873.15,-81.46 884.75,-75.41 895,-69 906.9,-61.55 919.17,-52.24 929.69,-43.68\"/>\n<polygon fill=\"#ff0000\" stroke=\"#ff0000\" points=\"931.81,-46.47 937.26,-37.39 927.33,-41.09 931.81,-46.47\"/>\n<text text-anchor=\"middle\" x=\"922.5\" y=\"-57.8\" font-family=\"Times New Roman,serif\" font-size=\"14.00\">no</text>\n</g>\n<!-- 9 -->\n<g id=\"node22\" class=\"node\">\n<title>9</title>\n<path fill=\"#78cb0e\" stroke=\"black\" d=\"M1441.5,-210C1441.5,-210 1352.5,-210 1352.5,-210 1346.5,-210 1340.5,-204 1340.5,-198 1340.5,-198 1340.5,-186 1340.5,-186 1340.5,-180 1346.5,-174 1352.5,-174 1352.5,-174 1441.5,-174 1441.5,-174 1447.5,-174 1453.5,-180 1453.5,-186 1453.5,-186 1453.5,-198 1453.5,-198 1453.5,-204 1447.5,-210 1441.5,-210\"/>\n<text text-anchor=\"middle\" x=\"1397\" y=\"-188.3\" font-family=\"Times New Roman,serif\" font-size=\"14.00\">tau4&lt;2.09331918</text>\n</g>\n<!-- 5&#45;&gt;9 -->\n<g id=\"edge21\" class=\"edge\">\n<title>5&#45;&gt;9</title>\n<path fill=\"none\" stroke=\"#0000ff\" d=\"M1544.91,-260.59C1516.07,-247.42 1476.26,-229.22 1445.21,-215.03\"/>\n<polygon fill=\"#0000ff\" stroke=\"#0000ff\" points=\"1446.96,-211.99 1436.41,-211.01 1444.05,-218.35 1446.96,-211.99\"/>\n<text text-anchor=\"middle\" x=\"1536.5\" y=\"-231.8\" font-family=\"Times New Roman,serif\" font-size=\"14.00\">yes, missing</text>\n</g>\n<!-- 10 -->\n<g id=\"node23\" class=\"node\">\n<title>10</title>\n<path fill=\"#78cb0e\" stroke=\"black\" d=\"M1798,-210C1798,-210 1712,-210 1712,-210 1706,-210 1700,-204 1700,-198 1700,-198 1700,-186 1700,-186 1700,-180 1706,-174 1712,-174 1712,-174 1798,-174 1798,-174 1804,-174 1810,-180 1810,-186 1810,-186 1810,-198 1810,-198 1810,-204 1804,-210 1798,-210\"/>\n<text text-anchor=\"middle\" x=\"1755\" y=\"-188.3\" font-family=\"Times New Roman,serif\" font-size=\"14.00\">g4&lt;0.631129563</text>\n</g>\n<!-- 5&#45;&gt;10 -->\n<g id=\"edge22\" class=\"edge\">\n<title>5&#45;&gt;10</title>\n<path fill=\"none\" stroke=\"#ff0000\" d=\"M1618.22,-260.59C1644.66,-247.53 1681.06,-229.54 1709.67,-215.4\"/>\n<polygon fill=\"#ff0000\" stroke=\"#ff0000\" points=\"1711.05,-218.62 1718.47,-211.05 1707.95,-212.35 1711.05,-218.62\"/>\n<text text-anchor=\"middle\" x=\"1687.5\" y=\"-231.8\" font-family=\"Times New Roman,serif\" font-size=\"14.00\">no</text>\n</g>\n<!-- 11 -->\n<g id=\"node36\" class=\"node\">\n<title>11</title>\n<path fill=\"#78cb0e\" stroke=\"black\" d=\"M2435.5,-210C2435.5,-210 2346.5,-210 2346.5,-210 2340.5,-210 2334.5,-204 2334.5,-198 2334.5,-198 2334.5,-186 2334.5,-186 2334.5,-180 2340.5,-174 2346.5,-174 2346.5,-174 2435.5,-174 2435.5,-174 2441.5,-174 2447.5,-180 2447.5,-186 2447.5,-186 2447.5,-198 2447.5,-198 2447.5,-204 2441.5,-210 2435.5,-210\"/>\n<text text-anchor=\"middle\" x=\"2391\" y=\"-188.3\" font-family=\"Times New Roman,serif\" font-size=\"14.00\">tau4&lt;2.01802683</text>\n</g>\n<!-- 6&#45;&gt;11 -->\n<g id=\"edge35\" class=\"edge\">\n<title>6&#45;&gt;11</title>\n<path fill=\"none\" stroke=\"#0000ff\" d=\"M2391,-260.8C2391,-249.58 2391,-234.67 2391,-221.69\"/>\n<polygon fill=\"#0000ff\" stroke=\"#0000ff\" points=\"2394.5,-221.98 2391,-211.98 2387.5,-221.98 2394.5,-221.98\"/>\n<text text-anchor=\"middle\" x=\"2425.5\" y=\"-231.8\" font-family=\"Times New Roman,serif\" font-size=\"14.00\">yes, missing</text>\n</g>\n<!-- 12 -->\n<g id=\"node37\" class=\"node\">\n<title>12</title>\n<path fill=\"#78cb0e\" stroke=\"black\" d=\"M2861,-210C2861,-210 2775,-210 2775,-210 2769,-210 2763,-204 2763,-198 2763,-198 2763,-186 2763,-186 2763,-180 2769,-174 2775,-174 2775,-174 2861,-174 2861,-174 2867,-174 2873,-180 2873,-186 2873,-186 2873,-198 2873,-198 2873,-204 2867,-210 2861,-210\"/>\n<text text-anchor=\"middle\" x=\"2818\" y=\"-188.3\" font-family=\"Times New Roman,serif\" font-size=\"14.00\">g4&lt;0.204281732</text>\n</g>\n<!-- 6&#45;&gt;12 -->\n<g id=\"edge36\" class=\"edge\">\n<title>6&#45;&gt;12</title>\n<path fill=\"none\" stroke=\"#ff0000\" d=\"M2447.7,-266.71C2526.33,-251.06 2668.17,-222.82 2751.63,-206.21\"/>\n<polygon fill=\"#ff0000\" stroke=\"#ff0000\" points=\"2752.15,-209.68 2761.27,-204.29 2750.78,-202.81 2752.15,-209.68\"/>\n<text text-anchor=\"middle\" x=\"2638.5\" y=\"-231.8\" font-family=\"Times New Roman,serif\" font-size=\"14.00\">no</text>\n</g>\n<!-- 17 -->\n<g id=\"node24\" class=\"node\">\n<title>17</title>\n<path fill=\"#78cb0e\" stroke=\"black\" d=\"M1272,-123C1272,-123 1186,-123 1186,-123 1180,-123 1174,-117 1174,-111 1174,-111 1174,-99 1174,-99 1174,-93 1180,-87 1186,-87 1186,-87 1272,-87 1272,-87 1278,-87 1284,-93 1284,-99 1284,-99 1284,-111 1284,-111 1284,-117 1278,-123 1272,-123\"/>\n<text text-anchor=\"middle\" x=\"1229\" y=\"-101.3\" font-family=\"Times New Roman,serif\" font-size=\"14.00\">g1&lt;0.592231631</text>\n</g>\n<!-- 9&#45;&gt;17 -->\n<g id=\"edge23\" class=\"edge\">\n<title>9&#45;&gt;17</title>\n<path fill=\"none\" stroke=\"#0000ff\" d=\"M1360.11,-173.64C1348.51,-168.09 1335.68,-161.87 1324,-156 1306.62,-147.27 1287.63,-137.34 1271.22,-128.66\"/>\n<polygon fill=\"#0000ff\" stroke=\"#0000ff\" points=\"1273.19,-125.74 1262.72,-124.14 1269.91,-131.92 1273.19,-125.74\"/>\n<text text-anchor=\"middle\" x=\"1358.5\" y=\"-144.8\" font-family=\"Times New Roman,serif\" font-size=\"14.00\">yes, missing</text>\n</g>\n<!-- 18 -->\n<g id=\"node25\" class=\"node\">\n<title>18</title>\n<path fill=\"#78cb0e\" stroke=\"black\" d=\"M1440,-123C1440,-123 1354,-123 1354,-123 1348,-123 1342,-117 1342,-111 1342,-111 1342,-99 1342,-99 1342,-93 1348,-87 1354,-87 1354,-87 1440,-87 1440,-87 1446,-87 1452,-93 1452,-99 1452,-99 1452,-111 1452,-111 1452,-117 1446,-123 1440,-123\"/>\n<text text-anchor=\"middle\" x=\"1397\" y=\"-101.3\" font-family=\"Times New Roman,serif\" font-size=\"14.00\">g4&lt;0.503953695</text>\n</g>\n<!-- 9&#45;&gt;18 -->\n<g id=\"edge24\" class=\"edge\">\n<title>9&#45;&gt;18</title>\n<path fill=\"none\" stroke=\"#ff0000\" d=\"M1397,-173.8C1397,-162.58 1397,-147.67 1397,-134.69\"/>\n<polygon fill=\"#ff0000\" stroke=\"#ff0000\" points=\"1400.5,-134.98 1397,-124.98 1393.5,-134.98 1400.5,-134.98\"/>\n<text text-anchor=\"middle\" x=\"1404.5\" y=\"-144.8\" font-family=\"Times New Roman,serif\" font-size=\"14.00\">no</text>\n</g>\n<!-- 19 -->\n<g id=\"node30\" class=\"node\">\n<title>19</title>\n<path fill=\"#78cb0e\" stroke=\"black\" d=\"M1798,-123C1798,-123 1712,-123 1712,-123 1706,-123 1700,-117 1700,-111 1700,-111 1700,-99 1700,-99 1700,-93 1706,-87 1712,-87 1712,-87 1798,-87 1798,-87 1804,-87 1810,-93 1810,-99 1810,-99 1810,-111 1810,-111 1810,-117 1804,-123 1798,-123\"/>\n<text text-anchor=\"middle\" x=\"1755\" y=\"-101.3\" font-family=\"Times New Roman,serif\" font-size=\"14.00\">g1&lt;0.262788534</text>\n</g>\n<!-- 10&#45;&gt;19 -->\n<g id=\"edge29\" class=\"edge\">\n<title>10&#45;&gt;19</title>\n<path fill=\"none\" stroke=\"#0000ff\" d=\"M1755,-173.8C1755,-162.58 1755,-147.67 1755,-134.69\"/>\n<polygon fill=\"#0000ff\" stroke=\"#0000ff\" points=\"1758.5,-134.98 1755,-124.98 1751.5,-134.98 1758.5,-134.98\"/>\n<text text-anchor=\"middle\" x=\"1789.5\" y=\"-144.8\" font-family=\"Times New Roman,serif\" font-size=\"14.00\">yes, missing</text>\n</g>\n<!-- 20 -->\n<g id=\"node31\" class=\"node\">\n<title>20</title>\n<path fill=\"#78cb0e\" stroke=\"black\" d=\"M1957,-123C1957,-123 1871,-123 1871,-123 1865,-123 1859,-117 1859,-111 1859,-111 1859,-99 1859,-99 1859,-93 1865,-87 1871,-87 1871,-87 1957,-87 1957,-87 1963,-87 1969,-93 1969,-99 1969,-99 1969,-111 1969,-111 1969,-117 1963,-123 1957,-123\"/>\n<text text-anchor=\"middle\" x=\"1914\" y=\"-101.3\" font-family=\"Times New Roman,serif\" font-size=\"14.00\">g1&lt;0.197041154</text>\n</g>\n<!-- 10&#45;&gt;20 -->\n<g id=\"edge30\" class=\"edge\">\n<title>10&#45;&gt;20</title>\n<path fill=\"none\" stroke=\"#ff0000\" d=\"M1792.8,-173.58C1804.2,-168.14 1816.7,-161.98 1828,-156 1843.75,-147.66 1860.78,-137.92 1875.49,-129.27\"/>\n<polygon fill=\"#ff0000\" stroke=\"#ff0000\" points=\"1877.14,-132.36 1883.96,-124.25 1873.57,-126.33 1877.14,-132.36\"/>\n<text text-anchor=\"middle\" x=\"1862.5\" y=\"-144.8\" font-family=\"Times New Roman,serif\" font-size=\"14.00\">no</text>\n</g>\n<!-- 33 -->\n<g id=\"node26\" class=\"node\">\n<title>33</title>\n<polygon fill=\"#e48038\" stroke=\"black\" points=\"1150,-36 1034,-36 1034,0 1150,0 1150,-36\"/>\n<text text-anchor=\"middle\" x=\"1092\" y=\"-14.3\" font-family=\"Times New Roman,serif\" font-size=\"14.00\">leaf=0.444631606</text>\n</g>\n<!-- 17&#45;&gt;33 -->\n<g id=\"edge25\" class=\"edge\">\n<title>17&#45;&gt;33</title>\n<path fill=\"none\" stroke=\"#0000ff\" d=\"M1188.77,-86.62C1177.88,-81.41 1166.27,-75.37 1156,-69 1143.95,-61.53 1131.5,-52.21 1120.81,-43.65\"/>\n<polygon fill=\"#0000ff\" stroke=\"#0000ff\" points=\"1123.06,-40.97 1113.1,-37.35 1118.63,-46.39 1123.06,-40.97\"/>\n<text text-anchor=\"middle\" x=\"1190.5\" y=\"-57.8\" font-family=\"Times New Roman,serif\" font-size=\"14.00\">yes, missing</text>\n</g>\n<!-- 34 -->\n<g id=\"node27\" class=\"node\">\n<title>34</title>\n<polygon fill=\"#e48038\" stroke=\"black\" points=\"1290,-36 1168,-36 1168,0 1290,0 1290,-36\"/>\n<text text-anchor=\"middle\" x=\"1229\" y=\"-14.3\" font-family=\"Times New Roman,serif\" font-size=\"14.00\">leaf=0.0193548389</text>\n</g>\n<!-- 17&#45;&gt;34 -->\n<g id=\"edge26\" class=\"edge\">\n<title>17&#45;&gt;34</title>\n<path fill=\"none\" stroke=\"#ff0000\" d=\"M1229,-86.8C1229,-75.58 1229,-60.67 1229,-47.69\"/>\n<polygon fill=\"#ff0000\" stroke=\"#ff0000\" points=\"1232.5,-47.98 1229,-37.98 1225.5,-47.98 1232.5,-47.98\"/>\n<text text-anchor=\"middle\" x=\"1236.5\" y=\"-57.8\" font-family=\"Times New Roman,serif\" font-size=\"14.00\">no</text>\n</g>\n<!-- 35 -->\n<g id=\"node28\" class=\"node\">\n<title>35</title>\n<polygon fill=\"#e48038\" stroke=\"black\" points=\"1424,-36 1308,-36 1308,0 1424,0 1424,-36\"/>\n<text text-anchor=\"middle\" x=\"1366\" y=\"-14.3\" font-family=\"Times New Roman,serif\" font-size=\"14.00\">leaf=0.313888878</text>\n</g>\n<!-- 18&#45;&gt;35 -->\n<g id=\"edge27\" class=\"edge\">\n<title>18&#45;&gt;35</title>\n<path fill=\"none\" stroke=\"#0000ff\" d=\"M1390.73,-86.8C1386.55,-75.35 1380.97,-60.06 1376.17,-46.89\"/>\n<polygon fill=\"#0000ff\" stroke=\"#0000ff\" points=\"1379.6,-46.08 1372.89,-37.89 1373.03,-48.48 1379.6,-46.08\"/>\n<text text-anchor=\"middle\" x=\"1418.5\" y=\"-57.8\" font-family=\"Times New Roman,serif\" font-size=\"14.00\">yes, missing</text>\n</g>\n<!-- 36 -->\n<g id=\"node29\" class=\"node\">\n<title>36</title>\n<polygon fill=\"#e48038\" stroke=\"black\" points=\"1558,-36 1442,-36 1442,0 1558,0 1558,-36\"/>\n<text text-anchor=\"middle\" x=\"1500\" y=\"-14.3\" font-family=\"Times New Roman,serif\" font-size=\"14.00\">leaf=0.120689653</text>\n</g>\n<!-- 18&#45;&gt;36 -->\n<g id=\"edge28\" class=\"edge\">\n<title>18&#45;&gt;36</title>\n<path fill=\"none\" stroke=\"#ff0000\" d=\"M1431.32,-86.61C1440.08,-81.48 1449.22,-75.48 1457,-69 1465.31,-62.08 1473.34,-53.46 1480.17,-45.34\"/>\n<polygon fill=\"#ff0000\" stroke=\"#ff0000\" points=\"1482.8,-47.65 1486.37,-37.67 1477.36,-43.25 1482.8,-47.65\"/>\n<text text-anchor=\"middle\" x=\"1479.5\" y=\"-57.8\" font-family=\"Times New Roman,serif\" font-size=\"14.00\">no</text>\n</g>\n<!-- 37 -->\n<g id=\"node32\" class=\"node\">\n<title>37</title>\n<polygon fill=\"#e48038\" stroke=\"black\" points=\"1692,-36 1576,-36 1576,0 1692,0 1692,-36\"/>\n<text text-anchor=\"middle\" x=\"1634\" y=\"-14.3\" font-family=\"Times New Roman,serif\" font-size=\"14.00\">leaf=0.294514775</text>\n</g>\n<!-- 19&#45;&gt;37 -->\n<g id=\"edge31\" class=\"edge\">\n<title>19&#45;&gt;37</title>\n<path fill=\"none\" stroke=\"#0000ff\" d=\"M1719.02,-86.57C1709.32,-81.35 1699.03,-75.33 1690,-69 1679.49,-61.63 1668.77,-52.53 1659.57,-44.12\"/>\n<polygon fill=\"#0000ff\" stroke=\"#0000ff\" points=\"1662.06,-41.66 1652.37,-37.38 1657.28,-46.77 1662.06,-41.66\"/>\n<text text-anchor=\"middle\" x=\"1724.5\" y=\"-57.8\" font-family=\"Times New Roman,serif\" font-size=\"14.00\">yes, missing</text>\n</g>\n<!-- 38 -->\n<g id=\"node33\" class=\"node\">\n<title>38</title>\n<polygon fill=\"#e48038\" stroke=\"black\" points=\"1832,-36 1710,-36 1710,0 1832,0 1832,-36\"/>\n<text text-anchor=\"middle\" x=\"1771\" y=\"-14.3\" font-family=\"Times New Roman,serif\" font-size=\"14.00\">leaf=0.0916129053</text>\n</g>\n<!-- 19&#45;&gt;38 -->\n<g id=\"edge32\" class=\"edge\">\n<title>19&#45;&gt;38</title>\n<path fill=\"none\" stroke=\"#ff0000\" d=\"M1758.24,-86.8C1760.35,-75.58 1763.16,-60.67 1765.6,-47.69\"/>\n<polygon fill=\"#ff0000\" stroke=\"#ff0000\" points=\"1769.02,-48.43 1767.43,-37.95 1762.14,-47.13 1769.02,-48.43\"/>\n<text text-anchor=\"middle\" x=\"1771.5\" y=\"-57.8\" font-family=\"Times New Roman,serif\" font-size=\"14.00\">no</text>\n</g>\n<!-- 39 -->\n<g id=\"node34\" class=\"node\">\n<title>39</title>\n<polygon fill=\"#e48038\" stroke=\"black\" points=\"1977.5,-36 1850.5,-36 1850.5,0 1977.5,0 1977.5,-36\"/>\n<text text-anchor=\"middle\" x=\"1914\" y=\"-14.3\" font-family=\"Times New Roman,serif\" font-size=\"14.00\">leaf=&#45;0.0800000057</text>\n</g>\n<!-- 20&#45;&gt;39 -->\n<g id=\"edge33\" class=\"edge\">\n<title>20&#45;&gt;39</title>\n<path fill=\"none\" stroke=\"#0000ff\" d=\"M1914,-86.8C1914,-75.58 1914,-60.67 1914,-47.69\"/>\n<polygon fill=\"#0000ff\" stroke=\"#0000ff\" points=\"1917.5,-47.98 1914,-37.98 1910.5,-47.98 1917.5,-47.98\"/>\n<text text-anchor=\"middle\" x=\"1948.5\" y=\"-57.8\" font-family=\"Times New Roman,serif\" font-size=\"14.00\">yes, missing</text>\n</g>\n<!-- 40 -->\n<g id=\"node35\" class=\"node\">\n<title>40</title>\n<polygon fill=\"#e48038\" stroke=\"black\" points=\"2116,-36 1996,-36 1996,0 2116,0 2116,-36\"/>\n<text text-anchor=\"middle\" x=\"2056\" y=\"-14.3\" font-family=\"Times New Roman,serif\" font-size=\"14.00\">leaf=&#45;0.358139545</text>\n</g>\n<!-- 20&#45;&gt;40 -->\n<g id=\"edge34\" class=\"edge\">\n<title>20&#45;&gt;40</title>\n<path fill=\"none\" stroke=\"#ff0000\" d=\"M1953.7,-86.56C1964.7,-81.3 1976.49,-75.26 1987,-69 1999.94,-61.3 2013.5,-51.81 2025.14,-43.18\"/>\n<polygon fill=\"#ff0000\" stroke=\"#ff0000\" points=\"2026.92,-46.22 2032.8,-37.41 2022.71,-40.63 2026.92,-46.22\"/>\n<text text-anchor=\"middle\" x=\"2016.5\" y=\"-57.8\" font-family=\"Times New Roman,serif\" font-size=\"14.00\">no</text>\n</g>\n<!-- 21 -->\n<g id=\"node38\" class=\"node\">\n<title>21</title>\n<path fill=\"#78cb0e\" stroke=\"black\" d=\"M2375,-123C2375,-123 2289,-123 2289,-123 2283,-123 2277,-117 2277,-111 2277,-111 2277,-99 2277,-99 2277,-93 2283,-87 2289,-87 2289,-87 2375,-87 2375,-87 2381,-87 2387,-93 2387,-99 2387,-99 2387,-111 2387,-111 2387,-117 2381,-123 2375,-123\"/>\n<text text-anchor=\"middle\" x=\"2332\" y=\"-101.3\" font-family=\"Times New Roman,serif\" font-size=\"14.00\">g1&lt;0.904129148</text>\n</g>\n<!-- 11&#45;&gt;21 -->\n<g id=\"edge37\" class=\"edge\">\n<title>11&#45;&gt;21</title>\n<path fill=\"none\" stroke=\"#0000ff\" d=\"M2379.06,-173.8C2370.88,-162.01 2359.86,-146.14 2350.54,-132.72\"/>\n<polygon fill=\"#0000ff\" stroke=\"#0000ff\" points=\"2353.56,-130.93 2344.99,-124.71 2347.81,-134.92 2353.56,-130.93\"/>\n<text text-anchor=\"middle\" x=\"2400.5\" y=\"-144.8\" font-family=\"Times New Roman,serif\" font-size=\"14.00\">yes, missing</text>\n</g>\n<!-- 22 -->\n<g id=\"node39\" class=\"node\">\n<title>22</title>\n<path fill=\"#78cb0e\" stroke=\"black\" d=\"M2518,-123C2518,-123 2432,-123 2432,-123 2426,-123 2420,-117 2420,-111 2420,-111 2420,-99 2420,-99 2420,-93 2426,-87 2432,-87 2432,-87 2518,-87 2518,-87 2524,-87 2530,-93 2530,-99 2530,-99 2530,-111 2530,-111 2530,-117 2524,-123 2518,-123\"/>\n<text text-anchor=\"middle\" x=\"2475\" y=\"-101.3\" font-family=\"Times New Roman,serif\" font-size=\"14.00\">g4&lt;0.447428644</text>\n</g>\n<!-- 11&#45;&gt;22 -->\n<g id=\"edge38\" class=\"edge\">\n<title>11&#45;&gt;22</title>\n<path fill=\"none\" stroke=\"#ff0000\" d=\"M2418.12,-173.52C2425.28,-168.3 2432.75,-162.29 2439,-156 2445.97,-148.99 2452.6,-140.52 2458.23,-132.57\"/>\n<polygon fill=\"#ff0000\" stroke=\"#ff0000\" points=\"2460.98,-134.74 2463.7,-124.5 2455.19,-130.81 2460.98,-134.74\"/>\n<text text-anchor=\"middle\" x=\"2459.5\" y=\"-144.8\" font-family=\"Times New Roman,serif\" font-size=\"14.00\">no</text>\n</g>\n<!-- 23 -->\n<g id=\"node44\" class=\"node\">\n<title>23</title>\n<path fill=\"#78cb0e\" stroke=\"black\" d=\"M2862.5,-123C2862.5,-123 2773.5,-123 2773.5,-123 2767.5,-123 2761.5,-117 2761.5,-111 2761.5,-111 2761.5,-99 2761.5,-99 2761.5,-93 2767.5,-87 2773.5,-87 2773.5,-87 2862.5,-87 2862.5,-87 2868.5,-87 2874.5,-93 2874.5,-99 2874.5,-99 2874.5,-111 2874.5,-111 2874.5,-117 2868.5,-123 2862.5,-123\"/>\n<text text-anchor=\"middle\" x=\"2818\" y=\"-101.3\" font-family=\"Times New Roman,serif\" font-size=\"14.00\">tau1&lt;4.73616695</text>\n</g>\n<!-- 12&#45;&gt;23 -->\n<g id=\"edge43\" class=\"edge\">\n<title>12&#45;&gt;23</title>\n<path fill=\"none\" stroke=\"#0000ff\" d=\"M2818,-173.8C2818,-162.58 2818,-147.67 2818,-134.69\"/>\n<polygon fill=\"#0000ff\" stroke=\"#0000ff\" points=\"2821.5,-134.98 2818,-124.98 2814.5,-134.98 2821.5,-134.98\"/>\n<text text-anchor=\"middle\" x=\"2852.5\" y=\"-144.8\" font-family=\"Times New Roman,serif\" font-size=\"14.00\">yes, missing</text>\n</g>\n<!-- 24 -->\n<g id=\"node45\" class=\"node\">\n<title>24</title>\n<path fill=\"#78cb0e\" stroke=\"black\" d=\"M3069.5,-123C3069.5,-123 2980.5,-123 2980.5,-123 2974.5,-123 2968.5,-117 2968.5,-111 2968.5,-111 2968.5,-99 2968.5,-99 2968.5,-93 2974.5,-87 2980.5,-87 2980.5,-87 3069.5,-87 3069.5,-87 3075.5,-87 3081.5,-93 3081.5,-99 3081.5,-99 3081.5,-111 3081.5,-111 3081.5,-117 3075.5,-123 3069.5,-123\"/>\n<text text-anchor=\"middle\" x=\"3025\" y=\"-101.3\" font-family=\"Times New Roman,serif\" font-size=\"14.00\">tau1&lt;3.32184386</text>\n</g>\n<!-- 12&#45;&gt;24 -->\n<g id=\"edge44\" class=\"edge\">\n<title>12&#45;&gt;24</title>\n<path fill=\"none\" stroke=\"#ff0000\" d=\"M2860.39,-173.59C2892.76,-160.3 2937.56,-141.91 2972.25,-127.66\"/>\n<polygon fill=\"#ff0000\" stroke=\"#ff0000\" points=\"2973.35,-130.99 2981.27,-123.96 2970.69,-124.52 2973.35,-130.99\"/>\n<text text-anchor=\"middle\" x=\"2941.5\" y=\"-144.8\" font-family=\"Times New Roman,serif\" font-size=\"14.00\">no</text>\n</g>\n<!-- 41 -->\n<g id=\"node40\" class=\"node\">\n<title>41</title>\n<polygon fill=\"#e48038\" stroke=\"black\" points=\"2250,-36 2134,-36 2134,0 2250,0 2250,-36\"/>\n<text text-anchor=\"middle\" x=\"2192\" y=\"-14.3\" font-family=\"Times New Roman,serif\" font-size=\"14.00\">leaf=0.183193296</text>\n</g>\n<!-- 21&#45;&gt;41 -->\n<g id=\"edge39\" class=\"edge\">\n<title>21&#45;&gt;41</title>\n<path fill=\"none\" stroke=\"#0000ff\" d=\"M2292.24,-86.65C2281.24,-81.4 2269.46,-75.33 2259,-69 2246.39,-61.37 2233.24,-51.92 2221.96,-43.3\"/>\n<polygon fill=\"#0000ff\" stroke=\"#0000ff\" points=\"2224.22,-40.63 2214.18,-37.25 2219.92,-46.15 2224.22,-40.63\"/>\n<text text-anchor=\"middle\" x=\"2293.5\" y=\"-57.8\" font-family=\"Times New Roman,serif\" font-size=\"14.00\">yes, missing</text>\n</g>\n<!-- 42 -->\n<g id=\"node41\" class=\"node\">\n<title>42</title>\n<polygon fill=\"#e48038\" stroke=\"black\" points=\"2395.5,-36 2268.5,-36 2268.5,0 2395.5,0 2395.5,-36\"/>\n<text text-anchor=\"middle\" x=\"2332\" y=\"-14.3\" font-family=\"Times New Roman,serif\" font-size=\"14.00\">leaf=&#45;0.0388489217</text>\n</g>\n<!-- 21&#45;&gt;42 -->\n<g id=\"edge40\" class=\"edge\">\n<title>21&#45;&gt;42</title>\n<path fill=\"none\" stroke=\"#ff0000\" d=\"M2332,-86.8C2332,-75.58 2332,-60.67 2332,-47.69\"/>\n<polygon fill=\"#ff0000\" stroke=\"#ff0000\" points=\"2335.5,-47.98 2332,-37.98 2328.5,-47.98 2335.5,-47.98\"/>\n<text text-anchor=\"middle\" x=\"2339.5\" y=\"-57.8\" font-family=\"Times New Roman,serif\" font-size=\"14.00\">no</text>\n</g>\n<!-- 43 -->\n<g id=\"node42\" class=\"node\">\n<title>43</title>\n<polygon fill=\"#e48038\" stroke=\"black\" points=\"2536,-36 2414,-36 2414,0 2536,0 2536,-36\"/>\n<text text-anchor=\"middle\" x=\"2475\" y=\"-14.3\" font-family=\"Times New Roman,serif\" font-size=\"14.00\">leaf=0.0666666701</text>\n</g>\n<!-- 22&#45;&gt;43 -->\n<g id=\"edge41\" class=\"edge\">\n<title>22&#45;&gt;43</title>\n<path fill=\"none\" stroke=\"#0000ff\" d=\"M2475,-86.8C2475,-75.58 2475,-60.67 2475,-47.69\"/>\n<polygon fill=\"#0000ff\" stroke=\"#0000ff\" points=\"2478.5,-47.98 2475,-37.98 2471.5,-47.98 2478.5,-47.98\"/>\n<text text-anchor=\"middle\" x=\"2509.5\" y=\"-57.8\" font-family=\"Times New Roman,serif\" font-size=\"14.00\">yes, missing</text>\n</g>\n<!-- 44 -->\n<g id=\"node43\" class=\"node\">\n<title>44</title>\n<polygon fill=\"#e48038\" stroke=\"black\" points=\"2674,-36 2554,-36 2554,0 2674,0 2674,-36\"/>\n<text text-anchor=\"middle\" x=\"2614\" y=\"-14.3\" font-family=\"Times New Roman,serif\" font-size=\"14.00\">leaf=&#45;0.195180729</text>\n</g>\n<!-- 22&#45;&gt;44 -->\n<g id=\"edge42\" class=\"edge\">\n<title>22&#45;&gt;44</title>\n<path fill=\"none\" stroke=\"#ff0000\" d=\"M2515.17,-86.52C2526.06,-81.31 2537.68,-75.29 2548,-69 2560.46,-61.4 2573.43,-51.96 2584.53,-43.33\"/>\n<polygon fill=\"#ff0000\" stroke=\"#ff0000\" points=\"2586.51,-46.23 2592.18,-37.28 2582.17,-40.74 2586.51,-46.23\"/>\n<text text-anchor=\"middle\" x=\"2576.5\" y=\"-57.8\" font-family=\"Times New Roman,serif\" font-size=\"14.00\">no</text>\n</g>\n<!-- 45 -->\n<g id=\"node46\" class=\"node\">\n<title>45</title>\n<polygon fill=\"#e48038\" stroke=\"black\" points=\"2808,-36 2692,-36 2692,0 2808,0 2808,-36\"/>\n<text text-anchor=\"middle\" x=\"2750\" y=\"-14.3\" font-family=\"Times New Roman,serif\" font-size=\"14.00\">leaf=0.183050841</text>\n</g>\n<!-- 23&#45;&gt;45 -->\n<g id=\"edge45\" class=\"edge\">\n<title>23&#45;&gt;45</title>\n<path fill=\"none\" stroke=\"#0000ff\" d=\"M2804.24,-86.8C2794.72,-74.9 2781.86,-58.83 2771.06,-45.32\"/>\n<polygon fill=\"#0000ff\" stroke=\"#0000ff\" points=\"2773.9,-43.27 2764.92,-37.65 2768.43,-47.64 2773.9,-43.27\"/>\n<text text-anchor=\"middle\" x=\"2823.5\" y=\"-57.8\" font-family=\"Times New Roman,serif\" font-size=\"14.00\">yes, missing</text>\n</g>\n<!-- 46 -->\n<g id=\"node47\" class=\"node\">\n<title>46</title>\n<polygon fill=\"#e48038\" stroke=\"black\" points=\"2946,-36 2826,-36 2826,0 2946,0 2946,-36\"/>\n<text text-anchor=\"middle\" x=\"2886\" y=\"-14.3\" font-family=\"Times New Roman,serif\" font-size=\"14.00\">leaf=&#45;0.140669867</text>\n</g>\n<!-- 23&#45;&gt;46 -->\n<g id=\"edge46\" class=\"edge\">\n<title>23&#45;&gt;46</title>\n<path fill=\"none\" stroke=\"#ff0000\" d=\"M2843.97,-86.51C2850.39,-81.38 2856.89,-75.41 2862,-69 2867.3,-62.35 2871.81,-54.33 2875.43,-46.68\"/>\n<polygon fill=\"#ff0000\" stroke=\"#ff0000\" points=\"2878.56,-48.25 2879.35,-37.69 2872.14,-45.46 2878.56,-48.25\"/>\n<text text-anchor=\"middle\" x=\"2879.5\" y=\"-57.8\" font-family=\"Times New Roman,serif\" font-size=\"14.00\">no</text>\n</g>\n<!-- 47 -->\n<g id=\"node48\" class=\"node\">\n<title>47</title>\n<polygon fill=\"#e48038\" stroke=\"black\" points=\"3086,-36 2964,-36 2964,0 3086,0 3086,-36\"/>\n<text text-anchor=\"middle\" x=\"3025\" y=\"-14.3\" font-family=\"Times New Roman,serif\" font-size=\"14.00\">leaf=0.0141732292</text>\n</g>\n<!-- 24&#45;&gt;47 -->\n<g id=\"edge47\" class=\"edge\">\n<title>24&#45;&gt;47</title>\n<path fill=\"none\" stroke=\"#0000ff\" d=\"M3025,-86.8C3025,-75.58 3025,-60.67 3025,-47.69\"/>\n<polygon fill=\"#0000ff\" stroke=\"#0000ff\" points=\"3028.5,-47.98 3025,-37.98 3021.5,-47.98 3028.5,-47.98\"/>\n<text text-anchor=\"middle\" x=\"3059.5\" y=\"-57.8\" font-family=\"Times New Roman,serif\" font-size=\"14.00\">yes, missing</text>\n</g>\n<!-- 48 -->\n<g id=\"node49\" class=\"node\">\n<title>48</title>\n<polygon fill=\"#e48038\" stroke=\"black\" points=\"3224,-36 3104,-36 3104,0 3224,0 3224,-36\"/>\n<text text-anchor=\"middle\" x=\"3164\" y=\"-14.3\" font-family=\"Times New Roman,serif\" font-size=\"14.00\">leaf=&#45;0.434907615</text>\n</g>\n<!-- 24&#45;&gt;48 -->\n<g id=\"edge48\" class=\"edge\">\n<title>24&#45;&gt;48</title>\n<path fill=\"none\" stroke=\"#ff0000\" d=\"M3065.17,-86.52C3076.06,-81.31 3087.68,-75.29 3098,-69 3110.46,-61.4 3123.43,-51.96 3134.53,-43.33\"/>\n<polygon fill=\"#ff0000\" stroke=\"#ff0000\" points=\"3136.51,-46.23 3142.18,-37.28 3132.17,-40.74 3136.51,-46.23\"/>\n<text text-anchor=\"middle\" x=\"3125.5\" y=\"-57.8\" font-family=\"Times New Roman,serif\" font-size=\"14.00\">no</text>\n</g>\n</g>\n</svg>\n",
      "text/plain": "<graphviz.sources.Source at 0x19b8951bb20>"
     },
     "execution_count": 217,
     "metadata": {},
     "output_type": "execute_result"
    }
   ],
   "source": [
    "# вывод дерева\n",
    "xgboost.to_graphviz(xgboost_optimal_params_model, num_trees=0, condition_node_params=node_params, leaf_node_params=leaf_params, size='0,0')"
   ],
   "metadata": {
    "collapsed": false,
    "pycharm": {
     "name": "#%%\n"
    }
   }
  },
  {
   "cell_type": "code",
   "execution_count": null,
   "outputs": [],
   "source": [],
   "metadata": {
    "collapsed": false,
    "pycharm": {
     "name": "#%%\n"
    }
   }
  },
  {
   "cell_type": "markdown",
   "source": [
    "# Итоги по xgboost"
   ],
   "metadata": {
    "collapsed": false,
    "pycharm": {
     "name": "#%% md\n"
    }
   }
  },
  {
   "cell_type": "code",
   "execution_count": 206,
   "outputs": [
    {
     "name": "stdout",
     "output_type": "stream",
     "text": [
      "xgboost_no_tn_model roc_auc_score:  0.9888602585624241\n"
     ]
    }
   ],
   "source": [
    "print('xgboost_no_tn_model roc_auc_score: ', roc_auc_score(Y_test, xgboost_no_tn_model.predict_proba(X_test)[:, 1]))"
   ],
   "metadata": {
    "collapsed": false,
    "pycharm": {
     "name": "#%%\n"
    }
   }
  },
  {
   "cell_type": "code",
   "execution_count": 209,
   "outputs": [
    {
     "name": "stdout",
     "output_type": "stream",
     "text": [
      "xgboost_optimal_params_model roc_auc_score:  0.9890315273562877\n"
     ]
    }
   ],
   "source": [
    "print('xgboost_optimal_params_model roc_auc_score: ', roc_auc_score(Y_test, optimal_params.predict_proba(X_test)[:, 1]))"
   ],
   "metadata": {
    "collapsed": false,
    "pycharm": {
     "name": "#%%\n"
    }
   }
  },
  {
   "cell_type": "code",
   "execution_count": null,
   "outputs": [],
   "source": [],
   "metadata": {
    "collapsed": false,
    "pycharm": {
     "name": "#%%\n"
    }
   }
  },
  {
   "cell_type": "code",
   "execution_count": null,
   "outputs": [],
   "source": [],
   "metadata": {
    "collapsed": false,
    "pycharm": {
     "name": "#%%\n"
    }
   }
  },
  {
   "cell_type": "markdown",
   "source": [
    "# LightGBM"
   ],
   "metadata": {
    "collapsed": false,
    "pycharm": {
     "name": "#%% md\n"
    }
   }
  },
  {
   "cell_type": "code",
   "execution_count": 101,
   "outputs": [
    {
     "name": "stdout",
     "output_type": "stream",
     "text": [
      "Collecting update\n",
      "  Downloading update-0.0.1-py2.py3-none-any.whl (2.9 kB)\n",
      "Requirement already satisfied: lightgbm in c:\\users\\rost\\anaconda3\\lib\\site-packages (3.2.1)\n",
      "Collecting style==1.1.0\n",
      "  Downloading style-1.1.0-py2.py3-none-any.whl (6.4 kB)\n",
      "Requirement already satisfied: numpy in c:\\users\\rost\\anaconda3\\lib\\site-packages (from lightgbm) (1.20.3)\n",
      "Requirement already satisfied: scipy in c:\\users\\rost\\anaconda3\\lib\\site-packages (from lightgbm) (1.7.1)\n",
      "Requirement already satisfied: scikit-learn!=0.22.0 in c:\\users\\rost\\anaconda3\\lib\\site-packages (from lightgbm) (0.24.2)\n",
      "Requirement already satisfied: wheel in c:\\users\\rost\\anaconda3\\lib\\site-packages (from lightgbm) (0.37.0)\n",
      "Requirement already satisfied: threadpoolctl>=2.0.0 in c:\\users\\rost\\anaconda3\\lib\\site-packages (from scikit-learn!=0.22.0->lightgbm) (2.2.0)\n",
      "Requirement already satisfied: joblib>=0.11 in c:\\users\\rost\\anaconda3\\lib\\site-packages (from scikit-learn!=0.22.0->lightgbm) (1.1.0)\n",
      "Installing collected packages: style, update\n",
      "Successfully installed style-1.1.0 update-0.0.1\n"
     ]
    }
   ],
   "source": [
    "! pip install update lightgbm"
   ],
   "metadata": {
    "collapsed": false,
    "pycharm": {
     "name": "#%%\n"
    }
   }
  },
  {
   "cell_type": "code",
   "execution_count": 120,
   "outputs": [],
   "source": [
    "import lightgbm"
   ],
   "metadata": {
    "collapsed": false,
    "pycharm": {
     "name": "#%%\n"
    }
   }
  },
  {
   "cell_type": "markdown",
   "source": [
    "# lightgbm No hyperparameter tuning"
   ],
   "metadata": {
    "collapsed": false,
    "pycharm": {
     "name": "#%% md\n"
    }
   }
  },
  {
   "cell_type": "code",
   "execution_count": null,
   "outputs": [],
   "source": [
    "LGBM_no_tn_clf = lightgbm.LGBMClassifier(n_estimators=300)\n",
    "LGBM_no_tn_clf.fit(X_train, Y_train)"
   ],
   "metadata": {
    "collapsed": false,
    "pycharm": {
     "name": "#%%\n"
    }
   }
  },
  {
   "cell_type": "code",
   "execution_count": 149,
   "outputs": [
    {
     "name": "stdout",
     "output_type": "stream",
     "text": [
      "LGBM_no_tn_clf Confusion Matrix:\n",
      " [[2757  114]\n",
      " [ 136 1493]]\n"
     ]
    }
   ],
   "source": [
    "LGBM_no_tn_pred = LGBM_no_tn_clf.predict(X_test)\n",
    "LGBM_no_tn_cm = confusion_matrix(Y_test,LGBM_no_tn_pred)\n",
    "\n",
    "print(f'LGBM_no_tn_clf Confusion Matrix:\\n {LGBM_no_tn_cm}')"
   ],
   "metadata": {
    "collapsed": false,
    "pycharm": {
     "name": "#%%\n"
    }
   }
  },
  {
   "cell_type": "code",
   "execution_count": 128,
   "outputs": [
    {
     "name": "stdout",
     "output_type": "stream",
     "text": [
      "LGBM_no_tn_clf roc_auc_score:  0.9890879754980854\n"
     ]
    }
   ],
   "source": [
    "print('LGBM_no_tn_clf roc_auc_score: ', roc_auc_score(Y_test, LGBM_no_tn_clf.predict_proba(X_test)[:, 1]))"
   ],
   "metadata": {
    "collapsed": false,
    "pycharm": {
     "name": "#%%\n"
    }
   }
  },
  {
   "cell_type": "markdown",
   "source": [
    "# lightgbm hyperparameter tuning"
   ],
   "metadata": {
    "collapsed": false,
    "pycharm": {
     "name": "#%% md\n"
    }
   }
  },
  {
   "cell_type": "code",
   "execution_count": 103,
   "outputs": [
    {
     "name": "stdout",
     "output_type": "stream",
     "text": [
      "Fitting 3 folds for each of 10800 candidates, totalling 32400 fits\n",
      "boosting_type - goss\n",
      "learning_rate - 0.1\n",
      "max_depth - 4\n",
      "n_estimators - 600\n",
      "reg_lambda - 5.0\n",
      "scale_pos_weight - 1\n"
     ]
    },
    {
     "data": {
      "text/plain": "'\\nFitting 3 folds for each of 24000 candidates, totalling 72000 fits\\n[LightGBM] [Warning] Unknown parameter: use_label_encoder\\n[LightGBM] [Warning] Unknown parameter: tree_method\\n[LightGBM] [Warning] Unknown parameter: eval_metric\\n[LightGBM] [Warning] Unknown parameter: gamma\\ngamma - 0.1\\nlearning_rate - 0.2\\nmax_depth - 4\\nn_estimators - 500\\nreg_lambda - 20\\nscale_pos_weight - 7\\n'"
     },
     "execution_count": 103,
     "metadata": {},
     "output_type": "execute_result"
    }
   ],
   "source": [
    "# Parameter 1\n",
    "LGBM_param_grid = {\n",
    "    'n_estimators': [ 300, 400, 500, 600, 700], ##1, 5, 10, 100, 200,\n",
    "    'max_depth': [2, 3, 4, 5, 8, 10],\n",
    "    'learning_rate': [0.01, 0.1, 0.2, 0.4, 0.8],\n",
    "    'boosting_type': ['gbdt', 'dart', 'goss'],\n",
    "    ##'gamma': [0.1, 0.25, 0.5, 0.7, 0.9],\n",
    "    'reg_lambda': [0, 1.0, 5.0, 10.0, 20, 50],\n",
    "    'scale_pos_weight': [1, 3, 5, 7]\n",
    "}\n",
    "# Output: max_depth: 4, learning_rate: 0.1, gamma: 0.25, reg_lambda: 10, scale_pos_weight: 3\n",
    "# ----------------------------------------------------------------------------------\n",
    "\n",
    "# Parameter 2\n",
    "# LGBM_param_grid = {\n",
    "#     'n_estimators': [1, 5, 10, 100, 200, 300, 400, 500, 600, 700],\n",
    "#     'max_depth': [4, 6, 8, 10],\n",
    "#     'learning_rate': [0.3],\n",
    "#     'gamma': [0],\n",
    "#     'reg_lambda': [5, 10.0, 20, 50, 100],\n",
    "#     'scale_pos_weight': [5]\n",
    "# }\n",
    "# ----------------------------------------------------------------------------------\n",
    "\n",
    "LGBMC_optimal_params = GridSearchCV(\n",
    "    estimator=lightgbm.LGBMClassifier(tree_method='hist',\n",
    "                                    objective='binary',\n",
    "                                    seed=42,\n",
    "                                    subsample=0.9,\n",
    "                                    colsample_bytree=0.5,\n",
    "                                    ),\n",
    "    param_grid=LGBM_param_grid,\n",
    "    scoring='roc_auc',\n",
    "    verbose=True,\n",
    "    n_jobs = 10,\n",
    "    cv = 3\n",
    ")\n",
    "\n",
    "LGBMC_optimal_params.fit(X_train,\n",
    "                   Y_train,\n",
    "                   early_stopping_rounds=10,\n",
    "                   eval_set=[(X_test, Y_test)],\n",
    "                   verbose=False)\n",
    "\n",
    "for key, value in LGBMC_optimal_params.best_params_.items():\n",
    "    print(key, '-', value)\n",
    "\n",
    "'''\n",
    "Fitting 3 folds for each of 10800 candidates, totalling 32400 fits\n",
    "boosting_type - goss\n",
    "learning_rate - 0.1\n",
    "max_depth - 4\n",
    "n_estimators - 600\n",
    "reg_lambda - 5.0\n",
    "scale_pos_weight - 1\n",
    "'''"
   ],
   "metadata": {
    "collapsed": false,
    "pycharm": {
     "name": "#%%\n"
    }
   }
  },
  {
   "cell_type": "code",
   "execution_count": 150,
   "outputs": [
    {
     "data": {
      "text/plain": "LGBMClassifier(boosting_type='goss', max_depth=4, n_estimators=600,\n               reg_lambda=5.0, scale_pos_weight=1)"
     },
     "execution_count": 150,
     "metadata": {},
     "output_type": "execute_result"
    }
   ],
   "source": [
    "# model best parameters launch\n",
    "LGBM_BP_tn_clf = lightgbm.LGBMClassifier(n_estimators=600,learning_rate=0.1,max_depth=4,boosting_type='goss',reg_lambda=5.0,scale_pos_weight=1)\n",
    "LGBM_BP_tn_clf.fit(X_train, Y_train)"
   ],
   "metadata": {
    "collapsed": false,
    "pycharm": {
     "name": "#%%\n"
    }
   }
  },
  {
   "cell_type": "code",
   "execution_count": 151,
   "outputs": [
    {
     "name": "stdout",
     "output_type": "stream",
     "text": [
      "LGBM_BP_tn_clf Confusion Matrix:\n",
      " [[2778   93]\n",
      " [ 117 1512]]\n"
     ]
    }
   ],
   "source": [
    "BP_LGBM_pred = LGBM_BP_tn_clf.predict(X_test)\n",
    "BP_LGBM_pred_cm = confusion_matrix(Y_test, BP_LGBM_pred)\n",
    "\n",
    "print(f'LGBM_BP_tn_clf Confusion Matrix:\\n {BP_LGBM_pred_cm}')"
   ],
   "metadata": {
    "collapsed": false,
    "pycharm": {
     "name": "#%%\n"
    }
   }
  },
  {
   "cell_type": "code",
   "execution_count": 129,
   "outputs": [
    {
     "name": "stdout",
     "output_type": "stream",
     "text": [
      "LGBM_BP_tn_clf roc_auc_score:  0.992148576640861\n"
     ]
    }
   ],
   "source": [
    "print('LGBM_BP_tn_clf roc_auc_score: ', roc_auc_score(Y_test, LGBM_BP_tn_clf.predict_proba(X_test)[:, 1]))"
   ],
   "metadata": {
    "collapsed": false,
    "pycharm": {
     "name": "#%%\n"
    }
   }
  },
  {
   "cell_type": "raw",
   "source": [],
   "metadata": {
    "collapsed": false,
    "pycharm": {
     "name": "#%% raw\n"
    }
   }
  },
  {
   "cell_type": "markdown",
   "source": [
    "# Lets построим графики из ноутбука лекции c кривыми ROC-AUC"
   ],
   "metadata": {
    "collapsed": false,
    "pycharm": {
     "name": "#%% md\n"
    }
   }
  },
  {
   "cell_type": "code",
   "execution_count": 152,
   "outputs": [
    {
     "data": {
      "text/plain": "<Figure size 576x360 with 1 Axes>",
      "image/png": "[encoded data removed]"
     },
     "metadata": {
      "needs_background": "light"
     },
     "output_type": "display_data"
    }
   ],
   "source": [
    "# из ноутбука лекции\n",
    "n_trees = [1, 5, 10, 100, 200, 300, 400, 500, 600, 700]\n",
    "quals_train = []\n",
    "quals_test = []\n",
    "for n in n_trees:\n",
    "    clf = lightgbm.LGBMClassifier(n_estimators=n)\n",
    "    clf.fit(X_train, Y_train)\n",
    "    q_train = roc_auc_score(Y_train, clf.predict_proba(X_train)[:, 1])\n",
    "    q_test = roc_auc_score(Y_test, clf.predict_proba(X_test)[:, 1])\n",
    "    quals_train.append(q_train)\n",
    "    quals_test.append(q_test)\n",
    "\n",
    "plt.figure(figsize=(8, 5))\n",
    "plt.plot(n_trees, quals_train, marker='.', label='train')\n",
    "plt.plot(n_trees, quals_test, marker='.', label='test')\n",
    "plt.xlabel('Number of trees')\n",
    "plt.ylabel('AUC-ROC')\n",
    "plt.legend()\n",
    "\n",
    "plt.show()"
   ],
   "metadata": {
    "collapsed": false,
    "pycharm": {
     "name": "#%%\n"
    }
   }
  },
  {
   "cell_type": "markdown",
   "source": [],
   "metadata": {
    "collapsed": false,
    "pycharm": {
     "name": "#%% md\n"
    }
   }
  },
  {
   "cell_type": "code",
   "execution_count": 153,
   "outputs": [
    {
     "data": {
      "text/plain": "<Figure size 576x360 with 1 Axes>",
      "image/png": "[encoded data removed]"
     },
     "metadata": {
      "needs_background": "light"
     },
     "output_type": "display_data"
    }
   ],
   "source": [
    "# из ноутбука лекции\n",
    "depth = list(range(1, 12))\n",
    "n_trees = 170\n",
    "quals_train = []\n",
    "quals_test = []\n",
    "for d in depth:\n",
    "    lgb = lightgbm.LGBMClassifier(n_estimators=n_trees, max_depth=d)\n",
    "    lgb.fit(X_train, Y_train)\n",
    "    q_train = roc_auc_score(Y_train, lgb.predict_proba(X_train)[:, 1])\n",
    "    q_test = roc_auc_score(Y_test, lgb.predict_proba(X_test)[:, 1])\n",
    "    quals_train.append(q_train)\n",
    "    quals_test.append(q_test)\n",
    "\n",
    "plt.figure(figsize=(8, 5))\n",
    "plt.plot(depth, quals_train, marker='.', label='train')\n",
    "plt.plot(depth, quals_test, marker='.', label='test')\n",
    "plt.xlabel('Depth of trees')\n",
    "plt.ylabel('AUC-ROC')\n",
    "plt.legend()\n",
    "\n",
    "plt.show()"
   ],
   "metadata": {
    "collapsed": false,
    "pycharm": {
     "name": "#%%\n"
    }
   }
  },
  {
   "cell_type": "markdown",
   "source": [],
   "metadata": {
    "collapsed": false,
    "pycharm": {
     "name": "#%% md\n"
    }
   }
  },
  {
   "cell_type": "code",
   "execution_count": 154,
   "outputs": [
    {
     "data": {
      "text/plain": "<Figure size 1080x504 with 2 Axes>",
      "image/png": "[encoded data removed]"
     },
     "metadata": {
      "needs_background": "light"
     },
     "output_type": "display_data"
    }
   ],
   "source": [
    "MAX_ESTIMATORS = 150\n",
    "\n",
    "gbclf = BaggingClassifier(warm_start=True)\n",
    "err_train_bag = []\n",
    "err_test_bag = []\n",
    "for i in range(1, MAX_ESTIMATORS+1):\n",
    "    gbclf.n_estimators = i\n",
    "    gbclf.fit(X_train, Y_train)\n",
    "    err_train_bag.append(1 - gbclf.score(X_train, Y_train))\n",
    "    err_test_bag.append(1 - gbclf.score(X_test, Y_test))\n",
    "\n",
    "gbclf = GradientBoostingClassifier(warm_start=True, max_depth=3, learning_rate=0.1)\n",
    "err_train_gb = []\n",
    "err_test_gb = []\n",
    "for i in range(1, MAX_ESTIMATORS+1):\n",
    "    gbclf.n_estimators = i\n",
    "    gbclf.fit(X_train, Y_train)\n",
    "    err_train_gb.append(1 - gbclf.score(X_train, Y_train))\n",
    "    err_test_gb.append(1 - gbclf.score(X_test, Y_test))\n",
    "\n",
    "plt.figure(figsize=(10, 4))\n",
    "plt.subplot(1, 2, 1)\n",
    "plt.plot(err_train_gb, label='GB')\n",
    "plt.plot(err_train_bag, label='Bagging')\n",
    "plt.legend()\n",
    "plt.title('Train')\n",
    "plt.subplot(1, 2, 2)\n",
    "plt.plot(err_test_gb, label='GB')\n",
    "plt.plot(err_test_bag, label='Bagging')\n",
    "plt.legend()\n",
    "plt.title('Test')\n",
    "plt.gcf().set_size_inches(15,7)"
   ],
   "metadata": {
    "collapsed": false,
    "pycharm": {
     "name": "#%%\n"
    }
   }
  },
  {
   "cell_type": "markdown",
   "source": [
    "# Итоги по lightgbm"
   ],
   "metadata": {
    "collapsed": false,
    "pycharm": {
     "name": "#%% md\n"
    }
   }
  },
  {
   "cell_type": "code",
   "execution_count": 211,
   "outputs": [
    {
     "name": "stdout",
     "output_type": "stream",
     "text": [
      "LGBM_no_tn_clf roc_auc_score:  0.9890879754980854\n"
     ]
    }
   ],
   "source": [
    "# Итоги по lightgbm\n",
    "print('LGBM_no_tn_clf roc_auc_score: ', roc_auc_score(Y_test, LGBM_no_tn_clf.predict_proba(X_test)[:, 1]))"
   ],
   "metadata": {
    "collapsed": false,
    "pycharm": {
     "name": "#%%\n"
    }
   }
  },
  {
   "cell_type": "code",
   "execution_count": 210,
   "outputs": [
    {
     "name": "stdout",
     "output_type": "stream",
     "text": [
      "LGBM_BP_tn_clf roc_auc_score:  0.992148576640861\n"
     ]
    }
   ],
   "source": [
    "print('LGBM_BP_tn_clf roc_auc_score: ', roc_auc_score(Y_test, LGBM_BP_tn_clf.predict_proba(X_test)[:, 1]))"
   ],
   "metadata": {
    "collapsed": false,
    "pycharm": {
     "name": "#%%\n"
    }
   }
  },
  {
   "cell_type": "code",
   "execution_count": null,
   "outputs": [],
   "source": [],
   "metadata": {
    "collapsed": false,
    "pycharm": {
     "name": "#%%\n"
    }
   }
  },
  {
   "cell_type": "markdown",
   "source": [
    "# CatBoost"
   ],
   "metadata": {
    "collapsed": false,
    "pycharm": {
     "name": "#%% md\n"
    }
   }
  },
  {
   "cell_type": "code",
   "execution_count": 248,
   "outputs": [],
   "source": [
    "# import catboost\n",
    "# from catboost import CatBoostClassifier"
   ],
   "metadata": {
    "collapsed": false,
    "pycharm": {
     "name": "#%%\n"
    }
   }
  },
  {
   "cell_type": "code",
   "execution_count": 249,
   "outputs": [],
   "source": [
    "# from catboost import Pool\n",
    "# from catboost.utils import get_confusion_matrix\n"
   ],
   "metadata": {
    "collapsed": false,
    "pycharm": {
     "name": "#%%\n"
    }
   }
  },
  {
   "cell_type": "markdown",
   "source": [
    "# catboost No hyperparameter tuning"
   ],
   "metadata": {
    "collapsed": false,
    "pycharm": {
     "name": "#%% md\n"
    }
   }
  },
  {
   "cell_type": "code",
   "execution_count": 250,
   "outputs": [],
   "source": [
    "# No tuning\n",
    "# CB_model_NT = CatBoostClassifier( logging_level='Silent', task_type=\"GPU\", devices='0:2')\n"
   ],
   "metadata": {
    "collapsed": false,
    "pycharm": {
     "name": "#%%\n"
    }
   }
  },
  {
   "cell_type": "code",
   "execution_count": 251,
   "outputs": [
    {
     "data": {
      "text/plain": "<catboost.core.CatBoostClassifier at 0x19ba390df70>"
     },
     "execution_count": 251,
     "metadata": {},
     "output_type": "execute_result"
    }
   ],
   "source": [
    "CB_model_NT.fit(X_train, Y_train)\n"
   ],
   "metadata": {
    "collapsed": false,
    "pycharm": {
     "name": "#%%\n"
    }
   }
  },
  {
   "cell_type": "code",
   "execution_count": 243,
   "outputs": [
    {
     "name": "stdout",
     "output_type": "stream",
     "text": [
      "              precision    recall  f1-score   support\n",
      "\n",
      "           0       0.95      0.97      0.96      2871\n",
      "           1       0.95      0.91      0.93      1629\n",
      "\n",
      "    accuracy                           0.95      4500\n",
      "   macro avg       0.95      0.94      0.94      4500\n",
      "weighted avg       0.95      0.95      0.95      4500\n",
      "\n"
     ]
    }
   ],
   "source": [
    "pred_nt = CB_model_NT.predict(X_test)\n",
    "print(classification_report(Y_test, pred_nt))"
   ],
   "metadata": {
    "collapsed": false,
    "pycharm": {
     "name": "#%%\n"
    }
   }
  },
  {
   "cell_type": "code",
   "execution_count": 244,
   "outputs": [
    {
     "name": "stdout",
     "output_type": "stream",
     "text": [
      "[[3.508e+03 1.000e+00]\n",
      " [5.000e+00 1.986e+03]]\n"
     ]
    }
   ],
   "source": [
    "CB_NT_cm = get_confusion_matrix(CB_model_NT, Pool(X_train, Y_train))\n",
    "print(CB_NT_cm)"
   ],
   "metadata": {
    "collapsed": false,
    "pycharm": {
     "name": "#%%\n"
    }
   }
  },
  {
   "cell_type": "code",
   "execution_count": 245,
   "outputs": [
    {
     "name": "stdout",
     "output_type": "stream",
     "text": [
      "catboost_model_NT roc_auc_score:  0.9904237010352461\n"
     ]
    }
   ],
   "source": [
    "print('catboost_model_NT roc_auc_score: ', roc_auc_score(Y_test, CB_model_NT.predict_proba(X_test)[:, 1]))"
   ],
   "metadata": {
    "collapsed": false,
    "pycharm": {
     "name": "#%%\n"
    }
   }
  },
  {
   "cell_type": "markdown",
   "source": [
    "# catboost hyperparameter tuning"
   ],
   "metadata": {
    "collapsed": false,
    "pycharm": {
     "name": "#%% md\n"
    }
   }
  },
  {
   "cell_type": "code",
   "execution_count": 181,
   "outputs": [],
   "source": [
    "train_pool = catboost.Pool(X_train, Y_train)\n",
    "test_pool = catboost.Pool(X_test, Y_test)"
   ],
   "metadata": {
    "collapsed": false,
    "pycharm": {
     "name": "#%%\n"
    }
   }
  },
  {
   "cell_type": "code",
   "execution_count": 155,
   "outputs": [
    {
     "data": {
      "text/plain": "MetricVisualizer(layout=Layout(align_self='stretch', height='500px'))",
      "application/vnd.jupyter.widget-view+json": {
       "version_major": 2,
       "version_minor": 0,
       "model_id": "d4edbe59ed5947188dfcd7a91416dcdd"
      }
     },
     "metadata": {},
     "output_type": "display_data"
    },
    {
     "name": "stdout",
     "output_type": "stream",
     "text": [
      "Grid #0\n",
      "0:\tloss: 0.1711430\tbest: 0.1711430 (0)\ttotal: 32.1s\tremaining: 12m 17s\n",
      "4:\tloss: 0.1681624\tbest: 0.1326109 (1)\ttotal: 3m 13s\tremaining: 12m 15s\n",
      "8:\tloss: 0.1655989\tbest: 0.1326109 (1)\ttotal: 8m 1s\tremaining: 13m 22s\n",
      "12:\tloss: 0.1624969\tbest: 0.1313385 (10)\ttotal: 10m 53s\tremaining: 9m 13s\n",
      "16:\tloss: 0.2426390\tbest: 0.1302117 (14)\ttotal: 15m 50s\tremaining: 6m 31s\n",
      "20:\tloss: 0.2332106\tbest: 0.1302117 (14)\ttotal: 19m 4s\tremaining: 2m 43s\n",
      "23:\tloss: 0.2313024\tbest: 0.1302117 (14)\ttotal: 23m 43s\tremaining: 0us\n",
      "Grid #1\n",
      "0:\tloss: 0.1711430\tbest: 0.1711430 (0)\ttotal: 32.1s\tremaining: 12m 17s\n",
      "4:\tloss: 0.1681624\tbest: 0.1326109 (1)\ttotal: 3m 15s\tremaining: 12m 23s\n",
      "8:\tloss: 0.1711430\tbest: 0.1326109 (1)\ttotal: 8m 4s\tremaining: 13m 27s\n",
      "12:\tloss: 0.1681624\tbest: 0.1326109 (1)\ttotal: 10m 37s\tremaining: 8m 59s\n",
      "16:\tloss: 0.1711430\tbest: 0.1326109 (1)\ttotal: 15m 25s\tremaining: 6m 21s\n",
      "20:\tloss: 0.1681624\tbest: 0.1326109 (1)\ttotal: 17m 58s\tremaining: 2m 34s\n",
      "23:\tloss: 0.1668730\tbest: 0.1326109 (1)\ttotal: 22m 15s\tremaining: 0us\n",
      "Estimating final quality...\n"
     ]
    }
   ],
   "source": [
    "# hyperparameter tuning\n",
    "# grid_1 = {\n",
    "#     'learning_rate': [0.03, 0.1, 0.3, 0.9],\n",
    "#     'bootstrap_type':['Bayesian'],\n",
    "#     'bagging_temperature': [0, 1, 10],\n",
    "#     'depth':[8, 10],\n",
    "#     'l2_leaf_reg': [5]\n",
    "# }\n",
    "# grid_2 = {\n",
    "#     'learning_rate': [0.03, 0.1, 0.3, 0.9],\n",
    "#     'bootstrap_type':['Bernoulli'],\n",
    "#     'subsample': [0.66, 0.7, 0.8],\n",
    "#     'depth':[8, 10],\n",
    "#     'l2_leaf_reg': [5]\n",
    "# }\n",
    "# grid_search_results = CB_model.grid_search([grid_1, grid_2], train_pool, shuffle=False, verbose=4, plot=True)\n",
    "\n",
    "# # no depth & no l2_leaf_reg - fast\n",
    "# 'depth':[4, 6, 10] ON - START: 15.18 -- STOP: 16.05 result {'depth': 10, 'subsample': 0.66, 'learning_rate': 0.3, 'bootstrap_type': 'Bernoulli'}\n",
    "\n",
    "# depth is off, l2_leaf_reg on [1, 3, 5] [2, 3, 4] - START: 16.08 -- Stop: 16.25 {'l2_leaf_reg': 4,'subsample': 0.8,'learning_rate': 0.3, 'bootstrap_type': 'Bernoulli'}\n",
    "\n",
    "# depth is off, l2_leaf_reg on  [1, 2, 3, 4, 5] - START: 16.32 --STOP: 17.01 {'l2_leaf_reg': 5, 'subsample': 0.66, 'learning_rate': 0.3, 'bootstrap_type': 'Bernoulli'}\n",
    "\n",
    "# 'depth':[8, 10]; l2_leaf_reg: [5] - START: 17.05 --STOP: 17.45 depth='8', l2_leaf_reg='5', subsample='0.66', learning_rate='0.1', bootstrap_type='Bernoulli'\n"
   ],
   "metadata": {
    "collapsed": false,
    "pycharm": {
     "name": "#%%\n"
    }
   }
  },
  {
   "cell_type": "code",
   "execution_count": 188,
   "outputs": [],
   "source": [
    "CB_tn_model = CatBoostClassifier(iterations=200, logging_level='Silent', task_type=\"GPU\", devices='0:1', depth=8, l2_leaf_reg=5, subsample=0.66, learning_rate=0.1,\n",
    "                              bootstrap_type='Bernoulli')"
   ],
   "metadata": {
    "collapsed": false,
    "pycharm": {
     "name": "#%%\n"
    }
   }
  },
  {
   "cell_type": "code",
   "execution_count": 189,
   "outputs": [
    {
     "data": {
      "text/plain": "<catboost.core.CatBoostClassifier at 0x21f405131c0>"
     },
     "execution_count": 189,
     "metadata": {},
     "output_type": "execute_result"
    }
   ],
   "source": [
    "CB_tn_model.fit(X_train, Y_train)"
   ],
   "metadata": {
    "collapsed": false,
    "pycharm": {
     "name": "#%%\n"
    }
   }
  },
  {
   "cell_type": "code",
   "execution_count": 190,
   "outputs": [
    {
     "name": "stdout",
     "output_type": "stream",
     "text": [
      "              precision    recall  f1-score   support\n",
      "\n",
      "           0       0.96      0.97      0.96      2871\n",
      "           1       0.95      0.92      0.93      1629\n",
      "\n",
      "    accuracy                           0.95      4500\n",
      "   macro avg       0.95      0.95      0.95      4500\n",
      "weighted avg       0.95      0.95      0.95      4500\n",
      "\n"
     ]
    }
   ],
   "source": [
    "\n",
    "pred = CB_tn_model.predict(X_test)\n",
    "print(classification_report(Y_test, pred))"
   ],
   "metadata": {
    "collapsed": false,
    "pycharm": {
     "name": "#%%\n"
    }
   }
  },
  {
   "cell_type": "code",
   "execution_count": 191,
   "outputs": [
    {
     "name": "stdout",
     "output_type": "stream",
     "text": [
      "[[3509.    0.]\n",
      " [   0. 1991.]]\n"
     ]
    }
   ],
   "source": [
    "CB_cm = get_confusion_matrix(CB_tn_model, Pool(X_train, Y_train))\n",
    "print(CB_cm)"
   ],
   "metadata": {
    "collapsed": false,
    "pycharm": {
     "name": "#%%\n"
    }
   }
  },
  {
   "cell_type": "code",
   "execution_count": 247,
   "outputs": [
    {
     "name": "stdout",
     "output_type": "stream",
     "text": [
      "number_of_trees: 2\n",
      "roc_auc_score: 0.9047663185911742\n",
      "confusion_matrix: \n",
      " [[3298.  211.]\n",
      " [ 506. 1485.]]\n",
      "\n",
      "number_of_trees: 5\n",
      "roc_auc_score: 0.9304224266756813\n",
      "confusion_matrix: \n",
      " [[3334.  175.]\n",
      " [ 455. 1536.]]\n",
      "\n",
      "number_of_trees: 10\n",
      "roc_auc_score: 0.9434471939393512\n",
      "confusion_matrix: \n",
      " [[3342.  167.]\n",
      " [ 390. 1601.]]\n",
      "\n",
      "number_of_trees: 50\n",
      "roc_auc_score: 0.9749267617432983\n",
      "confusion_matrix: \n",
      " [[3434.   75.]\n",
      " [ 206. 1785.]]\n",
      "\n",
      "number_of_trees: 100\n",
      "roc_auc_score: 0.9826610124444632\n",
      "confusion_matrix: \n",
      " [[3468.   41.]\n",
      " [ 111. 1880.]]\n",
      "\n",
      "number_of_trees: 120\n",
      "roc_auc_score: 0.9851428063150932\n",
      "confusion_matrix: \n",
      " [[3484.   25.]\n",
      " [  85. 1906.]]\n",
      "\n",
      "number_of_trees: 140\n",
      "roc_auc_score: 0.9862108308161525\n",
      "confusion_matrix: \n",
      " [[3489.   20.]\n",
      " [  64. 1927.]]\n",
      "\n",
      "number_of_trees: 180\n",
      "roc_auc_score: 0.9876517551630272\n",
      "confusion_matrix: \n",
      " [[3496.   13.]\n",
      " [  37. 1954.]]\n",
      "\n",
      "number_of_trees: 200\n",
      "roc_auc_score: 0.9912723475306825\n",
      "confusion_matrix: \n",
      " [[3509.    0.]\n",
      " [   0. 1991.]]\n",
      "\n",
      "number_of_trees: 220\n",
      "roc_auc_score: 0.991592434152922\n",
      "confusion_matrix: \n",
      " [[3509.    0.]\n",
      " [   0. 1991.]]\n",
      "\n",
      "number_of_trees: 250\n",
      "roc_auc_score: 0.991631776797205\n",
      "confusion_matrix: \n",
      " [[3509.    0.]\n",
      " [   0. 1991.]]\n",
      "\n",
      "number_of_trees: 500\n",
      "roc_auc_score: 0.9902710344699295\n",
      "confusion_matrix: \n",
      " [[3509.    0.]\n",
      " [   0. 1991.]]\n",
      "\n",
      "number_of_trees: 1000\n",
      "roc_auc_score: 0.9906813525915577\n",
      "confusion_matrix: \n",
      " [[3509.    0.]\n",
      " [   0. 1991.]]\n",
      "\n"
     ]
    },
    {
     "data": {
      "text/plain": "<Figure size 576x360 with 1 Axes>",
      "image/png": "[encoded data removed]"
     },
     "metadata": {
      "needs_background": "light"
     },
     "output_type": "display_data"
    }
   ],
   "source": [
    "# num of trees tuning\n",
    "n_trees = [2, 5, 10, 50, 100, 120, 140, 180, 200, 220, 250, 500, 1000]\n",
    "quals_train = []\n",
    "quals_test = []\n",
    "for n in n_trees:\n",
    "    clf_tn = CatBoostClassifier(iterations=n, logging_level='Silent',\n",
    "                                task_type=\"GPU\", devices='0:1', depth=8,\n",
    "                                l2_leaf_reg=5, subsample=0.66,\n",
    "                                learning_rate=0.1, bootstrap_type='Bernoulli')\n",
    "    clf_tn.fit(X_train, Y_train)\n",
    "    q_train = roc_auc_score(Y_train, clf_tn.predict_proba(X_train)[:, 1])\n",
    "    q_test = roc_auc_score(Y_test, clf_tn.predict_proba(X_test)[:, 1])\n",
    "    quals_train.append(q_train)\n",
    "    quals_test.append(q_test)\n",
    "    clf_tn_cm = get_confusion_matrix(clf_tn, Pool(X_train, Y_train))\n",
    "    print(f'number_of_trees: {n}\\nroc_auc_score: {roc_auc_score(Y_test, clf_tn.predict_proba(X_test)[:, 1])}')\n",
    "    print(f'confusion_matrix: \\n {clf_tn_cm}\\n')\n",
    "\n",
    "\n",
    "plt.figure(figsize=(8, 5))\n",
    "plt.plot(n_trees, quals_train, marker='X', label='train')\n",
    "plt.plot(n_trees, quals_test, marker='X', label='test')\n",
    "plt.xlabel('Number of trees')\n",
    "plt.ylabel('AUC-ROC')\n",
    "plt.legend()\n",
    "\n",
    "plt.show()"
   ],
   "metadata": {
    "collapsed": false,
    "pycharm": {
     "name": "#%%\n"
    }
   }
  },
  {
   "cell_type": "markdown",
   "source": [
    "# Итоги CATBOOST"
   ],
   "metadata": {
    "collapsed": false,
    "pycharm": {
     "name": "#%% md\n"
    }
   }
  },
  {
   "cell_type": "code",
   "execution_count": 246,
   "outputs": [
    {
     "name": "stdout",
     "output_type": "stream",
     "text": [
      "catboost_model_NT roc_auc_score:  0.9904237010352461\n"
     ]
    }
   ],
   "source": [
    "print('catboost_model_NT roc_auc_score: ', roc_auc_score(Y_test, CB_model_NT.predict_proba(X_test)[:, 1]))"
   ],
   "metadata": {
    "collapsed": false,
    "pycharm": {
     "name": "#%%\n"
    }
   }
  },
  {
   "cell_type": "code",
   "execution_count": 230,
   "outputs": [
    {
     "name": "stdout",
     "output_type": "stream",
     "text": [
      "catboost_BP_tn_clf roc_auc_score:  0.991631776797205\n"
     ]
    }
   ],
   "source": [
    "print('catboost_BP_tn_clf roc_auc_score: ', roc_auc_score(Y_test, clf_tn.predict_proba(X_test)[:, 1]))"
   ],
   "metadata": {
    "collapsed": false,
    "pycharm": {
     "name": "#%%\n"
    }
   }
  },
  {
   "cell_type": "code",
   "execution_count": null,
   "outputs": [],
   "source": [],
   "metadata": {
    "collapsed": false,
    "pycharm": {
     "name": "#%%\n"
    }
   }
  },
  {
   "cell_type": "markdown",
   "source": [
    "# Общий итог."
   ],
   "metadata": {
    "collapsed": false,
    "pycharm": {
     "name": "#%% md\n"
    }
   }
  },
  {
   "cell_type": "markdown",
   "source": [
    "для подведения итога соберем датасет с результатами."
   ],
   "metadata": {
    "collapsed": false,
    "pycharm": {
     "name": "#%% md\n"
    }
   }
  },
  {
   "cell_type": "code",
   "execution_count": 270,
   "outputs": [],
   "source": [
    "model_names = ['sklearn', 'XGBoost', 'LightGBM', 'CatBoost'] # список моделей, для задания индекса"
   ],
   "metadata": {
    "collapsed": false,
    "pycharm": {
     "name": "#%%\n"
    }
   }
  },
  {
   "cell_type": "code",
   "execution_count": 367,
   "outputs": [],
   "source": [
    "No_tuning_params = \\\n",
    "    [str(round(roc_auc_score(Y_test, model.predict_proba(X_test)[:, 1]), 5)) for model in [sk_no_tn_gb_clf, xgboost_no_tn_model, LGBM_no_tn_clf, CB_model_NT]]"
   ],
   "metadata": {
    "collapsed": false,
    "pycharm": {
     "name": "#%%\n"
    }
   }
  },
  {
   "cell_type": "code",
   "execution_count": 365,
   "outputs": [],
   "source": [
    "tuned_params = \\\n",
    "    [str(round(roc_auc_score(Y_test, tun_model.predict_proba(X_test)[:, 1]), 5)) for tun_model in [BP_gb_clf,optimal_params, LGBM_BP_tn_clf, clf_tn]]"
   ],
   "metadata": {
    "collapsed": false,
    "pycharm": {
     "name": "#%%\n"
    }
   }
  },
  {
   "cell_type": "code",
   "execution_count": 359,
   "outputs": [],
   "source": [
    "difference = list(map(lambda x, y: str(round(x-y, 5)), tuned_params, No_tuning_params))"
   ],
   "metadata": {
    "collapsed": false,
    "pycharm": {
     "name": "#%%\n"
    }
   }
  },
  {
   "cell_type": "code",
   "execution_count": 371,
   "outputs": [],
   "source": [
    "result_dataset = pd.DataFrame(list(zip(No_tuning_params, tuned_params, difference)), index = model_names, columns = ['No_tuning_params', 'tuned_params', 'difference'])"
   ],
   "metadata": {
    "collapsed": false,
    "pycharm": {
     "name": "#%%\n"
    }
   }
  },
  {
   "cell_type": "code",
   "execution_count": 372,
   "outputs": [
    {
     "data": {
      "text/plain": "         No_tuning_params tuned_params difference\nsklearn           0.95646      0.98886     0.0324\nXGBoost           0.98886      0.98903    0.00017\nLightGBM          0.98909      0.99215    0.00306\nCatBoost          0.99042      0.99068    0.00026",
      "text/html": "<div>\n<style scoped>\n    .dataframe tbody tr th:only-of-type {\n        vertical-align: middle;\n    }\n\n    .dataframe tbody tr th {\n        vertical-align: top;\n    }\n\n    .dataframe thead th {\n        text-align: right;\n    }\n</style>\n<table border=\"1\" class=\"dataframe\">\n  <thead>\n    <tr style=\"text-align: right;\">\n      <th></th>\n      <th>No_tuning_params</th>\n      <th>tuned_params</th>\n      <th>difference</th>\n    </tr>\n  </thead>\n  <tbody>\n    <tr>\n      <th>sklearn</th>\n      <td>0.95646</td>\n      <td>0.98886</td>\n      <td>0.0324</td>\n    </tr>\n    <tr>\n      <th>XGBoost</th>\n      <td>0.98886</td>\n      <td>0.98903</td>\n      <td>0.00017</td>\n    </tr>\n    <tr>\n      <th>LightGBM</th>\n      <td>0.98909</td>\n      <td>0.99215</td>\n      <td>0.00306</td>\n    </tr>\n    <tr>\n      <th>CatBoost</th>\n      <td>0.99042</td>\n      <td>0.99068</td>\n      <td>0.00026</td>\n    </tr>\n  </tbody>\n</table>\n</div>"
     },
     "execution_count": 372,
     "metadata": {},
     "output_type": "execute_result"
    }
   ],
   "source": [
    "result_dataset # сводный датасет"
   ],
   "metadata": {
    "collapsed": false,
    "pycharm": {
     "name": "#%%\n"
    }
   }
  },
  {
   "cell_type": "code",
   "execution_count": 373,
   "outputs": [],
   "source": [
    "import seaborn as sns\n",
    "cm = sns.dark_palette(\"red\", as_cmap=True)"
   ],
   "metadata": {
    "collapsed": false,
    "pycharm": {
     "name": "#%%\n"
    }
   }
  },
  {
   "cell_type": "code",
   "execution_count": 390,
   "outputs": [
    {
     "data": {
      "text/plain": "<pandas.io.formats.style.Styler at 0x19ba22ee250>",
      "text/html": "<style type=\"text/css\">\n#T_8442c_row0_col2, #T_8442c_row2_col1, #T_8442c_row3_col0 {\n  background-color: red;\n}\n</style>\n<table id=\"T_8442c_\">\n  <thead>\n    <tr>\n      <th class=\"blank level0\" >&nbsp;</th>\n      <th class=\"col_heading level0 col0\" >No_tuning_params</th>\n      <th class=\"col_heading level0 col1\" >tuned_params</th>\n      <th class=\"col_heading level0 col2\" >difference</th>\n    </tr>\n  </thead>\n  <tbody>\n    <tr>\n      <th id=\"T_8442c_level0_row0\" class=\"row_heading level0 row0\" >sklearn</th>\n      <td id=\"T_8442c_row0_col0\" class=\"data row0 col0\" >0.95646</td>\n      <td id=\"T_8442c_row0_col1\" class=\"data row0 col1\" >0.98886</td>\n      <td id=\"T_8442c_row0_col2\" class=\"data row0 col2\" >0.0324</td>\n    </tr>\n    <tr>\n      <th id=\"T_8442c_level0_row1\" class=\"row_heading level0 row1\" >XGBoost</th>\n      <td id=\"T_8442c_row1_col0\" class=\"data row1 col0\" >0.98886</td>\n      <td id=\"T_8442c_row1_col1\" class=\"data row1 col1\" >0.98903</td>\n      <td id=\"T_8442c_row1_col2\" class=\"data row1 col2\" >0.00017</td>\n    </tr>\n    <tr>\n      <th id=\"T_8442c_level0_row2\" class=\"row_heading level0 row2\" >LightGBM</th>\n      <td id=\"T_8442c_row2_col0\" class=\"data row2 col0\" >0.98909</td>\n      <td id=\"T_8442c_row2_col1\" class=\"data row2 col1\" >0.99215</td>\n      <td id=\"T_8442c_row2_col2\" class=\"data row2 col2\" >0.00306</td>\n    </tr>\n    <tr>\n      <th id=\"T_8442c_level0_row3\" class=\"row_heading level0 row3\" >CatBoost</th>\n      <td id=\"T_8442c_row3_col0\" class=\"data row3 col0\" >0.99042</td>\n      <td id=\"T_8442c_row3_col1\" class=\"data row3 col1\" >0.99068</td>\n      <td id=\"T_8442c_row3_col2\" class=\"data row3 col2\" >0.00026</td>\n    </tr>\n  </tbody>\n</table>\n"
     },
     "execution_count": 390,
     "metadata": {},
     "output_type": "execute_result"
    }
   ],
   "source": [
    "result_dataset.style.highlight_max(color=\"red\")"
   ],
   "metadata": {
    "collapsed": false,
    "pycharm": {
     "name": "#%%\n"
    }
   }
  },
  {
   "cell_type": "markdown",
   "source": [
    "Итак, по данным можно сделать вывод, что тюнинг гиперпараметров не дал значимого прироста в моделях, кроме sklearn.\n",
    "Однако тюнинг гиперпараметров хорошо показал себя в confusion matrix.\n",
    "Лучше всех себя показал LightGBM - хороший результат в дефолтных настройках и быстрое обучение на гиперпараметрах, в отличии от XGBoost, который обучался почти 12 часов."
   ],
   "metadata": {
    "collapsed": false,
    "pycharm": {
     "name": "#%% md\n"
    }
   }
  },
  {
   "cell_type": "code",
   "execution_count": null,
   "outputs": [],
   "source": [],
   "metadata": {
    "collapsed": false,
    "pycharm": {
     "name": "#%%\n"
    }
   }
  }
 ],
 "metadata": {
  "kernelspec": {
   "display_name": "Python 3",
   "language": "python",
   "name": "python3"
  },
  "language_info": {
   "codemirror_mode": {
    "name": "ipython",
    "version": 2
   },
   "file_extension": ".py",
   "mimetype": "text/x-python",
   "name": "python",
   "nbconvert_exporter": "python",
   "pygments_lexer": "ipython2",
   "version": "2.7.6"
  }
 },
 "nbformat": 4,
 "nbformat_minor": 0
}