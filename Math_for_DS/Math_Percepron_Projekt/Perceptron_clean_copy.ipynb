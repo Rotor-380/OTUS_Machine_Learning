{
 "cells": [
  {
   "cell_type": "code",
   "execution_count": 1,
   "outputs": [],
   "source": [
    "# Импортируем библиотеки\n",
    "import numpy as np\n",
    "import matplotlib.pyplot as plt\n",
    "from sklearn.model_selection import train_test_split\n",
    "from tqdm import tqdm_notebook"
   ],
   "metadata": {
    "collapsed": false,
    "pycharm": {
     "name": "#%%\n"
    }
   }
  },
  {
   "cell_type": "code",
   "execution_count": 2,
   "outputs": [],
   "source": [
    "from tensorflow.keras.datasets import mnist #загрузим набор данных MNIST, который содержит изображения рукописных цифр и соответствующие им метки."
   ],
   "metadata": {
    "collapsed": false,
    "pycharm": {
     "name": "#%%\n"
    }
   }
  },
  {
   "cell_type": "markdown",
   "source": [
    "![](изображения/single_lair_perceptron.jpg)\n",
    "Перцептрон - это простая форма нейронной сети, представляющая собой один или несколько нейронов,\n",
    "которые могут быть обучены для классификации входных данных.\n",
    "Входные данные обычно представляются в виде вектора, а каждый элемент вектора представляет собой признак данных.\n",
    "Перцептрон определяет, принадлежит ли вектор к одному классу или другому.\n",
    "Каждый нейрон в скрытом слое связан со всеми нейронами во входном слое,\n",
    "а каждый нейрон в выходном слое связан со всеми нейронами в скрытом слое.\n",
    "Количество нейронов в скрытом слое может варьироваться в зависимости от задачи,\n",
    "но общее правило состоит в том, чтобы использовать достаточное количество нейронов для того,\n",
    "чтобы модель могла выучить сложные зависимости между входными данными и выходными значениями."
   ],
   "metadata": {
    "collapsed": false,
    "pycharm": {
     "name": "#%% md\n"
    }
   }
  },
  {
   "cell_type": "markdown",
   "source": [
    "# <center> 「 Data Loading and preprocessing. 」 </center>"
   ],
   "metadata": {
    "collapsed": false,
    "pycharm": {
     "name": "#%% md\n"
    }
   }
  },
  {
   "cell_type": "code",
   "execution_count": 3,
   "outputs": [],
   "source": [
    "# Загрузка данных MNIST 70_000 x 784\n",
    "(X_train, y_train), (X_test, y_test) = mnist.load_data() # загружаем данные MNIST из Keras и получаем кортеж из четырех массивов numpy"
   ],
   "metadata": {
    "collapsed": false,
    "pycharm": {
     "name": "#%%\n"
    }
   }
  },
  {
   "cell_type": "code",
   "execution_count": 5,
   "outputs": [
    {
     "name": "stdout",
     "output_type": "stream",
     "text": [
      "TRAIN: (60000, 28, 28) (60000,)\n",
      "TEST (10000, 28, 28) (10000,)\n",
      "TRAIN: (60000, 28, 28) (60000,)\n",
      "TEST (10000, 28, 28) (10000,)\n"
     ]
    }
   ],
   "source": [
    "print('TRAIN:', X_train.shape, y_train.shape)\n",
    "print('TEST', X_test.shape, y_test.shape)"
   ],
   "metadata": {
    "collapsed": false,
    "pycharm": {
     "name": "#%%\n"
    }
   }
  },
  {
   "cell_type": "code",
   "execution_count": 27,
   "outputs": [
    {
     "data": {
      "text/plain": "'\\nДанные изображений цифр имеют размер 28x28 пикселей, поэтому они преобразуются в одномерный массив размера 784.\\nДалее данные нормализуются путем деления каждого значения на 255.\\nВ конце обучающих данных преобразуются в one-hot кодировку, которая используется для обучения модели.\\n'"
     },
     "execution_count": 27,
     "metadata": {},
     "output_type": "execute_result"
    }
   ],
   "source": [
    "y_train = y_train[:] # тут при необходимости можно сократить размер датасета\n",
    "y_test = y_test[:] # тут при необходимости можно сократить размер датасета\n",
    "\n",
    "# Преобразование данных в нужный формат\n",
    "X_train = X_train.reshape(60_000, 784)[:] # преобразуем массив X_train из трехмерного массива размера (60000, 28, 28) в двумерный массив размера (60000, 784). тут при необходимости можно сократить размер массива\n",
    "X_test = X_test.reshape(10_000, 784)[:] # преобразуем массив X_test из трехмерного массива размера (10000, 28, 28) в двумерный массив размера (10000, 784). тут при необходимости можно сократить размер массива\n",
    "X_train = X_train / 255 # нормализуем значения в массиве\n",
    "X_test = X_test / 255 #нормализуем значения в массиве\n",
    "y_train_onehot = np.zeros((y_train.size, y_train.max() + 1)) # создаем двумерный массив y_train_onehot из нулей с размерностью (60000, 10), где 10 - количество классов цифр в MNIST.\n",
    "y_train_onehot[np.arange(y_train.size), y_train] = 1 # задаем значение 1 для каждого правильного класса в y_train_onehot с помощью индексирования массива.\n",
    "\n",
    "'''\n",
    "Данные изображений цифр имеют размер 28x28 пикселей, поэтому они преобразуются в одномерный массив размера 784.\n",
    "Далее данные нормализуются путем деления каждого значения на 255.\n",
    "В конце обучающих данных преобразуются в one-hot кодировку, которая используется для обучения модели.\n",
    "'''"
   ],
   "metadata": {
    "collapsed": false,
    "pycharm": {
     "name": "#%%\n"
    }
   }
  },
  {
   "cell_type": "code",
   "execution_count": 28,
   "outputs": [
    {
     "name": "stdout",
     "output_type": "stream",
     "text": [
      "TRAIN: (60000, 784) (60000,)\n",
      "TEST (10000, 784) (10000,)\n"
     ]
    }
   ],
   "source": [
    "print('TRAIN:', X_train.shape, y_train.shape)\n",
    "print('TEST', X_test.shape, y_test.shape)"
   ],
   "metadata": {
    "collapsed": false,
    "pycharm": {
     "name": "#%%\n"
    }
   }
  },
  {
   "cell_type": "code",
   "execution_count": 20,
   "outputs": [
    {
     "data": {
      "text/plain": "array([0.        , 0.        , 0.        , 0.        , 0.        ,\n       0.        , 0.        , 0.        , 0.        , 0.        ,\n       0.        , 0.        , 0.        , 0.        , 0.        ,\n       0.        , 0.        , 0.        , 0.        , 0.        ,\n       0.        , 0.        , 0.01176471, 0.07058824, 0.07058824,\n       0.07058824, 0.49411765, 0.53333333, 0.68627451, 0.10196078,\n       0.65098039, 1.        , 0.96862745, 0.49803922, 0.        ,\n       0.        , 0.        , 0.        , 0.        , 0.        ,\n       0.        , 0.        , 0.        , 0.        , 0.        ,\n       0.        , 0.11764706, 0.14117647, 0.36862745, 0.60392157,\n       0.66666667, 0.99215686, 0.99215686, 0.99215686, 0.99215686,\n       0.99215686, 0.88235294, 0.6745098 , 0.99215686, 0.94901961,\n       0.76470588, 0.25098039, 0.        , 0.        , 0.        ,\n       0.        , 0.        , 0.        , 0.        , 0.        ,\n       0.        , 0.        , 0.        , 0.19215686, 0.93333333,\n       0.99215686, 0.99215686, 0.99215686, 0.99215686, 0.99215686,\n       0.99215686, 0.99215686, 0.99215686, 0.98431373, 0.36470588,\n       0.32156863, 0.32156863, 0.21960784, 0.15294118, 0.        ,\n       0.        , 0.        , 0.        , 0.        , 0.        ,\n       0.        , 0.        , 0.        , 0.        , 0.        ,\n       0.        , 0.07058824, 0.85882353, 0.99215686, 0.99215686,\n       0.99215686, 0.99215686, 0.99215686, 0.77647059, 0.71372549,\n       0.96862745, 0.94509804, 0.        , 0.        , 0.        ,\n       0.        , 0.        , 0.        , 0.        , 0.        ,\n       0.        , 0.        , 0.        , 0.        , 0.        ,\n       0.        , 0.        , 0.        , 0.        , 0.        ,\n       0.31372549, 0.61176471, 0.41960784, 0.99215686, 0.99215686,\n       0.80392157, 0.04313725, 0.        , 0.16862745, 0.60392157,\n       0.        , 0.        , 0.        , 0.        , 0.        ,\n       0.        , 0.        , 0.        , 0.        , 0.        ,\n       0.        , 0.        , 0.        , 0.        , 0.        ,\n       0.        , 0.        , 0.        , 0.        , 0.05490196,\n       0.00392157, 0.60392157, 0.99215686, 0.35294118, 0.        ,\n       0.        , 0.        , 0.        , 0.        , 0.        ])"
     },
     "execution_count": 20,
     "metadata": {},
     "output_type": "execute_result"
    }
   ],
   "source": [
    "X_train[0][130:300]"
   ],
   "metadata": {
    "collapsed": false,
    "pycharm": {
     "name": "#%%\n"
    }
   }
  },
  {
   "cell_type": "markdown",
   "source": [
    "# Давайте взглянем на то, как выглядят цифры в двтвсете"
   ],
   "metadata": {
    "collapsed": false,
    "pycharm": {
     "name": "#%% md\n"
    }
   }
  },
  {
   "cell_type": "code",
   "execution_count": 4,
   "outputs": [
    {
     "data": {
      "text/plain": "<Figure size 2000x500 with 30 Axes>",
      "image/png": "[encoded data removed]"
     },
     "metadata": {},
     "output_type": "display_data"
    }
   ],
   "source": [
    "plt.figure(figsize=(20,5))\n",
    "for i in range(30):\n",
    "    plt.subplot(5,10,i+1)\n",
    "    plt.xticks([])\n",
    "    plt.yticks([])\n",
    "    plt.imshow(X_train[i].reshape((28, 28)), cmap='gray')\n",
    "\n",
    "plt.show()"
   ],
   "metadata": {
    "collapsed": false,
    "pycharm": {
     "name": "#%%\n"
    }
   }
  },
  {
   "cell_type": "markdown",
   "source": [],
   "metadata": {
    "collapsed": false,
    "pycharm": {
     "name": "#%% md\n"
    }
   }
  },
  {
   "cell_type": "markdown",
   "source": [
    "# <center> 「 Определим параметры модели. 」 </center>"
   ],
   "metadata": {
    "collapsed": false,
    "pycharm": {
     "name": "#%% md\n"
    }
   }
  },
  {
   "cell_type": "markdown",
   "source": [],
   "metadata": {
    "collapsed": false,
    "pycharm": {
     "name": "#%% md\n"
    }
   }
  },
  {
   "cell_type": "code",
   "execution_count": 28,
   "outputs": [],
   "source": [
    "# Определим параметры модели, такие как количество нейронов в скрытом слое, коэффициент обучения, количество эпох и т.д.\n",
    "n_inputs = X_train.shape[1] # Количество входных нейронов\n",
    "n_hidden = 522  # Количество нейронов в скрытом слое\n",
    "n_outputs = len(np.unique(y_train))  # Количество выходных нейронов\n",
    "\n",
    "learning_rate = 0.1 # Скорость обучения\n",
    "n_epochs = 501 # Количество эпох обучения"
   ],
   "metadata": {
    "collapsed": false,
    "pycharm": {
     "name": "#%%\n"
    }
   }
  },
  {
   "cell_type": "markdown",
   "source": [],
   "metadata": {
    "collapsed": false,
    "pycharm": {
     "name": "#%% md\n"
    }
   }
  },
  {
   "cell_type": "markdown",
   "source": [
    "# Заметки по переменным learning_rate, n_epochs"
   ],
   "metadata": {
    "collapsed": false,
    "pycharm": {
     "name": "#%% md\n"
    }
   }
  },
  {
   "cell_type": "markdown",
   "source": [
    "\n",
    "Переменная learning_rate отвечает за скорость обучения, которая контролирует, насколько быстро модель будет обучаться на данных.\n",
    "Слишком высокое значение скорости обучения может привести к тому, что модель будет \"скакать\" между значениями параметров,\n",
    "приводя к нестабильности и низкой производительности.\n",
    "Слишком низкое значение, напротив, может привести к слишком медленному обучению или застреванию в локальных минимумах.\n",
    "При обновлении весов и пороговых значений в процессе обучения модели с помощью алгоритма градиентного спуска используется градиент функции потерь по отношению к параметрам модели.\n",
    "Скорость обучения определяет, насколько сильно мы изменяем значения параметров модели в направлении антиградиента функции потерь.\n",
    "Чем выше скорость обучения, тем сильнее изменение весов и пороговых значений, и тем быстрее модель сходится к оптимальным параметрам.\n",
    "Однако, при очень большой скорости обучения модель может не сойтись, а при очень маленькой скорости обучения процесс обучения может занять слишком много времени.\n",
    "\n",
    "Переменная n_epochs определяет количество эпох, которое модель будет обучаться на данных.\n",
    "Одна эпоха означает, что все обучающие данные были использованы один раз для обучения модели.\n",
    "Таким образом, n_epochs определяет, сколько раз модель будет просматривать все обучающие данные в процессе обучения.\n",
    "Значение n_epochs может влиять на производительность модели.\n",
    "Слишком маленькое значение может привести к тому, что модель не будет полностью обучена на данных, что приведет к низкой точности.\n",
    "С другой стороны, слишком большое значение может привести к переобучению модели, когда модель \"запоминает\" обучающие данные,\n",
    "но не может обобщить их на новые данные, приводя к плохой производительности на тестовых данных.\n",
    "Эпоха заканчивается, когда модель просмотрела все партии обучающих данных.\n",
    "Обычно, чем больше эпох, тем лучше модель учится на обучающих данных, однако существует риск переобучения, если количество эпох слишком велико.\n",
    "(Если обучающий набор состоит из 50_000 записей, а количество эпох равно 1000, то модель пройдет через 50_000 записей в обучающем наборе 1000 раз,\n",
    "чтобы обновить веса и пороговые значения. В общей сложности модель будет просматривать 50_000 x 1000 = 50 миллионов записей во время обучения.)\n"
   ],
   "metadata": {
    "collapsed": false,
    "pycharm": {
     "name": "#%% md\n"
    }
   }
  },
  {
   "cell_type": "markdown",
   "source": [],
   "metadata": {
    "collapsed": false,
    "pycharm": {
     "name": "#%% md\n"
    }
   }
  },
  {
   "cell_type": "markdown",
   "source": [
    "# Затем мы должны инициализировать веса и пороговые значения для каждого нейрона в нашей модели."
   ],
   "metadata": {
    "collapsed": false,
    "pycharm": {
     "name": "#%% md\n"
    }
   }
  },
  {
   "cell_type": "code",
   "execution_count": 29,
   "outputs": [
    {
     "data": {
      "text/plain": "'\\nМы инициализировали веса между входным слоем и скрытым слоем (weights_input_hidden) и\\nмежду скрытым слоем и выходным слоем (weights_hidden_output) случайными значениями в диапазоне от -0.5 до 0.5.\\nМы также инициализировали пороговые значения для каждого нейрона в скрытом слое (bias_hidden) и выходном слое (bias_output) нулями.\\n'"
     },
     "execution_count": 29,
     "metadata": {},
     "output_type": "execute_result"
    }
   ],
   "source": [
    "# Инициализация весов\n",
    "weights_input_hidden = np.random.uniform(-0.5, 0.5, size=(n_inputs, n_hidden)) # инициализируем матрицу весов между входным и скрытым слоями случайными значениями из равномерного распределения в диапазоне [-0.5, 0.5].\n",
    "bias_hidden = np.zeros(n_hidden) # инициализируем пороговые значения для скрытого слоя нулями.\n",
    "\n",
    "weights_hidden_output = np.random.uniform(-0.5, 0.5, size=(n_hidden, n_outputs)) # инициализируем матрицу весов между скрытым и выходным слоями случайными значениями из равномерного распределения в диапазоне [-0.5, 0.5].\n",
    "bias_output = np.zeros(n_outputs) # инициализируем пороговые значения для скрытого слоя нулями.\n",
    "\n",
    "\"\"\"\n",
    "Мы инициализировали веса между входным слоем и скрытым слоем (weights_input_hidden) и\n",
    "между скрытым слоем и выходным слоем (weights_hidden_output) случайными значениями в диапазоне от -0.5 до 0.5.\n",
    "Мы также инициализировали пороговые значения для каждого нейрона в скрытом слое (bias_hidden) и выходном слое (bias_output) нулями.\n",
    "bias_hidden и bias_output - это векторы смещений (bias) для нейронов в скрытом и выходном слоях соответственно.\n",
    "\n",
    "Смещение (bias) - это параметр, который добавляется к линейной комбинации входных сигналов, вычисленной в нейроне, перед применением функции активации.\n",
    "Смещение позволяет сдвинуть функцию активации в нужную сторону, что улучшает способность модели к аппроксимации данных.\n",
    "В ходе обучения, эти смещения обновляются вместе с весами нейронов в скрытом и выходном слоях,\n",
    "чтобы минимизировать функцию потерь и повысить точность предсказания.\n",
    "\"\"\""
   ],
   "metadata": {
    "collapsed": false,
    "pycharm": {
     "name": "#%%\n"
    }
   }
  },
  {
   "cell_type": "markdown",
   "source": [
    "Теперь мы можем определить функции активации для каждого нейрона в нашей модели. Мы будем использовать сигмоидальную функцию активации для скрытого слоя и softmax-функцию для выходного слоя."
   ],
   "metadata": {
    "collapsed": false,
    "pycharm": {
     "name": "#%% md\n"
    }
   }
  },
  {
   "cell_type": "code",
   "execution_count": 22,
   "outputs": [],
   "source": [
    "# Определение функций активации у нейронов скрытого слоя\n",
    "# Sigmoid - это логистическая функция, пригодная для применения при небольшом числе скрытых слоев: до 5-6. Это связано с алгоритмом обучения back propagation и проблемой затухания градиентов.\n",
    "def sigmoid(x): # Функция sigmoid принимает на вход значение 'x' и возвращает значение, которое находится в диапазоне от 0 до 1.\n",
    "    return 1 / (1 + np.exp(-x))\n",
    "\n",
    "# Определение функций активации у выходных нейронов\n",
    "def softmax(x): # Функция softmax принимает на вход вектор значений и возвращает вероятности для каждого класса, сумма которых равна 1.\n",
    "    exp_x = np.exp(x)\n",
    "    return exp_x / np.sum(exp_x, axis=1, keepdims=True)"
   ],
   "metadata": {
    "collapsed": false,
    "pycharm": {
     "name": "#%%\n"
    }
   }
  },
  {
   "cell_type": "code",
   "execution_count": 23,
   "outputs": [
    {
     "data": {
      "text/plain": "<Figure size 640x480 with 1 Axes>",
      "image/png": "[encoded data removed]"
     },
     "metadata": {},
     "output_type": "display_data"
    }
   ],
   "source": [
    "# Посмотрим, как выглядит график функции активации sigmoid\n",
    "def show_sigmoid():\n",
    "    # Создаем массив значений аргумента\n",
    "    x = np.linspace(-10, 10, 200)\n",
    "\n",
    "    # Вычисляем значения функции на каждой точке x\n",
    "    y = sigmoid(x)\n",
    "\n",
    "    # Строим график функции\n",
    "    plt.plot(x, y)\n",
    "\n",
    "    # Настраиваем оси\n",
    "    plt.xlabel('x')\n",
    "    plt.ylabel('y')\n",
    "\n",
    "    # Добавляем заголовок\n",
    "    plt.title('График логистической функции')\n",
    "\n",
    "    # Добавляем вертикальную ось в точке x = 0\n",
    "    plt.axvline(x=0, color='gray', linestyle='--')\n",
    "\n",
    "    # Добавляем горизонтальную ось в точке y = 0.5\n",
    "    plt.axhline(y=0.5, color='gray', linestyle='--')\n",
    "    plt.axhline(y=0, color='gray', linestyle='--')\n",
    "    plt.axhline(y=1, color='gray', linestyle='--')\n",
    "    #\n",
    "    # Отображаем график\n",
    "    plt.show()\n",
    "\n",
    "show_sigmoid()"
   ],
   "metadata": {
    "collapsed": false,
    "pycharm": {
     "name": "#%%\n"
    }
   }
  },
  {
   "cell_type": "markdown",
   "source": [],
   "metadata": {
    "collapsed": false,
    "pycharm": {
     "name": "#%% md\n"
    }
   }
  },
  {
   "cell_type": "markdown",
   "source": [
    "# Как работают функция активации sigmoid и softmax?"
   ],
   "metadata": {
    "collapsed": false,
    "pycharm": {
     "name": "#%% md\n"
    }
   }
  },
  {
   "cell_type": "markdown",
   "source": [
    "Функция активации sigmoid возвращает результат, который лежит в диапазоне от 0 до 1 и может быть интерпретирован как вероятность активации нейрона.\n",
    "Эта функция используется для генерации нелинейности и усиления нелинейной зависимости между входом и выходом скрытого слоя.\n",
    "\n",
    "Функция активации softmax используется для преобразования выходных значений нейронов в вероятности.\n",
    "Функция softmax преобразует выходные значения в вектор вероятностей, сумма которых равна 1.\n",
    "Это позволяет использовать эту функцию для классификации в случае многоклассовых задач,\n",
    "где каждый нейрон выходного слоя представляет собой вероятность принадлежности к соответствующему классу.\n",
    "Чтобы нейронная сеть корректно обучалась при таких выходах, она должна иметь адекватный критерий качества. Здесь хорошо подходит мера,\n",
    "известная как категориальная перекрестная энтропия (categorical cross-entropy) в качестве функции потерь.\n",
    "\n",
    "$$Loss = -\\frac{1}{N} \\sum_{i=1}^{N} \\sum_{j=1}^{C} y_{ij} \\log(p_{ij})$$\n",
    "где $N$ - количество примеров, $C$ - количество классов, $y_{ij}$ - 1, если метка $i$-го примера равна $j$-му классу, и 0 в противном случае,\n",
    "$p_{ij}$ - вероятность того, что $i$-й пример принадлежит к классу $j$, вычисленная моделью.\n",
    "\n",
    "Знак минуса перед суммой нужен для того, чтобы результат был положительным. Логарифм используется, чтобы увеличить вклад ошибочных предсказаний."
   ],
   "metadata": {
    "collapsed": false,
    "pycharm": {
     "name": "#%% md\n"
    }
   }
  },
  {
   "cell_type": "markdown",
   "source": [],
   "metadata": {
    "collapsed": false,
    "pycharm": {
     "name": "#%% md\n"
    }
   }
  },
  {
   "cell_type": "markdown",
   "source": [
    "# <center> 「 Обучение модели и вывод результата. 」 </center>"
   ],
   "metadata": {
    "collapsed": false,
    "pycharm": {
     "name": "#%% md\n"
    }
   }
  },
  {
   "cell_type": "markdown",
   "source": [
    "# Теперь мы можем реализовать процесс обучения нашей модели. Мы будем использовать алгоритм обратного распространения ошибки для обновления весов и пороговых значений на каждой эпохе."
   ],
   "metadata": {
    "collapsed": false,
    "pycharm": {
     "name": "#%% md\n"
    }
   }
  },
  {
   "cell_type": "code",
   "execution_count": 31,
   "outputs": [
    {
     "name": "stderr",
     "output_type": "stream",
     "text": [
      "<timed exec>:2: TqdmDeprecationWarning: This function will be removed in tqdm==5.0.0\n",
      "Please use `tqdm.notebook.tqdm` instead of `tqdm.tqdm_notebook`\n"
     ]
    },
    {
     "data": {
      "text/plain": "  0%|          | 0/501 [00:00<?, ?it/s]",
      "application/vnd.jupyter.widget-view+json": {
       "version_major": 2,
       "version_minor": 0,
       "model_id": "333c74c55dad425fac28ddd8d0d2b203"
      }
     },
     "metadata": {},
     "output_type": "display_data"
    },
    {
     "name": "stdout",
     "output_type": "stream",
     "text": [
      "Epoch 0, Loss: 6.0431\n",
      "Epoch 100, Loss: 0.6038\n",
      "Epoch 200, Loss: 0.4315\n",
      "Epoch 300, Loss: 0.3597\n",
      "Epoch 400, Loss: 0.3164\n",
      "Epoch 500, Loss: 0.2860\n",
      "Wall time: 1min 20s\n"
     ]
    },
    {
     "data": {
      "text/plain": "'\\nНа каждой сотой эпохе мы выводим значение функции потерь, которое показывает,\\nнасколько точно наша модель предсказывает правильный класс для каждого обучающего примера.\\nЧем меньше значение функции потерь, тем лучше работает модель.\\nВ конце процесса обучения мы можем использовать обученную модель для предсказания классов для новых данных.\\nДля этого мы просто передаем новые данные через нашу модель и получаем предсказанные классы.\\n'"
     },
     "execution_count": 31,
     "metadata": {},
     "output_type": "execute_result"
    }
   ],
   "source": [
    "%%time\n",
    "# Обучение модели\n",
    "for epoch in tqdm_notebook(range(n_epochs)): # цикл обучения для каждой эпохи.\n",
    "\n",
    "    # Прямое распространение\n",
    "    # Скрытый слой\n",
    "    hidden_inputs = np.dot(X_train, weights_input_hidden) + bias_hidden # вычисляет сумму входных значений и соответствующих весов скрытого слоя, а затем добавляет пороговые значения.\n",
    "    hidden_outputs = sigmoid(hidden_inputs) # результат применения функции активации сигмоиды к выходному значению скрытого слоя.\n",
    "\n",
    "    # Выходной слой\n",
    "    output_inputs = np.dot(hidden_outputs, weights_hidden_output) + bias_output # вычисляет сумму выходных значений скрытого слоя и соответствующих весов выходного слоя, а затем добавляет пороговые значения.\n",
    "    y_pred = softmax(output_inputs) # результат применения функции активации softmax к выходному значению выходного слоя.\n",
    "\n",
    "    # Обратное распространение ошибки\n",
    "    error = y_pred - np.eye(n_outputs)[y_train] # вычисляем ошибку между предсказанным и правильным классами.\n",
    "    grad_output = error / len(X_train) # вычисляем градиент для выходного слоя.\n",
    "    grad_hidden = np.dot(grad_output, weights_hidden_output.T) * hidden_outputs * (1 - hidden_outputs) # вычисляем градиент для скрытого слоя с помощью обратного распространения ошибки на всей обучающей выборке за одну эпоху.\n",
    "\n",
    "    # Обновление весов и пороговых значений\n",
    "    # веса между скрытым и выходным слоями\n",
    "    weights_hidden_output -= learning_rate * np.dot(hidden_outputs.T, grad_output) # обновляем веса между скрытым и выходным слоями, учитывая скорость обучения и градиент выходного слоя.\n",
    "    bias_output -= learning_rate * np.sum(grad_output, axis=0) # обновляем пороговые значения выходного слоя, учитывая скорость обучения и градиент выходного слоя.\n",
    "\n",
    "    # веса между входным и скрытым слоями\n",
    "    weights_input_hidden -= learning_rate * np.dot(X_train.T, grad_hidden) # обновляем веса между входным и скрытым слоями, учитывая скорость обучения и градиент скрытого слоя.\n",
    "    bias_hidden -= learning_rate * np.sum(grad_hidden, axis=0) # обновляем пороговые значения скрытого слоя, учитывая скорость обучения и градиент скрытого слоя.\n",
    "\n",
    "    # Вычисление функции потерь на текущей эпохе.\n",
    "    loss = np.mean(-np.log(y_pred[np.arange(len(X_train)), y_train]))\n",
    "\n",
    "    # Выводим значение функции потерь на\n",
    "    if epoch % 100 == 0:\n",
    "        print(f\"Epoch {epoch}, Loss: {loss:.4f}\")\n",
    "\n",
    "\n",
    "'''\n",
    "На каждой сотой эпохе мы выводим значение функции потерь, которое показывает,\n",
    "насколько точно наша модель предсказывает правильный класс для каждого обучающего примера.\n",
    "Чем меньше значение функции потерь, тем лучше работает модель.\n",
    "В конце процесса обучения мы можем использовать обученную модель для предсказания классов для новых данных.\n",
    "Для этого мы просто передаем новые данные через нашу модель и получаем предсказанные классы.\n",
    "'''\n",
    "\n",
    "\n",
    "# [01:20<00:00, 14.52it/s] y_train = y_train[:6000] n_epochs = 500 Accuracy: 0.8515\n",
    "# [06:45<00:00, 11.01it/s] y_train = y_train[:16000] n_epochs = 1000 Accuracy: 0.8805\n",
    "\n",
    "# y_train = y_train[:] n_epochs = 1500 n_hidden = 400 Accuracy: 0.9233\n",
    "# y_train = y_train[:] n_epochs = 1500 n_hidden = 522 Accuracy: 0.9241\n",
    "# y_train = y_train[:] n_epochs = 2500 n_hidden = 522 Accuracy: 0.9349"
   ],
   "metadata": {
    "collapsed": false,
    "pycharm": {
     "name": "#%%\n"
    }
   }
  },
  {
   "cell_type": "code",
   "execution_count": 32,
   "outputs": [
    {
     "data": {
      "text/plain": "'\\nЗдесь мы сначала передаем тестовые данные через скрытый слой и получаем значения на выходе.\\nЗатем мы передаем эти значения через выходной слой и получаем вероятности для каждого класса.\\nМы используем функцию argmax для получения предсказанного класса, который имеет наибольшую вероятность.\\n'"
     },
     "execution_count": 32,
     "metadata": {},
     "output_type": "execute_result"
    }
   ],
   "source": [
    "# Предсказание классов для новых данных\n",
    "hidden_inputs = np.dot(X_test, weights_input_hidden) + bias_hidden # вычисляем сумму входных значений и соответствующих весов скрытого слоя для тестовых данных, а затем добавляем пороговые значения.\n",
    "hidden_outputs = sigmoid(hidden_inputs) # вычисляем результат применения функции активации сигмоиды к выходному значению скрытого слоя для тестовых данных.\n",
    "\n",
    "output_inputs = np.dot(hidden_outputs, weights_hidden_output) + bias_output # вычисляем сумму выходных значений скрытого слоя и соответствующих весов выходного слоя для тестовых данных, а затем добавляем пороговые значения.\n",
    "y_pred = np.argmax(output_inputs, axis=1) # вычисляем предсказанные классы на основе выходных значений с помощью функции `argmax()\n",
    "\n",
    "\"\"\"\n",
    "Здесь мы сначала передаем тестовые данные через скрытый слой и получаем значения на выходе.\n",
    "Затем мы передаем эти значения через выходной слой и получаем вероятности для каждого класса.\n",
    "Мы используем функцию argmax для получения предсказанного класса, который имеет наибольшую вероятность.\n",
    "\"\"\""
   ],
   "metadata": {
    "collapsed": false,
    "pycharm": {
     "name": "#%%\n"
    }
   }
  },
  {
   "cell_type": "code",
   "execution_count": 33,
   "outputs": [
    {
     "name": "stdout",
     "output_type": "stream",
     "text": [
      "Accuracy: 0.8515\n"
     ]
    }
   ],
   "source": [
    "# Оценка качества модели\n",
    "accuracy = np.mean(y_pred == y_test)\n",
    "print(f'Accuracy: {accuracy}')"
   ],
   "metadata": {
    "collapsed": false,
    "pycharm": {
     "name": "#%%\n"
    }
   }
  },
  {
   "cell_type": "markdown",
   "source": [],
   "metadata": {
    "collapsed": false,
    "pycharm": {
     "name": "#%% md\n"
    }
   }
  },
  {
   "cell_type": "markdown",
   "source": [
    "# Что такое прямое распространение и обратное распространение ошибки?"
   ],
   "metadata": {
    "collapsed": false,
    "pycharm": {
     "name": "#%% md\n"
    }
   }
  },
  {
   "cell_type": "markdown",
   "source": [
    "\n",
    "Прямое распространение (forward propagation) - это процесс, когда входные данные поступают в нейронную сеть и проходят через каждый слой,\n",
    "где вычисляются взвешенные суммы и применяются функции активации, пока данные не достигнут выходного слоя, где получается предсказание модели.\n",
    "Обратное распространение ошибки (backpropagation) - это процесс, когда модель вычисляет ошибку между предсказанием и правильным значением для обучающих данных.\n",
    "Затем эта ошибка распространяется назад через сеть, начиная с выходного слоя и двигаясь назад до скрытых слоев.\n",
    "В каждом слое модель вычисляет, какая часть ошибки относится к каждому входному значению и весам, используемым для вычисления суммы в этом слое.\n",
    "Затем модель использует эти значения, чтобы обновить веса, путем совершения шагов градиентного спуска.\n",
    "Этот процесс продолжается для каждого примера обучения в наборе данных.\n",
    "\n",
    "Процесс прямого и обратного распространения является основой для обучения нейронных сетей."
   ],
   "metadata": {
    "collapsed": false,
    "pycharm": {
     "name": "#%% md\n"
    }
   }
  },
  {
   "cell_type": "markdown",
   "source": [],
   "metadata": {
    "collapsed": false,
    "pycharm": {
     "name": "#%% md\n"
    }
   }
  },
  {
   "cell_type": "markdown",
   "source": [
    "# Какова функция потерь (критерий качества) и как ее значение влияет на обучение модели?"
   ],
   "metadata": {
    "collapsed": false,
    "pycharm": {
     "name": "#%% md\n"
    }
   }
  },
  {
   "cell_type": "markdown",
   "source": [
    "\n",
    "Функция потерь - это мера того, насколько хорошо модель предсказывает правильные ответы.\n",
    "В нейронных сетях функция потерь обычно используется для определения разницы между предсказанным значением и фактическим значением,\n",
    "а так же для задания весов модели с целью уменьшения этой разницы во время обучения.\n",
    "\n",
    "В данном коде используется функция потерь кросс-энтропии, которая вычисляется на основе предсказанных и фактических классов.\n",
    "Значение функции потерь на каждой эпохе обучения позволяет оценить качество модели и ее способность к обучению на предоставленных данных.\n",
    "Оптимизация функции потерь путем обновления весов модели позволяет улучшить точность предсказаний и обучить модель для более точного классификации новых данных.\n",
    "\n",
    "Для многоклассовой классификации обычно используется категориальная перекрестная энтропия (categorical cross-entropy) в качестве функции потерь.\n",
    "Функция потерь в коде: $$loss = np.mean(-np.log(y_pred[np.arange(len(X_train)), y_train]))$$ является одной из вариаций категориальной перекрестной энтропии,\n",
    "и вычисляет перекрестную энтропию для каждого примера и находит их среднее значение.\n",
    "\n",
    "Категориальная перекрестная энтропия является мерой расстояния между распределениями вероятности,\n",
    "полученными из модели и истинных меток. Она измеряет, насколько точно модель предсказывает правильный класс для каждого примера.\n",
    "Чем меньше значение функции потерь, тем более точно модель предсказывает метки классов.\n",
    "\n",
    "В случае логарифмической функции потерь в формуле, минус перед функцией логарифма приводит к тому, что мы минимизируем потери.\n",
    "Это происходит потому, что значение функции потерь увеличивается, когда мы увеличиваем ошибки модели.\n",
    "Поскольку логарифм от значения вероятности всегда отрицательный или ноль, беря отрицательное значение функции потерь,\n",
    "мы получаем положительные потери, которые мы пытаемся минимизировать в ходе обучения модели."
   ],
   "metadata": {
    "collapsed": false,
    "pycharm": {
     "name": "#%% md\n"
    }
   }
  },
  {
   "cell_type": "markdown",
   "source": [],
   "metadata": {
    "collapsed": false,
    "pycharm": {
     "name": "#%% md\n"
    }
   }
  },
  {
   "cell_type": "markdown",
   "source": [
    "# <center> 「 Краткий вывод. 」 </center>"
   ],
   "metadata": {
    "collapsed": false,
    "pycharm": {
     "name": "#%% md\n"
    }
   }
  },
  {
   "cell_type": "markdown",
   "source": [
    "Необходимо отметить, что многие задачи машинного обучения можно рассматривать как комбинацию математических методов и методов машинного обучения.\n",
    "\n",
    "С одной стороны, задачи машинного обучения могут быть сформулированы как оптимизационные задачи,\n",
    "где основной целью является минимизация некоторой функции потерь, которая описывает расхождение между предсказанными и истинными значениями.\n",
    "Это в свою очередь может привести к использованию различных методов оптимизации и оптимизационных алгоритмов для решения этих задач.\n",
    "\n",
    "С другой стороны, машинное обучение может использовать различные математические концепции и методы,\n",
    "такие как линейная алгебра, вероятностные методы, статистика, теория информации и другие, для описания,\n",
    "моделирования и решения различных задач машинного обучения.\n",
    "\n",
    "Таким образом, для решения многих задач машинного обучения требуется как математический, так и ML подходы,\n",
    "и определенный подход может быть более эффективным в зависимости от конкретной задачи."
   ],
   "metadata": {
    "collapsed": false,
    "pycharm": {
     "name": "#%% md\n"
    }
   }
  },
  {
   "cell_type": "markdown",
   "source": [],
   "metadata": {
    "collapsed": false,
    "pycharm": {
     "name": "#%% md\n"
    }
   }
  }
 ],
 "metadata": {
  "kernelspec": {
   "display_name": "Python 3",
   "language": "python",
   "name": "python3"
  },
  "language_info": {
   "codemirror_mode": {
    "name": "ipython",
    "version": 2
   },
   "file_extension": ".py",
   "mimetype": "text/x-python",
   "name": "python",
   "nbconvert_exporter": "python",
   "pygments_lexer": "ipython2",
   "version": "2.7.6"
  }
 },
 "nbformat": 4,
 "nbformat_minor": 0
}