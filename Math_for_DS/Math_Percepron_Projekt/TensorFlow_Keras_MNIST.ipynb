{
 "cells": [
  {
   "cell_type": "code",
   "execution_count": 1,
   "outputs": [],
   "source": [
    "import numpy as np\n",
    "import matplotlib.pyplot as plt"
   ],
   "metadata": {
    "collapsed": false,
    "pycharm": {
     "name": "#%%\n"
    }
   }
  },
  {
   "cell_type": "code",
   "execution_count": 2,
   "outputs": [],
   "source": [
    "import tensorflow"
   ],
   "metadata": {
    "collapsed": false,
    "pycharm": {
     "name": "#%%\n"
    }
   }
  },
  {
   "cell_type": "code",
   "execution_count": 3,
   "outputs": [],
   "source": [
    "from tensorflow import keras\n",
    "from tensorflow.keras import layers"
   ],
   "metadata": {
    "collapsed": false,
    "pycharm": {
     "name": "#%%\n"
    }
   }
  },
  {
   "cell_type": "code",
   "execution_count": 4,
   "outputs": [],
   "source": [
    "# Загрузка датасета MNIST\n",
    "(x_train, y_train), (x_test, y_test) = keras.datasets.mnist.load_data()"
   ],
   "metadata": {
    "collapsed": false,
    "pycharm": {
     "name": "#%%\n"
    }
   }
  },
  {
   "cell_type": "code",
   "execution_count": 5,
   "outputs": [
    {
     "name": "stdout",
     "output_type": "stream",
     "text": [
      "TRAIN: (60000, 28, 28) (60000,)\n",
      "TEST (10000, 28, 28) (10000,)\n"
     ]
    }
   ],
   "source": [
    "print('TRAIN:', x_train.shape, y_train.shape)\n",
    "print('TEST', x_test.shape, y_test.shape)"
   ],
   "metadata": {
    "collapsed": false,
    "pycharm": {
     "name": "#%%\n"
    }
   }
  },
  {
   "cell_type": "code",
   "execution_count": 6,
   "outputs": [
    {
     "data": {
      "text/plain": "<Figure size 800x800 with 20 Axes>",
      "image/png": "[encoded data removed]"
     },
     "metadata": {},
     "output_type": "display_data"
    }
   ],
   "source": [
    "# Вывод первых 30 изображений\n",
    "plt.figure(figsize=(8, 8))\n",
    "for i in range(20):\n",
    "    plt.subplot(4, 5, i + 1)\n",
    "    plt.xticks([])\n",
    "    plt.yticks([])\n",
    "    plt.grid(False)\n",
    "    plt.imshow(x_train[i], cmap=plt.cm.binary)\n",
    "    plt.xlabel(y_train[i])\n",
    "plt.show()"
   ],
   "metadata": {
    "collapsed": false,
    "pycharm": {
     "name": "#%%\n"
    }
   }
  },
  {
   "cell_type": "code",
   "execution_count": 7,
   "outputs": [],
   "source": [
    "# Преобразование данных в диапазон от 0 до 1\n",
    "x_train = x_train.astype(\"float32\") / 255\n",
    "x_test = x_test.astype(\"float32\") / 255\n",
    "# Преобразуем значения пикселей входных изображений в диапазон от 0 до 1, что поможет обучению модели быстрее сходиться."
   ],
   "metadata": {
    "collapsed": false,
    "pycharm": {
     "name": "#%%\n"
    }
   }
  },
  {
   "cell_type": "code",
   "execution_count": 8,
   "outputs": [],
   "source": [
    "# Определение модели нейронной сети\n",
    "model = keras.Sequential(\n",
    "    [\n",
    "        keras.Input(shape=(28, 28)), # входной слой с размером входных изображений 28x28\n",
    "        layers.Flatten(), # выравнивание входных изображений в одномерный массив\n",
    "        layers.Dense(522, activation=\"relu\"), # полносвязный скрытый слой с 522 нейронами и функцией активации ReLU\n",
    "        # layers.Dense(254, activation=\"relu\"), # полносвязный скрытый слой\n",
    "        # layers.Dense(64, activation=\"relu\"), # полносвязный скрытый слой\n",
    "        layers.Dense(10, activation=\"softmax\"), # полносвязный выходной слой с 10 нейронами (по количеству классов) и функцией активации Softmax\n",
    "    ]\n",
    ")"
   ],
   "metadata": {
    "collapsed": false,
    "pycharm": {
     "name": "#%%\n"
    }
   }
  },
  {
   "cell_type": "code",
   "execution_count": 9,
   "outputs": [],
   "source": [
    "# Компиляция модели\n",
    "model.compile(optimizer=\"adam\", loss=\"sparse_categorical_crossentropy\", metrics=[\"accuracy\"])\n",
    "# компилируем модель с оптимизатором Adam, функцией потерь SparseCategoricalCrossentropy и метрикой точности."
   ],
   "metadata": {
    "collapsed": false,
    "pycharm": {
     "name": "#%%\n"
    }
   }
  },
  {
   "cell_type": "code",
   "execution_count": 10,
   "outputs": [
    {
     "name": "stdout",
     "output_type": "stream",
     "text": [
      "Epoch 1/5\n",
      "1688/1688 [==============================] - 8s 4ms/step - loss: 0.2101 - accuracy: 0.9371 - val_loss: 0.0988 - val_accuracy: 0.9687\n",
      "Epoch 2/5\n",
      "1688/1688 [==============================] - 7s 4ms/step - loss: 0.0861 - accuracy: 0.9737 - val_loss: 0.0811 - val_accuracy: 0.9767\n",
      "Epoch 3/5\n",
      "1688/1688 [==============================] - 7s 4ms/step - loss: 0.0553 - accuracy: 0.9828 - val_loss: 0.0714 - val_accuracy: 0.9795\n",
      "Epoch 4/5\n",
      "1688/1688 [==============================] - 7s 4ms/step - loss: 0.0386 - accuracy: 0.9875 - val_loss: 0.0730 - val_accuracy: 0.9800\n",
      "Epoch 5/5\n",
      "1688/1688 [==============================] - 7s 4ms/step - loss: 0.0287 - accuracy: 0.9909 - val_loss: 0.0766 - val_accuracy: 0.9803\n",
      "CPU times: total: 3min 15s\n",
      "Wall time: 37.5 s\n"
     ]
    },
    {
     "data": {
      "text/plain": "<keras.callbacks.History at 0x2480eb402e0>"
     },
     "execution_count": 10,
     "metadata": {},
     "output_type": "execute_result"
    }
   ],
   "source": [
    "%%time\n",
    "# Обучение модели\n",
    "model.fit(x_train, y_train, batch_size=32, epochs=5, validation_split=0.1)"
   ],
   "metadata": {
    "collapsed": false,
    "pycharm": {
     "name": "#%%\n"
    }
   }
  },
  {
   "cell_type": "code",
   "execution_count": 11,
   "outputs": [
    {
     "name": "stdout",
     "output_type": "stream",
     "text": [
      "313/313 [==============================] - 0s 914us/step - loss: 0.0668 - accuracy: 0.9811\n",
      "Test accuracy: 0.9811000227928162\n"
     ]
    }
   ],
   "source": [
    "# Оценка точности на тестовых данных\n",
    "test_loss, test_acc = model.evaluate(x_test, y_test)\n",
    "print(f\"Test accuracy: {test_acc}\")"
   ],
   "metadata": {
    "collapsed": false,
    "pycharm": {
     "name": "#%%\n"
    }
   }
  },
  {
   "cell_type": "markdown",
   "source": [
    "# Посмотрим на те цифры, что были неверно интерпретированы"
   ],
   "metadata": {
    "collapsed": false,
    "pycharm": {
     "name": "#%% md\n"
    }
   }
  },
  {
   "cell_type": "code",
   "execution_count": 12,
   "outputs": [
    {
     "name": "stdout",
     "output_type": "stream",
     "text": [
      "313/313 [==============================] - 0s 814us/step\n"
     ]
    }
   ],
   "source": [
    "# Получение прогнозов модели на тестовых данных\n",
    "y_pred = model.predict(x_test)\n",
    "y_pred = np.argmax(y_pred, axis=1)"
   ],
   "metadata": {
    "collapsed": false,
    "pycharm": {
     "name": "#%%\n"
    }
   }
  },
  {
   "cell_type": "code",
   "execution_count": 13,
   "outputs": [],
   "source": [
    "# Нахождение индексов неверно определенных изображений\n",
    "wrong_indices = np.where(y_pred != y_test)[0]"
   ],
   "metadata": {
    "collapsed": false,
    "pycharm": {
     "name": "#%%\n"
    }
   }
  },
  {
   "cell_type": "code",
   "execution_count": 14,
   "outputs": [
    {
     "data": {
      "text/plain": "<Figure size 1200x900 with 15 Axes>",
      "image/png": "[encoded data removed]"
     },
     "metadata": {},
     "output_type": "display_data"
    }
   ],
   "source": [
    "# Вывод 10 неверно определенных изображений\n",
    "fig, axes = plt.subplots(nrows=3, ncols=5, figsize=(12, 9))\n",
    "for i, ax in enumerate(axes.flat):\n",
    "    if i < 15:\n",
    "        idx = wrong_indices[i]\n",
    "        ax.imshow(x_test[idx], cmap=\"gray\")\n",
    "        ax.set_title(f\"Predicted:  {y_pred[idx]}\\nActual:  {y_test[idx]}\")\n",
    "        ax.axis(\"off\")\n",
    "    else:\n",
    "        break\n",
    "plt.show()"
   ],
   "metadata": {
    "collapsed": false,
    "pycharm": {
     "name": "#%%\n"
    }
   }
  },
  {
   "cell_type": "code",
   "execution_count": null,
   "outputs": [],
   "source": [],
   "metadata": {
    "collapsed": false,
    "pycharm": {
     "name": "#%%\n"
    }
   }
  },
  {
   "cell_type": "markdown",
   "source": [],
   "metadata": {
    "collapsed": false,
    "pycharm": {
     "name": "#%% md\n"
    }
   }
  },
  {
   "cell_type": "markdown",
   "source": [
    "# <center> Небольшая теоретическая справка для используемых функций </center>"
   ],
   "metadata": {
    "collapsed": false,
    "pycharm": {
     "name": "#%% md\n"
    }
   }
  },
  {
   "cell_type": "markdown",
   "source": [
    "# функция активации ReLU (Rectified Linear Unit)"
   ],
   "metadata": {
    "collapsed": false,
    "pycharm": {
     "name": "#%% md\n"
    }
   }
  },
  {
   "cell_type": "code",
   "execution_count": 65,
   "outputs": [
    {
     "data": {
      "text/plain": "<Figure size 640x480 with 1 Axes>",
      "image/png": "[encoded data removed]"
     },
     "metadata": {},
     "output_type": "display_data"
    }
   ],
   "source": [
    "def show_relu():\n",
    "    def relu(x):\n",
    "        return np.maximum(0,x)\n",
    "\n",
    "    x = np.linspace(-10,10,100)\n",
    "    y = relu(x)\n",
    "\n",
    "    plt.plot(x,y)\n",
    "    plt.xlabel('x')\n",
    "    plt.ylabel('ReLu(x)')\n",
    "    plt.title('График функции ReLu')\n",
    "    # Добавляем вертикальную ось в точке x = 0\n",
    "    plt.axvline(x=0, color='gray', linestyle='--')\n",
    "    plt.show()\n",
    "\n",
    "show_relu()"
   ],
   "metadata": {
    "collapsed": false,
    "pycharm": {
     "name": "#%%\n"
    }
   }
  },
  {
   "cell_type": "markdown",
   "source": [
    "ReLU (Rectified Linear Unit) - это функция активации, которая часто используется в нейронных сетях.\n",
    "Она определяется как:\n",
    "\n",
    "f(x) = max(0, x); где x - входной сигнал (значение), а f(x) - выходной сигнал (значение).\n",
    "\n",
    "Математически, ReLU просто отбрасывает все отрицательные значения входа и оставляет все положительные значения неизменными.\n",
    "Таким образом, функция активации ReLU имеет следующую формулу:\n",
    "$$f(x) = \\begin{cases} x, & \\text{ if } x > 0 \\\\ 0, & \\text{ if } x \\leq 0 \\end{cases}$$\n",
    "Функция активации ReLU возвращает 0 для отрицательных значений входного сигнала и сам входной сигнал для положительных значений.\n",
    "\n",
    "Это приводит к некоторым интересным свойствам, которые делают функцию активации ReLU полезной в нейронных сетях:\n",
    "\n",
    "Простота вычислений: функция ReLU очень проста в вычислении, так как ее можно реализовать как простой пороговый оператор.\n",
    "Это делает ее очень быстрой и эффективной для использования в больших нейронных сетях.\n",
    "\n",
    "Проблема затухания градиента: функция ReLU помогает избежать проблемы затухания градиента,\n",
    "которая может возникнуть при использовании других функций активации, которые могут приводить к нулю или отрицательным значениям входа,\n",
    "таких как сигмоида или гиперболический тангенс.\n",
    "Затухание градиента происходит, когда градиент становится очень маленьким, и это может затруднить обучение нейронной сети.\n",
    "\n",
    "Способность моделировать нелинейные зависимости:\n",
    "функция ReLU является нелинейной, что позволяет нейронной сети моделировать более сложные и нелинейные зависимости в данных.\n",
    "\n",
    "ReLU также обладает свойством разреженности, что означает, что она может сделать большое количество нейронов неактивными.\n",
    "Это может быть полезно для уменьшения переобучения в нейронных сетях.\n",
    "\n",
    "Хотя функция активации ReLU имеет множество преимуществ, она не является универсальным решением для всех проблем в нейронных сетях.\n",
    "Например, функция ReLU может \"умереть\" на определенных входных значениях, что может привести к нулевому градиенту и остановке обучения.\n",
    "Для решения этой проблемы существуют другие функции активации, такие как Leaky ReLU и ELU."
   ],
   "metadata": {
    "collapsed": false,
    "pycharm": {
     "name": "#%% md\n"
    }
   }
  },
  {
   "cell_type": "markdown",
   "source": [],
   "metadata": {
    "collapsed": false,
    "pycharm": {
     "name": "#%% md\n"
    }
   }
  },
  {
   "cell_type": "markdown",
   "source": [
    "# Оптимизатор Adam (Adaptive Moment Estimation)"
   ],
   "metadata": {
    "collapsed": false,
    "pycharm": {
     "name": "#%% md\n"
    }
   }
  },
  {
   "cell_type": "markdown",
   "source": [
    "Оптимизатор Adam (Adaptive Moment Estimation) - это метод стохастической оптимизации, который сочетает в себе идеи двух других методов - градиентного спуска и адаптивного градиентного метода (AdaGrad).\n",
    "\n",
    "Оптимизатор Adam поддерживает экспоненциально убывающие средние значения градиентов и квадратов градиентов. Это позволяет методу адаптироваться к разным скоростям обучения для различных параметров.\n",
    "\n",
    "В оптимизаторе Adam используется два гиперпараметра: $\\beta_1$ и $\\beta_2$, которые определяют экспоненциальное затухание скользящих средних. Используются также параметры $\\epsilon$, которые добавляются для стабилизации деления в формулах.\n",
    "\n",
    "Формула обновления весов в оптимизаторе Adam выглядит следующим образом:\n",
    "\\begin{aligned}\n",
    "m_t &= \\beta_1 m_{t-1} + (1 - \\beta_1) g_t \\\\\n",
    "v_t &= \\beta_2 v_{t-1} + (1 - \\beta_2) g_t^2 \\\\\n",
    "\\hat{m}_t &= \\frac{m_t}{1 - \\beta_1^t} \\\\\n",
    "\\hat{v}_t &= \\frac{v_t}{1 - \\beta_2^t} \\\\\n",
    "\\theta_{t+1} &= \\theta_t - \\frac{\\alpha}{\\sqrt{\\hat{v}_t} + \\epsilon} \\hat{m}_t\n",
    "\\end{aligned}\n",
    "\n",
    "Здесь $g_t$ - градиент функции потерь в момент времени $t$, $m_t$ и $v_t$ - экспоненциально убывающие средние значения градиента и квадрата градиента соответственно, $\\hat{m}_t$ и $\\hat{v}_t$ - скорректированные значения средних, $\\theta_t$ - вектор параметров модели в момент времени $t$, $\\alpha$ - скорость обучения, $\\epsilon$ - малое число для стабилизации деления.\n",
    "\n",
    "Обновление весов осуществляется путем вычитания откорректированного значения среднего градиента $\\hat{m}_t$ из текущих значений параметров $\\theta_t$. Кроме того, значение скорректированного среднего квадрата градиента $\\hat{v}_t$ используется для нормализации шага обучения.\n",
    "\n",
    "В целом, оптимизатор Adam обеспечивает быстрое сходимость и эффективность обучения в задачах глубокого обучения, за счет адаптации скорости обучения для каждого параметра и сглаживания влияния"
   ],
   "metadata": {
    "collapsed": false,
    "pycharm": {
     "name": "#%% md\n"
    }
   }
  },
  {
   "cell_type": "markdown",
   "source": [],
   "metadata": {
    "collapsed": false,
    "pycharm": {
     "name": "#%% md\n"
    }
   }
  },
  {
   "cell_type": "markdown",
   "source": [
    "# Функция потерь Sparse Categorical Crossentropy"
   ],
   "metadata": {
    "collapsed": false,
    "pycharm": {
     "name": "#%% md\n"
    }
   }
  },
  {
   "cell_type": "markdown",
   "source": [
    "Функция потерь SparseCategoricalCrossentropy - это функция, которая используется для минимизации расхождения между реальными и предсказанными метками в многоклассовой классификации. Она является частным случаем функции CategoricalCrossentropy, которая используется для работы с метками, которые представлены в виде one-hot-encoding (т.е. вектором, содержащим только одну \"единицу\" и все остальные элементы равны \"нулю\").\n",
    "\n",
    "В случае SparseCategoricalCrossentropy метки представляются в виде целых чисел, где каждое число соответствует индексу класса. Это означает, что в отличие от CategoricalCrossentropy, нет необходимости предварительно кодировать метки в one-hot-encoding формат.\n",
    "\n",
    "Пусть $y$ - это истинные метки, а $\\hat{y}$ - это предсказанные метки. Тогда функция потерь SparseCategoricalCrossentropy вычисляется следующим образом:\n",
    "\n",
    "$ L(y,\\hat{y}) = - \\sum_{i} y_i \\log(\\hat{y_i}) $\n",
    "\n",
    "где $i$ - это индекс класса, $y_i$ - это бинарный индикатор принадлежности класса $i$, а $\\hat{y_i}$ - это вероятность принадлежности к классу $i$, предсказанная моделью.\n",
    "\n",
    "Функция потерь SparseCategoricalCrossentropy является мерой несоответствия между истинными метками и предсказанными значениями, и ее цель - минимизировать эту меру путем корректировки весов модели в процессе обучения."
   ],
   "metadata": {
    "collapsed": false,
    "pycharm": {
     "name": "#%% md\n"
    }
   }
  },
  {
   "cell_type": "markdown",
   "source": [],
   "metadata": {
    "collapsed": false,
    "pycharm": {
     "name": "#%% md\n"
    }
   }
  },
  {
   "cell_type": "markdown",
   "source": [],
   "metadata": {
    "collapsed": false,
    "pycharm": {
     "name": "#%% md\n"
    }
   }
  },
  {
   "cell_type": "markdown",
   "source": [
    "# Метрика точности (accuracy)"
   ],
   "metadata": {
    "collapsed": false,
    "pycharm": {
     "name": "#%% md\n"
    }
   }
  },
  {
   "cell_type": "markdown",
   "source": [
    "Метрика точности (accuracy) - это простая и понятная метрика для оценки производительности модели, которая показывает, как часто модель правильно предсказывает метки классов.\n",
    "\n",
    "Для бинарной классификации, accuracy - это отношение числа правильно предсказанных примеров к общему числу примеров:\n",
    "$$\n",
    "accuracy = \\frac{TP+TN}{TP+FP+TN+FN}\n",
    "$$\n",
    "где $TP$ - количество правильно предсказанных примеров, $TN$ - количество правильно предсказанных отрицательных примеров, $FP$ - количество неправильно предсказанных положительных примеров и $FN$ - количество неправильно предсказанных отрицательных примеров.\n",
    "\n",
    "В многоклассовой классификации, accuracy определяется как среднее значение правильно предсказанных примеров по всем классам:\n",
    "$$\n",
    "accuracy = \\frac{1}{N}\\sum_{i=1}^{N}\\frac{C_i}{T_i}\n",
    "$$\n",
    "\n",
    "где $N$ - количество классов, $C_i$ - количество правильно предсказанных примеров класса $i$ и $T_i$ - общее количество примеров класса $i$.\n",
    "\n",
    "Таким образом, метрика точности показывает долю правильно предсказанных примеров, что является важным показателем для оценки производительности модели, особенно в случаях, когда классы сбалансированы. Однако, в случаях, когда классы не сбалансированы, метрика точности может быть недостаточно информативной, и в таких случаях необходимо использовать другие метрики, такие как precision и recall."
   ],
   "metadata": {
    "collapsed": false,
    "pycharm": {
     "name": "#%% md\n"
    }
   }
  },
  {
   "cell_type": "markdown",
   "source": [],
   "metadata": {
    "collapsed": false,
    "pycharm": {
     "name": "#%% md\n"
    }
   }
  }
 ],
 "metadata": {
  "kernelspec": {
   "display_name": "Python 3",
   "language": "python",
   "name": "python3"
  },
  "language_info": {
   "codemirror_mode": {
    "name": "ipython",
    "version": 2
   },
   "file_extension": ".py",
   "mimetype": "text/x-python",
   "name": "python",
   "nbconvert_exporter": "python",
   "pygments_lexer": "ipython2",
   "version": "2.7.6"
  }
 },
 "nbformat": 4,
 "nbformat_minor": 0
}